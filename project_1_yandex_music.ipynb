{
 "cells": [
  {
   "cell_type": "markdown",
   "metadata": {
    "id": "E0vqbgi9ay0H"
   },
   "source": [
    "# Яндекс.Музыка"
   ]
  },
  {
   "cell_type": "markdown",
   "metadata": {
    "id": "VUC88oWjTJw2"
   },
   "source": [
    "Сравнение Москвы и Петербурга окружено мифами. Например:\n",
    " * Москва — мегаполис, подчинённый жёсткому ритму рабочей недели;\n",
    " * Петербург — культурная столица, со своими вкусами.\n",
    "\n",
    "На данных Яндекс.Музыки вы сравните поведение пользователей двух столиц.\n",
    "\n",
    "**Цель исследования** — проверьте три гипотезы:\n",
    "1. Активность пользователей зависит от дня недели. Причём в Москве и Петербурге это проявляется по-разному.\n",
    "2. В понедельник утром в Москве преобладают одни жанры, а в Петербурге — другие. Так же и вечером пятницы преобладают разные жанры — в зависимости от города. \n",
    "3. Москва и Петербург предпочитают разные жанры музыки. В Москве чаще слушают поп-музыку, в Петербурге — русский рэп.\n",
    "\n",
    "**Ход исследования**\n",
    "\n",
    "Данные о поведении пользователей вы получите из файла `yandex_music_project.csv`. О качестве данных ничего не известно. Поэтому перед проверкой гипотез понадобится обзор данных. \n",
    "\n",
    "Вы проверите данные на ошибки и оцените их влияние на исследование. Затем, на этапе предобработки вы поищете возможность исправить самые критичные ошибки данных.\n",
    " \n",
    "Таким образом, исследование пройдёт в три этапа:\n",
    " 1. Обзор данных.\n",
    " 2. Предобработка данных.\n",
    " 3. Проверка гипотез.\n",
    "\n"
   ]
  },
  {
   "cell_type": "markdown",
   "metadata": {
    "id": "Ml1hmfXC_Zcs"
   },
   "source": [
    "## Обзор данных\n",
    "\n",
    "Составьте первое представление о данных Яндекс.Музыки.\n",
    "\n",
    "\n"
   ]
  },
  {
   "cell_type": "markdown",
   "metadata": {
    "id": "57eAOGIz_Zcs"
   },
   "source": [
    "Основной инструмент аналитика — `pandas`. Импортируйте эту библиотеку."
   ]
  },
  {
   "cell_type": "code",
   "execution_count": 49,
   "metadata": {
    "id": "AXN7PHPN_Zcs"
   },
   "outputs": [],
   "source": [
    "import pandas as pd # импорт библиотеки pandas"
   ]
  },
  {
   "cell_type": "markdown",
   "metadata": {
    "id": "SG23P8tt_Zcs"
   },
   "source": [
    "Прочитайте файл `yandex_music_project.csv` из папки `/datasets` и сохраните его в переменной `df`:"
   ]
  },
  {
   "cell_type": "code",
   "execution_count": 50,
   "metadata": {
    "id": "fFVu7vqh_Zct"
   },
   "outputs": [],
   "source": [
    "df = pd.read_csv('/datasets/yandex_music_project.csv')# чтение файла с данными и сохранение в df\n",
    "df.to_csv('yandex_music_project', index=False)"
   ]
  },
  {
   "cell_type": "markdown",
   "metadata": {
    "id": "rDoOMd3uTqnZ"
   },
   "source": [
    "Выведите на экран первые десять строк таблицы:"
   ]
  },
  {
   "cell_type": "code",
   "execution_count": 51,
   "metadata": {
    "id": "oWTVX3gW_Zct"
   },
   "outputs": [
    {
     "data": {
      "text/html": [
       "<div>\n",
       "<style scoped>\n",
       "    .dataframe tbody tr th:only-of-type {\n",
       "        vertical-align: middle;\n",
       "    }\n",
       "\n",
       "    .dataframe tbody tr th {\n",
       "        vertical-align: top;\n",
       "    }\n",
       "\n",
       "    .dataframe thead th {\n",
       "        text-align: right;\n",
       "    }\n",
       "</style>\n",
       "<table border=\"1\" class=\"dataframe\">\n",
       "  <thead>\n",
       "    <tr style=\"text-align: right;\">\n",
       "      <th></th>\n",
       "      <th>userID</th>\n",
       "      <th>Track</th>\n",
       "      <th>artist</th>\n",
       "      <th>genre</th>\n",
       "      <th>City</th>\n",
       "      <th>time</th>\n",
       "      <th>Day</th>\n",
       "    </tr>\n",
       "  </thead>\n",
       "  <tbody>\n",
       "    <tr>\n",
       "      <td>0</td>\n",
       "      <td>FFB692EC</td>\n",
       "      <td>Kamigata To Boots</td>\n",
       "      <td>The Mass Missile</td>\n",
       "      <td>rock</td>\n",
       "      <td>Saint-Petersburg</td>\n",
       "      <td>20:28:33</td>\n",
       "      <td>Wednesday</td>\n",
       "    </tr>\n",
       "    <tr>\n",
       "      <td>1</td>\n",
       "      <td>55204538</td>\n",
       "      <td>Delayed Because of Accident</td>\n",
       "      <td>Andreas Rönnberg</td>\n",
       "      <td>rock</td>\n",
       "      <td>Moscow</td>\n",
       "      <td>14:07:09</td>\n",
       "      <td>Friday</td>\n",
       "    </tr>\n",
       "    <tr>\n",
       "      <td>2</td>\n",
       "      <td>20EC38</td>\n",
       "      <td>Funiculì funiculà</td>\n",
       "      <td>Mario Lanza</td>\n",
       "      <td>pop</td>\n",
       "      <td>Saint-Petersburg</td>\n",
       "      <td>20:58:07</td>\n",
       "      <td>Wednesday</td>\n",
       "    </tr>\n",
       "    <tr>\n",
       "      <td>3</td>\n",
       "      <td>A3DD03C9</td>\n",
       "      <td>Dragons in the Sunset</td>\n",
       "      <td>Fire + Ice</td>\n",
       "      <td>folk</td>\n",
       "      <td>Saint-Petersburg</td>\n",
       "      <td>08:37:09</td>\n",
       "      <td>Monday</td>\n",
       "    </tr>\n",
       "    <tr>\n",
       "      <td>4</td>\n",
       "      <td>E2DC1FAE</td>\n",
       "      <td>Soul People</td>\n",
       "      <td>Space Echo</td>\n",
       "      <td>dance</td>\n",
       "      <td>Moscow</td>\n",
       "      <td>08:34:34</td>\n",
       "      <td>Monday</td>\n",
       "    </tr>\n",
       "    <tr>\n",
       "      <td>5</td>\n",
       "      <td>842029A1</td>\n",
       "      <td>Преданная</td>\n",
       "      <td>IMPERVTOR</td>\n",
       "      <td>rusrap</td>\n",
       "      <td>Saint-Petersburg</td>\n",
       "      <td>13:09:41</td>\n",
       "      <td>Friday</td>\n",
       "    </tr>\n",
       "    <tr>\n",
       "      <td>6</td>\n",
       "      <td>4CB90AA5</td>\n",
       "      <td>True</td>\n",
       "      <td>Roman Messer</td>\n",
       "      <td>dance</td>\n",
       "      <td>Moscow</td>\n",
       "      <td>13:00:07</td>\n",
       "      <td>Wednesday</td>\n",
       "    </tr>\n",
       "    <tr>\n",
       "      <td>7</td>\n",
       "      <td>F03E1C1F</td>\n",
       "      <td>Feeling This Way</td>\n",
       "      <td>Polina Griffith</td>\n",
       "      <td>dance</td>\n",
       "      <td>Moscow</td>\n",
       "      <td>20:47:49</td>\n",
       "      <td>Wednesday</td>\n",
       "    </tr>\n",
       "    <tr>\n",
       "      <td>8</td>\n",
       "      <td>8FA1D3BE</td>\n",
       "      <td>И вновь продолжается бой</td>\n",
       "      <td>NaN</td>\n",
       "      <td>ruspop</td>\n",
       "      <td>Moscow</td>\n",
       "      <td>09:17:40</td>\n",
       "      <td>Friday</td>\n",
       "    </tr>\n",
       "    <tr>\n",
       "      <td>9</td>\n",
       "      <td>E772D5C0</td>\n",
       "      <td>Pessimist</td>\n",
       "      <td>NaN</td>\n",
       "      <td>dance</td>\n",
       "      <td>Saint-Petersburg</td>\n",
       "      <td>21:20:49</td>\n",
       "      <td>Wednesday</td>\n",
       "    </tr>\n",
       "  </tbody>\n",
       "</table>\n",
       "</div>"
      ],
      "text/plain": [
       "     userID                        Track            artist   genre  \\\n",
       "0  FFB692EC            Kamigata To Boots  The Mass Missile    rock   \n",
       "1  55204538  Delayed Because of Accident  Andreas Rönnberg    rock   \n",
       "2    20EC38            Funiculì funiculà       Mario Lanza     pop   \n",
       "3  A3DD03C9        Dragons in the Sunset        Fire + Ice    folk   \n",
       "4  E2DC1FAE                  Soul People        Space Echo   dance   \n",
       "5  842029A1                    Преданная         IMPERVTOR  rusrap   \n",
       "6  4CB90AA5                         True      Roman Messer   dance   \n",
       "7  F03E1C1F             Feeling This Way   Polina Griffith   dance   \n",
       "8  8FA1D3BE     И вновь продолжается бой               NaN  ruspop   \n",
       "9  E772D5C0                    Pessimist               NaN   dance   \n",
       "\n",
       "             City        time        Day  \n",
       "0  Saint-Petersburg  20:28:33  Wednesday  \n",
       "1            Moscow  14:07:09     Friday  \n",
       "2  Saint-Petersburg  20:58:07  Wednesday  \n",
       "3  Saint-Petersburg  08:37:09     Monday  \n",
       "4            Moscow  08:34:34     Monday  \n",
       "5  Saint-Petersburg  13:09:41     Friday  \n",
       "6            Moscow  13:00:07  Wednesday  \n",
       "7            Moscow  20:47:49  Wednesday  \n",
       "8            Moscow  09:17:40     Friday  \n",
       "9  Saint-Petersburg  21:20:49  Wednesday  "
      ]
     },
     "execution_count": 51,
     "metadata": {},
     "output_type": "execute_result"
    }
   ],
   "source": [
    "df.head(10) # получение первых 10 строк таблицы df"
   ]
  },
  {
   "cell_type": "markdown",
   "metadata": {
    "id": "EO73Kwic_Zct"
   },
   "source": [
    "Одной командой получить общую информацию о таблице:"
   ]
  },
  {
   "cell_type": "code",
   "execution_count": 52,
   "metadata": {
    "id": "DSf2kIb-_Zct"
   },
   "outputs": [
    {
     "data": {
      "text/plain": [
       "  userID    object\n",
       "Track       object\n",
       "artist      object\n",
       "genre       object\n",
       "  City      object\n",
       "time        object\n",
       "Day         object\n",
       "dtype: object"
      ]
     },
     "execution_count": 52,
     "metadata": {},
     "output_type": "execute_result"
    }
   ],
   "source": [
    "df.dtypes # получение общей информации о данных в таблице df"
   ]
  },
  {
   "cell_type": "markdown",
   "metadata": {
    "id": "TaQ2Iwbr_Zct"
   },
   "source": [
    "Итак, в таблице семь столбцов. Тип данных во всех столбцах — `object`.\n",
    "\n",
    "Согласно документации к данным:\n",
    "* `userID` — идентификатор пользователя;\n",
    "* `Track` — название трека;  \n",
    "* `artist` — имя исполнителя;\n",
    "* `genre` — название жанра;\n",
    "* `City` — город пользователя;\n",
    "* `time` — время начала прослушивания;\n",
    "* `Day` — день недели.\n",
    "\n",
    "В названиях колонок видны три нарушения стиля:\n",
    "1. Строчные буквы сочетаются с прописными.\n",
    "2. Встречаются пробелы.\n",
    "3. Найдите ещё одну проблему в названии колонок и опишите её в этом пункте.\n",
    "\n",
    "\n",
    "\n",
    "Количество значений в столбцах различается. Значит, в данных есть пропущенные значения.\n"
   ]
  },
  {
   "cell_type": "markdown",
   "metadata": {
    "id": "MCB6-dXG_Zct"
   },
   "source": [
    "**Выводы**\n",
    "\n",
    "В каждой строке таблицы — данные о прослушанном треке. Часть колонок описывает саму композицию: название, исполнителя и жанр. Остальные данные рассказывают о пользователе: из какого он города, когда он слушал музыку. \n",
    "\n",
    "Предварительно можно утверждать, что, данных достаточно для проверки гипотез. Но встречаются пропуски в данных, а в названиях колонок — расхождения с хорошим стилем.\n",
    "\n",
    "Чтобы двигаться дальше, нужно устранить проблемы в данных."
   ]
  },
  {
   "cell_type": "markdown",
   "metadata": {
    "id": "SjYF6Ub9_Zct"
   },
   "source": [
    "## Предобработка данных\n",
    "Исправьте стиль в заголовках столбцов, исключите пропуски. Затем проверьте данные на дубликаты."
   ]
  },
  {
   "cell_type": "markdown",
   "metadata": {
    "id": "dIaKXr29_Zct"
   },
   "source": [
    "### Стиль заголовков\n",
    "Выведите на экран названия столбцов:"
   ]
  },
  {
   "cell_type": "code",
   "execution_count": 53,
   "metadata": {
    "id": "oKOTdF_Q_Zct"
   },
   "outputs": [
    {
     "data": {
      "text/plain": [
       "Index(['  userID', 'Track', 'artist', 'genre', '  City  ', 'time', 'Day'], dtype='object')"
      ]
     },
     "execution_count": 53,
     "metadata": {},
     "output_type": "execute_result"
    }
   ],
   "source": [
    "df.columns # перечень названий столбцов таблицы df"
   ]
  },
  {
   "cell_type": "markdown",
   "metadata": {
    "id": "FPZA3ki8xe7T"
   },
   "source": []
  },
  {
   "cell_type": "markdown",
   "metadata": {
    "id": "zj5534cv_Zct"
   },
   "source": [
    "Приведите названия в соответствие с хорошим стилем:\n",
    "* несколько слов в названии запишите в «змеином_регистре»,\n",
    "* все символы сделайте строчными,\n",
    "* устраните пробелы.\n",
    "\n",
    "Для этого переименуйте колонки так:\n",
    "* `'  userID'` → `'user_id'`;\n",
    "* `'Track'` → `'track'`;\n",
    "* `'  City  '` → `'city'`;\n",
    "* `'Day'` → `'day'`."
   ]
  },
  {
   "cell_type": "code",
   "execution_count": 54,
   "metadata": {
    "id": "ISlFqs5y_Zct"
   },
   "outputs": [],
   "source": [
    "df = df.rename(columns={'  userID': 'user_id', 'Track': 'track', '  City  ': 'city', 'Day': 'day'})# переименование столбцов"
   ]
  },
  {
   "cell_type": "markdown",
   "metadata": {
    "id": "1dqbh00J_Zct"
   },
   "source": [
    "Проверьте результат. Для этого ещё раз выведите на экран названия столбцов:"
   ]
  },
  {
   "cell_type": "code",
   "execution_count": 55,
   "metadata": {
    "id": "d4NOAmTW_Zct"
   },
   "outputs": [
    {
     "data": {
      "text/plain": [
       "Index(['user_id', 'track', 'artist', 'genre', 'city', 'time', 'day'], dtype='object')"
      ]
     },
     "execution_count": 55,
     "metadata": {},
     "output_type": "execute_result"
    }
   ],
   "source": [
    "df.columns # проверка результатов - перечень названий столбцов"
   ]
  },
  {
   "cell_type": "markdown",
   "metadata": {
    "id": "5ISfbcfY_Zct"
   },
   "source": [
    "### Пропуски значений\n",
    "Сначала посчитайте, сколько в таблице пропущенных значений. Для этого достаточно двух методов `pandas`:"
   ]
  },
  {
   "cell_type": "code",
   "execution_count": 56,
   "metadata": {
    "id": "RskX29qr_Zct"
   },
   "outputs": [
    {
     "name": "stdout",
     "output_type": "stream",
     "text": [
      "user_id       0\n",
      "track      1231\n",
      "artist     7203\n",
      "genre      1198\n",
      "city          0\n",
      "time          0\n",
      "day           0\n",
      "dtype: int64\n"
     ]
    }
   ],
   "source": [
    "print(df.isna().sum()) # подсчёт пропусков"
   ]
  },
  {
   "cell_type": "markdown",
   "metadata": {
    "id": "qubhgnlO_Zct"
   },
   "source": [
    "Не все пропущенные значения влияют на исследование. Так в `track` и `artist` пропуски не важны для вашей работы. Достаточно заменить их явными обозначениями.\n",
    "\n",
    "Но пропуски в `genre` могут помешать сравнению музыкальных вкусов в Москве и Санкт-Петербурге. На практике было бы правильно установить причину пропусков и восстановить данные. Такой возможности нет в учебном проекте. Придётся:\n",
    "* заполнить и эти пропуски явными обозначениями,\n",
    "* оценить, насколько они повредят расчётам. "
   ]
  },
  {
   "cell_type": "markdown",
   "metadata": {
    "id": "fSv2laPA_Zct"
   },
   "source": [
    "Замените пропущенные значения в столбцах `track`, `artist` и `genre` на строку `'unknown'`. Для этого создайте список `columns_to_replace`, переберите его элементы циклом `for` и для каждого столбца выполните замену пропущенных значений:"
   ]
  },
  {
   "cell_type": "code",
   "execution_count": 57,
   "metadata": {
    "id": "KplB5qWs_Zct"
   },
   "outputs": [],
   "source": [
    "columns_to_replace = ['track', 'artist', 'genre']# перебор названий столбцов в цикле и замена пропущенных значений на 'unknown'\n",
    "for i in columns_to_replace:\n",
    "    df[i] = df[i].fillna('unknown')\n",
    "    "
   ]
  },
  {
   "cell_type": "markdown",
   "metadata": {
    "id": "Ilsm-MZo_Zct"
   },
   "source": [
    "Убедитесь, что в таблице не осталось пропусков. Для этого ещё раз посчитайте пропущенные значения."
   ]
  },
  {
   "cell_type": "code",
   "execution_count": 58,
   "metadata": {
    "id": "Tq4nYRX4_Zct"
   },
   "outputs": [
    {
     "name": "stdout",
     "output_type": "stream",
     "text": [
      "user_id    0\n",
      "track      0\n",
      "artist     0\n",
      "genre      0\n",
      "city       0\n",
      "time       0\n",
      "day        0\n",
      "dtype: int64\n"
     ]
    }
   ],
   "source": [
    "print(df.isna().sum()) # подсчёт пропусков"
   ]
  },
  {
   "cell_type": "markdown",
   "metadata": {
    "id": "BWKRtBJ3_Zct"
   },
   "source": [
    "### Дубликаты\n",
    "Посчитайте явные дубликаты в таблице одной командой:"
   ]
  },
  {
   "cell_type": "code",
   "execution_count": 59,
   "metadata": {
    "id": "36eES_S0_Zct"
   },
   "outputs": [
    {
     "data": {
      "text/plain": [
       "3826"
      ]
     },
     "execution_count": 59,
     "metadata": {},
     "output_type": "execute_result"
    }
   ],
   "source": [
    "df.duplicated().sum() # подсчёт явных дубликатов"
   ]
  },
  {
   "cell_type": "markdown",
   "metadata": {
    "id": "Ot25h6XR_Zct"
   },
   "source": [
    "Вызовите специальный метод `pandas`, чтобы удалить явные дубликаты:"
   ]
  },
  {
   "cell_type": "code",
   "execution_count": 60,
   "metadata": {
    "id": "exFHq6tt_Zct"
   },
   "outputs": [],
   "source": [
    "df = df.drop_duplicates().reset_index(drop = True) # удаление явных дубликатов (с удалением старых индексов и формированием новых)"
   ]
  },
  {
   "cell_type": "markdown",
   "metadata": {
    "id": "Im2YwBEG_Zct"
   },
   "source": [
    "Ещё раз посчитайте явные дубликаты в таблице — убедитесь, что полностью от них избавились:"
   ]
  },
  {
   "cell_type": "code",
   "execution_count": 61,
   "metadata": {
    "id": "-8PuNWQ0_Zct"
   },
   "outputs": [
    {
     "data": {
      "text/plain": [
       "0"
      ]
     },
     "execution_count": 61,
     "metadata": {},
     "output_type": "execute_result"
    }
   ],
   "source": [
    "df.duplicated().sum() # проверка на отсутствие дубликатов"
   ]
  },
  {
   "cell_type": "markdown",
   "metadata": {
    "id": "QlFBsxAr_Zct"
   },
   "source": [
    "Теперь избавьтесь от неявных дубликатов в колонке `genre`. Например, название одного и того же жанра может быть записано немного по-разному. Такие ошибки тоже повлияют на результат исследования."
   ]
  },
  {
   "cell_type": "markdown",
   "metadata": {
    "id": "eSjWwsOh_Zct"
   },
   "source": [
    "Выведите на экран список уникальных названий жанров, отсортированный в алфавитном порядке. Для этого:\n",
    "* извлеките нужный столбец датафрейма, \n",
    "* примените к нему метод сортировки,\n",
    "* для отсортированного столбца вызовите метод, который вернёт уникальные значения из столбца."
   ]
  },
  {
   "cell_type": "code",
   "execution_count": 62,
   "metadata": {
    "id": "JIUcqzZN_Zct"
   },
   "outputs": [
    {
     "data": {
      "text/plain": [
       "array(['acid', 'acoustic', 'action', 'adult', 'africa', 'afrikaans',\n",
       "       'alternative', 'alternativepunk', 'ambient', 'americana',\n",
       "       'animated', 'anime', 'arabesk', 'arabic', 'arena',\n",
       "       'argentinetango', 'art', 'audiobook', 'author', 'avantgarde',\n",
       "       'axé', 'baile', 'balkan', 'beats', 'bigroom', 'black', 'bluegrass',\n",
       "       'blues', 'bollywood', 'bossa', 'brazilian', 'breakbeat', 'breaks',\n",
       "       'broadway', 'cantautori', 'cantopop', 'canzone', 'caribbean',\n",
       "       'caucasian', 'celtic', 'chamber', 'chanson', 'children', 'chill',\n",
       "       'chinese', 'choral', 'christian', 'christmas', 'classical',\n",
       "       'classicmetal', 'club', 'colombian', 'comedy', 'conjazz',\n",
       "       'contemporary', 'country', 'cuban', 'dance', 'dancehall',\n",
       "       'dancepop', 'dark', 'death', 'deep', 'deutschrock', 'deutschspr',\n",
       "       'dirty', 'disco', 'dnb', 'documentary', 'downbeat', 'downtempo',\n",
       "       'drum', 'dub', 'dubstep', 'eastern', 'easy', 'electronic',\n",
       "       'electropop', 'emo', 'entehno', 'epicmetal', 'estrada', 'ethnic',\n",
       "       'eurofolk', 'european', 'experimental', 'extrememetal', 'fado',\n",
       "       'fairytail', 'film', 'fitness', 'flamenco', 'folk', 'folklore',\n",
       "       'folkmetal', 'folkrock', 'folktronica', 'forró', 'frankreich',\n",
       "       'französisch', 'french', 'funk', 'future', 'gangsta', 'garage',\n",
       "       'german', 'ghazal', 'gitarre', 'glitch', 'gospel', 'gothic',\n",
       "       'grime', 'grunge', 'gypsy', 'handsup', \"hard'n'heavy\", 'hardcore',\n",
       "       'hardstyle', 'hardtechno', 'hip', 'hip-hop', 'hiphop',\n",
       "       'historisch', 'holiday', 'hop', 'horror', 'house', 'hymn', 'idm',\n",
       "       'independent', 'indian', 'indie', 'indipop', 'industrial',\n",
       "       'inspirational', 'instrumental', 'international', 'irish', 'jam',\n",
       "       'japanese', 'jazz', 'jewish', 'jpop', 'jungle', 'k-pop',\n",
       "       'karadeniz', 'karaoke', 'kayokyoku', 'korean', 'laiko', 'latin',\n",
       "       'latino', 'leftfield', 'local', 'lounge', 'loungeelectronic',\n",
       "       'lovers', 'malaysian', 'mandopop', 'marschmusik', 'meditative',\n",
       "       'mediterranean', 'melodic', 'metal', 'metalcore', 'mexican',\n",
       "       'middle', 'minimal', 'miscellaneous', 'modern', 'mood', 'mpb',\n",
       "       'muslim', 'native', 'neoklassik', 'neue', 'new', 'newage',\n",
       "       'newwave', 'nu', 'nujazz', 'numetal', 'oceania', 'old', 'opera',\n",
       "       'orchestral', 'other', 'piano', 'podcasts', 'pop', 'popdance',\n",
       "       'popelectronic', 'popeurodance', 'poprussian', 'post',\n",
       "       'posthardcore', 'postrock', 'power', 'progmetal', 'progressive',\n",
       "       'psychedelic', 'punjabi', 'punk', 'quebecois', 'ragga', 'ram',\n",
       "       'rancheras', 'rap', 'rave', 'reggae', 'reggaeton', 'regional',\n",
       "       'relax', 'religious', 'retro', 'rhythm', 'rnb', 'rnr', 'rock',\n",
       "       'rockabilly', 'rockalternative', 'rockindie', 'rockother',\n",
       "       'romance', 'roots', 'ruspop', 'rusrap', 'rusrock', 'russian',\n",
       "       'salsa', 'samba', 'scenic', 'schlager', 'self', 'sertanejo',\n",
       "       'shanson', 'shoegazing', 'showtunes', 'singer', 'ska', 'skarock',\n",
       "       'slow', 'smooth', 'soft', 'soul', 'soulful', 'sound', 'soundtrack',\n",
       "       'southern', 'specialty', 'speech', 'spiritual', 'sport',\n",
       "       'stonerrock', 'surf', 'swing', 'synthpop', 'synthrock',\n",
       "       'sängerportrait', 'tango', 'tanzorchester', 'taraftar', 'tatar',\n",
       "       'tech', 'techno', 'teen', 'thrash', 'top', 'traditional',\n",
       "       'tradjazz', 'trance', 'tribal', 'trip', 'triphop', 'tropical',\n",
       "       'türk', 'türkçe', 'ukrrock', 'unknown', 'urban', 'uzbek',\n",
       "       'variété', 'vi', 'videogame', 'vocal', 'western', 'world',\n",
       "       'worldbeat', 'ïîï', 'электроника'], dtype=object)"
      ]
     },
     "execution_count": 62,
     "metadata": {},
     "output_type": "execute_result"
    }
   ],
   "source": [
    "sort_genre = df['genre'].sort_values() # Просмотр уникальных названий жанров\n",
    "sort_genre.unique() "
   ]
  },
  {
   "cell_type": "markdown",
   "metadata": {
    "id": "qej-Qmuo_Zct"
   },
   "source": [
    "Просмотрите список и найдите неявные дубликаты названия `hiphop`. Это могут быть названия с ошибками или альтернативные названия того же жанра.\n",
    "\n",
    "Вы увидите следующие неявные дубликаты:\n",
    "* *hip*,\n",
    "* *hop*,\n",
    "* *hip-hop*.\n",
    "\n",
    "Чтобы очистить от них таблицу, напишите функцию `replace_wrong_genres()` с двумя параметрами: \n",
    "* `wrong_genres` — список дубликатов,\n",
    "* `correct_genre` — строка с правильным значением.\n",
    "\n",
    "Функция должна исправить колонку `genre` в таблице `df`: заменить каждое значение из списка `wrong_genres` на значение из `correct_genre`."
   ]
  },
  {
   "cell_type": "code",
   "execution_count": 63,
   "metadata": {
    "id": "ErNDkmns_Zct"
   },
   "outputs": [],
   "source": [
    "def replace_wrong_genres(wrong_genres, correct_genre): # Функция для замены неявных дубликатов\n",
    "    for wrong_genre in wrong_genres:\n",
    "        df['genre']=df['genre'].replace(wrong_genres, correct_genre)\n",
    "duplicates=['hip', 'hop', 'hip-hop']   \n",
    "name='hiphop'    "
   ]
  },
  {
   "cell_type": "markdown",
   "metadata": {
    "id": "aDoBJxbA_Zct"
   },
   "source": [
    "Вызовите `replace_wrong_genres()` и передайте ей такие аргументы, чтобы она устранила неявные дубликаты: вместо `hip`, `hop` и `hip-hop` в таблице должно быть значение `hiphop`:"
   ]
  },
  {
   "cell_type": "code",
   "execution_count": 64,
   "metadata": {
    "id": "YN5i2hpmSo09"
   },
   "outputs": [],
   "source": [
    "replace_wrong_genres(duplicates,name) # Устранение неявных дубликатов"
   ]
  },
  {
   "cell_type": "markdown",
   "metadata": {
    "id": "zQKF16_RG15m"
   },
   "source": [
    "Проверьте, что заменили неправильные названия:\n",
    "\n",
    "*   hip\n",
    "*   hop\n",
    "*   hip-hop\n",
    "\n",
    "Выведите отсортированный список уникальных значений столбца `genre`:"
   ]
  },
  {
   "cell_type": "code",
   "execution_count": 65,
   "metadata": {
    "id": "wvixALnFG15m"
   },
   "outputs": [
    {
     "name": "stdout",
     "output_type": "stream",
     "text": [
      "['acid' 'acoustic' 'action' 'adult' 'africa' 'afrikaans' 'alternative'\n",
      " 'alternativepunk' 'ambient' 'americana' 'animated' 'anime' 'arabesk'\n",
      " 'arabic' 'arena' 'argentinetango' 'art' 'audiobook' 'author' 'avantgarde'\n",
      " 'axé' 'baile' 'balkan' 'beats' 'bigroom' 'black' 'bluegrass' 'blues'\n",
      " 'bollywood' 'bossa' 'brazilian' 'breakbeat' 'breaks' 'broadway'\n",
      " 'cantautori' 'cantopop' 'canzone' 'caribbean' 'caucasian' 'celtic'\n",
      " 'chamber' 'chanson' 'children' 'chill' 'chinese' 'choral' 'christian'\n",
      " 'christmas' 'classical' 'classicmetal' 'club' 'colombian' 'comedy'\n",
      " 'conjazz' 'contemporary' 'country' 'cuban' 'dance' 'dancehall' 'dancepop'\n",
      " 'dark' 'death' 'deep' 'deutschrock' 'deutschspr' 'dirty' 'disco' 'dnb'\n",
      " 'documentary' 'downbeat' 'downtempo' 'drum' 'dub' 'dubstep' 'eastern'\n",
      " 'easy' 'electronic' 'electropop' 'emo' 'entehno' 'epicmetal' 'estrada'\n",
      " 'ethnic' 'eurofolk' 'european' 'experimental' 'extrememetal' 'fado'\n",
      " 'fairytail' 'film' 'fitness' 'flamenco' 'folk' 'folklore' 'folkmetal'\n",
      " 'folkrock' 'folktronica' 'forró' 'frankreich' 'französisch' 'french'\n",
      " 'funk' 'future' 'gangsta' 'garage' 'german' 'ghazal' 'gitarre' 'glitch'\n",
      " 'gospel' 'gothic' 'grime' 'grunge' 'gypsy' 'handsup' \"hard'n'heavy\"\n",
      " 'hardcore' 'hardstyle' 'hardtechno' 'hiphop' 'historisch' 'holiday'\n",
      " 'horror' 'house' 'hymn' 'idm' 'independent' 'indian' 'indie' 'indipop'\n",
      " 'industrial' 'inspirational' 'instrumental' 'international' 'irish' 'jam'\n",
      " 'japanese' 'jazz' 'jewish' 'jpop' 'jungle' 'k-pop' 'karadeniz' 'karaoke'\n",
      " 'kayokyoku' 'korean' 'laiko' 'latin' 'latino' 'leftfield' 'local'\n",
      " 'lounge' 'loungeelectronic' 'lovers' 'malaysian' 'mandopop' 'marschmusik'\n",
      " 'meditative' 'mediterranean' 'melodic' 'metal' 'metalcore' 'mexican'\n",
      " 'middle' 'minimal' 'miscellaneous' 'modern' 'mood' 'mpb' 'muslim'\n",
      " 'native' 'neoklassik' 'neue' 'new' 'newage' 'newwave' 'nu' 'nujazz'\n",
      " 'numetal' 'oceania' 'old' 'opera' 'orchestral' 'other' 'piano' 'podcasts'\n",
      " 'pop' 'popdance' 'popelectronic' 'popeurodance' 'poprussian' 'post'\n",
      " 'posthardcore' 'postrock' 'power' 'progmetal' 'progressive' 'psychedelic'\n",
      " 'punjabi' 'punk' 'quebecois' 'ragga' 'ram' 'rancheras' 'rap' 'rave'\n",
      " 'reggae' 'reggaeton' 'regional' 'relax' 'religious' 'retro' 'rhythm'\n",
      " 'rnb' 'rnr' 'rock' 'rockabilly' 'rockalternative' 'rockindie' 'rockother'\n",
      " 'romance' 'roots' 'ruspop' 'rusrap' 'rusrock' 'russian' 'salsa' 'samba'\n",
      " 'scenic' 'schlager' 'self' 'sertanejo' 'shanson' 'shoegazing' 'showtunes'\n",
      " 'singer' 'ska' 'skarock' 'slow' 'smooth' 'soft' 'soul' 'soulful' 'sound'\n",
      " 'soundtrack' 'southern' 'specialty' 'speech' 'spiritual' 'sport'\n",
      " 'stonerrock' 'surf' 'swing' 'synthpop' 'synthrock' 'sängerportrait'\n",
      " 'tango' 'tanzorchester' 'taraftar' 'tatar' 'tech' 'techno' 'teen'\n",
      " 'thrash' 'top' 'traditional' 'tradjazz' 'trance' 'tribal' 'trip'\n",
      " 'triphop' 'tropical' 'türk' 'türkçe' 'ukrrock' 'unknown' 'urban' 'uzbek'\n",
      " 'variété' 'vi' 'videogame' 'vocal' 'western' 'world' 'worldbeat' 'ïîï'\n",
      " 'электроника']\n"
     ]
    }
   ],
   "source": [
    "sort_genre = df['genre'].sort_values() # Проверка на неявные дубликаты\n",
    "print(sort_genre.unique())"
   ]
  },
  {
   "cell_type": "markdown",
   "metadata": {
    "id": "jz6a9-7HQUDd"
   },
   "source": [
    "**Выводы**\n",
    "\n",
    "Предобработка обнаружила три проблемы в данных:\n",
    "\n",
    "- нарушения в стиле заголовков,\n",
    "- пропущенные значения,\n",
    "- дубликаты — явные и неявные.\n",
    "\n",
    "Вы исправили заголовки, чтобы упростить работу с таблицей. Без дубликатов исследование станет более точным.\n",
    "\n",
    "Пропущенные значения вы заменили на `'unknown'`. Ещё предстоит увидеть, не повредят ли исследованию пропуски в колонке `genre`.\n",
    "\n",
    "Теперь можно перейти к проверке гипотез. "
   ]
  },
  {
   "cell_type": "markdown",
   "metadata": {
    "id": "WttZHXH0SqKk"
   },
   "source": [
    "## Проверка гипотез"
   ]
  },
  {
   "cell_type": "markdown",
   "metadata": {
    "id": "Im936VVi_Zcu"
   },
   "source": [
    "### Сравнение поведения пользователей двух столиц"
   ]
  },
  {
   "cell_type": "markdown",
   "metadata": {
    "id": "nwt_MuaL_Zcu"
   },
   "source": [
    "Первая гипотеза утверждает, что пользователи по-разному слушают музыку в Москве и Санкт-Петербурге. Проверьте это предположение по данным о трёх днях недели — понедельнике, среде и пятнице. Для этого:\n",
    "\n",
    "* Разделите пользователей Москвы и Санкт-Петербурга\n",
    "* Сравните, сколько треков послушала каждая группа пользователей в понедельник, среду и пятницу.\n"
   ]
  },
  {
   "cell_type": "markdown",
   "metadata": {
    "id": "8Dw_YMmT_Zcu"
   },
   "source": [
    "Для тренировки сначала выполните каждый из расчётов по отдельности. \n",
    "\n",
    "Оцените активность пользователей в каждом городе. Сгруппируйте данные по городу и посчитайте прослушивания в каждой группе.\n",
    "\n"
   ]
  },
  {
   "cell_type": "code",
   "execution_count": 66,
   "metadata": {
    "id": "0_Qs96oh_Zcu"
   },
   "outputs": [
    {
     "data": {
      "text/html": [
       "<div>\n",
       "<style scoped>\n",
       "    .dataframe tbody tr th:only-of-type {\n",
       "        vertical-align: middle;\n",
       "    }\n",
       "\n",
       "    .dataframe tbody tr th {\n",
       "        vertical-align: top;\n",
       "    }\n",
       "\n",
       "    .dataframe thead th {\n",
       "        text-align: right;\n",
       "    }\n",
       "</style>\n",
       "<table border=\"1\" class=\"dataframe\">\n",
       "  <thead>\n",
       "    <tr style=\"text-align: right;\">\n",
       "      <th></th>\n",
       "      <th>genre</th>\n",
       "    </tr>\n",
       "    <tr>\n",
       "      <th>city</th>\n",
       "      <th></th>\n",
       "    </tr>\n",
       "  </thead>\n",
       "  <tbody>\n",
       "    <tr>\n",
       "      <td>Moscow</td>\n",
       "      <td>42741</td>\n",
       "    </tr>\n",
       "    <tr>\n",
       "      <td>Saint-Petersburg</td>\n",
       "      <td>18512</td>\n",
       "    </tr>\n",
       "  </tbody>\n",
       "</table>\n",
       "</div>"
      ],
      "text/plain": [
       "                  genre\n",
       "city                   \n",
       "Moscow            42741\n",
       "Saint-Petersburg  18512"
      ]
     },
     "execution_count": 66,
     "metadata": {},
     "output_type": "execute_result"
    }
   ],
   "source": [
    "df.groupby('city')[['genre']].count() # Подсчёт прослушиваний в каждом городе"
   ]
  },
  {
   "cell_type": "markdown",
   "metadata": {
    "id": "dzli3w8o_Zcu"
   },
   "source": [
    "В Москве прослушиваний больше, чем в Петербурге. Из этого не следует, что московские пользователи чаще слушают музыку. Просто самих пользователей в Москве больше.\n",
    "\n",
    "Теперь сгруппируйте данные по дню недели и подсчитайте прослушивания в понедельник, среду и пятницу. Учтите, что в данных есть информация только о прослушиваниях только за эти дни.\n"
   ]
  },
  {
   "cell_type": "code",
   "execution_count": 67,
   "metadata": {
    "id": "uZMKjiJz_Zcu"
   },
   "outputs": [
    {
     "data": {
      "text/html": [
       "<div>\n",
       "<style scoped>\n",
       "    .dataframe tbody tr th:only-of-type {\n",
       "        vertical-align: middle;\n",
       "    }\n",
       "\n",
       "    .dataframe tbody tr th {\n",
       "        vertical-align: top;\n",
       "    }\n",
       "\n",
       "    .dataframe thead th {\n",
       "        text-align: right;\n",
       "    }\n",
       "</style>\n",
       "<table border=\"1\" class=\"dataframe\">\n",
       "  <thead>\n",
       "    <tr style=\"text-align: right;\">\n",
       "      <th></th>\n",
       "      <th>genre</th>\n",
       "    </tr>\n",
       "    <tr>\n",
       "      <th>day</th>\n",
       "      <th></th>\n",
       "    </tr>\n",
       "  </thead>\n",
       "  <tbody>\n",
       "    <tr>\n",
       "      <td>Friday</td>\n",
       "      <td>21840</td>\n",
       "    </tr>\n",
       "    <tr>\n",
       "      <td>Monday</td>\n",
       "      <td>21354</td>\n",
       "    </tr>\n",
       "    <tr>\n",
       "      <td>Wednesday</td>\n",
       "      <td>18059</td>\n",
       "    </tr>\n",
       "  </tbody>\n",
       "</table>\n",
       "</div>"
      ],
      "text/plain": [
       "           genre\n",
       "day             \n",
       "Friday     21840\n",
       "Monday     21354\n",
       "Wednesday  18059"
      ]
     },
     "execution_count": 67,
     "metadata": {},
     "output_type": "execute_result"
    }
   ],
   "source": [
    "df.groupby('day')[['genre']].count() # Подсчёт прослушиваний в каждый из трёх дней"
   ]
  },
  {
   "cell_type": "code",
   "execution_count": 68,
   "metadata": {},
   "outputs": [
    {
     "data": {
      "text/html": [
       "<div>\n",
       "<style scoped>\n",
       "    .dataframe tbody tr th:only-of-type {\n",
       "        vertical-align: middle;\n",
       "    }\n",
       "\n",
       "    .dataframe tbody tr th {\n",
       "        vertical-align: top;\n",
       "    }\n",
       "\n",
       "    .dataframe thead th {\n",
       "        text-align: right;\n",
       "    }\n",
       "</style>\n",
       "<table border=\"1\" class=\"dataframe\">\n",
       "  <thead>\n",
       "    <tr style=\"text-align: right;\">\n",
       "      <th></th>\n",
       "      <th>user_id</th>\n",
       "    </tr>\n",
       "    <tr>\n",
       "      <th>day</th>\n",
       "      <th></th>\n",
       "    </tr>\n",
       "  </thead>\n",
       "  <tbody>\n",
       "    <tr>\n",
       "      <td>Friday</td>\n",
       "      <td>21840</td>\n",
       "    </tr>\n",
       "    <tr>\n",
       "      <td>Monday</td>\n",
       "      <td>21354</td>\n",
       "    </tr>\n",
       "    <tr>\n",
       "      <td>Wednesday</td>\n",
       "      <td>18059</td>\n",
       "    </tr>\n",
       "  </tbody>\n",
       "</table>\n",
       "</div>"
      ],
      "text/plain": [
       "           user_id\n",
       "day               \n",
       "Friday       21840\n",
       "Monday       21354\n",
       "Wednesday    18059"
      ]
     },
     "execution_count": 68,
     "metadata": {},
     "output_type": "execute_result"
    }
   ],
   "source": [
    "# КОД РЕВЬЮЕРА\n",
    "\n",
    "df.groupby('day')[['user_id']].count()"
   ]
  },
  {
   "cell_type": "markdown",
   "metadata": {
    "id": "cC2tNrlL_Zcu"
   },
   "source": [
    "В среднем пользователи из двух городов менее активны по средам. Но картина может измениться, если рассмотреть каждый город в отдельности."
   ]
  },
  {
   "cell_type": "markdown",
   "metadata": {
    "id": "POzs8bGa_Zcu"
   },
   "source": [
    "Вы видели, как работает группировка по городу и по дням недели. Теперь напишите функцию, которая объединит два эти расчёта.\n",
    "\n",
    "Создайте функцию `number_tracks()`, которая посчитает прослушивания для заданного дня и города. Ей понадобятся два параметра:\n",
    "* день недели,\n",
    "* название города.\n",
    "\n",
    "В функции сохраните в переменную строки исходной таблицы, у которых значение:\n",
    "  * в колонке `day` равно параметру `day`,\n",
    "  * в колонке `city` равно параметру `city`.\n",
    "\n",
    "Для этого примените последовательную фильтрацию с логической индексацией.\n",
    "\n",
    "Затем посчитайте значения в столбце `user_id` получившейся таблицы. Результат сохраните в новую переменную. Верните эту переменную из функции."
   ]
  },
  {
   "cell_type": "code",
   "execution_count": 69,
   "metadata": {
    "id": "Nz3GdQB1_Zcu"
   },
   "outputs": [],
   "source": [
    "# <создание функции number_tracks()>\n",
    "def number_tracks(day, city):# Объявляется функция с двумя параметрами: day, city.\n",
    "    track_list = df[df['day'] == day]\n",
    "    track_list = track_list[track_list['city'] == city]\n",
    "    track_list_count = track_list['user_id'].count()\n",
    "    return track_list_count\n",
    "# В переменной track_list сохраняются те строки таблицы df, для которых \n",
    "# значение в столбце 'day' равно параметру day и одновременно значение\n",
    "# в столбце 'city' равно параметру city (используйте последовательную фильтрацию\n",
    "# с помощью логической индексации).\n",
    "\n",
    "# В переменной track_list_count сохраняется число значений столбца 'user_id',\n",
    "# рассчитанное методом count() для таблицы track_list.\n",
    "# Функция возвращает число - значение track_list_count.\n",
    "\n",
    "# Функция для подсчёта прослушиваний для конкретного города и дня.\n",
    "# С помощью последовательной фильтрации с логической индексацией она \n",
    "# сначала получит из исходной таблицы строки с нужным днём,\n",
    "# затем из результата отфильтрует строки с нужным городом,\n",
    "# методом count() посчитает количество значений в колонке user_id. \n",
    "# Это количество функция вернёт в качестве результата"
   ]
  },
  {
   "cell_type": "markdown",
   "metadata": {
    "id": "ytf7xFrFJQ2r"
   },
   "source": [
    "Вызовите `number_tracks()` шесть раз, меняя значение параметров — так, чтобы получить данные для каждого города в каждый из трёх дней."
   ]
  },
  {
   "cell_type": "code",
   "execution_count": 70,
   "metadata": {
    "id": "rJcRATNQ_Zcu"
   },
   "outputs": [
    {
     "data": {
      "text/plain": [
       "15740"
      ]
     },
     "execution_count": 70,
     "metadata": {},
     "output_type": "execute_result"
    }
   ],
   "source": [
    "number_tracks('Monday', 'Moscow') # количество прослушиваний в Москве по понедельникам"
   ]
  },
  {
   "cell_type": "code",
   "execution_count": 71,
   "metadata": {
    "id": "hq_ncZ5T_Zcu"
   },
   "outputs": [
    {
     "data": {
      "text/plain": [
       "5614"
      ]
     },
     "execution_count": 71,
     "metadata": {},
     "output_type": "execute_result"
    }
   ],
   "source": [
    "number_tracks('Monday', 'Saint-Petersburg') # количество прослушиваний в Санкт-Петербурге по понедельникам"
   ]
  },
  {
   "cell_type": "code",
   "execution_count": 72,
   "metadata": {
    "id": "_NTy2VPU_Zcu"
   },
   "outputs": [
    {
     "data": {
      "text/plain": [
       "11056"
      ]
     },
     "execution_count": 72,
     "metadata": {},
     "output_type": "execute_result"
    }
   ],
   "source": [
    "number_tracks('Wednesday', 'Moscow')# количество прослушиваний в Москве по средам"
   ]
  },
  {
   "cell_type": "code",
   "execution_count": 73,
   "metadata": {
    "id": "j2y3TAwo_Zcu"
   },
   "outputs": [
    {
     "data": {
      "text/plain": [
       "7003"
      ]
     },
     "execution_count": 73,
     "metadata": {},
     "output_type": "execute_result"
    }
   ],
   "source": [
    "number_tracks('Wednesday', 'Saint-Petersburg')# количество прослушиваний в Санкт-Петербурге по средам"
   ]
  },
  {
   "cell_type": "code",
   "execution_count": 74,
   "metadata": {
    "id": "vYDw5u_K_Zcu"
   },
   "outputs": [
    {
     "data": {
      "text/plain": [
       "15945"
      ]
     },
     "execution_count": 74,
     "metadata": {},
     "output_type": "execute_result"
    }
   ],
   "source": [
    "number_tracks('Friday', 'Moscow')# количество прослушиваний в Москве по пятницам"
   ]
  },
  {
   "cell_type": "code",
   "execution_count": 75,
   "metadata": {
    "id": "8_yzFtW3_Zcu"
   },
   "outputs": [
    {
     "data": {
      "text/plain": [
       "5895"
      ]
     },
     "execution_count": 75,
     "metadata": {},
     "output_type": "execute_result"
    }
   ],
   "source": [
    "number_tracks('Friday', 'Saint-Petersburg')# количество прослушиваний в Санкт-Петербурге по пятницам"
   ]
  },
  {
   "cell_type": "markdown",
   "metadata": {
    "id": "7QXffbO-_Zcu"
   },
   "source": [
    "Создайте c помощью конструктора `pd.DataFrame` таблицу, где\n",
    "* названия колонок — `['city', 'monday', 'wednesday', 'friday']`;\n",
    "* данные — результаты, которые вы получили с помощью `number_tracks`."
   ]
  },
  {
   "cell_type": "code",
   "execution_count": 76,
   "metadata": {
    "id": "APAcLpOr_Zcu"
   },
   "outputs": [
    {
     "data": {
      "text/html": [
       "<div>\n",
       "<style scoped>\n",
       "    .dataframe tbody tr th:only-of-type {\n",
       "        vertical-align: middle;\n",
       "    }\n",
       "\n",
       "    .dataframe tbody tr th {\n",
       "        vertical-align: top;\n",
       "    }\n",
       "\n",
       "    .dataframe thead th {\n",
       "        text-align: right;\n",
       "    }\n",
       "</style>\n",
       "<table border=\"1\" class=\"dataframe\">\n",
       "  <thead>\n",
       "    <tr style=\"text-align: right;\">\n",
       "      <th></th>\n",
       "      <th>city</th>\n",
       "      <th>monday</th>\n",
       "      <th>wednesday</th>\n",
       "      <th>friday</th>\n",
       "    </tr>\n",
       "  </thead>\n",
       "  <tbody>\n",
       "    <tr>\n",
       "      <td>0</td>\n",
       "      <td>Moscow</td>\n",
       "      <td>15740</td>\n",
       "      <td>11056</td>\n",
       "      <td>15945</td>\n",
       "    </tr>\n",
       "    <tr>\n",
       "      <td>1</td>\n",
       "      <td>Saint-Petersburg</td>\n",
       "      <td>5614</td>\n",
       "      <td>7003</td>\n",
       "      <td>5895</td>\n",
       "    </tr>\n",
       "  </tbody>\n",
       "</table>\n",
       "</div>"
      ],
      "text/plain": [
       "               city  monday  wednesday  friday\n",
       "0            Moscow   15740      11056   15945\n",
       "1  Saint-Petersburg    5614       7003    5895"
      ]
     },
     "execution_count": 76,
     "metadata": {},
     "output_type": "execute_result"
    }
   ],
   "source": [
    "columns = ['city', 'monday', 'wednesday', 'friday']# Таблица с результатами\n",
    "data = [['Moscow', 15740, 11056, 15945], ['Saint-Petersburg', 5614, 7003, 5895]]    \n",
    "table = pd.DataFrame(data=data , columns=columns) \n",
    "table"
   ]
  },
  {
   "cell_type": "markdown",
   "metadata": {
    "id": "-EgPIHYu_Zcu"
   },
   "source": [
    "**Выводы**\n",
    "\n",
    "Данные показывают разницу поведения пользователей:\n",
    "\n",
    "- В Москве пик прослушиваний приходится на понедельник и пятницу, а в среду заметен спад.\n",
    "- В Петербурге, наоборот, больше слушают музыку по средам. Активность в понедельник и пятницу здесь почти в равной мере уступает среде.\n",
    "\n",
    "Значит, данные говорят в пользу первой гипотезы."
   ]
  },
  {
   "cell_type": "markdown",
   "metadata": {
    "id": "atZAxtq4_Zcu"
   },
   "source": [
    "### Музыка в начале и в конце недели"
   ]
  },
  {
   "cell_type": "markdown",
   "metadata": {
    "id": "eXrQqXFH_Zcu"
   },
   "source": [
    "Согласно второй гипотезе, утром в понедельник в Москве преобладают одни жанры, а в Петербурге — другие. Так же и вечером пятницы преобладают разные жанры — в зависимости от города."
   ]
  },
  {
   "cell_type": "markdown",
   "metadata": {
    "id": "S8UcW6Hw_Zcu"
   },
   "source": [
    "Сохраните таблицы с данными в две переменные:\n",
    "* по Москве — в `moscow_general`;\n",
    "* по Санкт-Петербургу — в `spb_general`."
   ]
  },
  {
   "cell_type": "code",
   "execution_count": 77,
   "metadata": {
    "id": "qeaFfM_P_Zcu"
   },
   "outputs": [
    {
     "data": {
      "text/html": [
       "<div>\n",
       "<style scoped>\n",
       "    .dataframe tbody tr th:only-of-type {\n",
       "        vertical-align: middle;\n",
       "    }\n",
       "\n",
       "    .dataframe tbody tr th {\n",
       "        vertical-align: top;\n",
       "    }\n",
       "\n",
       "    .dataframe thead th {\n",
       "        text-align: right;\n",
       "    }\n",
       "</style>\n",
       "<table border=\"1\" class=\"dataframe\">\n",
       "  <thead>\n",
       "    <tr style=\"text-align: right;\">\n",
       "      <th></th>\n",
       "      <th>user_id</th>\n",
       "      <th>track</th>\n",
       "      <th>artist</th>\n",
       "      <th>genre</th>\n",
       "      <th>city</th>\n",
       "      <th>time</th>\n",
       "      <th>day</th>\n",
       "    </tr>\n",
       "  </thead>\n",
       "  <tbody>\n",
       "    <tr>\n",
       "      <td>1</td>\n",
       "      <td>55204538</td>\n",
       "      <td>Delayed Because of Accident</td>\n",
       "      <td>Andreas Rönnberg</td>\n",
       "      <td>rock</td>\n",
       "      <td>Moscow</td>\n",
       "      <td>14:07:09</td>\n",
       "      <td>Friday</td>\n",
       "    </tr>\n",
       "    <tr>\n",
       "      <td>4</td>\n",
       "      <td>E2DC1FAE</td>\n",
       "      <td>Soul People</td>\n",
       "      <td>Space Echo</td>\n",
       "      <td>dance</td>\n",
       "      <td>Moscow</td>\n",
       "      <td>08:34:34</td>\n",
       "      <td>Monday</td>\n",
       "    </tr>\n",
       "    <tr>\n",
       "      <td>6</td>\n",
       "      <td>4CB90AA5</td>\n",
       "      <td>True</td>\n",
       "      <td>Roman Messer</td>\n",
       "      <td>dance</td>\n",
       "      <td>Moscow</td>\n",
       "      <td>13:00:07</td>\n",
       "      <td>Wednesday</td>\n",
       "    </tr>\n",
       "    <tr>\n",
       "      <td>7</td>\n",
       "      <td>F03E1C1F</td>\n",
       "      <td>Feeling This Way</td>\n",
       "      <td>Polina Griffith</td>\n",
       "      <td>dance</td>\n",
       "      <td>Moscow</td>\n",
       "      <td>20:47:49</td>\n",
       "      <td>Wednesday</td>\n",
       "    </tr>\n",
       "    <tr>\n",
       "      <td>8</td>\n",
       "      <td>8FA1D3BE</td>\n",
       "      <td>И вновь продолжается бой</td>\n",
       "      <td>unknown</td>\n",
       "      <td>ruspop</td>\n",
       "      <td>Moscow</td>\n",
       "      <td>09:17:40</td>\n",
       "      <td>Friday</td>\n",
       "    </tr>\n",
       "    <tr>\n",
       "      <td>...</td>\n",
       "      <td>...</td>\n",
       "      <td>...</td>\n",
       "      <td>...</td>\n",
       "      <td>...</td>\n",
       "      <td>...</td>\n",
       "      <td>...</td>\n",
       "      <td>...</td>\n",
       "    </tr>\n",
       "    <tr>\n",
       "      <td>61247</td>\n",
       "      <td>83A474E7</td>\n",
       "      <td>I Worship Only What You Bleed</td>\n",
       "      <td>The Black Dahlia Murder</td>\n",
       "      <td>extrememetal</td>\n",
       "      <td>Moscow</td>\n",
       "      <td>21:07:12</td>\n",
       "      <td>Monday</td>\n",
       "    </tr>\n",
       "    <tr>\n",
       "      <td>61248</td>\n",
       "      <td>729CBB09</td>\n",
       "      <td>My Name</td>\n",
       "      <td>McLean</td>\n",
       "      <td>rnb</td>\n",
       "      <td>Moscow</td>\n",
       "      <td>13:32:28</td>\n",
       "      <td>Wednesday</td>\n",
       "    </tr>\n",
       "    <tr>\n",
       "      <td>61250</td>\n",
       "      <td>C5E3A0D5</td>\n",
       "      <td>Jalopiina</td>\n",
       "      <td>unknown</td>\n",
       "      <td>industrial</td>\n",
       "      <td>Moscow</td>\n",
       "      <td>20:09:26</td>\n",
       "      <td>Friday</td>\n",
       "    </tr>\n",
       "    <tr>\n",
       "      <td>61251</td>\n",
       "      <td>321D0506</td>\n",
       "      <td>Freight Train</td>\n",
       "      <td>Chas McDevitt</td>\n",
       "      <td>rock</td>\n",
       "      <td>Moscow</td>\n",
       "      <td>21:43:59</td>\n",
       "      <td>Friday</td>\n",
       "    </tr>\n",
       "    <tr>\n",
       "      <td>61252</td>\n",
       "      <td>3A64EF84</td>\n",
       "      <td>Tell Me Sweet Little Lies</td>\n",
       "      <td>Monica Lopez</td>\n",
       "      <td>country</td>\n",
       "      <td>Moscow</td>\n",
       "      <td>21:59:46</td>\n",
       "      <td>Friday</td>\n",
       "    </tr>\n",
       "  </tbody>\n",
       "</table>\n",
       "<p>42741 rows × 7 columns</p>\n",
       "</div>"
      ],
      "text/plain": [
       "        user_id                          track                   artist  \\\n",
       "1      55204538    Delayed Because of Accident         Andreas Rönnberg   \n",
       "4      E2DC1FAE                    Soul People               Space Echo   \n",
       "6      4CB90AA5                           True             Roman Messer   \n",
       "7      F03E1C1F               Feeling This Way          Polina Griffith   \n",
       "8      8FA1D3BE       И вновь продолжается бой                  unknown   \n",
       "...         ...                            ...                      ...   \n",
       "61247  83A474E7  I Worship Only What You Bleed  The Black Dahlia Murder   \n",
       "61248  729CBB09                        My Name                   McLean   \n",
       "61250  C5E3A0D5                      Jalopiina                  unknown   \n",
       "61251  321D0506                  Freight Train            Chas McDevitt   \n",
       "61252  3A64EF84      Tell Me Sweet Little Lies             Monica Lopez   \n",
       "\n",
       "              genre    city      time        day  \n",
       "1              rock  Moscow  14:07:09     Friday  \n",
       "4             dance  Moscow  08:34:34     Monday  \n",
       "6             dance  Moscow  13:00:07  Wednesday  \n",
       "7             dance  Moscow  20:47:49  Wednesday  \n",
       "8            ruspop  Moscow  09:17:40     Friday  \n",
       "...             ...     ...       ...        ...  \n",
       "61247  extrememetal  Moscow  21:07:12     Monday  \n",
       "61248           rnb  Moscow  13:32:28  Wednesday  \n",
       "61250    industrial  Moscow  20:09:26     Friday  \n",
       "61251          rock  Moscow  21:43:59     Friday  \n",
       "61252       country  Moscow  21:59:46     Friday  \n",
       "\n",
       "[42741 rows x 7 columns]"
      ]
     },
     "metadata": {},
     "output_type": "display_data"
    }
   ],
   "source": [
    "moscow_general=df[df['city'] == 'Moscow']# Таблица с результатами\n",
    "# получение таблицы moscow_general из тех строк таблицы df, \n",
    "# для которых значение в столбце 'city' равно 'Moscow'\n",
    "display(moscow_general)"
   ]
  },
  {
   "cell_type": "code",
   "execution_count": 78,
   "metadata": {
    "id": "ORaVRKto_Zcu"
   },
   "outputs": [
    {
     "data": {
      "text/html": [
       "<div>\n",
       "<style scoped>\n",
       "    .dataframe tbody tr th:only-of-type {\n",
       "        vertical-align: middle;\n",
       "    }\n",
       "\n",
       "    .dataframe tbody tr th {\n",
       "        vertical-align: top;\n",
       "    }\n",
       "\n",
       "    .dataframe thead th {\n",
       "        text-align: right;\n",
       "    }\n",
       "</style>\n",
       "<table border=\"1\" class=\"dataframe\">\n",
       "  <thead>\n",
       "    <tr style=\"text-align: right;\">\n",
       "      <th></th>\n",
       "      <th>user_id</th>\n",
       "      <th>track</th>\n",
       "      <th>artist</th>\n",
       "      <th>genre</th>\n",
       "      <th>city</th>\n",
       "      <th>time</th>\n",
       "      <th>day</th>\n",
       "    </tr>\n",
       "  </thead>\n",
       "  <tbody>\n",
       "    <tr>\n",
       "      <td>0</td>\n",
       "      <td>FFB692EC</td>\n",
       "      <td>Kamigata To Boots</td>\n",
       "      <td>The Mass Missile</td>\n",
       "      <td>rock</td>\n",
       "      <td>Saint-Petersburg</td>\n",
       "      <td>20:28:33</td>\n",
       "      <td>Wednesday</td>\n",
       "    </tr>\n",
       "    <tr>\n",
       "      <td>2</td>\n",
       "      <td>20EC38</td>\n",
       "      <td>Funiculì funiculà</td>\n",
       "      <td>Mario Lanza</td>\n",
       "      <td>pop</td>\n",
       "      <td>Saint-Petersburg</td>\n",
       "      <td>20:58:07</td>\n",
       "      <td>Wednesday</td>\n",
       "    </tr>\n",
       "    <tr>\n",
       "      <td>3</td>\n",
       "      <td>A3DD03C9</td>\n",
       "      <td>Dragons in the Sunset</td>\n",
       "      <td>Fire + Ice</td>\n",
       "      <td>folk</td>\n",
       "      <td>Saint-Petersburg</td>\n",
       "      <td>08:37:09</td>\n",
       "      <td>Monday</td>\n",
       "    </tr>\n",
       "    <tr>\n",
       "      <td>5</td>\n",
       "      <td>842029A1</td>\n",
       "      <td>Преданная</td>\n",
       "      <td>IMPERVTOR</td>\n",
       "      <td>rusrap</td>\n",
       "      <td>Saint-Petersburg</td>\n",
       "      <td>13:09:41</td>\n",
       "      <td>Friday</td>\n",
       "    </tr>\n",
       "    <tr>\n",
       "      <td>9</td>\n",
       "      <td>E772D5C0</td>\n",
       "      <td>Pessimist</td>\n",
       "      <td>unknown</td>\n",
       "      <td>dance</td>\n",
       "      <td>Saint-Petersburg</td>\n",
       "      <td>21:20:49</td>\n",
       "      <td>Wednesday</td>\n",
       "    </tr>\n",
       "    <tr>\n",
       "      <td>...</td>\n",
       "      <td>...</td>\n",
       "      <td>...</td>\n",
       "      <td>...</td>\n",
       "      <td>...</td>\n",
       "      <td>...</td>\n",
       "      <td>...</td>\n",
       "      <td>...</td>\n",
       "    </tr>\n",
       "    <tr>\n",
       "      <td>61239</td>\n",
       "      <td>D94F810B</td>\n",
       "      <td>Theme from the Walking Dead</td>\n",
       "      <td>Proyecto Halloween</td>\n",
       "      <td>film</td>\n",
       "      <td>Saint-Petersburg</td>\n",
       "      <td>21:14:40</td>\n",
       "      <td>Monday</td>\n",
       "    </tr>\n",
       "    <tr>\n",
       "      <td>61240</td>\n",
       "      <td>BC8EC5CF</td>\n",
       "      <td>Red Lips: Gta (Rover Rework)</td>\n",
       "      <td>Rover</td>\n",
       "      <td>electronic</td>\n",
       "      <td>Saint-Petersburg</td>\n",
       "      <td>21:06:50</td>\n",
       "      <td>Monday</td>\n",
       "    </tr>\n",
       "    <tr>\n",
       "      <td>61241</td>\n",
       "      <td>29E04611</td>\n",
       "      <td>Bre Petrunko</td>\n",
       "      <td>Perunika Trio</td>\n",
       "      <td>world</td>\n",
       "      <td>Saint-Petersburg</td>\n",
       "      <td>13:56:00</td>\n",
       "      <td>Monday</td>\n",
       "    </tr>\n",
       "    <tr>\n",
       "      <td>61242</td>\n",
       "      <td>1B91C621</td>\n",
       "      <td>(Hello) Cloud Mountain</td>\n",
       "      <td>sleepmakeswaves</td>\n",
       "      <td>postrock</td>\n",
       "      <td>Saint-Petersburg</td>\n",
       "      <td>09:22:13</td>\n",
       "      <td>Monday</td>\n",
       "    </tr>\n",
       "    <tr>\n",
       "      <td>61249</td>\n",
       "      <td>D08D4A55</td>\n",
       "      <td>Maybe One Day (feat. Black Spade)</td>\n",
       "      <td>Blu &amp; Exile</td>\n",
       "      <td>hiphop</td>\n",
       "      <td>Saint-Petersburg</td>\n",
       "      <td>10:00:00</td>\n",
       "      <td>Monday</td>\n",
       "    </tr>\n",
       "  </tbody>\n",
       "</table>\n",
       "<p>18512 rows × 7 columns</p>\n",
       "</div>"
      ],
      "text/plain": [
       "        user_id                              track              artist  \\\n",
       "0      FFB692EC                  Kamigata To Boots    The Mass Missile   \n",
       "2        20EC38                  Funiculì funiculà         Mario Lanza   \n",
       "3      A3DD03C9              Dragons in the Sunset          Fire + Ice   \n",
       "5      842029A1                          Преданная           IMPERVTOR   \n",
       "9      E772D5C0                          Pessimist             unknown   \n",
       "...         ...                                ...                 ...   \n",
       "61239  D94F810B        Theme from the Walking Dead  Proyecto Halloween   \n",
       "61240  BC8EC5CF       Red Lips: Gta (Rover Rework)               Rover   \n",
       "61241  29E04611                       Bre Petrunko       Perunika Trio   \n",
       "61242  1B91C621             (Hello) Cloud Mountain     sleepmakeswaves   \n",
       "61249  D08D4A55  Maybe One Day (feat. Black Spade)         Blu & Exile   \n",
       "\n",
       "            genre              city      time        day  \n",
       "0            rock  Saint-Petersburg  20:28:33  Wednesday  \n",
       "2             pop  Saint-Petersburg  20:58:07  Wednesday  \n",
       "3            folk  Saint-Petersburg  08:37:09     Monday  \n",
       "5          rusrap  Saint-Petersburg  13:09:41     Friday  \n",
       "9           dance  Saint-Petersburg  21:20:49  Wednesday  \n",
       "...           ...               ...       ...        ...  \n",
       "61239        film  Saint-Petersburg  21:14:40     Monday  \n",
       "61240  electronic  Saint-Petersburg  21:06:50     Monday  \n",
       "61241       world  Saint-Petersburg  13:56:00     Monday  \n",
       "61242    postrock  Saint-Petersburg  09:22:13     Monday  \n",
       "61249      hiphop  Saint-Petersburg  10:00:00     Monday  \n",
       "\n",
       "[18512 rows x 7 columns]"
      ]
     },
     "metadata": {},
     "output_type": "display_data"
    }
   ],
   "source": [
    "spb_general=df[df['city'] == 'Saint-Petersburg']# получение таблицы spb_general из тех строк таблицы df,\n",
    "# для которых значение в столбце 'city' равно 'Saint-Petersburg'\n",
    "display(spb_general)"
   ]
  },
  {
   "cell_type": "markdown",
   "metadata": {
    "id": "MEJV-CX2_Zcu"
   },
   "source": [
    "Создайте функцию `genre_weekday()` с четырьмя параметрами:\n",
    "* таблица (датафрейм) с данными,\n",
    "* день недели,\n",
    "* начальная временная метка в формате 'hh:mm', \n",
    "* последняя временная метка в формате 'hh:mm'.\n",
    "\n",
    "Функция должна вернуть информацию о топ-10 жанров тех треков, которые прослушивали в указанный день, в промежутке между двумя отметками времени."
   ]
  },
  {
   "cell_type": "code",
   "execution_count": 79,
   "metadata": {
    "id": "laJT9BYl_Zcu"
   },
   "outputs": [],
   "source": [
    "def genre_weekday(table, day, time1, time2):\n",
    "    genre_df = table[(table['day'] == day) & (table['time'] > time1) & (table['time'] < time2)]\n",
    "    genre_df_count = genre_df.groupby('genre')['genre'].count()\n",
    "    genre_df_sorted = genre_df_count.sort_values(ascending=False)\n",
    "    return genre_df_sorted.head(10)\n",
    "   \n",
    "# Объявление функции genre_weekday() с параметрами table, day, time1, time2,    \n",
    "# которая возвращает информацию о самых популярных жанрах в указанный день в\n",
    "# заданное время:\n",
    "# 1) в переменную genre_df сохраняются те строки переданного датафрейма table, для\n",
    "#    которых одновременно:\n",
    "#    - значение в столбце day равно значению аргумента day\n",
    "#    - значение в столбце time больше значения аргумента time1\n",
    "#    - значение в столбце time меньше значения аргумента time2\n",
    "#    Используйте последовательную фильтрацию с помощью логической индексации.\n",
    "# 2) сгруппировать датафрейм genre_df по столбцу genre, взять один из его\n",
    "#    столбцов и посчитать методом count() количество записей для каждого из\n",
    "#    присутствующих жанров, получившийся Series записать в переменную\n",
    "#    genre_df_count\n",
    "# 3) отсортировать genre_df_count по убыванию встречаемости и сохранить\n",
    "#    в переменную genre_df_sorted\n",
    "# 4) вернуть Series из 10 первых значений genre_df_sorted, это будут топ-10\n",
    "#    популярных жанров (в указанный день, в заданное время)"
   ]
  },
  {
   "cell_type": "markdown",
   "metadata": {
    "id": "la2s2_PF_Zcu"
   },
   "source": [
    "Cравните результаты функции `genre_weekday()` для Москвы и Санкт-Петербурга в понедельник утром (с 7:00 до 11:00) и в пятницу вечером (с 17:00 до 23:00):"
   ]
  },
  {
   "cell_type": "code",
   "execution_count": 80,
   "metadata": {
    "id": "yz7itPUQ_Zcu"
   },
   "outputs": [
    {
     "data": {
      "text/plain": [
       "genre\n",
       "pop            781\n",
       "dance          549\n",
       "electronic     480\n",
       "rock           474\n",
       "hiphop         286\n",
       "ruspop         186\n",
       "world          181\n",
       "rusrap         175\n",
       "alternative    164\n",
       "unknown        161\n",
       "Name: genre, dtype: int64"
      ]
     },
     "execution_count": 80,
     "metadata": {},
     "output_type": "execute_result"
    }
   ],
   "source": [
    "genre_weekday(moscow_general, 'Monday', '07:00', '11:00')# вызов функции для утра понедельника в Москве (вместо df — таблица moscow_general)\n",
    "# объекты, хранящие время, являются строками и сравниваются как строки\n",
    "# пример вызова: genre_weekday(moscow_general, 'Monday', '07:00', '11:00')"
   ]
  },
  {
   "cell_type": "code",
   "execution_count": 81,
   "metadata": {
    "id": "kwUcHPdy_Zcu"
   },
   "outputs": [
    {
     "data": {
      "text/plain": [
       "genre\n",
       "pop            218\n",
       "dance          182\n",
       "rock           162\n",
       "electronic     147\n",
       "hiphop          80\n",
       "ruspop          64\n",
       "alternative     58\n",
       "rusrap          55\n",
       "jazz            44\n",
       "classical       40\n",
       "Name: genre, dtype: int64"
      ]
     },
     "execution_count": 81,
     "metadata": {},
     "output_type": "execute_result"
    }
   ],
   "source": [
    "genre_weekday(spb_general, 'Monday', '07:00', '11:00')# вызов функции для утра понедельника в Петербурге (вместо df — таблица spb_general)"
   ]
  },
  {
   "cell_type": "code",
   "execution_count": 82,
   "metadata": {
    "id": "EzXVRE1o_Zcu"
   },
   "outputs": [
    {
     "data": {
      "text/plain": [
       "genre\n",
       "pop            713\n",
       "rock           517\n",
       "dance          495\n",
       "electronic     482\n",
       "hiphop         273\n",
       "world          208\n",
       "ruspop         170\n",
       "alternative    163\n",
       "classical      163\n",
       "rusrap         142\n",
       "Name: genre, dtype: int64"
      ]
     },
     "execution_count": 82,
     "metadata": {},
     "output_type": "execute_result"
    }
   ],
   "source": [
    "genre_weekday(moscow_general, 'Friday', '17:00', '23:00')# вызов функции для вечера пятницы в Москве"
   ]
  },
  {
   "cell_type": "code",
   "execution_count": 83,
   "metadata": {
    "id": "JZaEKu5v_Zcu"
   },
   "outputs": [
    {
     "data": {
      "text/plain": [
       "genre\n",
       "pop            256\n",
       "rock           216\n",
       "electronic     216\n",
       "dance          210\n",
       "hiphop          97\n",
       "alternative     63\n",
       "jazz            61\n",
       "classical       60\n",
       "rusrap          59\n",
       "world           54\n",
       "Name: genre, dtype: int64"
      ]
     },
     "execution_count": 83,
     "metadata": {},
     "output_type": "execute_result"
    }
   ],
   "source": [
    "genre_weekday(spb_general, 'Friday', '17:00', '23:00')# вызов функции для вечера пятницы в Петербурге"
   ]
  },
  {
   "cell_type": "markdown",
   "metadata": {
    "id": "wrCe4MNX_Zcu"
   },
   "source": [
    "**Выводы**\n",
    "\n",
    "Если сравнить топ-10 жанров в понедельник утром, можно сделать такие выводы:\n",
    "\n",
    "1. В Москве и Петербурге слушают похожую музыку. Единственное отличие — в московский рейтинг вошёл жанр “world”, а в петербургский — джаз и классика.\n",
    "\n",
    "2. В Москве пропущенных значений оказалось так много, что значение `'unknown'` заняло десятое место среди самых популярных жанров. Значит, пропущенные значения занимают существенную долю в данных и угрожают достоверности исследования.\n",
    "\n",
    "Вечер пятницы не меняет эту картину. Некоторые жанры поднимаются немного выше, другие спускаются, но в целом топ-10 остаётся тем же самым.\n",
    "\n",
    "Таким образом, вторая гипотеза подтвердилась лишь частично:\n",
    "* Пользователи слушают похожую музыку в начале недели и в конце.\n",
    "* Разница между Москвой и Петербургом не слишком выражена. В Москве чаще слушают русскую популярную музыку, в Петербурге — джаз.\n",
    "\n",
    "Однако пропуски в данных ставят под сомнение этот результат. В Москве их так много, что рейтинг топ-10 мог бы выглядеть иначе, если бы не утерянные  данные о жанрах."
   ]
  },
  {
   "cell_type": "markdown",
   "metadata": {
    "id": "JolODAqr_Zcu"
   },
   "source": [
    "### Жанровые предпочтения в Москве и Петербурге\n",
    "\n",
    "Гипотеза: Петербург — столица рэпа, музыку этого жанра там слушают чаще, чем в Москве.  А Москва — город контрастов, в котором, тем не менее, преобладает поп-музыка."
   ]
  },
  {
   "cell_type": "markdown",
   "metadata": {
    "id": "DlegSvaT_Zcu"
   },
   "source": [
    "Сгруппируйте таблицу `moscow_general` по жанру и посчитайте прослушивания треков каждого жанра методом `count()`. Затем отсортируйте результат в порядке убывания и сохраните его в таблице `moscow_genres`."
   ]
  },
  {
   "cell_type": "code",
   "execution_count": 84,
   "metadata": {
    "id": "r19lIPke_Zcu"
   },
   "outputs": [],
   "source": [
    "moscow_genres = moscow_general.groupby('genre')['genre'].count().sort_values(ascending=False)\n",
    "# одной строкой: группировка таблицы moscow_general по столбцу 'genre', \n",
    "# подсчёт числа значений 'genre' в этой группировке методом count(), \n",
    "# сортировка получившегося Series в порядке убывания и сохранение в moscow_genres"
   ]
  },
  {
   "cell_type": "markdown",
   "metadata": {
    "id": "6kMuomxTiIr8"
   },
   "source": [
    "Выведите на экран первые десять строк `moscow_genres`:"
   ]
  },
  {
   "cell_type": "code",
   "execution_count": 85,
   "metadata": {
    "id": "WhCSooF8_Zcv"
   },
   "outputs": [
    {
     "data": {
      "text/plain": [
       "genre\n",
       "pop            5892\n",
       "dance          4435\n",
       "rock           3965\n",
       "electronic     3786\n",
       "hiphop         2096\n",
       "classical      1616\n",
       "world          1432\n",
       "alternative    1379\n",
       "ruspop         1372\n",
       "rusrap         1161\n",
       "Name: genre, dtype: int64"
      ]
     },
     "execution_count": 85,
     "metadata": {},
     "output_type": "execute_result"
    }
   ],
   "source": [
    "moscow_genres.head(10) # просмотр первых 10 строк moscow_genres"
   ]
  },
  {
   "cell_type": "code",
   "execution_count": 86,
   "metadata": {},
   "outputs": [
    {
     "data": {
      "text/html": [
       "<div>\n",
       "<style scoped>\n",
       "    .dataframe tbody tr th:only-of-type {\n",
       "        vertical-align: middle;\n",
       "    }\n",
       "\n",
       "    .dataframe tbody tr th {\n",
       "        vertical-align: top;\n",
       "    }\n",
       "\n",
       "    .dataframe thead th {\n",
       "        text-align: right;\n",
       "    }\n",
       "</style>\n",
       "<table border=\"1\" class=\"dataframe\">\n",
       "  <thead>\n",
       "    <tr style=\"text-align: right;\">\n",
       "      <th></th>\n",
       "      <th>genre</th>\n",
       "    </tr>\n",
       "    <tr>\n",
       "      <th>genre</th>\n",
       "      <th></th>\n",
       "    </tr>\n",
       "  </thead>\n",
       "  <tbody>\n",
       "    <tr>\n",
       "      <td>pop</td>\n",
       "      <td>5892</td>\n",
       "    </tr>\n",
       "    <tr>\n",
       "      <td>dance</td>\n",
       "      <td>4435</td>\n",
       "    </tr>\n",
       "    <tr>\n",
       "      <td>rock</td>\n",
       "      <td>3965</td>\n",
       "    </tr>\n",
       "    <tr>\n",
       "      <td>electronic</td>\n",
       "      <td>3786</td>\n",
       "    </tr>\n",
       "    <tr>\n",
       "      <td>hiphop</td>\n",
       "      <td>2096</td>\n",
       "    </tr>\n",
       "    <tr>\n",
       "      <td>classical</td>\n",
       "      <td>1616</td>\n",
       "    </tr>\n",
       "    <tr>\n",
       "      <td>world</td>\n",
       "      <td>1432</td>\n",
       "    </tr>\n",
       "    <tr>\n",
       "      <td>alternative</td>\n",
       "      <td>1379</td>\n",
       "    </tr>\n",
       "    <tr>\n",
       "      <td>ruspop</td>\n",
       "      <td>1372</td>\n",
       "    </tr>\n",
       "    <tr>\n",
       "      <td>rusrap</td>\n",
       "      <td>1161</td>\n",
       "    </tr>\n",
       "  </tbody>\n",
       "</table>\n",
       "</div>"
      ],
      "text/plain": [
       "             genre\n",
       "genre             \n",
       "pop           5892\n",
       "dance         4435\n",
       "rock          3965\n",
       "electronic    3786\n",
       "hiphop        2096\n",
       "classical     1616\n",
       "world         1432\n",
       "alternative   1379\n",
       "ruspop        1372\n",
       "rusrap        1161"
      ]
     },
     "execution_count": 86,
     "metadata": {},
     "output_type": "execute_result"
    }
   ],
   "source": [
    "moscow_genres.to_frame().head(10)"
   ]
  },
  {
   "cell_type": "markdown",
   "metadata": {
    "id": "cnPG2vnN_Zcv"
   },
   "source": [
    "Теперь повторите то же и для Петербурга.\n",
    "\n",
    "Сгруппируйте таблицу `spb_general` по жанру. Посчитайте прослушивания треков каждого жанра. Результат отсортируйте в порядке убывания и сохраните в таблице `spb_genres`:\n"
   ]
  },
  {
   "cell_type": "code",
   "execution_count": 87,
   "metadata": {
    "id": "gluLIpE7_Zcv"
   },
   "outputs": [],
   "source": [
    "spb_genres = spb_general.groupby('genre')['genre'].count().sort_values(ascending=False)\n",
    "# одной строкой: группировка таблицы spb_general по столбцу 'genre', \n",
    "# подсчёт числа значений 'genre' в этой группировке методом count(), \n",
    "# сортировка получившегося Series в порядке убывания и сохранение в spb_genres"
   ]
  },
  {
   "cell_type": "markdown",
   "metadata": {
    "id": "5Doha_ODgyQ8"
   },
   "source": [
    "Выведите на экран первые десять строк `spb_genres`:"
   ]
  },
  {
   "cell_type": "code",
   "execution_count": 88,
   "metadata": {
    "id": "uaGJHjVU_Zcv"
   },
   "outputs": [
    {
     "data": {
      "text/html": [
       "<div>\n",
       "<style scoped>\n",
       "    .dataframe tbody tr th:only-of-type {\n",
       "        vertical-align: middle;\n",
       "    }\n",
       "\n",
       "    .dataframe tbody tr th {\n",
       "        vertical-align: top;\n",
       "    }\n",
       "\n",
       "    .dataframe thead th {\n",
       "        text-align: right;\n",
       "    }\n",
       "</style>\n",
       "<table border=\"1\" class=\"dataframe\">\n",
       "  <thead>\n",
       "    <tr style=\"text-align: right;\">\n",
       "      <th></th>\n",
       "      <th>genre</th>\n",
       "    </tr>\n",
       "    <tr>\n",
       "      <th>genre</th>\n",
       "      <th></th>\n",
       "    </tr>\n",
       "  </thead>\n",
       "  <tbody>\n",
       "    <tr>\n",
       "      <td>pop</td>\n",
       "      <td>2431</td>\n",
       "    </tr>\n",
       "    <tr>\n",
       "      <td>dance</td>\n",
       "      <td>1932</td>\n",
       "    </tr>\n",
       "    <tr>\n",
       "      <td>rock</td>\n",
       "      <td>1879</td>\n",
       "    </tr>\n",
       "    <tr>\n",
       "      <td>electronic</td>\n",
       "      <td>1736</td>\n",
       "    </tr>\n",
       "    <tr>\n",
       "      <td>hiphop</td>\n",
       "      <td>960</td>\n",
       "    </tr>\n",
       "    <tr>\n",
       "      <td>alternative</td>\n",
       "      <td>649</td>\n",
       "    </tr>\n",
       "    <tr>\n",
       "      <td>classical</td>\n",
       "      <td>646</td>\n",
       "    </tr>\n",
       "    <tr>\n",
       "      <td>rusrap</td>\n",
       "      <td>564</td>\n",
       "    </tr>\n",
       "    <tr>\n",
       "      <td>ruspop</td>\n",
       "      <td>538</td>\n",
       "    </tr>\n",
       "    <tr>\n",
       "      <td>world</td>\n",
       "      <td>515</td>\n",
       "    </tr>\n",
       "  </tbody>\n",
       "</table>\n",
       "</div>"
      ],
      "text/plain": [
       "             genre\n",
       "genre             \n",
       "pop           2431\n",
       "dance         1932\n",
       "rock          1879\n",
       "electronic    1736\n",
       "hiphop         960\n",
       "alternative    649\n",
       "classical      646\n",
       "rusrap         564\n",
       "ruspop         538\n",
       "world          515"
      ]
     },
     "execution_count": 88,
     "metadata": {},
     "output_type": "execute_result"
    }
   ],
   "source": [
    "spb_genres.to_frame().head(10) # просмотр первых 10 строк spb_genres"
   ]
  },
  {
   "cell_type": "markdown",
   "metadata": {
    "id": "RY51YJYu_Zcv"
   },
   "source": [
    "**Выводы**"
   ]
  },
  {
   "cell_type": "markdown",
   "metadata": {
    "id": "nVhnJEm__Zcv"
   },
   "source": [
    "Гипотеза частично подтвердилась:\n",
    "* Поп-музыка — самый популярный жанр в Москве, как и предполагала гипотеза. Более того, в топ-10 жанров встречается близкий жанр — русская популярная музыка.\n",
    "* Вопреки ожиданиям, рэп одинаково популярен в Москве и Петербурге. \n"
   ]
  },
  {
   "cell_type": "markdown",
   "metadata": {
    "id": "ykKQ0N65_Zcv"
   },
   "source": [
    "## Итоги исследования"
   ]
  },
  {
   "cell_type": "markdown",
   "metadata": {
    "id": "tjUwbHb3_Zcv"
   },
   "source": [
    "Вы проверили три гипотезы и установили:\n",
    "\n",
    "1. День недели по-разному влияет на активность пользователей в Москве и Петербурге. \n",
    "\n",
    "Первая гипотеза полностью подтвердилась.\n",
    "\n",
    "2. Музыкальные предпочтения не сильно меняются в течение недели — будь то Москва или Петербург. Небольшие различия заметны в начале недели, по понедельникам:\n",
    "* в Москве слушают музыку жанра “world”,\n",
    "* в Петербурге — джаз и классику.\n",
    "\n",
    "Таким образом, вторая гипотеза подтвердилась лишь отчасти. Этот результат мог оказаться иным, если бы не пропуски в данных.\n",
    "\n",
    "3. Во вкусах пользователей Москвы и Петербурга больше общего чем различий. Вопреки ожиданиям, предпочтения жанров в Петербурге напоминают московские.\n",
    "\n",
    "Третья гипотеза не подтвердилась. Если различия в предпочтениях и существуют, на основной массе пользователей они незаметны.\n",
    "\n",
    "**На практике исследования содержат проверки статистических гипотез.**\n",
    "Из данных одного сервиса не всегда можно сделать вывод о всех жителях города.\n",
    "Проверки статистических гипотез покажут, насколько они достоверны, исходя из имеющихся данных. \n",
    "С методами проверок гипотез вы ещё познакомитесь в следующих темах."
   ]
  },
  {
   "cell_type": "code",
   "execution_count": null,
   "metadata": {},
   "outputs": [],
   "source": []
  }
 ],
 "metadata": {
  "ExecuteTimeLog": [
   {
    "duration": 648,
    "start_time": "2021-10-20T06:53:21.063Z"
   },
   {
    "duration": 2700,
    "start_time": "2021-10-20T06:56:05.600Z"
   },
   {
    "duration": 2612,
    "start_time": "2021-10-20T06:56:39.384Z"
   },
   {
    "duration": 2597,
    "start_time": "2021-10-20T06:57:12.246Z"
   },
   {
    "duration": 2452,
    "start_time": "2021-10-20T07:19:14.384Z"
   },
   {
    "duration": 384,
    "start_time": "2021-10-20T07:19:52.774Z"
   },
   {
    "duration": 831,
    "start_time": "2021-10-20T07:20:14.272Z"
   },
   {
    "duration": 935,
    "start_time": "2021-10-20T07:21:02.953Z"
   },
   {
    "duration": 17,
    "start_time": "2021-10-20T07:23:48.154Z"
   },
   {
    "duration": 3,
    "start_time": "2021-10-20T07:52:40.756Z"
   },
   {
    "duration": 675,
    "start_time": "2021-10-20T07:52:43.570Z"
   },
   {
    "duration": 10,
    "start_time": "2021-10-20T07:52:46.956Z"
   },
   {
    "duration": 327,
    "start_time": "2021-10-20T07:53:37.689Z"
   },
   {
    "duration": 4,
    "start_time": "2021-10-20T07:53:47.433Z"
   },
   {
    "duration": 383,
    "start_time": "2021-10-20T08:55:51.121Z"
   },
   {
    "duration": 580,
    "start_time": "2021-10-20T08:56:21.811Z"
   },
   {
    "duration": 669,
    "start_time": "2021-10-20T08:56:22.393Z"
   },
   {
    "duration": 16,
    "start_time": "2021-10-20T08:56:23.065Z"
   },
   {
    "duration": 17,
    "start_time": "2021-10-20T08:56:23.083Z"
   },
   {
    "duration": 6,
    "start_time": "2021-10-20T08:56:23.102Z"
   },
   {
    "duration": 5,
    "start_time": "2021-10-20T08:56:23.110Z"
   },
   {
    "duration": 6,
    "start_time": "2021-10-20T08:56:23.116Z"
   },
   {
    "duration": 8,
    "start_time": "2021-10-20T08:56:23.124Z"
   },
   {
    "duration": 13,
    "start_time": "2021-10-20T08:56:23.134Z"
   },
   {
    "duration": 8,
    "start_time": "2021-10-20T08:56:23.148Z"
   },
   {
    "duration": 5,
    "start_time": "2021-10-20T08:56:23.157Z"
   },
   {
    "duration": 6,
    "start_time": "2021-10-20T08:56:23.163Z"
   },
   {
    "duration": 42,
    "start_time": "2021-10-20T08:56:23.170Z"
   },
   {
    "duration": 4,
    "start_time": "2021-10-20T08:56:23.214Z"
   },
   {
    "duration": 7,
    "start_time": "2021-10-20T08:56:23.220Z"
   },
   {
    "duration": 5,
    "start_time": "2021-10-20T08:56:23.229Z"
   },
   {
    "duration": 6,
    "start_time": "2021-10-20T08:56:23.235Z"
   },
   {
    "duration": 8,
    "start_time": "2021-10-20T08:56:23.242Z"
   },
   {
    "duration": 5,
    "start_time": "2021-10-20T08:56:23.251Z"
   },
   {
    "duration": 6,
    "start_time": "2021-10-20T08:56:23.257Z"
   },
   {
    "duration": 7,
    "start_time": "2021-10-20T08:56:23.265Z"
   },
   {
    "duration": 7,
    "start_time": "2021-10-20T08:56:23.274Z"
   },
   {
    "duration": 12,
    "start_time": "2021-10-20T08:56:23.284Z"
   },
   {
    "duration": 7,
    "start_time": "2021-10-20T08:56:23.298Z"
   },
   {
    "duration": 4,
    "start_time": "2021-10-20T08:56:23.306Z"
   },
   {
    "duration": 5,
    "start_time": "2021-10-20T08:56:23.312Z"
   },
   {
    "duration": 4,
    "start_time": "2021-10-20T08:56:23.319Z"
   },
   {
    "duration": 6,
    "start_time": "2021-10-20T08:56:23.324Z"
   },
   {
    "duration": 4,
    "start_time": "2021-10-20T08:56:23.332Z"
   },
   {
    "duration": 4,
    "start_time": "2021-10-20T08:56:23.337Z"
   },
   {
    "duration": 7,
    "start_time": "2021-10-20T08:56:23.343Z"
   },
   {
    "duration": 4,
    "start_time": "2021-10-20T08:56:23.351Z"
   },
   {
    "duration": 6,
    "start_time": "2021-10-20T08:56:23.357Z"
   },
   {
    "duration": 5,
    "start_time": "2021-10-20T08:56:23.365Z"
   },
   {
    "duration": 4,
    "start_time": "2021-10-20T08:56:23.372Z"
   },
   {
    "duration": 5,
    "start_time": "2021-10-20T08:56:23.378Z"
   },
   {
    "duration": 4,
    "start_time": "2021-10-20T08:56:23.384Z"
   },
   {
    "duration": 6,
    "start_time": "2021-10-20T08:56:23.389Z"
   },
   {
    "duration": 19,
    "start_time": "2021-10-20T09:08:00.449Z"
   },
   {
    "duration": 4,
    "start_time": "2021-10-20T09:08:12.224Z"
   },
   {
    "duration": 21,
    "start_time": "2021-10-20T09:12:29.545Z"
   },
   {
    "duration": 20,
    "start_time": "2021-10-20T09:12:58.076Z"
   },
   {
    "duration": 19,
    "start_time": "2021-10-20T09:47:55.042Z"
   },
   {
    "duration": 21,
    "start_time": "2021-10-20T09:48:16.894Z"
   },
   {
    "duration": 321,
    "start_time": "2021-10-20T11:56:45.390Z"
   },
   {
    "duration": 769,
    "start_time": "2021-10-20T11:56:57.958Z"
   },
   {
    "duration": 895,
    "start_time": "2021-10-20T11:56:58.729Z"
   },
   {
    "duration": 27,
    "start_time": "2021-10-20T11:56:59.628Z"
   },
   {
    "duration": 44,
    "start_time": "2021-10-20T11:56:59.658Z"
   },
   {
    "duration": 11,
    "start_time": "2021-10-20T11:56:59.705Z"
   },
   {
    "duration": 33,
    "start_time": "2021-10-20T11:56:59.719Z"
   },
   {
    "duration": 5,
    "start_time": "2021-10-20T11:56:59.755Z"
   },
   {
    "duration": 32,
    "start_time": "2021-10-20T11:56:59.764Z"
   },
   {
    "duration": 315,
    "start_time": "2021-10-20T11:56:59.800Z"
   },
   {
    "duration": -2537,
    "start_time": "2021-10-20T11:57:02.655Z"
   },
   {
    "duration": -2542,
    "start_time": "2021-10-20T11:57:02.662Z"
   },
   {
    "duration": -2546,
    "start_time": "2021-10-20T11:57:02.667Z"
   },
   {
    "duration": -2550,
    "start_time": "2021-10-20T11:57:02.673Z"
   },
   {
    "duration": -2553,
    "start_time": "2021-10-20T11:57:02.678Z"
   },
   {
    "duration": -2556,
    "start_time": "2021-10-20T11:57:02.683Z"
   },
   {
    "duration": -2561,
    "start_time": "2021-10-20T11:57:02.689Z"
   },
   {
    "duration": -2563,
    "start_time": "2021-10-20T11:57:02.693Z"
   },
   {
    "duration": -2566,
    "start_time": "2021-10-20T11:57:02.697Z"
   },
   {
    "duration": -2568,
    "start_time": "2021-10-20T11:57:02.701Z"
   },
   {
    "duration": -2570,
    "start_time": "2021-10-20T11:57:02.704Z"
   },
   {
    "duration": -2572,
    "start_time": "2021-10-20T11:57:02.708Z"
   },
   {
    "duration": -2575,
    "start_time": "2021-10-20T11:57:02.712Z"
   },
   {
    "duration": -2577,
    "start_time": "2021-10-20T11:57:02.716Z"
   },
   {
    "duration": -2579,
    "start_time": "2021-10-20T11:57:02.720Z"
   },
   {
    "duration": -2580,
    "start_time": "2021-10-20T11:57:02.723Z"
   },
   {
    "duration": -2581,
    "start_time": "2021-10-20T11:57:02.726Z"
   },
   {
    "duration": -2581,
    "start_time": "2021-10-20T11:57:02.729Z"
   },
   {
    "duration": -2584,
    "start_time": "2021-10-20T11:57:02.733Z"
   },
   {
    "duration": -2590,
    "start_time": "2021-10-20T11:57:02.742Z"
   },
   {
    "duration": -2592,
    "start_time": "2021-10-20T11:57:02.745Z"
   },
   {
    "duration": -2594,
    "start_time": "2021-10-20T11:57:02.749Z"
   },
   {
    "duration": -2596,
    "start_time": "2021-10-20T11:57:02.753Z"
   },
   {
    "duration": -2589,
    "start_time": "2021-10-20T11:57:02.757Z"
   },
   {
    "duration": -2591,
    "start_time": "2021-10-20T11:57:02.760Z"
   },
   {
    "duration": -2592,
    "start_time": "2021-10-20T11:57:02.763Z"
   },
   {
    "duration": -2593,
    "start_time": "2021-10-20T11:57:02.767Z"
   },
   {
    "duration": -2594,
    "start_time": "2021-10-20T11:57:02.770Z"
   },
   {
    "duration": -2596,
    "start_time": "2021-10-20T11:57:02.773Z"
   },
   {
    "duration": 263,
    "start_time": "2021-10-20T11:57:25.583Z"
   },
   {
    "duration": 24,
    "start_time": "2021-10-20T12:02:25.933Z"
   },
   {
    "duration": 30,
    "start_time": "2021-10-20T12:02:30.604Z"
   },
   {
    "duration": 90,
    "start_time": "2021-10-20T12:06:32.812Z"
   },
   {
    "duration": 117,
    "start_time": "2021-10-20T12:08:38.767Z"
   },
   {
    "duration": 81,
    "start_time": "2021-10-20T12:09:22.360Z"
   },
   {
    "duration": 96,
    "start_time": "2021-10-20T12:15:08.663Z"
   },
   {
    "duration": 79,
    "start_time": "2021-10-20T12:15:12.175Z"
   },
   {
    "duration": 10,
    "start_time": "2021-10-20T12:19:20.713Z"
   },
   {
    "duration": 82,
    "start_time": "2021-10-20T12:23:15.441Z"
   },
   {
    "duration": 322,
    "start_time": "2021-10-20T12:23:54.061Z"
   },
   {
    "duration": 8085,
    "start_time": "2021-10-20T12:24:09.385Z"
   },
   {
    "duration": 562,
    "start_time": "2021-10-20T12:25:28.228Z"
   },
   {
    "duration": 86,
    "start_time": "2021-10-20T12:26:56.796Z"
   },
   {
    "duration": 75,
    "start_time": "2021-10-20T12:29:40.141Z"
   },
   {
    "duration": 76,
    "start_time": "2021-10-20T12:30:53.005Z"
   },
   {
    "duration": 3,
    "start_time": "2021-10-20T12:30:57.013Z"
   },
   {
    "duration": 888,
    "start_time": "2021-10-20T12:30:57.020Z"
   },
   {
    "duration": 17,
    "start_time": "2021-10-20T12:30:57.912Z"
   },
   {
    "duration": 54,
    "start_time": "2021-10-20T12:30:57.932Z"
   },
   {
    "duration": 8,
    "start_time": "2021-10-20T12:30:57.989Z"
   },
   {
    "duration": 28,
    "start_time": "2021-10-20T12:30:57.999Z"
   },
   {
    "duration": 6,
    "start_time": "2021-10-20T12:30:58.030Z"
   },
   {
    "duration": 50,
    "start_time": "2021-10-20T12:30:58.039Z"
   },
   {
    "duration": 27,
    "start_time": "2021-10-20T12:30:58.092Z"
   },
   {
    "duration": 48,
    "start_time": "2021-10-20T12:30:58.121Z"
   },
   {
    "duration": 107,
    "start_time": "2021-10-20T12:30:58.171Z"
   },
   {
    "duration": 110,
    "start_time": "2021-10-20T12:30:58.280Z"
   },
   {
    "duration": 86,
    "start_time": "2021-10-20T12:30:58.392Z"
   },
   {
    "duration": 88,
    "start_time": "2021-10-20T12:30:58.480Z"
   },
   {
    "duration": 3,
    "start_time": "2021-10-20T12:30:58.570Z"
   },
   {
    "duration": 5,
    "start_time": "2021-10-20T12:30:58.576Z"
   },
   {
    "duration": 7,
    "start_time": "2021-10-20T12:30:58.584Z"
   },
   {
    "duration": 10,
    "start_time": "2021-10-20T12:30:58.593Z"
   },
   {
    "duration": 3,
    "start_time": "2021-10-20T12:30:58.608Z"
   },
   {
    "duration": 7,
    "start_time": "2021-10-20T12:30:58.614Z"
   },
   {
    "duration": 5,
    "start_time": "2021-10-20T12:30:58.624Z"
   },
   {
    "duration": 39,
    "start_time": "2021-10-20T12:30:58.631Z"
   },
   {
    "duration": 7,
    "start_time": "2021-10-20T12:30:58.673Z"
   },
   {
    "duration": 10,
    "start_time": "2021-10-20T12:30:58.682Z"
   },
   {
    "duration": 6,
    "start_time": "2021-10-20T12:30:58.695Z"
   },
   {
    "duration": 7,
    "start_time": "2021-10-20T12:30:58.703Z"
   },
   {
    "duration": 11,
    "start_time": "2021-10-20T12:30:58.713Z"
   },
   {
    "duration": 5,
    "start_time": "2021-10-20T12:30:58.727Z"
   },
   {
    "duration": 33,
    "start_time": "2021-10-20T12:30:58.734Z"
   },
   {
    "duration": 4,
    "start_time": "2021-10-20T12:30:58.770Z"
   },
   {
    "duration": 7,
    "start_time": "2021-10-20T12:30:58.778Z"
   },
   {
    "duration": 6,
    "start_time": "2021-10-20T12:30:58.788Z"
   },
   {
    "duration": 9,
    "start_time": "2021-10-20T12:30:58.796Z"
   },
   {
    "duration": 5,
    "start_time": "2021-10-20T12:30:58.808Z"
   },
   {
    "duration": 5,
    "start_time": "2021-10-20T12:30:58.816Z"
   },
   {
    "duration": 44,
    "start_time": "2021-10-20T12:30:58.823Z"
   },
   {
    "duration": 7,
    "start_time": "2021-10-20T12:30:58.870Z"
   },
   {
    "duration": 8,
    "start_time": "2021-10-20T12:30:58.879Z"
   },
   {
    "duration": 368,
    "start_time": "2021-10-20T12:31:35.420Z"
   },
   {
    "duration": 78,
    "start_time": "2021-10-20T12:32:43.223Z"
   },
   {
    "duration": 77,
    "start_time": "2021-10-20T12:40:01.423Z"
   },
   {
    "duration": 4031,
    "start_time": "2021-10-20T12:55:40.724Z"
   },
   {
    "duration": 3,
    "start_time": "2021-10-20T12:55:56.671Z"
   },
   {
    "duration": 60,
    "start_time": "2021-10-20T13:53:19.988Z"
   },
   {
    "duration": 60,
    "start_time": "2021-10-20T13:54:39.796Z"
   },
   {
    "duration": 3,
    "start_time": "2021-10-20T13:55:18.212Z"
   },
   {
    "duration": 898,
    "start_time": "2021-10-20T13:55:18.218Z"
   },
   {
    "duration": 16,
    "start_time": "2021-10-20T13:55:19.120Z"
   },
   {
    "duration": 55,
    "start_time": "2021-10-20T13:55:19.139Z"
   },
   {
    "duration": 9,
    "start_time": "2021-10-20T13:55:19.196Z"
   },
   {
    "duration": 24,
    "start_time": "2021-10-20T13:55:19.207Z"
   },
   {
    "duration": 5,
    "start_time": "2021-10-20T13:55:19.234Z"
   },
   {
    "duration": 33,
    "start_time": "2021-10-20T13:55:19.242Z"
   },
   {
    "duration": 22,
    "start_time": "2021-10-20T13:55:19.278Z"
   },
   {
    "duration": 29,
    "start_time": "2021-10-20T13:55:19.303Z"
   },
   {
    "duration": 114,
    "start_time": "2021-10-20T13:55:19.335Z"
   },
   {
    "duration": 121,
    "start_time": "2021-10-20T13:55:19.452Z"
   },
   {
    "duration": 79,
    "start_time": "2021-10-20T13:55:19.575Z"
   },
   {
    "duration": 65,
    "start_time": "2021-10-20T13:55:19.667Z"
   },
   {
    "duration": 4,
    "start_time": "2021-10-20T13:55:19.735Z"
   },
   {
    "duration": 27,
    "start_time": "2021-10-20T13:55:19.741Z"
   },
   {
    "duration": 12,
    "start_time": "2021-10-20T13:55:19.771Z"
   },
   {
    "duration": 15,
    "start_time": "2021-10-20T13:55:19.785Z"
   },
   {
    "duration": 9,
    "start_time": "2021-10-20T13:55:19.805Z"
   },
   {
    "duration": 8,
    "start_time": "2021-10-20T13:55:19.818Z"
   },
   {
    "duration": 8,
    "start_time": "2021-10-20T13:55:19.828Z"
   },
   {
    "duration": 10,
    "start_time": "2021-10-20T13:55:19.838Z"
   },
   {
    "duration": 20,
    "start_time": "2021-10-20T13:55:19.850Z"
   },
   {
    "duration": 8,
    "start_time": "2021-10-20T13:55:19.873Z"
   },
   {
    "duration": 8,
    "start_time": "2021-10-20T13:55:19.884Z"
   },
   {
    "duration": 7,
    "start_time": "2021-10-20T13:55:19.894Z"
   },
   {
    "duration": 6,
    "start_time": "2021-10-20T13:55:19.903Z"
   },
   {
    "duration": 6,
    "start_time": "2021-10-20T13:55:19.912Z"
   },
   {
    "duration": 7,
    "start_time": "2021-10-20T13:55:19.920Z"
   },
   {
    "duration": 7,
    "start_time": "2021-10-20T13:55:19.929Z"
   },
   {
    "duration": 30,
    "start_time": "2021-10-20T13:55:19.938Z"
   },
   {
    "duration": 12,
    "start_time": "2021-10-20T13:55:19.971Z"
   },
   {
    "duration": 13,
    "start_time": "2021-10-20T13:55:19.986Z"
   },
   {
    "duration": 8,
    "start_time": "2021-10-20T13:55:20.001Z"
   },
   {
    "duration": 10,
    "start_time": "2021-10-20T13:55:20.012Z"
   },
   {
    "duration": 13,
    "start_time": "2021-10-20T13:55:20.025Z"
   },
   {
    "duration": 9,
    "start_time": "2021-10-20T13:55:20.040Z"
   },
   {
    "duration": 14,
    "start_time": "2021-10-20T13:55:20.052Z"
   },
   {
    "duration": 4,
    "start_time": "2021-10-20T14:09:52.888Z"
   },
   {
    "duration": 3484,
    "start_time": "2021-10-20T14:11:12.057Z"
   },
   {
    "duration": 3556,
    "start_time": "2021-10-20T14:11:38.533Z"
   },
   {
    "duration": 5,
    "start_time": "2021-10-20T14:39:32.254Z"
   },
   {
    "duration": 15,
    "start_time": "2021-10-20T14:39:41.619Z"
   },
   {
    "duration": 15,
    "start_time": "2021-10-20T14:40:01.359Z"
   },
   {
    "duration": 60,
    "start_time": "2021-10-20T14:40:44.711Z"
   },
   {
    "duration": 4,
    "start_time": "2021-10-20T14:41:16.251Z"
   },
   {
    "duration": 15,
    "start_time": "2021-10-20T14:41:19.736Z"
   },
   {
    "duration": 3,
    "start_time": "2021-10-20T14:44:11.436Z"
   },
   {
    "duration": 897,
    "start_time": "2021-10-20T14:44:11.442Z"
   },
   {
    "duration": 16,
    "start_time": "2021-10-20T14:44:12.343Z"
   },
   {
    "duration": 53,
    "start_time": "2021-10-20T14:44:12.362Z"
   },
   {
    "duration": 7,
    "start_time": "2021-10-20T14:44:12.417Z"
   },
   {
    "duration": 17,
    "start_time": "2021-10-20T14:44:12.426Z"
   },
   {
    "duration": 6,
    "start_time": "2021-10-20T14:44:12.447Z"
   },
   {
    "duration": 33,
    "start_time": "2021-10-20T14:44:12.456Z"
   },
   {
    "duration": 24,
    "start_time": "2021-10-20T14:44:12.491Z"
   },
   {
    "duration": 30,
    "start_time": "2021-10-20T14:44:12.518Z"
   },
   {
    "duration": 99,
    "start_time": "2021-10-20T14:44:12.568Z"
   },
   {
    "duration": 105,
    "start_time": "2021-10-20T14:44:12.670Z"
   },
   {
    "duration": 77,
    "start_time": "2021-10-20T14:44:12.777Z"
   },
   {
    "duration": 59,
    "start_time": "2021-10-20T14:44:12.868Z"
   },
   {
    "duration": 4,
    "start_time": "2021-10-20T14:44:12.930Z"
   },
   {
    "duration": 40,
    "start_time": "2021-10-20T14:44:12.937Z"
   },
   {
    "duration": 57,
    "start_time": "2021-10-20T14:44:12.980Z"
   },
   {
    "duration": 2,
    "start_time": "2021-10-20T14:44:13.040Z"
   },
   {
    "duration": 3,
    "start_time": "2021-10-20T14:44:13.069Z"
   },
   {
    "duration": 4,
    "start_time": "2021-10-20T14:44:13.076Z"
   },
   {
    "duration": 10,
    "start_time": "2021-10-20T14:44:13.083Z"
   },
   {
    "duration": 5,
    "start_time": "2021-10-20T14:44:13.096Z"
   },
   {
    "duration": 5,
    "start_time": "2021-10-20T14:44:13.104Z"
   },
   {
    "duration": 5,
    "start_time": "2021-10-20T14:44:13.112Z"
   },
   {
    "duration": 4,
    "start_time": "2021-10-20T14:44:13.168Z"
   },
   {
    "duration": 9,
    "start_time": "2021-10-20T14:44:13.175Z"
   },
   {
    "duration": 7,
    "start_time": "2021-10-20T14:44:13.186Z"
   },
   {
    "duration": 6,
    "start_time": "2021-10-20T14:44:13.195Z"
   },
   {
    "duration": 5,
    "start_time": "2021-10-20T14:44:13.203Z"
   },
   {
    "duration": 4,
    "start_time": "2021-10-20T14:44:13.211Z"
   },
   {
    "duration": 49,
    "start_time": "2021-10-20T14:44:13.218Z"
   },
   {
    "duration": 10,
    "start_time": "2021-10-20T14:44:13.270Z"
   },
   {
    "duration": 15,
    "start_time": "2021-10-20T14:44:13.282Z"
   },
   {
    "duration": 7,
    "start_time": "2021-10-20T14:44:13.299Z"
   },
   {
    "duration": 6,
    "start_time": "2021-10-20T14:44:13.308Z"
   },
   {
    "duration": 7,
    "start_time": "2021-10-20T14:44:13.316Z"
   },
   {
    "duration": 6,
    "start_time": "2021-10-20T14:44:13.326Z"
   },
   {
    "duration": 4,
    "start_time": "2021-10-20T14:44:13.335Z"
   },
   {
    "duration": 46,
    "start_time": "2021-10-20T15:06:41.241Z"
   },
   {
    "duration": 8046,
    "start_time": "2021-10-20T15:06:59.669Z"
   },
   {
    "duration": 42,
    "start_time": "2021-10-20T15:07:23.716Z"
   },
   {
    "duration": 47,
    "start_time": "2021-10-20T15:09:24.479Z"
   },
   {
    "duration": 4,
    "start_time": "2021-10-20T16:12:57.312Z"
   },
   {
    "duration": 6,
    "start_time": "2021-10-20T16:14:49.945Z"
   },
   {
    "duration": 22,
    "start_time": "2021-10-20T16:14:51.231Z"
   },
   {
    "duration": 19,
    "start_time": "2021-10-20T16:14:52.433Z"
   },
   {
    "duration": 20,
    "start_time": "2021-10-20T16:47:10.415Z"
   },
   {
    "duration": 19,
    "start_time": "2021-10-20T16:47:11.473Z"
   },
   {
    "duration": 22,
    "start_time": "2021-10-20T16:47:12.395Z"
   },
   {
    "duration": 20,
    "start_time": "2021-10-20T16:47:13.187Z"
   },
   {
    "duration": 223,
    "start_time": "2021-10-20T17:00:24.373Z"
   },
   {
    "duration": 4,
    "start_time": "2021-10-20T17:04:45.839Z"
   },
   {
    "duration": 13,
    "start_time": "2021-10-20T17:11:05.169Z"
   },
   {
    "duration": 367,
    "start_time": "2021-10-21T06:33:02.600Z"
   },
   {
    "duration": 690,
    "start_time": "2021-10-21T06:33:49.201Z"
   },
   {
    "duration": 765,
    "start_time": "2021-10-21T06:33:49.893Z"
   },
   {
    "duration": 20,
    "start_time": "2021-10-21T06:33:50.661Z"
   },
   {
    "duration": 36,
    "start_time": "2021-10-21T06:33:50.684Z"
   },
   {
    "duration": 12,
    "start_time": "2021-10-21T06:33:50.722Z"
   },
   {
    "duration": 27,
    "start_time": "2021-10-21T06:33:50.736Z"
   },
   {
    "duration": 8,
    "start_time": "2021-10-21T06:33:50.765Z"
   },
   {
    "duration": 30,
    "start_time": "2021-10-21T06:33:50.776Z"
   },
   {
    "duration": 19,
    "start_time": "2021-10-21T06:33:50.808Z"
   },
   {
    "duration": 38,
    "start_time": "2021-10-21T06:33:50.829Z"
   },
   {
    "duration": 68,
    "start_time": "2021-10-21T06:33:50.869Z"
   },
   {
    "duration": 97,
    "start_time": "2021-10-21T06:33:50.939Z"
   },
   {
    "duration": 67,
    "start_time": "2021-10-21T06:33:51.038Z"
   },
   {
    "duration": 43,
    "start_time": "2021-10-21T06:33:51.107Z"
   },
   {
    "duration": 11,
    "start_time": "2021-10-21T06:33:51.152Z"
   },
   {
    "duration": 12,
    "start_time": "2021-10-21T06:33:51.166Z"
   },
   {
    "duration": 40,
    "start_time": "2021-10-21T06:33:51.180Z"
   },
   {
    "duration": 58,
    "start_time": "2021-10-21T06:33:51.222Z"
   },
   {
    "duration": 33,
    "start_time": "2021-10-21T06:33:51.282Z"
   },
   {
    "duration": 4,
    "start_time": "2021-10-21T06:33:51.317Z"
   },
   {
    "duration": 43,
    "start_time": "2021-10-21T06:33:51.322Z"
   },
   {
    "duration": 19,
    "start_time": "2021-10-21T06:33:51.367Z"
   },
   {
    "duration": 17,
    "start_time": "2021-10-21T06:33:51.391Z"
   },
   {
    "duration": 17,
    "start_time": "2021-10-21T06:33:51.411Z"
   },
   {
    "duration": 48,
    "start_time": "2021-10-21T06:33:51.430Z"
   },
   {
    "duration": 17,
    "start_time": "2021-10-21T06:33:51.480Z"
   },
   {
    "duration": 9,
    "start_time": "2021-10-21T06:33:51.499Z"
   },
   {
    "duration": 5,
    "start_time": "2021-10-21T06:33:51.510Z"
   },
   {
    "duration": 9,
    "start_time": "2021-10-21T06:33:51.516Z"
   },
   {
    "duration": 4,
    "start_time": "2021-10-21T06:33:51.527Z"
   },
   {
    "duration": 34,
    "start_time": "2021-10-21T06:33:51.533Z"
   },
   {
    "duration": 11,
    "start_time": "2021-10-21T06:33:51.569Z"
   },
   {
    "duration": 9,
    "start_time": "2021-10-21T06:33:51.582Z"
   },
   {
    "duration": 7,
    "start_time": "2021-10-21T06:33:51.593Z"
   },
   {
    "duration": 11,
    "start_time": "2021-10-21T06:33:51.602Z"
   },
   {
    "duration": 7,
    "start_time": "2021-10-21T06:33:51.616Z"
   },
   {
    "duration": 13,
    "start_time": "2021-10-21T06:33:51.625Z"
   },
   {
    "duration": 9,
    "start_time": "2021-10-21T06:33:51.640Z"
   },
   {
    "duration": 12,
    "start_time": "2021-10-21T06:40:16.509Z"
   },
   {
    "duration": 13,
    "start_time": "2021-10-21T06:40:46.379Z"
   },
   {
    "duration": 23,
    "start_time": "2021-10-21T06:43:48.693Z"
   },
   {
    "duration": 22,
    "start_time": "2021-10-21T06:44:10.963Z"
   },
   {
    "duration": 21,
    "start_time": "2021-10-21T06:44:19.358Z"
   },
   {
    "duration": 4,
    "start_time": "2021-10-21T06:45:07.238Z"
   },
   {
    "duration": 5,
    "start_time": "2021-10-21T06:45:33.166Z"
   },
   {
    "duration": 324,
    "start_time": "2021-10-21T06:47:04.949Z"
   },
   {
    "duration": 284,
    "start_time": "2021-10-21T06:47:55.503Z"
   },
   {
    "duration": 258,
    "start_time": "2021-10-21T06:48:11.335Z"
   },
   {
    "duration": 2,
    "start_time": "2021-10-21T06:49:03.911Z"
   },
   {
    "duration": 11,
    "start_time": "2021-10-21T06:53:48.336Z"
   },
   {
    "duration": 10,
    "start_time": "2021-10-21T06:54:47.800Z"
   },
   {
    "duration": 4,
    "start_time": "2021-10-21T07:12:03.332Z"
   },
   {
    "duration": 4,
    "start_time": "2021-10-21T07:18:19.951Z"
   },
   {
    "duration": 28,
    "start_time": "2021-10-21T07:18:57.565Z"
   },
   {
    "duration": 20,
    "start_time": "2021-10-21T07:21:45.201Z"
   },
   {
    "duration": 17,
    "start_time": "2021-10-21T07:23:01.968Z"
   },
   {
    "duration": 24,
    "start_time": "2021-10-21T07:29:26.673Z"
   },
   {
    "duration": 20,
    "start_time": "2021-10-21T07:29:39.757Z"
   },
   {
    "duration": 17,
    "start_time": "2021-10-21T07:30:24.028Z"
   },
   {
    "duration": 15,
    "start_time": "2021-10-21T07:30:26.379Z"
   },
   {
    "duration": 31,
    "start_time": "2021-10-21T07:31:05.179Z"
   },
   {
    "duration": 5,
    "start_time": "2021-10-21T07:31:18.891Z"
   },
   {
    "duration": 2,
    "start_time": "2021-10-21T07:31:27.252Z"
   },
   {
    "duration": 685,
    "start_time": "2021-10-21T07:31:27.258Z"
   },
   {
    "duration": 11,
    "start_time": "2021-10-21T07:31:27.946Z"
   },
   {
    "duration": 50,
    "start_time": "2021-10-21T07:31:27.960Z"
   },
   {
    "duration": 11,
    "start_time": "2021-10-21T07:31:28.012Z"
   },
   {
    "duration": 25,
    "start_time": "2021-10-21T07:31:28.025Z"
   },
   {
    "duration": 4,
    "start_time": "2021-10-21T07:31:28.053Z"
   },
   {
    "duration": 34,
    "start_time": "2021-10-21T07:31:28.059Z"
   },
   {
    "duration": 21,
    "start_time": "2021-10-21T07:31:28.097Z"
   },
   {
    "duration": 48,
    "start_time": "2021-10-21T07:31:28.121Z"
   },
   {
    "duration": 72,
    "start_time": "2021-10-21T07:31:28.172Z"
   },
   {
    "duration": 73,
    "start_time": "2021-10-21T07:31:28.246Z"
   },
   {
    "duration": 65,
    "start_time": "2021-10-21T07:31:28.321Z"
   },
   {
    "duration": 42,
    "start_time": "2021-10-21T07:31:28.387Z"
   },
   {
    "duration": 4,
    "start_time": "2021-10-21T07:31:28.431Z"
   },
   {
    "duration": 38,
    "start_time": "2021-10-21T07:31:28.437Z"
   },
   {
    "duration": 44,
    "start_time": "2021-10-21T07:31:28.477Z"
   },
   {
    "duration": 11,
    "start_time": "2021-10-21T07:31:28.523Z"
   },
   {
    "duration": 32,
    "start_time": "2021-10-21T07:31:28.535Z"
   },
   {
    "duration": 3,
    "start_time": "2021-10-21T07:31:28.568Z"
   },
   {
    "duration": 25,
    "start_time": "2021-10-21T07:31:28.573Z"
   },
   {
    "duration": 17,
    "start_time": "2021-10-21T07:31:28.600Z"
   },
   {
    "duration": 50,
    "start_time": "2021-10-21T07:31:28.620Z"
   },
   {
    "duration": 17,
    "start_time": "2021-10-21T07:31:28.675Z"
   },
   {
    "duration": 20,
    "start_time": "2021-10-21T07:31:28.695Z"
   },
   {
    "duration": 46,
    "start_time": "2021-10-21T07:31:28.717Z"
   },
   {
    "duration": 11,
    "start_time": "2021-10-21T07:31:28.765Z"
   },
   {
    "duration": 24,
    "start_time": "2021-10-21T07:31:28.778Z"
   },
   {
    "duration": 20,
    "start_time": "2021-10-21T07:31:28.804Z"
   },
   {
    "duration": 38,
    "start_time": "2021-10-21T07:31:28.827Z"
   },
   {
    "duration": 31,
    "start_time": "2021-10-21T07:31:28.867Z"
   },
   {
    "duration": 18,
    "start_time": "2021-10-21T07:31:28.900Z"
   },
   {
    "duration": 16,
    "start_time": "2021-10-21T07:31:28.920Z"
   },
   {
    "duration": 37,
    "start_time": "2021-10-21T07:31:28.938Z"
   },
   {
    "duration": 2,
    "start_time": "2021-10-21T07:31:28.977Z"
   },
   {
    "duration": 9,
    "start_time": "2021-10-21T07:31:28.981Z"
   },
   {
    "duration": 5,
    "start_time": "2021-10-21T07:31:28.991Z"
   },
   {
    "duration": 4,
    "start_time": "2021-10-21T07:31:28.998Z"
   },
   {
    "duration": 267,
    "start_time": "2021-10-21T07:32:11.902Z"
   },
   {
    "duration": 5,
    "start_time": "2021-10-21T07:32:20.570Z"
   },
   {
    "duration": 29,
    "start_time": "2021-10-21T07:32:23.760Z"
   },
   {
    "duration": 20,
    "start_time": "2021-10-21T07:32:24.234Z"
   },
   {
    "duration": 18,
    "start_time": "2021-10-21T07:32:24.738Z"
   },
   {
    "duration": 16,
    "start_time": "2021-10-21T07:32:25.362Z"
   },
   {
    "duration": 4,
    "start_time": "2021-10-21T07:39:54.627Z"
   },
   {
    "duration": 25,
    "start_time": "2021-10-21T07:39:56.802Z"
   },
   {
    "duration": 21,
    "start_time": "2021-10-21T07:40:00.884Z"
   },
   {
    "duration": 17,
    "start_time": "2021-10-21T07:40:05.020Z"
   },
   {
    "duration": 16,
    "start_time": "2021-10-21T07:40:06.651Z"
   },
   {
    "duration": 4,
    "start_time": "2021-10-21T07:40:54.165Z"
   },
   {
    "duration": 22,
    "start_time": "2021-10-21T07:40:56.332Z"
   },
   {
    "duration": 15,
    "start_time": "2021-10-21T07:40:57.820Z"
   },
   {
    "duration": 10,
    "start_time": "2021-10-21T07:40:59.637Z"
   },
   {
    "duration": 9,
    "start_time": "2021-10-21T07:41:09.621Z"
   },
   {
    "duration": 7,
    "start_time": "2021-10-21T07:55:30.930Z"
   },
   {
    "duration": 31,
    "start_time": "2021-10-21T07:55:32.971Z"
   },
   {
    "duration": 20,
    "start_time": "2021-10-21T07:55:33.920Z"
   },
   {
    "duration": 15,
    "start_time": "2021-10-21T07:55:34.696Z"
   },
   {
    "duration": 4,
    "start_time": "2021-10-21T07:56:09.216Z"
   },
   {
    "duration": 19,
    "start_time": "2021-10-21T07:56:10.680Z"
   },
   {
    "duration": 14,
    "start_time": "2021-10-21T07:56:11.273Z"
   },
   {
    "duration": 16,
    "start_time": "2021-10-21T07:56:11.872Z"
   },
   {
    "duration": 13,
    "start_time": "2021-10-21T07:56:12.993Z"
   },
   {
    "duration": 4,
    "start_time": "2021-10-21T08:00:20.038Z"
   },
   {
    "duration": 17,
    "start_time": "2021-10-21T08:00:22.779Z"
   },
   {
    "duration": 15,
    "start_time": "2021-10-21T08:00:27.178Z"
   },
   {
    "duration": 18,
    "start_time": "2021-10-21T08:00:30.908Z"
   },
   {
    "duration": 13,
    "start_time": "2021-10-21T08:00:31.674Z"
   },
   {
    "duration": 3,
    "start_time": "2021-10-21T08:06:12.998Z"
   },
   {
    "duration": 710,
    "start_time": "2021-10-21T08:06:13.004Z"
   },
   {
    "duration": 11,
    "start_time": "2021-10-21T08:06:13.716Z"
   },
   {
    "duration": 47,
    "start_time": "2021-10-21T08:06:13.729Z"
   },
   {
    "duration": 20,
    "start_time": "2021-10-21T08:06:13.778Z"
   },
   {
    "duration": 34,
    "start_time": "2021-10-21T08:06:13.800Z"
   },
   {
    "duration": 4,
    "start_time": "2021-10-21T08:06:13.837Z"
   },
   {
    "duration": 40,
    "start_time": "2021-10-21T08:06:13.843Z"
   },
   {
    "duration": 29,
    "start_time": "2021-10-21T08:06:13.885Z"
   },
   {
    "duration": 48,
    "start_time": "2021-10-21T08:06:13.916Z"
   },
   {
    "duration": 65,
    "start_time": "2021-10-21T08:06:13.966Z"
   },
   {
    "duration": 72,
    "start_time": "2021-10-21T08:06:14.033Z"
   },
   {
    "duration": 57,
    "start_time": "2021-10-21T08:06:14.107Z"
   },
   {
    "duration": 40,
    "start_time": "2021-10-21T08:06:14.166Z"
   },
   {
    "duration": 9,
    "start_time": "2021-10-21T08:06:14.207Z"
   },
   {
    "duration": 28,
    "start_time": "2021-10-21T08:06:14.218Z"
   },
   {
    "duration": 52,
    "start_time": "2021-10-21T08:06:14.248Z"
   },
   {
    "duration": 17,
    "start_time": "2021-10-21T08:06:14.302Z"
   },
   {
    "duration": 12,
    "start_time": "2021-10-21T08:06:14.322Z"
   },
   {
    "duration": 7,
    "start_time": "2021-10-21T08:06:14.337Z"
   },
   {
    "duration": 43,
    "start_time": "2021-10-21T08:06:14.346Z"
   },
   {
    "duration": 22,
    "start_time": "2021-10-21T08:06:14.391Z"
   },
   {
    "duration": 22,
    "start_time": "2021-10-21T08:06:14.415Z"
   },
   {
    "duration": 25,
    "start_time": "2021-10-21T08:06:14.439Z"
   },
   {
    "duration": 18,
    "start_time": "2021-10-21T08:06:14.466Z"
   },
   {
    "duration": 19,
    "start_time": "2021-10-21T08:06:14.486Z"
   },
   {
    "duration": 10,
    "start_time": "2021-10-21T08:06:14.507Z"
   },
   {
    "duration": 52,
    "start_time": "2021-10-21T08:06:14.519Z"
   },
   {
    "duration": 53,
    "start_time": "2021-10-21T08:06:14.573Z"
   },
   {
    "duration": 14,
    "start_time": "2021-10-21T08:06:14.628Z"
   },
   {
    "duration": 69,
    "start_time": "2021-10-21T08:06:14.644Z"
   },
   {
    "duration": 26,
    "start_time": "2021-10-21T08:06:14.716Z"
   },
   {
    "duration": 25,
    "start_time": "2021-10-21T08:06:14.744Z"
   },
   {
    "duration": 30,
    "start_time": "2021-10-21T08:06:14.770Z"
   },
   {
    "duration": 14,
    "start_time": "2021-10-21T08:06:14.802Z"
   },
   {
    "duration": 18,
    "start_time": "2021-10-21T08:06:14.818Z"
   },
   {
    "duration": 17,
    "start_time": "2021-10-21T08:06:14.838Z"
   },
   {
    "duration": 21,
    "start_time": "2021-10-21T08:06:14.856Z"
   },
   {
    "duration": 20,
    "start_time": "2021-10-21T08:07:39.558Z"
   },
   {
    "duration": 13,
    "start_time": "2021-10-21T08:07:41.406Z"
   },
   {
    "duration": 261,
    "start_time": "2021-10-21T08:59:03.183Z"
   },
   {
    "duration": 9,
    "start_time": "2021-10-21T09:00:11.853Z"
   },
   {
    "duration": 5,
    "start_time": "2021-10-21T09:00:43.688Z"
   },
   {
    "duration": 6,
    "start_time": "2021-10-21T09:02:24.093Z"
   },
   {
    "duration": 5,
    "start_time": "2021-10-21T09:02:40.567Z"
   },
   {
    "duration": 533,
    "start_time": "2021-10-21T17:13:13.945Z"
   },
   {
    "duration": 697,
    "start_time": "2021-10-21T17:13:14.480Z"
   },
   {
    "duration": 18,
    "start_time": "2021-10-21T17:13:15.179Z"
   },
   {
    "duration": 53,
    "start_time": "2021-10-21T17:13:15.198Z"
   },
   {
    "duration": 6,
    "start_time": "2021-10-21T17:13:15.252Z"
   },
   {
    "duration": 22,
    "start_time": "2021-10-21T17:13:15.260Z"
   },
   {
    "duration": 4,
    "start_time": "2021-10-21T17:13:15.284Z"
   },
   {
    "duration": 24,
    "start_time": "2021-10-21T17:13:15.290Z"
   },
   {
    "duration": 17,
    "start_time": "2021-10-21T17:13:15.318Z"
   },
   {
    "duration": 24,
    "start_time": "2021-10-21T17:13:15.338Z"
   },
   {
    "duration": 81,
    "start_time": "2021-10-21T17:13:15.363Z"
   },
   {
    "duration": 77,
    "start_time": "2021-10-21T17:13:15.446Z"
   },
   {
    "duration": 51,
    "start_time": "2021-10-21T17:13:15.525Z"
   },
   {
    "duration": 51,
    "start_time": "2021-10-21T17:13:15.577Z"
   },
   {
    "duration": 3,
    "start_time": "2021-10-21T17:13:15.630Z"
   },
   {
    "duration": 13,
    "start_time": "2021-10-21T17:13:15.634Z"
   },
   {
    "duration": 52,
    "start_time": "2021-10-21T17:13:15.648Z"
   },
   {
    "duration": 10,
    "start_time": "2021-10-21T17:13:15.702Z"
   },
   {
    "duration": 10,
    "start_time": "2021-10-21T17:13:15.714Z"
   },
   {
    "duration": 3,
    "start_time": "2021-10-21T17:13:15.726Z"
   },
   {
    "duration": 22,
    "start_time": "2021-10-21T17:13:15.731Z"
   },
   {
    "duration": 45,
    "start_time": "2021-10-21T17:13:15.754Z"
   },
   {
    "duration": 15,
    "start_time": "2021-10-21T17:13:15.801Z"
   },
   {
    "duration": 13,
    "start_time": "2021-10-21T17:13:15.817Z"
   },
   {
    "duration": 17,
    "start_time": "2021-10-21T17:13:15.831Z"
   },
   {
    "duration": 51,
    "start_time": "2021-10-21T17:13:15.850Z"
   },
   {
    "duration": 8,
    "start_time": "2021-10-21T17:13:15.905Z"
   },
   {
    "duration": 20,
    "start_time": "2021-10-21T17:13:15.916Z"
   },
   {
    "duration": 18,
    "start_time": "2021-10-21T17:13:15.938Z"
   },
   {
    "duration": 33,
    "start_time": "2021-10-21T17:13:15.958Z"
   },
   {
    "duration": 20,
    "start_time": "2021-10-21T17:13:15.993Z"
   },
   {
    "duration": 13,
    "start_time": "2021-10-21T17:13:16.015Z"
   },
   {
    "duration": 19,
    "start_time": "2021-10-21T17:13:16.030Z"
   },
   {
    "duration": 45,
    "start_time": "2021-10-21T17:13:16.051Z"
   },
   {
    "duration": 9,
    "start_time": "2021-10-21T17:13:16.098Z"
   },
   {
    "duration": 5,
    "start_time": "2021-10-21T17:13:16.109Z"
   },
   {
    "duration": 7,
    "start_time": "2021-10-21T17:13:16.116Z"
   },
   {
    "duration": 5,
    "start_time": "2021-10-21T17:13:16.125Z"
   },
   {
    "duration": 14,
    "start_time": "2021-10-21T17:17:33.736Z"
   },
   {
    "duration": 24,
    "start_time": "2021-10-21T17:18:21.747Z"
   },
   {
    "duration": 399,
    "start_time": "2021-10-22T06:52:03.514Z"
   },
   {
    "duration": 812,
    "start_time": "2021-10-22T06:52:14.763Z"
   },
   {
    "duration": 890,
    "start_time": "2021-10-22T06:52:15.578Z"
   },
   {
    "duration": 26,
    "start_time": "2021-10-22T06:52:16.471Z"
   },
   {
    "duration": 16,
    "start_time": "2021-10-22T06:52:16.501Z"
   },
   {
    "duration": 11,
    "start_time": "2021-10-22T06:52:16.519Z"
   },
   {
    "duration": 37,
    "start_time": "2021-10-22T06:52:16.532Z"
   },
   {
    "duration": 10,
    "start_time": "2021-10-22T06:52:16.571Z"
   },
   {
    "duration": 46,
    "start_time": "2021-10-22T06:52:16.585Z"
   },
   {
    "duration": 23,
    "start_time": "2021-10-22T06:52:16.634Z"
   },
   {
    "duration": 49,
    "start_time": "2021-10-22T06:52:16.660Z"
   },
   {
    "duration": 104,
    "start_time": "2021-10-22T06:52:16.712Z"
   },
   {
    "duration": 128,
    "start_time": "2021-10-22T06:52:16.819Z"
   },
   {
    "duration": 89,
    "start_time": "2021-10-22T06:52:16.949Z"
   },
   {
    "duration": 69,
    "start_time": "2021-10-22T06:52:17.040Z"
   },
   {
    "duration": 4,
    "start_time": "2021-10-22T06:52:17.112Z"
   },
   {
    "duration": 16,
    "start_time": "2021-10-22T06:52:17.118Z"
   },
   {
    "duration": 87,
    "start_time": "2021-10-22T06:52:17.136Z"
   },
   {
    "duration": 13,
    "start_time": "2021-10-22T06:52:17.226Z"
   },
   {
    "duration": 14,
    "start_time": "2021-10-22T06:52:17.241Z"
   },
   {
    "duration": 54,
    "start_time": "2021-10-22T06:52:17.258Z"
   },
   {
    "duration": 4,
    "start_time": "2021-10-22T06:52:17.315Z"
   },
   {
    "duration": 28,
    "start_time": "2021-10-22T06:52:17.322Z"
   },
   {
    "duration": 20,
    "start_time": "2021-10-22T06:52:17.355Z"
   },
   {
    "duration": 20,
    "start_time": "2021-10-22T06:52:17.402Z"
   },
   {
    "duration": 18,
    "start_time": "2021-10-22T06:52:17.425Z"
   },
   {
    "duration": 21,
    "start_time": "2021-10-22T06:52:17.446Z"
   },
   {
    "duration": 48,
    "start_time": "2021-10-22T06:52:17.470Z"
   },
   {
    "duration": 13,
    "start_time": "2021-10-22T06:52:17.520Z"
   },
   {
    "duration": 30,
    "start_time": "2021-10-22T06:52:17.535Z"
   },
   {
    "duration": 27,
    "start_time": "2021-10-22T06:52:17.600Z"
   },
   {
    "duration": 5,
    "start_time": "2021-10-22T06:52:17.630Z"
   },
   {
    "duration": 32,
    "start_time": "2021-10-22T06:52:17.637Z"
   },
   {
    "duration": 46,
    "start_time": "2021-10-22T06:52:17.671Z"
   },
   {
    "duration": 23,
    "start_time": "2021-10-22T06:52:17.719Z"
   },
   {
    "duration": 16,
    "start_time": "2021-10-22T06:52:17.745Z"
   },
   {
    "duration": 45,
    "start_time": "2021-10-22T06:52:17.764Z"
   },
   {
    "duration": 6,
    "start_time": "2021-10-22T06:52:17.812Z"
   },
   {
    "duration": 10,
    "start_time": "2021-10-22T06:52:17.821Z"
   },
   {
    "duration": 11,
    "start_time": "2021-10-22T06:52:17.834Z"
   },
   {
    "duration": 52,
    "start_time": "2021-10-22T06:52:17.848Z"
   },
   {
    "duration": 117,
    "start_time": "2021-10-22T06:54:09.088Z"
   },
   {
    "duration": 5,
    "start_time": "2021-10-22T06:56:38.706Z"
   },
   {
    "duration": 323,
    "start_time": "2021-10-22T07:08:19.558Z"
   },
   {
    "duration": 20,
    "start_time": "2021-10-22T07:08:31.155Z"
   },
   {
    "duration": 10,
    "start_time": "2021-10-22T07:11:17.423Z"
   },
   {
    "duration": 19,
    "start_time": "2021-10-22T07:14:57.344Z"
   },
   {
    "duration": 18,
    "start_time": "2021-10-22T07:15:23.825Z"
   },
   {
    "duration": 4,
    "start_time": "2021-10-22T07:15:51.468Z"
   },
   {
    "duration": 1292,
    "start_time": "2021-10-22T07:15:51.476Z"
   },
   {
    "duration": 16,
    "start_time": "2021-10-22T07:15:52.771Z"
   },
   {
    "duration": 26,
    "start_time": "2021-10-22T07:15:52.790Z"
   },
   {
    "duration": 12,
    "start_time": "2021-10-22T07:15:52.819Z"
   },
   {
    "duration": 26,
    "start_time": "2021-10-22T07:15:52.833Z"
   },
   {
    "duration": 5,
    "start_time": "2021-10-22T07:15:52.862Z"
   },
   {
    "duration": 44,
    "start_time": "2021-10-22T07:15:52.870Z"
   },
   {
    "duration": 27,
    "start_time": "2021-10-22T07:15:52.918Z"
   },
   {
    "duration": 30,
    "start_time": "2021-10-22T07:15:52.948Z"
   },
   {
    "duration": 87,
    "start_time": "2021-10-22T07:15:53.001Z"
   },
   {
    "duration": 108,
    "start_time": "2021-10-22T07:15:53.101Z"
   },
   {
    "duration": 77,
    "start_time": "2021-10-22T07:15:53.212Z"
   },
   {
    "duration": 59,
    "start_time": "2021-10-22T07:15:53.301Z"
   },
   {
    "duration": 4,
    "start_time": "2021-10-22T07:15:53.362Z"
   },
   {
    "duration": 48,
    "start_time": "2021-10-22T07:15:53.368Z"
   },
   {
    "duration": 57,
    "start_time": "2021-10-22T07:15:53.419Z"
   },
   {
    "duration": 30,
    "start_time": "2021-10-22T07:15:53.478Z"
   },
   {
    "duration": 17,
    "start_time": "2021-10-22T07:15:53.510Z"
   },
   {
    "duration": 17,
    "start_time": "2021-10-22T07:15:53.529Z"
   },
   {
    "duration": 4,
    "start_time": "2021-10-22T07:15:53.549Z"
   },
   {
    "duration": 63,
    "start_time": "2021-10-22T07:15:53.555Z"
   },
   {
    "duration": 19,
    "start_time": "2021-10-22T07:15:53.620Z"
   },
   {
    "duration": 18,
    "start_time": "2021-10-22T07:15:53.644Z"
   },
   {
    "duration": 48,
    "start_time": "2021-10-22T07:15:53.664Z"
   },
   {
    "duration": 22,
    "start_time": "2021-10-22T07:15:53.715Z"
   },
   {
    "duration": 19,
    "start_time": "2021-10-22T07:15:53.739Z"
   },
   {
    "duration": 45,
    "start_time": "2021-10-22T07:15:53.760Z"
   },
   {
    "duration": 36,
    "start_time": "2021-10-22T07:15:53.808Z"
   },
   {
    "duration": 28,
    "start_time": "2021-10-22T07:15:53.846Z"
   },
   {
    "duration": 6,
    "start_time": "2021-10-22T07:15:53.900Z"
   },
   {
    "duration": 43,
    "start_time": "2021-10-22T07:15:53.908Z"
   },
   {
    "duration": 18,
    "start_time": "2021-10-22T07:15:53.954Z"
   },
   {
    "duration": 43,
    "start_time": "2021-10-22T07:15:53.975Z"
   },
   {
    "duration": 18,
    "start_time": "2021-10-22T07:15:54.020Z"
   },
   {
    "duration": 10,
    "start_time": "2021-10-22T07:15:54.041Z"
   },
   {
    "duration": 46,
    "start_time": "2021-10-22T07:15:54.054Z"
   },
   {
    "duration": 11,
    "start_time": "2021-10-22T07:15:54.103Z"
   },
   {
    "duration": 10,
    "start_time": "2021-10-22T07:15:54.117Z"
   },
   {
    "duration": 10,
    "start_time": "2021-10-22T07:15:54.130Z"
   }
  ],
  "colab": {
   "collapsed_sections": [
    "E0vqbgi9ay0H",
    "VUC88oWjTJw2"
   ],
   "name": "yandex_music_project_2021.2.ipynb",
   "provenance": []
  },
  "kernelspec": {
   "display_name": "Python 3",
   "language": "python",
   "name": "python3"
  },
  "language_info": {
   "codemirror_mode": {
    "name": "ipython",
    "version": 3
   },
   "file_extension": ".py",
   "mimetype": "text/x-python",
   "name": "python",
   "nbconvert_exporter": "python",
   "pygments_lexer": "ipython3",
   "version": "3.8.8"
  },
  "toc": {
   "base_numbering": 1,
   "nav_menu": {},
   "number_sections": true,
   "sideBar": true,
   "skip_h1_title": true,
   "title_cell": "Table of Contents",
   "title_sidebar": "Contents",
   "toc_cell": false,
   "toc_position": {
    "height": "calc(100% - 180px)",
    "left": "10px",
    "top": "150px",
    "width": "270px"
   },
   "toc_section_display": true,
   "toc_window_display": true
  }
 },
 "nbformat": 4,
 "nbformat_minor": 1
}
