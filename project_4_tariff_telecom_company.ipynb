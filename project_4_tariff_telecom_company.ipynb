{
 "cells": [
  {
   "cell_type": "markdown",
   "id": "3747084a",
   "metadata": {},
   "source": [
    "<a id=\"up\"></a>"
   ]
  },
  {
   "cell_type": "markdown",
   "id": "136a3330",
   "metadata": {},
   "source": [
    "## Определение перспективного тарифа для телеком-компании"
   ]
  },
  {
   "cell_type": "markdown",
   "id": "28ffda7e",
   "metadata": {},
   "source": [
    "### Описание проекта"
   ]
  },
  {
   "cell_type": "markdown",
   "id": "93a8c69d",
   "metadata": {},
   "source": [
    "Вы аналитик компании «Мегалайн» — федерального оператора сотовой связи. Клиентам предлагают два тарифных плана: «Смарт» и «Ультра». Чтобы скорректировать рекламный бюджет, коммерческий департамент хочет понять, какой тариф приносит больше денег.\n",
    "Вам предстоит сделать предварительный анализ тарифов на небольшой выборке клиентов. В вашем распоряжении данные 500 пользователей «Мегалайна»: кто они, откуда, каким тарифом пользуются, сколько звонков и сообщений каждый отправил за 2018 год. Нужно проанализировать поведение клиентов и сделать вывод — какой тариф лучше."
   ]
  },
  {
   "cell_type": "markdown",
   "id": "d68290eb",
   "metadata": {},
   "source": [
    "### Описание тарифов"
   ]
  },
  {
   "cell_type": "markdown",
   "id": "d1fd61c4",
   "metadata": {},
   "source": [
    "#### Тариф «Смарт»"
   ]
  },
  {
   "cell_type": "markdown",
   "id": "e365e5c1",
   "metadata": {},
   "source": [
    "1. Ежемесячная плата: 550 рублей\n",
    "2. Включено 500 минут разговора, 50 сообщений и 15 Гб интернет-трафика\n",
    "3. Стоимость услуг сверх тарифного пакета: 1. минута разговора: 3 рубля («Мегалайн» всегда округляет вверх значения минут и мегабайтов. Если пользователь проговорил всего 1 секунду, в тарифе засчитывается целая минута); 2. сообщение: 3 рубля; 3. 1 Гб интернет-трафика: 200 рублей."
   ]
  },
  {
   "cell_type": "markdown",
   "id": "c5f53531",
   "metadata": {},
   "source": [
    "#### Тариф «Ультра»"
   ]
  },
  {
   "cell_type": "markdown",
   "id": "c5665eea",
   "metadata": {},
   "source": [
    "1. Ежемесячная плата: 1950 рублей\n",
    "2. Включено 3000 минут разговора, 1000 сообщений и 30 Гб интернет-трафика\n",
    "3. Стоимость услуг сверх тарифного пакета: 1. минута разговора: 1 рубль; 2. сообщение: 1 рубль; 3. 1 Гб интернет-трафика: 150 рублей."
   ]
  },
  {
   "cell_type": "markdown",
   "id": "e6235b75",
   "metadata": {},
   "source": [
    "##### Примечание:\n",
    "«Мегалайн» всегда округляет секунды до минут, а мегабайты — до гигабайт. Каждый звонок округляется отдельно: даже если он длился всего 1 секунду, будет засчитан как 1 минута.\n",
    "Для веб-трафика отдельные сессии не считаются. Вместо этого общая сумма за месяц округляется в бо́льшую сторону. Если абонент использует 1025 мегабайт в этом месяце, с него возьмут плату за 2 гигабайта."
   ]
  },
  {
   "cell_type": "markdown",
   "id": "1cf1a600",
   "metadata": {},
   "source": [
    "### Задачи исследования"
   ]
  },
  {
   "cell_type": "markdown",
   "id": "f12fbe37",
   "metadata": {},
   "source": [
    "### [1. Откройте файл с данными и изучите общую информацию](#1)"
   ]
  },
  {
   "cell_type": "markdown",
   "id": "f3d65373",
   "metadata": {},
   "source": [
    "- посмотрим датасеты по отдельности\n",
    "- сделаем предварительные выводы\n",
    "- поищем аномалии\n"
   ]
  },
  {
   "cell_type": "markdown",
   "id": "6e8c6edc",
   "metadata": {},
   "source": [
    "### [2. Подготовьте данные](#2)"
   ]
  },
  {
   "cell_type": "markdown",
   "id": "b79be617",
   "metadata": {},
   "source": [
    "- Приведите данные к нужным типам;\n",
    "- Найдите и исправьте ошибки в данных, если они есть.\n",
    "Поясните, какие ошибки вы нашли и как их исправили. В данных вы найдёте звонки с нулевой продолжительностью. Это не ошибка: нулями обозначены пропущенные звонки, поэтому их не нужно удалять.\n",
    "###### Посчитайте для каждого пользователя:\n",
    "- количество сделанных звонков и израсходованных минут разговора по месяцам;\n",
    "- количество отправленных сообщений по месяцам;\n",
    "- объем израсходованного интернет-трафика по месяцам;\n",
    "- помесячную выручку с каждого пользователя (вычтите бесплатный лимит из суммарного количества звонков, сообщений и интернет-трафика; остаток умножьте на значение из тарифного плана; прибавьте абонентскую плату, соответствующую тарифному плану)."
   ]
  },
  {
   "cell_type": "markdown",
   "id": "4bb2318b",
   "metadata": {},
   "source": [
    "### [3. Проанализируйте данные](#3)"
   ]
  },
  {
   "cell_type": "markdown",
   "id": "2afa7f0b",
   "metadata": {},
   "source": [
    "- Опишите поведение клиентов оператора, исходя из выборки. \n",
    "- Сколько минут разговора, сколько сообщений и какой объём интернет-трафика требуется пользователям каждого тарифа в месяц?\n",
    "- Посчитайте среднее количество, дисперсию и стандартное отклонение. \n",
    "- Постройте гистограммы. Опишите распределения."
   ]
  },
  {
   "cell_type": "markdown",
   "id": "8ea98c7f",
   "metadata": {},
   "source": [
    "### [4. Проверьте гипотезы](#4)"
   ]
  },
  {
   "cell_type": "markdown",
   "id": "7cfdcc79",
   "metadata": {},
   "source": [
    "- средняя выручка пользователей тарифов «Ультра» и «Смарт» различаются;\n",
    "- средняя выручка пользователей из Москвы отличается от выручки пользователей из других регионов.\n",
    "\n",
    "`Пороговое значение alpha задайте самостоятельно.`\n",
    "###### Поясните:\n",
    "- как вы формулировали нулевую и альтернативную гипотезы;\n",
    "- какой критерий использовали для проверки гипотез и почему."
   ]
  },
  {
   "cell_type": "markdown",
   "id": "fca8dbbb",
   "metadata": {},
   "source": [
    "### [5. Напишите общий вывод](#5)"
   ]
  },
  {
   "cell_type": "markdown",
   "id": "07bd30ed",
   "metadata": {},
   "source": [
    "- Пишем общий вывод"
   ]
  },
  {
   "cell_type": "markdown",
   "id": "baa85b8c",
   "metadata": {},
   "source": [
    "### Описание данных"
   ]
  },
  {
   "cell_type": "markdown",
   "id": "8b161052",
   "metadata": {},
   "source": [
    "Таблица `users` (информация о пользователях):\n",
    "- user_id — уникальный идентификатор пользователя\n",
    "- first_name — имя пользователя\n",
    "- last_name — фамилия пользователя\n",
    "- age — возраст пользователя (годы)\n",
    "- reg_date — дата подключения тарифа (день, месяц, год)\n",
    "- churn_date — дата прекращения пользования тарифом (если значение пропущено, то тариф ещё действовал на момент выгрузки данных)\n",
    "- city — город проживания пользователя\n",
    "- tariff — название тарифного плана\n",
    "\n",
    "Таблица `calls` (информация о звонках):\n",
    "- id — уникальный номер звонка\n",
    "- call_date — дата звонка\n",
    "- duration — длительность звонка в минутах\n",
    "- user_id — идентификатор пользователя, сделавшего звонок\n",
    "\n",
    "Таблица `messages` (информация о сообщениях):\n",
    "- id — уникальный номер сообщения\n",
    "- message_date — дата сообщения\n",
    "- user_id — идентификатор пользователя, отправившего сообщение\n",
    "\n",
    "Таблица `internet` (информация об интернет-сессиях):\n",
    "- id — уникальный номер сессии\n",
    "- mb_used — объём потраченного за сессию интернет-трафика (в мегабайтах)\n",
    "- session_date — дата интернет-сессии\n",
    "- user_id — идентификатор пользователя\n",
    "\n",
    "Таблица `tariffs` (информация о тарифах):\n",
    "- tariff_name — название тарифа\n",
    "- rub_monthly_fee — ежемесячная абонентская плата в рублях\n",
    "- minutes_included — количество минут разговора в месяц, включённых в абонентскую плату\n",
    "- messages_included — количество сообщений в месяц, включённых в абонентскую плату\n",
    "- mb_per_month_included — объём интернет-трафика, включённого в абонентскую плату (в мегабайтах)\n",
    "- rub_per_minute — стоимость минуты разговора сверх тарифного пакета (например, если в тарифе 100 минут разговора в месяц, то со 101 минуты будет взиматься плата)\n",
    "- rub_per_message — стоимость отправки сообщения сверх тарифного пакета\n",
    "- rub_per_gb — стоимость дополнительного гигабайта интернет-трафика сверх тарифного пакета (1 гигабайт = 1024 мегабайта)"
   ]
  },
  {
   "cell_type": "markdown",
   "id": "a0eccfb6",
   "metadata": {},
   "source": [
    "<a id=\"1\"></a>"
   ]
  },
  {
   "cell_type": "markdown",
   "id": "85f7f593",
   "metadata": {},
   "source": [
    "### 1. Откроем файлы и изучим общую информацию"
   ]
  },
  {
   "cell_type": "code",
   "execution_count": 1,
   "id": "b5e5494d",
   "metadata": {},
   "outputs": [],
   "source": [
    "from scipy import stats as st\n",
    "import pandas as pd                          \n",
    "import numpy as np                           \n",
    "import matplotlib.pyplot as plt"
   ]
  },
  {
   "cell_type": "markdown",
   "id": "fbff2782",
   "metadata": {},
   "source": [
    "#### Информаця  о пользователях"
   ]
  },
  {
   "cell_type": "code",
   "execution_count": 2,
   "id": "6409f256",
   "metadata": {},
   "outputs": [
    {
     "data": {
      "text/html": [
       "<div>\n",
       "<style scoped>\n",
       "    .dataframe tbody tr th:only-of-type {\n",
       "        vertical-align: middle;\n",
       "    }\n",
       "\n",
       "    .dataframe tbody tr th {\n",
       "        vertical-align: top;\n",
       "    }\n",
       "\n",
       "    .dataframe thead th {\n",
       "        text-align: right;\n",
       "    }\n",
       "</style>\n",
       "<table border=\"1\" class=\"dataframe\">\n",
       "  <thead>\n",
       "    <tr style=\"text-align: right;\">\n",
       "      <th></th>\n",
       "      <th>user_id</th>\n",
       "      <th>age</th>\n",
       "      <th>churn_date</th>\n",
       "      <th>city</th>\n",
       "      <th>first_name</th>\n",
       "      <th>last_name</th>\n",
       "      <th>reg_date</th>\n",
       "      <th>tariff</th>\n",
       "    </tr>\n",
       "  </thead>\n",
       "  <tbody>\n",
       "    <tr>\n",
       "      <th>0</th>\n",
       "      <td>1000</td>\n",
       "      <td>52</td>\n",
       "      <td>NaN</td>\n",
       "      <td>Краснодар</td>\n",
       "      <td>Рафаил</td>\n",
       "      <td>Верещагин</td>\n",
       "      <td>2018-05-25</td>\n",
       "      <td>ultra</td>\n",
       "    </tr>\n",
       "    <tr>\n",
       "      <th>1</th>\n",
       "      <td>1001</td>\n",
       "      <td>41</td>\n",
       "      <td>NaN</td>\n",
       "      <td>Москва</td>\n",
       "      <td>Иван</td>\n",
       "      <td>Ежов</td>\n",
       "      <td>2018-11-01</td>\n",
       "      <td>smart</td>\n",
       "    </tr>\n",
       "    <tr>\n",
       "      <th>2</th>\n",
       "      <td>1002</td>\n",
       "      <td>59</td>\n",
       "      <td>NaN</td>\n",
       "      <td>Стерлитамак</td>\n",
       "      <td>Евгений</td>\n",
       "      <td>Абрамович</td>\n",
       "      <td>2018-06-17</td>\n",
       "      <td>smart</td>\n",
       "    </tr>\n",
       "    <tr>\n",
       "      <th>3</th>\n",
       "      <td>1003</td>\n",
       "      <td>23</td>\n",
       "      <td>NaN</td>\n",
       "      <td>Москва</td>\n",
       "      <td>Белла</td>\n",
       "      <td>Белякова</td>\n",
       "      <td>2018-08-17</td>\n",
       "      <td>ultra</td>\n",
       "    </tr>\n",
       "    <tr>\n",
       "      <th>4</th>\n",
       "      <td>1004</td>\n",
       "      <td>68</td>\n",
       "      <td>NaN</td>\n",
       "      <td>Новокузнецк</td>\n",
       "      <td>Татьяна</td>\n",
       "      <td>Авдеенко</td>\n",
       "      <td>2018-05-14</td>\n",
       "      <td>ultra</td>\n",
       "    </tr>\n",
       "    <tr>\n",
       "      <th>5</th>\n",
       "      <td>1005</td>\n",
       "      <td>67</td>\n",
       "      <td>NaN</td>\n",
       "      <td>Набережные Челны</td>\n",
       "      <td>Афанасий</td>\n",
       "      <td>Горлов</td>\n",
       "      <td>2018-01-25</td>\n",
       "      <td>smart</td>\n",
       "    </tr>\n",
       "    <tr>\n",
       "      <th>6</th>\n",
       "      <td>1006</td>\n",
       "      <td>21</td>\n",
       "      <td>NaN</td>\n",
       "      <td>Ульяновск</td>\n",
       "      <td>Леонид</td>\n",
       "      <td>Ермолаев</td>\n",
       "      <td>2018-02-26</td>\n",
       "      <td>smart</td>\n",
       "    </tr>\n",
       "    <tr>\n",
       "      <th>7</th>\n",
       "      <td>1007</td>\n",
       "      <td>65</td>\n",
       "      <td>NaN</td>\n",
       "      <td>Москва</td>\n",
       "      <td>Юна</td>\n",
       "      <td>Березина</td>\n",
       "      <td>2018-04-19</td>\n",
       "      <td>smart</td>\n",
       "    </tr>\n",
       "    <tr>\n",
       "      <th>8</th>\n",
       "      <td>1008</td>\n",
       "      <td>63</td>\n",
       "      <td>NaN</td>\n",
       "      <td>Челябинск</td>\n",
       "      <td>Рустэм</td>\n",
       "      <td>Пономарёв</td>\n",
       "      <td>2018-12-19</td>\n",
       "      <td>smart</td>\n",
       "    </tr>\n",
       "    <tr>\n",
       "      <th>9</th>\n",
       "      <td>1009</td>\n",
       "      <td>24</td>\n",
       "      <td>NaN</td>\n",
       "      <td>Пермь</td>\n",
       "      <td>Василиса</td>\n",
       "      <td>Блинова</td>\n",
       "      <td>2018-03-22</td>\n",
       "      <td>smart</td>\n",
       "    </tr>\n",
       "  </tbody>\n",
       "</table>\n",
       "</div>"
      ],
      "text/plain": [
       "   user_id  age churn_date              city first_name  last_name  \\\n",
       "0     1000   52        NaN         Краснодар     Рафаил  Верещагин   \n",
       "1     1001   41        NaN            Москва       Иван       Ежов   \n",
       "2     1002   59        NaN       Стерлитамак    Евгений  Абрамович   \n",
       "3     1003   23        NaN            Москва      Белла   Белякова   \n",
       "4     1004   68        NaN       Новокузнецк    Татьяна   Авдеенко   \n",
       "5     1005   67        NaN  Набережные Челны   Афанасий     Горлов   \n",
       "6     1006   21        NaN         Ульяновск     Леонид   Ермолаев   \n",
       "7     1007   65        NaN            Москва        Юна   Березина   \n",
       "8     1008   63        NaN         Челябинск     Рустэм  Пономарёв   \n",
       "9     1009   24        NaN             Пермь   Василиса    Блинова   \n",
       "\n",
       "     reg_date tariff  \n",
       "0  2018-05-25  ultra  \n",
       "1  2018-11-01  smart  \n",
       "2  2018-06-17  smart  \n",
       "3  2018-08-17  ultra  \n",
       "4  2018-05-14  ultra  \n",
       "5  2018-01-25  smart  \n",
       "6  2018-02-26  smart  \n",
       "7  2018-04-19  smart  \n",
       "8  2018-12-19  smart  \n",
       "9  2018-03-22  smart  "
      ]
     },
     "execution_count": 2,
     "metadata": {},
     "output_type": "execute_result"
    }
   ],
   "source": [
    "df_users = pd.read_csv('users.csv')\n",
    "df_users.head(10)"
   ]
  },
  {
   "cell_type": "code",
   "execution_count": 3,
   "id": "7a06c029",
   "metadata": {},
   "outputs": [
    {
     "name": "stdout",
     "output_type": "stream",
     "text": [
      "<class 'pandas.core.frame.DataFrame'>\n",
      "RangeIndex: 500 entries, 0 to 499\n",
      "Data columns (total 8 columns):\n",
      " #   Column      Non-Null Count  Dtype \n",
      "---  ------      --------------  ----- \n",
      " 0   user_id     500 non-null    int64 \n",
      " 1   age         500 non-null    int64 \n",
      " 2   churn_date  38 non-null     object\n",
      " 3   city        500 non-null    object\n",
      " 4   first_name  500 non-null    object\n",
      " 5   last_name   500 non-null    object\n",
      " 6   reg_date    500 non-null    object\n",
      " 7   tariff      500 non-null    object\n",
      "dtypes: int64(2), object(6)\n",
      "memory usage: 31.4+ KB\n"
     ]
    }
   ],
   "source": [
    "df_users.info()"
   ]
  },
  {
   "cell_type": "code",
   "execution_count": 4,
   "id": "10bac08b",
   "metadata": {},
   "outputs": [
    {
     "data": {
      "text/plain": [
       "user_id         0\n",
       "age             0\n",
       "churn_date    462\n",
       "city            0\n",
       "first_name      0\n",
       "last_name       0\n",
       "reg_date        0\n",
       "tariff          0\n",
       "dtype: int64"
      ]
     },
     "execution_count": 4,
     "metadata": {},
     "output_type": "execute_result"
    }
   ],
   "source": [
    "df_users.isna().sum()"
   ]
  },
  {
   "cell_type": "markdown",
   "id": "b5b340ab",
   "metadata": {},
   "source": [
    "##### Вывод:\n",
    "в таблице с пользователями обнаружен неверный формат даты, пропущеные значения, неверный тип данных"
   ]
  },
  {
   "cell_type": "markdown",
   "id": "c3df7c74",
   "metadata": {},
   "source": [
    "#### Информация о звонках"
   ]
  },
  {
   "cell_type": "code",
   "execution_count": 5,
   "id": "89b36394",
   "metadata": {},
   "outputs": [
    {
     "data": {
      "text/html": [
       "<div>\n",
       "<style scoped>\n",
       "    .dataframe tbody tr th:only-of-type {\n",
       "        vertical-align: middle;\n",
       "    }\n",
       "\n",
       "    .dataframe tbody tr th {\n",
       "        vertical-align: top;\n",
       "    }\n",
       "\n",
       "    .dataframe thead th {\n",
       "        text-align: right;\n",
       "    }\n",
       "</style>\n",
       "<table border=\"1\" class=\"dataframe\">\n",
       "  <thead>\n",
       "    <tr style=\"text-align: right;\">\n",
       "      <th></th>\n",
       "      <th>id</th>\n",
       "      <th>call_date</th>\n",
       "      <th>duration</th>\n",
       "      <th>user_id</th>\n",
       "    </tr>\n",
       "  </thead>\n",
       "  <tbody>\n",
       "    <tr>\n",
       "      <th>0</th>\n",
       "      <td>1000_0</td>\n",
       "      <td>2018-07-25</td>\n",
       "      <td>0.00</td>\n",
       "      <td>1000</td>\n",
       "    </tr>\n",
       "    <tr>\n",
       "      <th>1</th>\n",
       "      <td>1000_1</td>\n",
       "      <td>2018-08-17</td>\n",
       "      <td>0.00</td>\n",
       "      <td>1000</td>\n",
       "    </tr>\n",
       "    <tr>\n",
       "      <th>2</th>\n",
       "      <td>1000_2</td>\n",
       "      <td>2018-06-11</td>\n",
       "      <td>2.85</td>\n",
       "      <td>1000</td>\n",
       "    </tr>\n",
       "    <tr>\n",
       "      <th>3</th>\n",
       "      <td>1000_3</td>\n",
       "      <td>2018-09-21</td>\n",
       "      <td>13.80</td>\n",
       "      <td>1000</td>\n",
       "    </tr>\n",
       "    <tr>\n",
       "      <th>4</th>\n",
       "      <td>1000_4</td>\n",
       "      <td>2018-12-15</td>\n",
       "      <td>5.18</td>\n",
       "      <td>1000</td>\n",
       "    </tr>\n",
       "    <tr>\n",
       "      <th>5</th>\n",
       "      <td>1000_5</td>\n",
       "      <td>2018-11-02</td>\n",
       "      <td>0.00</td>\n",
       "      <td>1000</td>\n",
       "    </tr>\n",
       "    <tr>\n",
       "      <th>6</th>\n",
       "      <td>1000_6</td>\n",
       "      <td>2018-10-18</td>\n",
       "      <td>0.00</td>\n",
       "      <td>1000</td>\n",
       "    </tr>\n",
       "    <tr>\n",
       "      <th>7</th>\n",
       "      <td>1000_7</td>\n",
       "      <td>2018-08-22</td>\n",
       "      <td>18.31</td>\n",
       "      <td>1000</td>\n",
       "    </tr>\n",
       "    <tr>\n",
       "      <th>8</th>\n",
       "      <td>1000_8</td>\n",
       "      <td>2018-09-15</td>\n",
       "      <td>18.44</td>\n",
       "      <td>1000</td>\n",
       "    </tr>\n",
       "    <tr>\n",
       "      <th>9</th>\n",
       "      <td>1000_9</td>\n",
       "      <td>2018-08-15</td>\n",
       "      <td>0.00</td>\n",
       "      <td>1000</td>\n",
       "    </tr>\n",
       "  </tbody>\n",
       "</table>\n",
       "</div>"
      ],
      "text/plain": [
       "       id   call_date  duration  user_id\n",
       "0  1000_0  2018-07-25      0.00     1000\n",
       "1  1000_1  2018-08-17      0.00     1000\n",
       "2  1000_2  2018-06-11      2.85     1000\n",
       "3  1000_3  2018-09-21     13.80     1000\n",
       "4  1000_4  2018-12-15      5.18     1000\n",
       "5  1000_5  2018-11-02      0.00     1000\n",
       "6  1000_6  2018-10-18      0.00     1000\n",
       "7  1000_7  2018-08-22     18.31     1000\n",
       "8  1000_8  2018-09-15     18.44     1000\n",
       "9  1000_9  2018-08-15      0.00     1000"
      ]
     },
     "execution_count": 5,
     "metadata": {},
     "output_type": "execute_result"
    }
   ],
   "source": [
    "df_calls = pd.read_csv('calls.csv')\n",
    "df_calls.head(10)"
   ]
  },
  {
   "cell_type": "code",
   "execution_count": 6,
   "id": "d51a3ecb",
   "metadata": {},
   "outputs": [
    {
     "name": "stdout",
     "output_type": "stream",
     "text": [
      "<class 'pandas.core.frame.DataFrame'>\n",
      "RangeIndex: 202607 entries, 0 to 202606\n",
      "Data columns (total 4 columns):\n",
      " #   Column     Non-Null Count   Dtype  \n",
      "---  ------     --------------   -----  \n",
      " 0   id         202607 non-null  object \n",
      " 1   call_date  202607 non-null  object \n",
      " 2   duration   202607 non-null  float64\n",
      " 3   user_id    202607 non-null  int64  \n",
      "dtypes: float64(1), int64(1), object(2)\n",
      "memory usage: 6.2+ MB\n"
     ]
    }
   ],
   "source": [
    "df_calls.info()"
   ]
  },
  {
   "cell_type": "code",
   "execution_count": 7,
   "id": "f7816c99",
   "metadata": {},
   "outputs": [
    {
     "data": {
      "text/plain": [
       "id           0\n",
       "call_date    0\n",
       "duration     0\n",
       "user_id      0\n",
       "dtype: int64"
      ]
     },
     "execution_count": 7,
     "metadata": {},
     "output_type": "execute_result"
    }
   ],
   "source": [
    "df_calls.isna().sum()"
   ]
  },
  {
   "cell_type": "markdown",
   "id": "fc836be7",
   "metadata": {},
   "source": [
    "##### Вывод:\n",
    "в таблице со звонками обнаружен неверный формат даты, неверный тип данных, необходимо округлить верх длительность звонка до полных минут в соотетствии с политикой «Мегалайна»"
   ]
  },
  {
   "cell_type": "markdown",
   "id": "0b2a4255",
   "metadata": {},
   "source": [
    "#### Информация о сообщениях"
   ]
  },
  {
   "cell_type": "code",
   "execution_count": 8,
   "id": "792f6d85",
   "metadata": {},
   "outputs": [
    {
     "data": {
      "text/html": [
       "<div>\n",
       "<style scoped>\n",
       "    .dataframe tbody tr th:only-of-type {\n",
       "        vertical-align: middle;\n",
       "    }\n",
       "\n",
       "    .dataframe tbody tr th {\n",
       "        vertical-align: top;\n",
       "    }\n",
       "\n",
       "    .dataframe thead th {\n",
       "        text-align: right;\n",
       "    }\n",
       "</style>\n",
       "<table border=\"1\" class=\"dataframe\">\n",
       "  <thead>\n",
       "    <tr style=\"text-align: right;\">\n",
       "      <th></th>\n",
       "      <th>id</th>\n",
       "      <th>message_date</th>\n",
       "      <th>user_id</th>\n",
       "    </tr>\n",
       "  </thead>\n",
       "  <tbody>\n",
       "    <tr>\n",
       "      <th>0</th>\n",
       "      <td>1000_0</td>\n",
       "      <td>2018-06-27</td>\n",
       "      <td>1000</td>\n",
       "    </tr>\n",
       "    <tr>\n",
       "      <th>1</th>\n",
       "      <td>1000_1</td>\n",
       "      <td>2018-10-08</td>\n",
       "      <td>1000</td>\n",
       "    </tr>\n",
       "    <tr>\n",
       "      <th>2</th>\n",
       "      <td>1000_2</td>\n",
       "      <td>2018-08-04</td>\n",
       "      <td>1000</td>\n",
       "    </tr>\n",
       "    <tr>\n",
       "      <th>3</th>\n",
       "      <td>1000_3</td>\n",
       "      <td>2018-06-16</td>\n",
       "      <td>1000</td>\n",
       "    </tr>\n",
       "    <tr>\n",
       "      <th>4</th>\n",
       "      <td>1000_4</td>\n",
       "      <td>2018-12-05</td>\n",
       "      <td>1000</td>\n",
       "    </tr>\n",
       "    <tr>\n",
       "      <th>5</th>\n",
       "      <td>1000_5</td>\n",
       "      <td>2018-06-20</td>\n",
       "      <td>1000</td>\n",
       "    </tr>\n",
       "    <tr>\n",
       "      <th>6</th>\n",
       "      <td>1000_6</td>\n",
       "      <td>2018-11-19</td>\n",
       "      <td>1000</td>\n",
       "    </tr>\n",
       "    <tr>\n",
       "      <th>7</th>\n",
       "      <td>1000_7</td>\n",
       "      <td>2018-10-29</td>\n",
       "      <td>1000</td>\n",
       "    </tr>\n",
       "    <tr>\n",
       "      <th>8</th>\n",
       "      <td>1000_8</td>\n",
       "      <td>2018-06-25</td>\n",
       "      <td>1000</td>\n",
       "    </tr>\n",
       "    <tr>\n",
       "      <th>9</th>\n",
       "      <td>1000_9</td>\n",
       "      <td>2018-12-18</td>\n",
       "      <td>1000</td>\n",
       "    </tr>\n",
       "  </tbody>\n",
       "</table>\n",
       "</div>"
      ],
      "text/plain": [
       "       id message_date  user_id\n",
       "0  1000_0   2018-06-27     1000\n",
       "1  1000_1   2018-10-08     1000\n",
       "2  1000_2   2018-08-04     1000\n",
       "3  1000_3   2018-06-16     1000\n",
       "4  1000_4   2018-12-05     1000\n",
       "5  1000_5   2018-06-20     1000\n",
       "6  1000_6   2018-11-19     1000\n",
       "7  1000_7   2018-10-29     1000\n",
       "8  1000_8   2018-06-25     1000\n",
       "9  1000_9   2018-12-18     1000"
      ]
     },
     "execution_count": 8,
     "metadata": {},
     "output_type": "execute_result"
    }
   ],
   "source": [
    "df_messages = pd.read_csv('messages.csv')\n",
    "df_messages.head(10)"
   ]
  },
  {
   "cell_type": "code",
   "execution_count": 9,
   "id": "1b180629",
   "metadata": {},
   "outputs": [
    {
     "name": "stdout",
     "output_type": "stream",
     "text": [
      "<class 'pandas.core.frame.DataFrame'>\n",
      "RangeIndex: 123036 entries, 0 to 123035\n",
      "Data columns (total 3 columns):\n",
      " #   Column        Non-Null Count   Dtype \n",
      "---  ------        --------------   ----- \n",
      " 0   id            123036 non-null  object\n",
      " 1   message_date  123036 non-null  object\n",
      " 2   user_id       123036 non-null  int64 \n",
      "dtypes: int64(1), object(2)\n",
      "memory usage: 2.8+ MB\n"
     ]
    }
   ],
   "source": [
    "df_messages.info()"
   ]
  },
  {
   "cell_type": "code",
   "execution_count": 10,
   "id": "8f5a1f7b",
   "metadata": {},
   "outputs": [
    {
     "data": {
      "text/plain": [
       "id              0\n",
       "message_date    0\n",
       "user_id         0\n",
       "dtype: int64"
      ]
     },
     "execution_count": 10,
     "metadata": {},
     "output_type": "execute_result"
    }
   ],
   "source": [
    "df_messages.isna().sum()"
   ]
  },
  {
   "cell_type": "markdown",
   "id": "b79d2fce",
   "metadata": {},
   "source": [
    "##### Вывод:\n",
    "в таблице с сообщениями обнаружен неверный формат даты, неверный тип данных"
   ]
  },
  {
   "cell_type": "markdown",
   "id": "eedaff3d",
   "metadata": {},
   "source": [
    "#### Информация об интернет-сессиях"
   ]
  },
  {
   "cell_type": "code",
   "execution_count": 11,
   "id": "449fc129",
   "metadata": {},
   "outputs": [
    {
     "data": {
      "text/html": [
       "<div>\n",
       "<style scoped>\n",
       "    .dataframe tbody tr th:only-of-type {\n",
       "        vertical-align: middle;\n",
       "    }\n",
       "\n",
       "    .dataframe tbody tr th {\n",
       "        vertical-align: top;\n",
       "    }\n",
       "\n",
       "    .dataframe thead th {\n",
       "        text-align: right;\n",
       "    }\n",
       "</style>\n",
       "<table border=\"1\" class=\"dataframe\">\n",
       "  <thead>\n",
       "    <tr style=\"text-align: right;\">\n",
       "      <th></th>\n",
       "      <th>Unnamed: 0</th>\n",
       "      <th>id</th>\n",
       "      <th>mb_used</th>\n",
       "      <th>session_date</th>\n",
       "      <th>user_id</th>\n",
       "    </tr>\n",
       "  </thead>\n",
       "  <tbody>\n",
       "    <tr>\n",
       "      <th>0</th>\n",
       "      <td>0</td>\n",
       "      <td>1000_0</td>\n",
       "      <td>112.95</td>\n",
       "      <td>2018-11-25</td>\n",
       "      <td>1000</td>\n",
       "    </tr>\n",
       "    <tr>\n",
       "      <th>1</th>\n",
       "      <td>1</td>\n",
       "      <td>1000_1</td>\n",
       "      <td>1052.81</td>\n",
       "      <td>2018-09-07</td>\n",
       "      <td>1000</td>\n",
       "    </tr>\n",
       "    <tr>\n",
       "      <th>2</th>\n",
       "      <td>2</td>\n",
       "      <td>1000_2</td>\n",
       "      <td>1197.26</td>\n",
       "      <td>2018-06-25</td>\n",
       "      <td>1000</td>\n",
       "    </tr>\n",
       "    <tr>\n",
       "      <th>3</th>\n",
       "      <td>3</td>\n",
       "      <td>1000_3</td>\n",
       "      <td>550.27</td>\n",
       "      <td>2018-08-22</td>\n",
       "      <td>1000</td>\n",
       "    </tr>\n",
       "    <tr>\n",
       "      <th>4</th>\n",
       "      <td>4</td>\n",
       "      <td>1000_4</td>\n",
       "      <td>302.56</td>\n",
       "      <td>2018-09-24</td>\n",
       "      <td>1000</td>\n",
       "    </tr>\n",
       "    <tr>\n",
       "      <th>5</th>\n",
       "      <td>5</td>\n",
       "      <td>1000_5</td>\n",
       "      <td>399.97</td>\n",
       "      <td>2018-10-02</td>\n",
       "      <td>1000</td>\n",
       "    </tr>\n",
       "    <tr>\n",
       "      <th>6</th>\n",
       "      <td>6</td>\n",
       "      <td>1000_6</td>\n",
       "      <td>540.08</td>\n",
       "      <td>2018-09-07</td>\n",
       "      <td>1000</td>\n",
       "    </tr>\n",
       "    <tr>\n",
       "      <th>7</th>\n",
       "      <td>7</td>\n",
       "      <td>1000_7</td>\n",
       "      <td>415.70</td>\n",
       "      <td>2018-07-11</td>\n",
       "      <td>1000</td>\n",
       "    </tr>\n",
       "    <tr>\n",
       "      <th>8</th>\n",
       "      <td>8</td>\n",
       "      <td>1000_8</td>\n",
       "      <td>505.40</td>\n",
       "      <td>2018-10-08</td>\n",
       "      <td>1000</td>\n",
       "    </tr>\n",
       "    <tr>\n",
       "      <th>9</th>\n",
       "      <td>9</td>\n",
       "      <td>1000_9</td>\n",
       "      <td>345.54</td>\n",
       "      <td>2018-09-03</td>\n",
       "      <td>1000</td>\n",
       "    </tr>\n",
       "  </tbody>\n",
       "</table>\n",
       "</div>"
      ],
      "text/plain": [
       "   Unnamed: 0      id  mb_used session_date  user_id\n",
       "0           0  1000_0   112.95   2018-11-25     1000\n",
       "1           1  1000_1  1052.81   2018-09-07     1000\n",
       "2           2  1000_2  1197.26   2018-06-25     1000\n",
       "3           3  1000_3   550.27   2018-08-22     1000\n",
       "4           4  1000_4   302.56   2018-09-24     1000\n",
       "5           5  1000_5   399.97   2018-10-02     1000\n",
       "6           6  1000_6   540.08   2018-09-07     1000\n",
       "7           7  1000_7   415.70   2018-07-11     1000\n",
       "8           8  1000_8   505.40   2018-10-08     1000\n",
       "9           9  1000_9   345.54   2018-09-03     1000"
      ]
     },
     "execution_count": 11,
     "metadata": {},
     "output_type": "execute_result"
    }
   ],
   "source": [
    "df_internet = pd.read_csv('internet.csv')\n",
    "df_internet.head(10)"
   ]
  },
  {
   "cell_type": "code",
   "execution_count": 12,
   "id": "abf0a3cb",
   "metadata": {},
   "outputs": [
    {
     "name": "stdout",
     "output_type": "stream",
     "text": [
      "<class 'pandas.core.frame.DataFrame'>\n",
      "RangeIndex: 149396 entries, 0 to 149395\n",
      "Data columns (total 5 columns):\n",
      " #   Column        Non-Null Count   Dtype  \n",
      "---  ------        --------------   -----  \n",
      " 0   Unnamed: 0    149396 non-null  int64  \n",
      " 1   id            149396 non-null  object \n",
      " 2   mb_used       149396 non-null  float64\n",
      " 3   session_date  149396 non-null  object \n",
      " 4   user_id       149396 non-null  int64  \n",
      "dtypes: float64(1), int64(2), object(2)\n",
      "memory usage: 5.7+ MB\n"
     ]
    }
   ],
   "source": [
    "df_internet.info()"
   ]
  },
  {
   "cell_type": "code",
   "execution_count": 13,
   "id": "6c3016c4",
   "metadata": {},
   "outputs": [
    {
     "data": {
      "text/plain": [
       "Unnamed: 0      0\n",
       "id              0\n",
       "mb_used         0\n",
       "session_date    0\n",
       "user_id         0\n",
       "dtype: int64"
      ]
     },
     "execution_count": 13,
     "metadata": {},
     "output_type": "execute_result"
    }
   ],
   "source": [
    "df_internet.isna().sum()"
   ]
  },
  {
   "cell_type": "markdown",
   "id": "3697158c",
   "metadata": {},
   "source": [
    "##### Вывод:\n",
    "в таблице с инеренетом обнаружен неверный формат даты, неверный тип данных,необходимо округлить верх объём потраченного за сессию интернет-трафика (в мегабайтах) в соотетствии с политикой «Мегалайна»"
   ]
  },
  {
   "cell_type": "markdown",
   "id": "2e16736f",
   "metadata": {},
   "source": [
    "#### Информация о тарифах"
   ]
  },
  {
   "cell_type": "code",
   "execution_count": 14,
   "id": "3cc25155",
   "metadata": {},
   "outputs": [
    {
     "data": {
      "text/html": [
       "<div>\n",
       "<style scoped>\n",
       "    .dataframe tbody tr th:only-of-type {\n",
       "        vertical-align: middle;\n",
       "    }\n",
       "\n",
       "    .dataframe tbody tr th {\n",
       "        vertical-align: top;\n",
       "    }\n",
       "\n",
       "    .dataframe thead th {\n",
       "        text-align: right;\n",
       "    }\n",
       "</style>\n",
       "<table border=\"1\" class=\"dataframe\">\n",
       "  <thead>\n",
       "    <tr style=\"text-align: right;\">\n",
       "      <th></th>\n",
       "      <th>messages_included</th>\n",
       "      <th>mb_per_month_included</th>\n",
       "      <th>minutes_included</th>\n",
       "      <th>rub_monthly_fee</th>\n",
       "      <th>rub_per_gb</th>\n",
       "      <th>rub_per_message</th>\n",
       "      <th>rub_per_minute</th>\n",
       "      <th>tariff_name</th>\n",
       "    </tr>\n",
       "  </thead>\n",
       "  <tbody>\n",
       "    <tr>\n",
       "      <th>0</th>\n",
       "      <td>50</td>\n",
       "      <td>15360</td>\n",
       "      <td>500</td>\n",
       "      <td>550</td>\n",
       "      <td>200</td>\n",
       "      <td>3</td>\n",
       "      <td>3</td>\n",
       "      <td>smart</td>\n",
       "    </tr>\n",
       "    <tr>\n",
       "      <th>1</th>\n",
       "      <td>1000</td>\n",
       "      <td>30720</td>\n",
       "      <td>3000</td>\n",
       "      <td>1950</td>\n",
       "      <td>150</td>\n",
       "      <td>1</td>\n",
       "      <td>1</td>\n",
       "      <td>ultra</td>\n",
       "    </tr>\n",
       "  </tbody>\n",
       "</table>\n",
       "</div>"
      ],
      "text/plain": [
       "   messages_included  mb_per_month_included  minutes_included  \\\n",
       "0                 50                  15360               500   \n",
       "1               1000                  30720              3000   \n",
       "\n",
       "   rub_monthly_fee  rub_per_gb  rub_per_message  rub_per_minute tariff_name  \n",
       "0              550         200                3               3       smart  \n",
       "1             1950         150                1               1       ultra  "
      ]
     },
     "execution_count": 14,
     "metadata": {},
     "output_type": "execute_result"
    }
   ],
   "source": [
    "df_tariffs = pd.read_csv('tariffs.csv')\n",
    "df_tariffs.head(10)"
   ]
  },
  {
   "cell_type": "code",
   "execution_count": 15,
   "id": "5d7bf808",
   "metadata": {},
   "outputs": [
    {
     "name": "stdout",
     "output_type": "stream",
     "text": [
      "<class 'pandas.core.frame.DataFrame'>\n",
      "RangeIndex: 2 entries, 0 to 1\n",
      "Data columns (total 8 columns):\n",
      " #   Column                 Non-Null Count  Dtype \n",
      "---  ------                 --------------  ----- \n",
      " 0   messages_included      2 non-null      int64 \n",
      " 1   mb_per_month_included  2 non-null      int64 \n",
      " 2   minutes_included       2 non-null      int64 \n",
      " 3   rub_monthly_fee        2 non-null      int64 \n",
      " 4   rub_per_gb             2 non-null      int64 \n",
      " 5   rub_per_message        2 non-null      int64 \n",
      " 6   rub_per_minute         2 non-null      int64 \n",
      " 7   tariff_name            2 non-null      object\n",
      "dtypes: int64(7), object(1)\n",
      "memory usage: 256.0+ bytes\n"
     ]
    }
   ],
   "source": [
    "df_tariffs.info()"
   ]
  },
  {
   "cell_type": "code",
   "execution_count": 16,
   "id": "69444490",
   "metadata": {},
   "outputs": [
    {
     "data": {
      "text/plain": [
       "messages_included        0\n",
       "mb_per_month_included    0\n",
       "minutes_included         0\n",
       "rub_monthly_fee          0\n",
       "rub_per_gb               0\n",
       "rub_per_message          0\n",
       "rub_per_minute           0\n",
       "tariff_name              0\n",
       "dtype: int64"
      ]
     },
     "execution_count": 16,
     "metadata": {},
     "output_type": "execute_result"
    }
   ],
   "source": [
    "df_tariffs.isna().sum()"
   ]
  },
  {
   "cell_type": "markdown",
   "id": "81ea0135",
   "metadata": {},
   "source": [
    "#### Общий вывод по данным:\n",
    "- в таблицах обнаружены неверные форматы дат, \n",
    "- неверные типы данных,\n",
    "- пропущеные значения, \n",
    "- необхдимость окруления вверх до полных минут и до полных мегабайтов  "
   ]
  },
  {
   "cell_type": "markdown",
   "id": "113bea18",
   "metadata": {},
   "source": [
    "### 2. Подготовка данных"
   ]
  },
  {
   "cell_type": "code",
   "execution_count": 17,
   "id": "e8a42407",
   "metadata": {},
   "outputs": [],
   "source": [
    "#округлим в большую сторону звонки и сообщения\n",
    "df_calls['duration'] = df_calls['duration'].apply(np.ceil)\n",
    "df_internet['mb_used'] = df_internet['mb_used'].apply(np.ceil)"
   ]
  },
  {
   "cell_type": "code",
   "execution_count": 18,
   "id": "15c5fd8a",
   "metadata": {},
   "outputs": [],
   "source": [
    "#приводим в формат datetime\n",
    "df_users['reg_date'] = pd.to_datetime(df_users['reg_date'], format='%Y-%m-%d')\n",
    "df_users['churn_date'] = pd.to_datetime(df_users['churn_date'], format='%Y-%m-%d')\n",
    "df_calls['call_date'] = pd.to_datetime(df_calls['call_date'], format='%Y-%m-%d')\n",
    "df_messages['message_date'] = pd.to_datetime(df_messages['message_date'], format='%Y-%m-%d')\n",
    "df_internet['session_date'] = pd.to_datetime(df_internet['session_date'], format='%Y-%m-%d')"
   ]
  },
  {
   "cell_type": "code",
   "execution_count": 19,
   "id": "63240cdf",
   "metadata": {},
   "outputs": [],
   "source": [
    "# приведем к нужным типам минуты и мегабайты\n",
    "df_calls['duration'] = df_calls['duration'].astype('int64')\n",
    "df_internet['mb_used'] = df_internet['mb_used'].astype('int64')"
   ]
  },
  {
   "cell_type": "markdown",
   "id": "d95061f3",
   "metadata": {},
   "source": [
    "##### Посчитаем для каждого пользователя:"
   ]
  },
  {
   "cell_type": "code",
   "execution_count": 20,
   "id": "429207ee",
   "metadata": {},
   "outputs": [],
   "source": [
    "users_score = pd.DataFrame()"
   ]
  },
  {
   "cell_type": "code",
   "execution_count": 21,
   "id": "fa8e1781",
   "metadata": {},
   "outputs": [],
   "source": [
    "# количество сделанных звонков и израсходованных минут разговора по месяцам\n",
    "\n",
    "df_calls['month'] = pd.DatetimeIndex(df_calls['call_date']).month\n",
    "\n",
    "calls_in_month = df_calls.pivot_table(\n",
    "    index=['month', 'user_id'],\n",
    "    values='duration',\n",
    "    aggfunc=['count', 'sum']\n",
    ")\n",
    "\n",
    "waste_df = pd.DataFrame(calls_in_month.to_records())\n",
    "\n",
    "users_score['user_id'] = waste_df['user_id']\n",
    "users_score['month']   = waste_df['month']\n",
    "users_score['calls']   = waste_df.iloc[:, 2]\n",
    "users_score['minutes'] = waste_df.iloc[:, 3]"
   ]
  },
  {
   "cell_type": "code",
   "execution_count": 22,
   "id": "8a21d76a",
   "metadata": {},
   "outputs": [],
   "source": [
    "# количество отправленных сообщений по месяцам\n",
    "\n",
    "df_messages['month'] = pd.DatetimeIndex(df_messages['message_date']).month\n",
    "\n",
    "messages_in_month = df_messages.pivot_table(\n",
    "    index=['month', 'user_id'],\n",
    "    values='id',\n",
    "    aggfunc='count'\n",
    ")\n",
    "\n",
    "waste_df = pd.DataFrame(messages_in_month.to_records()).rename(columns={'id': 'messages'})\n",
    "\n",
    "users_score = users_score.merge(waste_df, on=['user_id', 'month'], how='outer')"
   ]
  },
  {
   "cell_type": "code",
   "execution_count": 23,
   "id": "e3d0ed24",
   "metadata": {},
   "outputs": [
    {
     "data": {
      "text/html": [
       "<div>\n",
       "<style scoped>\n",
       "    .dataframe tbody tr th:only-of-type {\n",
       "        vertical-align: middle;\n",
       "    }\n",
       "\n",
       "    .dataframe tbody tr th {\n",
       "        vertical-align: top;\n",
       "    }\n",
       "\n",
       "    .dataframe thead th {\n",
       "        text-align: right;\n",
       "    }\n",
       "</style>\n",
       "<table border=\"1\" class=\"dataframe\">\n",
       "  <thead>\n",
       "    <tr style=\"text-align: right;\">\n",
       "      <th></th>\n",
       "      <th>user_id</th>\n",
       "      <th>month</th>\n",
       "      <th>calls</th>\n",
       "      <th>minutes</th>\n",
       "      <th>messages</th>\n",
       "      <th>mb_used</th>\n",
       "    </tr>\n",
       "  </thead>\n",
       "  <tbody>\n",
       "    <tr>\n",
       "      <th>0</th>\n",
       "      <td>1005</td>\n",
       "      <td>1</td>\n",
       "      <td>15.0</td>\n",
       "      <td>95.0</td>\n",
       "      <td>7.0</td>\n",
       "      <td>2730.0</td>\n",
       "    </tr>\n",
       "    <tr>\n",
       "      <th>1</th>\n",
       "      <td>1032</td>\n",
       "      <td>1</td>\n",
       "      <td>61.0</td>\n",
       "      <td>380.0</td>\n",
       "      <td>38.0</td>\n",
       "      <td>24147.0</td>\n",
       "    </tr>\n",
       "    <tr>\n",
       "      <th>2</th>\n",
       "      <td>1045</td>\n",
       "      <td>1</td>\n",
       "      <td>1.0</td>\n",
       "      <td>9.0</td>\n",
       "      <td>5.0</td>\n",
       "      <td>2348.0</td>\n",
       "    </tr>\n",
       "    <tr>\n",
       "      <th>3</th>\n",
       "      <td>1055</td>\n",
       "      <td>1</td>\n",
       "      <td>64.0</td>\n",
       "      <td>551.0</td>\n",
       "      <td>30.0</td>\n",
       "      <td>17111.0</td>\n",
       "    </tr>\n",
       "    <tr>\n",
       "      <th>4</th>\n",
       "      <td>1071</td>\n",
       "      <td>1</td>\n",
       "      <td>24.0</td>\n",
       "      <td>194.0</td>\n",
       "      <td>16.0</td>\n",
       "      <td>15622.0</td>\n",
       "    </tr>\n",
       "    <tr>\n",
       "      <th>...</th>\n",
       "      <td>...</td>\n",
       "      <td>...</td>\n",
       "      <td>...</td>\n",
       "      <td>...</td>\n",
       "      <td>...</td>\n",
       "      <td>...</td>\n",
       "    </tr>\n",
       "    <tr>\n",
       "      <th>3209</th>\n",
       "      <td>1231</td>\n",
       "      <td>12</td>\n",
       "      <td>NaN</td>\n",
       "      <td>NaN</td>\n",
       "      <td>191.0</td>\n",
       "      <td>32481.0</td>\n",
       "    </tr>\n",
       "    <tr>\n",
       "      <th>3210</th>\n",
       "      <td>1328</td>\n",
       "      <td>12</td>\n",
       "      <td>NaN</td>\n",
       "      <td>NaN</td>\n",
       "      <td>7.0</td>\n",
       "      <td>39461.0</td>\n",
       "    </tr>\n",
       "    <tr>\n",
       "      <th>3211</th>\n",
       "      <td>1473</td>\n",
       "      <td>12</td>\n",
       "      <td>NaN</td>\n",
       "      <td>NaN</td>\n",
       "      <td>20.0</td>\n",
       "      <td>18432.0</td>\n",
       "    </tr>\n",
       "    <tr>\n",
       "      <th>3212</th>\n",
       "      <td>1489</td>\n",
       "      <td>12</td>\n",
       "      <td>NaN</td>\n",
       "      <td>NaN</td>\n",
       "      <td>35.0</td>\n",
       "      <td>17341.0</td>\n",
       "    </tr>\n",
       "    <tr>\n",
       "      <th>3213</th>\n",
       "      <td>1476</td>\n",
       "      <td>4</td>\n",
       "      <td>NaN</td>\n",
       "      <td>NaN</td>\n",
       "      <td>NaN</td>\n",
       "      <td>531.0</td>\n",
       "    </tr>\n",
       "  </tbody>\n",
       "</table>\n",
       "<p>3214 rows × 6 columns</p>\n",
       "</div>"
      ],
      "text/plain": [
       "      user_id  month  calls  minutes  messages  mb_used\n",
       "0        1005      1   15.0     95.0       7.0   2730.0\n",
       "1        1032      1   61.0    380.0      38.0  24147.0\n",
       "2        1045      1    1.0      9.0       5.0   2348.0\n",
       "3        1055      1   64.0    551.0      30.0  17111.0\n",
       "4        1071      1   24.0    194.0      16.0  15622.0\n",
       "...       ...    ...    ...      ...       ...      ...\n",
       "3209     1231     12    NaN      NaN     191.0  32481.0\n",
       "3210     1328     12    NaN      NaN       7.0  39461.0\n",
       "3211     1473     12    NaN      NaN      20.0  18432.0\n",
       "3212     1489     12    NaN      NaN      35.0  17341.0\n",
       "3213     1476      4    NaN      NaN       NaN    531.0\n",
       "\n",
       "[3214 rows x 6 columns]"
      ]
     },
     "execution_count": 23,
     "metadata": {},
     "output_type": "execute_result"
    }
   ],
   "source": [
    "# объем израсходованного интернет-трафика по месяцам\n",
    "\n",
    "df_internet['month'] = pd.DatetimeIndex(df_internet['session_date']).month\n",
    "\n",
    "internet_in_month = df_internet.pivot_table(\n",
    "    index=['month', 'user_id'],\n",
    "    values='mb_used',\n",
    "    aggfunc='sum'\n",
    ")\n",
    "\n",
    "waste_df = pd.DataFrame(internet_in_month.to_records())\n",
    "\n",
    "users_score = users_score.merge(waste_df, on=['user_id', 'month'], how='outer')\n",
    "users_score"
   ]
  },
  {
   "cell_type": "code",
   "execution_count": 24,
   "id": "b0adb1a1",
   "metadata": {},
   "outputs": [
    {
     "name": "stdout",
     "output_type": "stream",
     "text": [
      "<class 'pandas.core.frame.DataFrame'>\n",
      "Int64Index: 3214 entries, 0 to 3213\n",
      "Data columns (total 6 columns):\n",
      " #   Column    Non-Null Count  Dtype  \n",
      "---  ------    --------------  -----  \n",
      " 0   user_id   3214 non-null   int64  \n",
      " 1   month     3214 non-null   int64  \n",
      " 2   calls     3174 non-null   float64\n",
      " 3   minutes   3174 non-null   float64\n",
      " 4   messages  2717 non-null   float64\n",
      " 5   mb_used   3203 non-null   float64\n",
      "dtypes: float64(4), int64(2)\n",
      "memory usage: 175.8 KB\n"
     ]
    }
   ],
   "source": [
    "users_score.info()"
   ]
  },
  {
   "cell_type": "markdown",
   "id": "ba96940c",
   "metadata": {},
   "source": [
    "##### Вывод:\n",
    "Теперь, в `users_score` мы видим следующую информацию по пользователям в разрезе месяцев:\n",
    "- количество сделанных звонков и израсходованных минут разговора;\n",
    "- количество отправленных сообщений;\n",
    "- объем израсходованного интернет-трафика в мегабайтах.\n",
    "\n"
   ]
  },
  {
   "cell_type": "markdown",
   "id": "d7a541d8",
   "metadata": {},
   "source": [
    "После формирования датафрейма по месяцам появились пропуски. Иногда пользователи пользовались не всеми услугами. Например, кто-то только мобильным интернетом. Заполним пропуски нулями и позже посмотрим на распределение."
   ]
  },
  {
   "cell_type": "code",
   "execution_count": 25,
   "id": "0efff96e",
   "metadata": {},
   "outputs": [],
   "source": [
    "# заменим пропуски на 0 и поменяем тип данных\n",
    "skips = ['calls', 'minutes', 'messages', 'mb_used']\n",
    "\n",
    "for i in skips:\n",
    "    users_score[i] = users_score[i].fillna(0).astype('int64')"
   ]
  },
  {
   "cell_type": "code",
   "execution_count": 26,
   "id": "e060e9de",
   "metadata": {},
   "outputs": [
    {
     "name": "stdout",
     "output_type": "stream",
     "text": [
      "<class 'pandas.core.frame.DataFrame'>\n",
      "Int64Index: 3214 entries, 0 to 3213\n",
      "Data columns (total 6 columns):\n",
      " #   Column    Non-Null Count  Dtype\n",
      "---  ------    --------------  -----\n",
      " 0   user_id   3214 non-null   int64\n",
      " 1   month     3214 non-null   int64\n",
      " 2   calls     3214 non-null   int64\n",
      " 3   minutes   3214 non-null   int64\n",
      " 4   messages  3214 non-null   int64\n",
      " 5   mb_used   3214 non-null   int64\n",
      "dtypes: int64(6)\n",
      "memory usage: 175.8 KB\n"
     ]
    }
   ],
   "source": [
    "users_score.info()"
   ]
  },
  {
   "cell_type": "code",
   "execution_count": 27,
   "id": "c102dd9c",
   "metadata": {},
   "outputs": [
    {
     "data": {
      "text/html": [
       "<div>\n",
       "<style scoped>\n",
       "    .dataframe tbody tr th:only-of-type {\n",
       "        vertical-align: middle;\n",
       "    }\n",
       "\n",
       "    .dataframe tbody tr th {\n",
       "        vertical-align: top;\n",
       "    }\n",
       "\n",
       "    .dataframe thead th {\n",
       "        text-align: right;\n",
       "    }\n",
       "</style>\n",
       "<table border=\"1\" class=\"dataframe\">\n",
       "  <thead>\n",
       "    <tr style=\"text-align: right;\">\n",
       "      <th></th>\n",
       "      <th>user_id</th>\n",
       "      <th>month</th>\n",
       "      <th>calls</th>\n",
       "      <th>minutes</th>\n",
       "      <th>messages</th>\n",
       "      <th>mb_used</th>\n",
       "    </tr>\n",
       "  </thead>\n",
       "  <tbody>\n",
       "    <tr>\n",
       "      <th>0</th>\n",
       "      <td>1005</td>\n",
       "      <td>1</td>\n",
       "      <td>15</td>\n",
       "      <td>95</td>\n",
       "      <td>7</td>\n",
       "      <td>2730</td>\n",
       "    </tr>\n",
       "    <tr>\n",
       "      <th>1</th>\n",
       "      <td>1032</td>\n",
       "      <td>1</td>\n",
       "      <td>61</td>\n",
       "      <td>380</td>\n",
       "      <td>38</td>\n",
       "      <td>24147</td>\n",
       "    </tr>\n",
       "    <tr>\n",
       "      <th>2</th>\n",
       "      <td>1045</td>\n",
       "      <td>1</td>\n",
       "      <td>1</td>\n",
       "      <td>9</td>\n",
       "      <td>5</td>\n",
       "      <td>2348</td>\n",
       "    </tr>\n",
       "    <tr>\n",
       "      <th>3</th>\n",
       "      <td>1055</td>\n",
       "      <td>1</td>\n",
       "      <td>64</td>\n",
       "      <td>551</td>\n",
       "      <td>30</td>\n",
       "      <td>17111</td>\n",
       "    </tr>\n",
       "    <tr>\n",
       "      <th>4</th>\n",
       "      <td>1071</td>\n",
       "      <td>1</td>\n",
       "      <td>24</td>\n",
       "      <td>194</td>\n",
       "      <td>16</td>\n",
       "      <td>15622</td>\n",
       "    </tr>\n",
       "    <tr>\n",
       "      <th>...</th>\n",
       "      <td>...</td>\n",
       "      <td>...</td>\n",
       "      <td>...</td>\n",
       "      <td>...</td>\n",
       "      <td>...</td>\n",
       "      <td>...</td>\n",
       "    </tr>\n",
       "    <tr>\n",
       "      <th>3209</th>\n",
       "      <td>1231</td>\n",
       "      <td>12</td>\n",
       "      <td>0</td>\n",
       "      <td>0</td>\n",
       "      <td>191</td>\n",
       "      <td>32481</td>\n",
       "    </tr>\n",
       "    <tr>\n",
       "      <th>3210</th>\n",
       "      <td>1328</td>\n",
       "      <td>12</td>\n",
       "      <td>0</td>\n",
       "      <td>0</td>\n",
       "      <td>7</td>\n",
       "      <td>39461</td>\n",
       "    </tr>\n",
       "    <tr>\n",
       "      <th>3211</th>\n",
       "      <td>1473</td>\n",
       "      <td>12</td>\n",
       "      <td>0</td>\n",
       "      <td>0</td>\n",
       "      <td>20</td>\n",
       "      <td>18432</td>\n",
       "    </tr>\n",
       "    <tr>\n",
       "      <th>3212</th>\n",
       "      <td>1489</td>\n",
       "      <td>12</td>\n",
       "      <td>0</td>\n",
       "      <td>0</td>\n",
       "      <td>35</td>\n",
       "      <td>17341</td>\n",
       "    </tr>\n",
       "    <tr>\n",
       "      <th>3213</th>\n",
       "      <td>1476</td>\n",
       "      <td>4</td>\n",
       "      <td>0</td>\n",
       "      <td>0</td>\n",
       "      <td>0</td>\n",
       "      <td>531</td>\n",
       "    </tr>\n",
       "  </tbody>\n",
       "</table>\n",
       "<p>3214 rows × 6 columns</p>\n",
       "</div>"
      ],
      "text/plain": [
       "      user_id  month  calls  minutes  messages  mb_used\n",
       "0        1005      1     15       95         7     2730\n",
       "1        1032      1     61      380        38    24147\n",
       "2        1045      1      1        9         5     2348\n",
       "3        1055      1     64      551        30    17111\n",
       "4        1071      1     24      194        16    15622\n",
       "...       ...    ...    ...      ...       ...      ...\n",
       "3209     1231     12      0        0       191    32481\n",
       "3210     1328     12      0        0         7    39461\n",
       "3211     1473     12      0        0        20    18432\n",
       "3212     1489     12      0        0        35    17341\n",
       "3213     1476      4      0        0         0      531\n",
       "\n",
       "[3214 rows x 6 columns]"
      ]
     },
     "execution_count": 27,
     "metadata": {},
     "output_type": "execute_result"
    }
   ],
   "source": [
    "users_score"
   ]
  },
  {
   "cell_type": "markdown",
   "id": "f8f2ef89",
   "metadata": {},
   "source": [
    "##### посчитаем помесячную выручку:"
   ]
  },
  {
   "cell_type": "code",
   "execution_count": 28,
   "id": "9aa65571",
   "metadata": {},
   "outputs": [],
   "source": [
    "# Поменяем имя одного столбца, для слияния таблиц\n",
    "df_tariffs = df_tariffs.rename(columns={'tariff_name': 'tariff'})"
   ]
  },
  {
   "cell_type": "code",
   "execution_count": 29,
   "id": "4002b6e1",
   "metadata": {},
   "outputs": [],
   "source": [
    "# Добавим в датафрейм информацию о пользователях и тарифах\n",
    "users_score = users_score.merge(df_users, on='user_id', how='left').merge(df_tariffs, on='tariff', how='left')"
   ]
  },
  {
   "cell_type": "code",
   "execution_count": 30,
   "id": "d42d9dd9",
   "metadata": {},
   "outputs": [],
   "source": [
    "# Перерасход минут, сообщений и трафика посчитаем как разность между месячным значением и включенным в тариф\n",
    "users_score['minutes_over']  = users_score['minutes'] - users_score['minutes_included']\n",
    "users_score['messages_over'] = users_score['messages'] - users_score['messages_included']\n",
    "users_score['mb_used_over']  = users_score['mb_used'] - users_score['mb_per_month_included']"
   ]
  },
  {
   "cell_type": "code",
   "execution_count": 31,
   "id": "a1551dd0",
   "metadata": {},
   "outputs": [
    {
     "data": {
      "text/html": [
       "<div>\n",
       "<style scoped>\n",
       "    .dataframe tbody tr th:only-of-type {\n",
       "        vertical-align: middle;\n",
       "    }\n",
       "\n",
       "    .dataframe tbody tr th {\n",
       "        vertical-align: top;\n",
       "    }\n",
       "\n",
       "    .dataframe thead th {\n",
       "        text-align: right;\n",
       "    }\n",
       "</style>\n",
       "<table border=\"1\" class=\"dataframe\">\n",
       "  <thead>\n",
       "    <tr style=\"text-align: right;\">\n",
       "      <th></th>\n",
       "      <th>user_id</th>\n",
       "      <th>month</th>\n",
       "      <th>calls</th>\n",
       "      <th>minutes</th>\n",
       "      <th>messages</th>\n",
       "      <th>mb_used</th>\n",
       "      <th>age</th>\n",
       "      <th>churn_date</th>\n",
       "      <th>city</th>\n",
       "      <th>first_name</th>\n",
       "      <th>...</th>\n",
       "      <th>messages_included</th>\n",
       "      <th>mb_per_month_included</th>\n",
       "      <th>minutes_included</th>\n",
       "      <th>rub_monthly_fee</th>\n",
       "      <th>rub_per_gb</th>\n",
       "      <th>rub_per_message</th>\n",
       "      <th>rub_per_minute</th>\n",
       "      <th>minutes_over</th>\n",
       "      <th>messages_over</th>\n",
       "      <th>mb_used_over</th>\n",
       "    </tr>\n",
       "  </thead>\n",
       "  <tbody>\n",
       "    <tr>\n",
       "      <th>0</th>\n",
       "      <td>1005</td>\n",
       "      <td>1</td>\n",
       "      <td>15</td>\n",
       "      <td>95</td>\n",
       "      <td>7</td>\n",
       "      <td>2730</td>\n",
       "      <td>67</td>\n",
       "      <td>NaT</td>\n",
       "      <td>Набережные Челны</td>\n",
       "      <td>Афанасий</td>\n",
       "      <td>...</td>\n",
       "      <td>50</td>\n",
       "      <td>15360</td>\n",
       "      <td>500</td>\n",
       "      <td>550</td>\n",
       "      <td>200</td>\n",
       "      <td>3</td>\n",
       "      <td>3</td>\n",
       "      <td>-405</td>\n",
       "      <td>-43</td>\n",
       "      <td>-12630</td>\n",
       "    </tr>\n",
       "    <tr>\n",
       "      <th>1</th>\n",
       "      <td>1032</td>\n",
       "      <td>1</td>\n",
       "      <td>61</td>\n",
       "      <td>380</td>\n",
       "      <td>38</td>\n",
       "      <td>24147</td>\n",
       "      <td>31</td>\n",
       "      <td>NaT</td>\n",
       "      <td>Ульяновск</td>\n",
       "      <td>Инна</td>\n",
       "      <td>...</td>\n",
       "      <td>50</td>\n",
       "      <td>15360</td>\n",
       "      <td>500</td>\n",
       "      <td>550</td>\n",
       "      <td>200</td>\n",
       "      <td>3</td>\n",
       "      <td>3</td>\n",
       "      <td>-120</td>\n",
       "      <td>-12</td>\n",
       "      <td>8787</td>\n",
       "    </tr>\n",
       "    <tr>\n",
       "      <th>2</th>\n",
       "      <td>1045</td>\n",
       "      <td>1</td>\n",
       "      <td>1</td>\n",
       "      <td>9</td>\n",
       "      <td>5</td>\n",
       "      <td>2348</td>\n",
       "      <td>48</td>\n",
       "      <td>NaT</td>\n",
       "      <td>Улан-Удэ</td>\n",
       "      <td>Джемма</td>\n",
       "      <td>...</td>\n",
       "      <td>50</td>\n",
       "      <td>15360</td>\n",
       "      <td>500</td>\n",
       "      <td>550</td>\n",
       "      <td>200</td>\n",
       "      <td>3</td>\n",
       "      <td>3</td>\n",
       "      <td>-491</td>\n",
       "      <td>-45</td>\n",
       "      <td>-13012</td>\n",
       "    </tr>\n",
       "    <tr>\n",
       "      <th>3</th>\n",
       "      <td>1055</td>\n",
       "      <td>1</td>\n",
       "      <td>64</td>\n",
       "      <td>551</td>\n",
       "      <td>30</td>\n",
       "      <td>17111</td>\n",
       "      <td>39</td>\n",
       "      <td>NaT</td>\n",
       "      <td>Казань</td>\n",
       "      <td>Луиза</td>\n",
       "      <td>...</td>\n",
       "      <td>50</td>\n",
       "      <td>15360</td>\n",
       "      <td>500</td>\n",
       "      <td>550</td>\n",
       "      <td>200</td>\n",
       "      <td>3</td>\n",
       "      <td>3</td>\n",
       "      <td>51</td>\n",
       "      <td>-20</td>\n",
       "      <td>1751</td>\n",
       "    </tr>\n",
       "    <tr>\n",
       "      <th>4</th>\n",
       "      <td>1071</td>\n",
       "      <td>1</td>\n",
       "      <td>24</td>\n",
       "      <td>194</td>\n",
       "      <td>16</td>\n",
       "      <td>15622</td>\n",
       "      <td>20</td>\n",
       "      <td>2018-08-31</td>\n",
       "      <td>Омск</td>\n",
       "      <td>Гектор</td>\n",
       "      <td>...</td>\n",
       "      <td>50</td>\n",
       "      <td>15360</td>\n",
       "      <td>500</td>\n",
       "      <td>550</td>\n",
       "      <td>200</td>\n",
       "      <td>3</td>\n",
       "      <td>3</td>\n",
       "      <td>-306</td>\n",
       "      <td>-34</td>\n",
       "      <td>262</td>\n",
       "    </tr>\n",
       "    <tr>\n",
       "      <th>...</th>\n",
       "      <td>...</td>\n",
       "      <td>...</td>\n",
       "      <td>...</td>\n",
       "      <td>...</td>\n",
       "      <td>...</td>\n",
       "      <td>...</td>\n",
       "      <td>...</td>\n",
       "      <td>...</td>\n",
       "      <td>...</td>\n",
       "      <td>...</td>\n",
       "      <td>...</td>\n",
       "      <td>...</td>\n",
       "      <td>...</td>\n",
       "      <td>...</td>\n",
       "      <td>...</td>\n",
       "      <td>...</td>\n",
       "      <td>...</td>\n",
       "      <td>...</td>\n",
       "      <td>...</td>\n",
       "      <td>...</td>\n",
       "      <td>...</td>\n",
       "    </tr>\n",
       "    <tr>\n",
       "      <th>3209</th>\n",
       "      <td>1231</td>\n",
       "      <td>12</td>\n",
       "      <td>0</td>\n",
       "      <td>0</td>\n",
       "      <td>191</td>\n",
       "      <td>32481</td>\n",
       "      <td>63</td>\n",
       "      <td>NaT</td>\n",
       "      <td>Чебоксары</td>\n",
       "      <td>Касьян</td>\n",
       "      <td>...</td>\n",
       "      <td>1000</td>\n",
       "      <td>30720</td>\n",
       "      <td>3000</td>\n",
       "      <td>1950</td>\n",
       "      <td>150</td>\n",
       "      <td>1</td>\n",
       "      <td>1</td>\n",
       "      <td>-3000</td>\n",
       "      <td>-809</td>\n",
       "      <td>1761</td>\n",
       "    </tr>\n",
       "    <tr>\n",
       "      <th>3210</th>\n",
       "      <td>1328</td>\n",
       "      <td>12</td>\n",
       "      <td>0</td>\n",
       "      <td>0</td>\n",
       "      <td>7</td>\n",
       "      <td>39461</td>\n",
       "      <td>44</td>\n",
       "      <td>NaT</td>\n",
       "      <td>Мурманск</td>\n",
       "      <td>Рауль</td>\n",
       "      <td>...</td>\n",
       "      <td>1000</td>\n",
       "      <td>30720</td>\n",
       "      <td>3000</td>\n",
       "      <td>1950</td>\n",
       "      <td>150</td>\n",
       "      <td>1</td>\n",
       "      <td>1</td>\n",
       "      <td>-3000</td>\n",
       "      <td>-993</td>\n",
       "      <td>8741</td>\n",
       "    </tr>\n",
       "    <tr>\n",
       "      <th>3211</th>\n",
       "      <td>1473</td>\n",
       "      <td>12</td>\n",
       "      <td>0</td>\n",
       "      <td>0</td>\n",
       "      <td>20</td>\n",
       "      <td>18432</td>\n",
       "      <td>18</td>\n",
       "      <td>NaT</td>\n",
       "      <td>Красноярск</td>\n",
       "      <td>Николай</td>\n",
       "      <td>...</td>\n",
       "      <td>1000</td>\n",
       "      <td>30720</td>\n",
       "      <td>3000</td>\n",
       "      <td>1950</td>\n",
       "      <td>150</td>\n",
       "      <td>1</td>\n",
       "      <td>1</td>\n",
       "      <td>-3000</td>\n",
       "      <td>-980</td>\n",
       "      <td>-12288</td>\n",
       "    </tr>\n",
       "    <tr>\n",
       "      <th>3212</th>\n",
       "      <td>1489</td>\n",
       "      <td>12</td>\n",
       "      <td>0</td>\n",
       "      <td>0</td>\n",
       "      <td>35</td>\n",
       "      <td>17341</td>\n",
       "      <td>35</td>\n",
       "      <td>NaT</td>\n",
       "      <td>Санкт-Петербург</td>\n",
       "      <td>Павел</td>\n",
       "      <td>...</td>\n",
       "      <td>50</td>\n",
       "      <td>15360</td>\n",
       "      <td>500</td>\n",
       "      <td>550</td>\n",
       "      <td>200</td>\n",
       "      <td>3</td>\n",
       "      <td>3</td>\n",
       "      <td>-500</td>\n",
       "      <td>-15</td>\n",
       "      <td>1981</td>\n",
       "    </tr>\n",
       "    <tr>\n",
       "      <th>3213</th>\n",
       "      <td>1476</td>\n",
       "      <td>4</td>\n",
       "      <td>0</td>\n",
       "      <td>0</td>\n",
       "      <td>0</td>\n",
       "      <td>531</td>\n",
       "      <td>50</td>\n",
       "      <td>NaT</td>\n",
       "      <td>Москва</td>\n",
       "      <td>Валентина</td>\n",
       "      <td>...</td>\n",
       "      <td>1000</td>\n",
       "      <td>30720</td>\n",
       "      <td>3000</td>\n",
       "      <td>1950</td>\n",
       "      <td>150</td>\n",
       "      <td>1</td>\n",
       "      <td>1</td>\n",
       "      <td>-3000</td>\n",
       "      <td>-1000</td>\n",
       "      <td>-30189</td>\n",
       "    </tr>\n",
       "  </tbody>\n",
       "</table>\n",
       "<p>3214 rows × 23 columns</p>\n",
       "</div>"
      ],
      "text/plain": [
       "      user_id  month  calls  minutes  messages  mb_used  age churn_date  \\\n",
       "0        1005      1     15       95         7     2730   67        NaT   \n",
       "1        1032      1     61      380        38    24147   31        NaT   \n",
       "2        1045      1      1        9         5     2348   48        NaT   \n",
       "3        1055      1     64      551        30    17111   39        NaT   \n",
       "4        1071      1     24      194        16    15622   20 2018-08-31   \n",
       "...       ...    ...    ...      ...       ...      ...  ...        ...   \n",
       "3209     1231     12      0        0       191    32481   63        NaT   \n",
       "3210     1328     12      0        0         7    39461   44        NaT   \n",
       "3211     1473     12      0        0        20    18432   18        NaT   \n",
       "3212     1489     12      0        0        35    17341   35        NaT   \n",
       "3213     1476      4      0        0         0      531   50        NaT   \n",
       "\n",
       "                  city first_name  ... messages_included  \\\n",
       "0     Набережные Челны   Афанасий  ...                50   \n",
       "1            Ульяновск       Инна  ...                50   \n",
       "2             Улан-Удэ     Джемма  ...                50   \n",
       "3               Казань      Луиза  ...                50   \n",
       "4                 Омск     Гектор  ...                50   \n",
       "...                ...        ...  ...               ...   \n",
       "3209         Чебоксары     Касьян  ...              1000   \n",
       "3210          Мурманск      Рауль  ...              1000   \n",
       "3211        Красноярск    Николай  ...              1000   \n",
       "3212   Санкт-Петербург      Павел  ...                50   \n",
       "3213            Москва  Валентина  ...              1000   \n",
       "\n",
       "     mb_per_month_included minutes_included  rub_monthly_fee  rub_per_gb  \\\n",
       "0                    15360              500              550         200   \n",
       "1                    15360              500              550         200   \n",
       "2                    15360              500              550         200   \n",
       "3                    15360              500              550         200   \n",
       "4                    15360              500              550         200   \n",
       "...                    ...              ...              ...         ...   \n",
       "3209                 30720             3000             1950         150   \n",
       "3210                 30720             3000             1950         150   \n",
       "3211                 30720             3000             1950         150   \n",
       "3212                 15360              500              550         200   \n",
       "3213                 30720             3000             1950         150   \n",
       "\n",
       "      rub_per_message  rub_per_minute  minutes_over  messages_over  \\\n",
       "0                   3               3          -405            -43   \n",
       "1                   3               3          -120            -12   \n",
       "2                   3               3          -491            -45   \n",
       "3                   3               3            51            -20   \n",
       "4                   3               3          -306            -34   \n",
       "...               ...             ...           ...            ...   \n",
       "3209                1               1         -3000           -809   \n",
       "3210                1               1         -3000           -993   \n",
       "3211                1               1         -3000           -980   \n",
       "3212                3               3          -500            -15   \n",
       "3213                1               1         -3000          -1000   \n",
       "\n",
       "      mb_used_over  \n",
       "0           -12630  \n",
       "1             8787  \n",
       "2           -13012  \n",
       "3             1751  \n",
       "4              262  \n",
       "...            ...  \n",
       "3209          1761  \n",
       "3210          8741  \n",
       "3211        -12288  \n",
       "3212          1981  \n",
       "3213        -30189  \n",
       "\n",
       "[3214 rows x 23 columns]"
      ]
     },
     "execution_count": 31,
     "metadata": {},
     "output_type": "execute_result"
    }
   ],
   "source": [
    "users_score"
   ]
  },
  {
   "cell_type": "markdown",
   "id": "ae02427b",
   "metadata": {},
   "source": [
    "Положительные значения указывают на перерасход, а отрицательные на остаток в рамках тарифа."
   ]
  },
  {
   "cell_type": "code",
   "execution_count": 32,
   "id": "23589d46",
   "metadata": {},
   "outputs": [],
   "source": [
    "# Вычтем бесплатный лимит из суммарного количества звонков, сообщений и интернет-трафика,\n",
    "# остаток умножим на значение из тарифного плана.\n",
    "  \n",
    "def revenue_func(row):\n",
    "  \n",
    "    minutes_price = 0\n",
    "    messages_price = 0\n",
    "    mb_used_price = 0\n",
    "    \n",
    "    # стоимость дополнительных минут\n",
    "    if row['minutes_over'] > 0:\n",
    "        minutes_price = row['minutes_over'] * row['rub_per_minute']\n",
    "\n",
    "    # стоимость дополнительных сообщений\n",
    "    if row['messages_over'] > 0:\n",
    "        messages_price = row['messages_over'] * row['rub_per_message']\n",
    "\n",
    "    # стоимость дополнительного трафика\n",
    "    if row['mb_used_over'] > 0:\n",
    "        mb_used_price = (row['mb_used_over'] / 1024) * row['rub_per_gb']\n",
    "    \n",
    "    return minutes_price + messages_price + mb_used_price"
   ]
  },
  {
   "cell_type": "code",
   "execution_count": 33,
   "id": "f7af2f52",
   "metadata": {},
   "outputs": [],
   "source": [
    "# прибавляем абонентскую плату, соответствующую тарифному плану\n",
    "users_score['rub_monthly_fee_over'] = users_score.apply(revenue_func, axis=1)\n",
    "users_score['rub_monthly_fee_total'] = users_score['rub_monthly_fee'] + users_score['rub_monthly_fee_over']"
   ]
  },
  {
   "cell_type": "code",
   "execution_count": 34,
   "id": "cd13e45f",
   "metadata": {},
   "outputs": [
    {
     "data": {
      "text/html": [
       "<div>\n",
       "<style scoped>\n",
       "    .dataframe tbody tr th:only-of-type {\n",
       "        vertical-align: middle;\n",
       "    }\n",
       "\n",
       "    .dataframe tbody tr th {\n",
       "        vertical-align: top;\n",
       "    }\n",
       "\n",
       "    .dataframe thead th {\n",
       "        text-align: right;\n",
       "    }\n",
       "</style>\n",
       "<table border=\"1\" class=\"dataframe\">\n",
       "  <thead>\n",
       "    <tr style=\"text-align: right;\">\n",
       "      <th></th>\n",
       "      <th>user_id</th>\n",
       "      <th>month</th>\n",
       "      <th>calls</th>\n",
       "      <th>minutes</th>\n",
       "      <th>messages</th>\n",
       "      <th>mb_used</th>\n",
       "      <th>age</th>\n",
       "      <th>churn_date</th>\n",
       "      <th>city</th>\n",
       "      <th>first_name</th>\n",
       "      <th>last_name</th>\n",
       "      <th>reg_date</th>\n",
       "      <th>tariff</th>\n",
       "      <th>messages_included</th>\n",
       "      <th>mb_per_month_included</th>\n",
       "      <th>minutes_included</th>\n",
       "      <th>rub_monthly_fee</th>\n",
       "      <th>rub_per_gb</th>\n",
       "      <th>rub_per_message</th>\n",
       "      <th>rub_per_minute</th>\n",
       "      <th>minutes_over</th>\n",
       "      <th>messages_over</th>\n",
       "      <th>mb_used_over</th>\n",
       "      <th>rub_monthly_fee_over</th>\n",
       "      <th>rub_monthly_fee_total</th>\n",
       "    </tr>\n",
       "  </thead>\n",
       "  <tbody>\n",
       "    <tr>\n",
       "      <th>0</th>\n",
       "      <td>1005</td>\n",
       "      <td>1</td>\n",
       "      <td>15</td>\n",
       "      <td>95</td>\n",
       "      <td>7</td>\n",
       "      <td>2730</td>\n",
       "      <td>67</td>\n",
       "      <td>NaT</td>\n",
       "      <td>Набережные Челны</td>\n",
       "      <td>Афанасий</td>\n",
       "      <td>Горлов</td>\n",
       "      <td>2018-01-25</td>\n",
       "      <td>smart</td>\n",
       "      <td>50</td>\n",
       "      <td>15360</td>\n",
       "      <td>500</td>\n",
       "      <td>550</td>\n",
       "      <td>200</td>\n",
       "      <td>3</td>\n",
       "      <td>3</td>\n",
       "      <td>-405</td>\n",
       "      <td>-43</td>\n",
       "      <td>-12630</td>\n",
       "      <td>0.00</td>\n",
       "      <td>550.00</td>\n",
       "    </tr>\n",
       "    <tr>\n",
       "      <th>1</th>\n",
       "      <td>1032</td>\n",
       "      <td>1</td>\n",
       "      <td>61</td>\n",
       "      <td>380</td>\n",
       "      <td>38</td>\n",
       "      <td>24147</td>\n",
       "      <td>31</td>\n",
       "      <td>NaT</td>\n",
       "      <td>Ульяновск</td>\n",
       "      <td>Инна</td>\n",
       "      <td>Игнатьева</td>\n",
       "      <td>2018-01-04</td>\n",
       "      <td>smart</td>\n",
       "      <td>50</td>\n",
       "      <td>15360</td>\n",
       "      <td>500</td>\n",
       "      <td>550</td>\n",
       "      <td>200</td>\n",
       "      <td>3</td>\n",
       "      <td>3</td>\n",
       "      <td>-120</td>\n",
       "      <td>-12</td>\n",
       "      <td>8787</td>\n",
       "      <td>1716.21</td>\n",
       "      <td>2266.21</td>\n",
       "    </tr>\n",
       "    <tr>\n",
       "      <th>2</th>\n",
       "      <td>1045</td>\n",
       "      <td>1</td>\n",
       "      <td>1</td>\n",
       "      <td>9</td>\n",
       "      <td>5</td>\n",
       "      <td>2348</td>\n",
       "      <td>48</td>\n",
       "      <td>NaT</td>\n",
       "      <td>Улан-Удэ</td>\n",
       "      <td>Джемма</td>\n",
       "      <td>Карасева</td>\n",
       "      <td>2018-01-30</td>\n",
       "      <td>smart</td>\n",
       "      <td>50</td>\n",
       "      <td>15360</td>\n",
       "      <td>500</td>\n",
       "      <td>550</td>\n",
       "      <td>200</td>\n",
       "      <td>3</td>\n",
       "      <td>3</td>\n",
       "      <td>-491</td>\n",
       "      <td>-45</td>\n",
       "      <td>-13012</td>\n",
       "      <td>0.00</td>\n",
       "      <td>550.00</td>\n",
       "    </tr>\n",
       "    <tr>\n",
       "      <th>3</th>\n",
       "      <td>1055</td>\n",
       "      <td>1</td>\n",
       "      <td>64</td>\n",
       "      <td>551</td>\n",
       "      <td>30</td>\n",
       "      <td>17111</td>\n",
       "      <td>39</td>\n",
       "      <td>NaT</td>\n",
       "      <td>Казань</td>\n",
       "      <td>Луиза</td>\n",
       "      <td>Березина</td>\n",
       "      <td>2018-01-02</td>\n",
       "      <td>smart</td>\n",
       "      <td>50</td>\n",
       "      <td>15360</td>\n",
       "      <td>500</td>\n",
       "      <td>550</td>\n",
       "      <td>200</td>\n",
       "      <td>3</td>\n",
       "      <td>3</td>\n",
       "      <td>51</td>\n",
       "      <td>-20</td>\n",
       "      <td>1751</td>\n",
       "      <td>494.99</td>\n",
       "      <td>1044.99</td>\n",
       "    </tr>\n",
       "    <tr>\n",
       "      <th>4</th>\n",
       "      <td>1071</td>\n",
       "      <td>1</td>\n",
       "      <td>24</td>\n",
       "      <td>194</td>\n",
       "      <td>16</td>\n",
       "      <td>15622</td>\n",
       "      <td>20</td>\n",
       "      <td>2018-08-31</td>\n",
       "      <td>Омск</td>\n",
       "      <td>Гектор</td>\n",
       "      <td>Чумаков</td>\n",
       "      <td>2018-01-09</td>\n",
       "      <td>smart</td>\n",
       "      <td>50</td>\n",
       "      <td>15360</td>\n",
       "      <td>500</td>\n",
       "      <td>550</td>\n",
       "      <td>200</td>\n",
       "      <td>3</td>\n",
       "      <td>3</td>\n",
       "      <td>-306</td>\n",
       "      <td>-34</td>\n",
       "      <td>262</td>\n",
       "      <td>51.17</td>\n",
       "      <td>601.17</td>\n",
       "    </tr>\n",
       "    <tr>\n",
       "      <th>5</th>\n",
       "      <td>1113</td>\n",
       "      <td>1</td>\n",
       "      <td>18</td>\n",
       "      <td>110</td>\n",
       "      <td>14</td>\n",
       "      <td>767</td>\n",
       "      <td>52</td>\n",
       "      <td>NaT</td>\n",
       "      <td>Чита</td>\n",
       "      <td>Харитон</td>\n",
       "      <td>Булгаков</td>\n",
       "      <td>2018-01-24</td>\n",
       "      <td>smart</td>\n",
       "      <td>50</td>\n",
       "      <td>15360</td>\n",
       "      <td>500</td>\n",
       "      <td>550</td>\n",
       "      <td>200</td>\n",
       "      <td>3</td>\n",
       "      <td>3</td>\n",
       "      <td>-390</td>\n",
       "      <td>-36</td>\n",
       "      <td>-14593</td>\n",
       "      <td>0.00</td>\n",
       "      <td>550.00</td>\n",
       "    </tr>\n",
       "    <tr>\n",
       "      <th>6</th>\n",
       "      <td>1120</td>\n",
       "      <td>1</td>\n",
       "      <td>5</td>\n",
       "      <td>55</td>\n",
       "      <td>0</td>\n",
       "      <td>657</td>\n",
       "      <td>25</td>\n",
       "      <td>NaT</td>\n",
       "      <td>Краснодар</td>\n",
       "      <td>Агнесса</td>\n",
       "      <td>Абдулина</td>\n",
       "      <td>2018-01-24</td>\n",
       "      <td>ultra</td>\n",
       "      <td>1000</td>\n",
       "      <td>30720</td>\n",
       "      <td>3000</td>\n",
       "      <td>1950</td>\n",
       "      <td>150</td>\n",
       "      <td>1</td>\n",
       "      <td>1</td>\n",
       "      <td>-2945</td>\n",
       "      <td>-1000</td>\n",
       "      <td>-30063</td>\n",
       "      <td>0.00</td>\n",
       "      <td>1950.00</td>\n",
       "    </tr>\n",
       "    <tr>\n",
       "      <th>7</th>\n",
       "      <td>1126</td>\n",
       "      <td>1</td>\n",
       "      <td>35</td>\n",
       "      <td>272</td>\n",
       "      <td>4</td>\n",
       "      <td>16377</td>\n",
       "      <td>71</td>\n",
       "      <td>NaT</td>\n",
       "      <td>Санкт-Петербург</td>\n",
       "      <td>Яна</td>\n",
       "      <td>Арсенкова</td>\n",
       "      <td>2018-01-19</td>\n",
       "      <td>ultra</td>\n",
       "      <td>1000</td>\n",
       "      <td>30720</td>\n",
       "      <td>3000</td>\n",
       "      <td>1950</td>\n",
       "      <td>150</td>\n",
       "      <td>1</td>\n",
       "      <td>1</td>\n",
       "      <td>-2728</td>\n",
       "      <td>-996</td>\n",
       "      <td>-14343</td>\n",
       "      <td>0.00</td>\n",
       "      <td>1950.00</td>\n",
       "    </tr>\n",
       "    <tr>\n",
       "      <th>8</th>\n",
       "      <td>1134</td>\n",
       "      <td>1</td>\n",
       "      <td>42</td>\n",
       "      <td>332</td>\n",
       "      <td>32</td>\n",
       "      <td>10215</td>\n",
       "      <td>65</td>\n",
       "      <td>NaT</td>\n",
       "      <td>Красноярск</td>\n",
       "      <td>Марьяна</td>\n",
       "      <td>Авросимова</td>\n",
       "      <td>2018-01-16</td>\n",
       "      <td>smart</td>\n",
       "      <td>50</td>\n",
       "      <td>15360</td>\n",
       "      <td>500</td>\n",
       "      <td>550</td>\n",
       "      <td>200</td>\n",
       "      <td>3</td>\n",
       "      <td>3</td>\n",
       "      <td>-168</td>\n",
       "      <td>-18</td>\n",
       "      <td>-5145</td>\n",
       "      <td>0.00</td>\n",
       "      <td>550.00</td>\n",
       "    </tr>\n",
       "    <tr>\n",
       "      <th>9</th>\n",
       "      <td>1135</td>\n",
       "      <td>1</td>\n",
       "      <td>9</td>\n",
       "      <td>90</td>\n",
       "      <td>1</td>\n",
       "      <td>1601</td>\n",
       "      <td>64</td>\n",
       "      <td>NaT</td>\n",
       "      <td>Архангельск</td>\n",
       "      <td>Милена</td>\n",
       "      <td>Воронина</td>\n",
       "      <td>2018-01-29</td>\n",
       "      <td>smart</td>\n",
       "      <td>50</td>\n",
       "      <td>15360</td>\n",
       "      <td>500</td>\n",
       "      <td>550</td>\n",
       "      <td>200</td>\n",
       "      <td>3</td>\n",
       "      <td>3</td>\n",
       "      <td>-410</td>\n",
       "      <td>-49</td>\n",
       "      <td>-13759</td>\n",
       "      <td>0.00</td>\n",
       "      <td>550.00</td>\n",
       "    </tr>\n",
       "  </tbody>\n",
       "</table>\n",
       "</div>"
      ],
      "text/plain": [
       "   user_id  month  calls  minutes  messages  mb_used  age churn_date  \\\n",
       "0     1005      1     15       95         7     2730   67        NaT   \n",
       "1     1032      1     61      380        38    24147   31        NaT   \n",
       "2     1045      1      1        9         5     2348   48        NaT   \n",
       "3     1055      1     64      551        30    17111   39        NaT   \n",
       "4     1071      1     24      194        16    15622   20 2018-08-31   \n",
       "5     1113      1     18      110        14      767   52        NaT   \n",
       "6     1120      1      5       55         0      657   25        NaT   \n",
       "7     1126      1     35      272         4    16377   71        NaT   \n",
       "8     1134      1     42      332        32    10215   65        NaT   \n",
       "9     1135      1      9       90         1     1601   64        NaT   \n",
       "\n",
       "               city first_name   last_name   reg_date tariff  \\\n",
       "0  Набережные Челны   Афанасий      Горлов 2018-01-25  smart   \n",
       "1         Ульяновск       Инна   Игнатьева 2018-01-04  smart   \n",
       "2          Улан-Удэ     Джемма    Карасева 2018-01-30  smart   \n",
       "3            Казань      Луиза    Березина 2018-01-02  smart   \n",
       "4              Омск     Гектор     Чумаков 2018-01-09  smart   \n",
       "5              Чита    Харитон    Булгаков 2018-01-24  smart   \n",
       "6         Краснодар    Агнесса    Абдулина 2018-01-24  ultra   \n",
       "7   Санкт-Петербург        Яна   Арсенкова 2018-01-19  ultra   \n",
       "8        Красноярск    Марьяна  Авросимова 2018-01-16  smart   \n",
       "9       Архангельск     Милена    Воронина 2018-01-29  smart   \n",
       "\n",
       "   messages_included  mb_per_month_included  minutes_included  \\\n",
       "0                 50                  15360               500   \n",
       "1                 50                  15360               500   \n",
       "2                 50                  15360               500   \n",
       "3                 50                  15360               500   \n",
       "4                 50                  15360               500   \n",
       "5                 50                  15360               500   \n",
       "6               1000                  30720              3000   \n",
       "7               1000                  30720              3000   \n",
       "8                 50                  15360               500   \n",
       "9                 50                  15360               500   \n",
       "\n",
       "   rub_monthly_fee  rub_per_gb  rub_per_message  rub_per_minute  minutes_over  \\\n",
       "0              550         200                3               3          -405   \n",
       "1              550         200                3               3          -120   \n",
       "2              550         200                3               3          -491   \n",
       "3              550         200                3               3            51   \n",
       "4              550         200                3               3          -306   \n",
       "5              550         200                3               3          -390   \n",
       "6             1950         150                1               1         -2945   \n",
       "7             1950         150                1               1         -2728   \n",
       "8              550         200                3               3          -168   \n",
       "9              550         200                3               3          -410   \n",
       "\n",
       "   messages_over  mb_used_over  rub_monthly_fee_over  rub_monthly_fee_total  \n",
       "0            -43        -12630                  0.00                 550.00  \n",
       "1            -12          8787               1716.21                2266.21  \n",
       "2            -45        -13012                  0.00                 550.00  \n",
       "3            -20          1751                494.99                1044.99  \n",
       "4            -34           262                 51.17                 601.17  \n",
       "5            -36        -14593                  0.00                 550.00  \n",
       "6          -1000        -30063                  0.00                1950.00  \n",
       "7           -996        -14343                  0.00                1950.00  \n",
       "8            -18         -5145                  0.00                 550.00  \n",
       "9            -49        -13759                  0.00                 550.00  "
      ]
     },
     "execution_count": 34,
     "metadata": {},
     "output_type": "execute_result"
    }
   ],
   "source": [
    "#редактиуем формат таблицы для лучшего всприятия\n",
    "pd.set_option('display.max_columns', None) \n",
    "pd.set_option('display.float_format', '{:.2f}'.format)\n",
    "users_score.head(10)"
   ]
  },
  {
   "cell_type": "code",
   "execution_count": 35,
   "id": "7c453e0f",
   "metadata": {},
   "outputs": [
    {
     "name": "stdout",
     "output_type": "stream",
     "text": [
      "Количество пользователей smart: 350\n",
      "Количество пользователей ultra: 148\n"
     ]
    }
   ],
   "source": [
    "# посчитаем кол-во пользователей по тарифам\n",
    "smart = users_score.query('tariff == \"smart\"')\n",
    "ultra = users_score.query('tariff == \"ultra\"')\n",
    "print('Количество пользователей smart: {}'.format(len(smart.groupby('user_id'))))\n",
    "print('Количество пользователей ultra: {}'.format(len(ultra.groupby('user_id'))))"
   ]
  },
  {
   "cell_type": "markdown",
   "id": "2a987e2b",
   "metadata": {},
   "source": [
    "#### Вывод:\n",
    "- поработали над данными и собрали в одну таблицу для анализа\n",
    "- избавились от всех пропусков\n",
    "###### посчитали кол-во пользователей тарифов:\n",
    "- `smart` - 350\n",
    "- `ultra`-  148"
   ]
  },
  {
   "cell_type": "markdown",
   "id": "7beb96f9",
   "metadata": {},
   "source": [
    "<a id=\"3\"></a>"
   ]
  },
  {
   "cell_type": "markdown",
   "id": "dd868870",
   "metadata": {},
   "source": [
    "### 3. Анилиз данных"
   ]
  },
  {
   "cell_type": "markdown",
   "id": "d3abb1e1",
   "metadata": {},
   "source": [
    "##### Опишим поведение клиентов оператора, исходя из выборки"
   ]
  },
  {
   "cell_type": "code",
   "execution_count": 36,
   "id": "1e5ac93a",
   "metadata": {},
   "outputs": [],
   "source": [
    "values = ['minutes', 'messages', 'mb_used', 'rub_monthly_fee_over', 'rub_monthly_fee_total']"
   ]
  },
  {
   "cell_type": "code",
   "execution_count": 37,
   "id": "afe3dd1b",
   "metadata": {},
   "outputs": [],
   "source": [
    "# Сделаем сводную таблицу по тарифам в разрезе месяцев\n",
    "tariff_monthly = users_score.pivot_table(\n",
    "    index=['tariff', 'month'],\n",
    "    values=values\n",
    ")"
   ]
  },
  {
   "cell_type": "code",
   "execution_count": 38,
   "id": "dc1339b2",
   "metadata": {},
   "outputs": [
    {
     "data": {
      "text/html": [
       "<div>\n",
       "<style scoped>\n",
       "    .dataframe tbody tr th:only-of-type {\n",
       "        vertical-align: middle;\n",
       "    }\n",
       "\n",
       "    .dataframe tbody tr th {\n",
       "        vertical-align: top;\n",
       "    }\n",
       "\n",
       "    .dataframe thead th {\n",
       "        text-align: right;\n",
       "    }\n",
       "</style>\n",
       "<table border=\"1\" class=\"dataframe\">\n",
       "  <thead>\n",
       "    <tr style=\"text-align: right;\">\n",
       "      <th></th>\n",
       "      <th>mb_used</th>\n",
       "      <th>messages</th>\n",
       "      <th>minutes</th>\n",
       "      <th>rub_monthly_fee_over</th>\n",
       "      <th>rub_monthly_fee_total</th>\n",
       "    </tr>\n",
       "    <tr>\n",
       "      <th>month</th>\n",
       "      <th></th>\n",
       "      <th></th>\n",
       "      <th></th>\n",
       "      <th></th>\n",
       "      <th></th>\n",
       "    </tr>\n",
       "  </thead>\n",
       "  <tbody>\n",
       "    <tr>\n",
       "      <th>1</th>\n",
       "      <td>8524.44</td>\n",
       "      <td>18.24</td>\n",
       "      <td>203.85</td>\n",
       "      <td>152.56</td>\n",
       "      <td>702.56</td>\n",
       "    </tr>\n",
       "    <tr>\n",
       "      <th>2</th>\n",
       "      <td>11611.40</td>\n",
       "      <td>24.09</td>\n",
       "      <td>298.69</td>\n",
       "      <td>254.34</td>\n",
       "      <td>804.34</td>\n",
       "    </tr>\n",
       "    <tr>\n",
       "      <th>3</th>\n",
       "      <td>15123.86</td>\n",
       "      <td>31.86</td>\n",
       "      <td>390.05</td>\n",
       "      <td>568.38</td>\n",
       "      <td>1118.38</td>\n",
       "    </tr>\n",
       "    <tr>\n",
       "      <th>4</th>\n",
       "      <td>13479.48</td>\n",
       "      <td>30.74</td>\n",
       "      <td>367.13</td>\n",
       "      <td>372.34</td>\n",
       "      <td>922.34</td>\n",
       "    </tr>\n",
       "    <tr>\n",
       "      <th>5</th>\n",
       "      <td>15825.20</td>\n",
       "      <td>33.77</td>\n",
       "      <td>387.36</td>\n",
       "      <td>596.92</td>\n",
       "      <td>1146.92</td>\n",
       "    </tr>\n",
       "    <tr>\n",
       "      <th>6</th>\n",
       "      <td>15814.77</td>\n",
       "      <td>33.40</td>\n",
       "      <td>395.64</td>\n",
       "      <td>599.58</td>\n",
       "      <td>1149.58</td>\n",
       "    </tr>\n",
       "    <tr>\n",
       "      <th>7</th>\n",
       "      <td>15763.51</td>\n",
       "      <td>33.75</td>\n",
       "      <td>408.35</td>\n",
       "      <td>618.06</td>\n",
       "      <td>1168.06</td>\n",
       "    </tr>\n",
       "    <tr>\n",
       "      <th>8</th>\n",
       "      <td>16632.17</td>\n",
       "      <td>33.64</td>\n",
       "      <td>421.47</td>\n",
       "      <td>708.50</td>\n",
       "      <td>1258.50</td>\n",
       "    </tr>\n",
       "    <tr>\n",
       "      <th>9</th>\n",
       "      <td>16324.53</td>\n",
       "      <td>33.64</td>\n",
       "      <td>428.61</td>\n",
       "      <td>649.07</td>\n",
       "      <td>1199.07</td>\n",
       "    </tr>\n",
       "    <tr>\n",
       "      <th>10</th>\n",
       "      <td>16778.56</td>\n",
       "      <td>33.77</td>\n",
       "      <td>426.14</td>\n",
       "      <td>754.84</td>\n",
       "      <td>1304.84</td>\n",
       "    </tr>\n",
       "    <tr>\n",
       "      <th>11</th>\n",
       "      <td>16917.53</td>\n",
       "      <td>34.08</td>\n",
       "      <td>435.27</td>\n",
       "      <td>733.36</td>\n",
       "      <td>1283.36</td>\n",
       "    </tr>\n",
       "    <tr>\n",
       "      <th>12</th>\n",
       "      <td>18136.83</td>\n",
       "      <td>35.99</td>\n",
       "      <td>478.56</td>\n",
       "      <td>955.87</td>\n",
       "      <td>1505.87</td>\n",
       "    </tr>\n",
       "  </tbody>\n",
       "</table>\n",
       "</div>"
      ],
      "text/plain": [
       "       mb_used  messages  minutes  rub_monthly_fee_over  rub_monthly_fee_total\n",
       "month                                                                         \n",
       "1      8524.44     18.24   203.85                152.56                 702.56\n",
       "2     11611.40     24.09   298.69                254.34                 804.34\n",
       "3     15123.86     31.86   390.05                568.38                1118.38\n",
       "4     13479.48     30.74   367.13                372.34                 922.34\n",
       "5     15825.20     33.77   387.36                596.92                1146.92\n",
       "6     15814.77     33.40   395.64                599.58                1149.58\n",
       "7     15763.51     33.75   408.35                618.06                1168.06\n",
       "8     16632.17     33.64   421.47                708.50                1258.50\n",
       "9     16324.53     33.64   428.61                649.07                1199.07\n",
       "10    16778.56     33.77   426.14                754.84                1304.84\n",
       "11    16917.53     34.08   435.27                733.36                1283.36\n",
       "12    18136.83     35.99   478.56                955.87                1505.87"
      ]
     },
     "execution_count": 38,
     "metadata": {},
     "output_type": "execute_result"
    }
   ],
   "source": [
    "smart_monthly = tariff_monthly.loc['smart']\n",
    "smart_monthly"
   ]
  },
  {
   "cell_type": "code",
   "execution_count": 39,
   "id": "6a73e68b",
   "metadata": {},
   "outputs": [
    {
     "data": {
      "text/html": [
       "<div>\n",
       "<style scoped>\n",
       "    .dataframe tbody tr th:only-of-type {\n",
       "        vertical-align: middle;\n",
       "    }\n",
       "\n",
       "    .dataframe tbody tr th {\n",
       "        vertical-align: top;\n",
       "    }\n",
       "\n",
       "    .dataframe thead th {\n",
       "        text-align: right;\n",
       "    }\n",
       "</style>\n",
       "<table border=\"1\" class=\"dataframe\">\n",
       "  <thead>\n",
       "    <tr style=\"text-align: right;\">\n",
       "      <th></th>\n",
       "      <th>mb_used</th>\n",
       "      <th>messages</th>\n",
       "      <th>minutes</th>\n",
       "      <th>rub_monthly_fee_over</th>\n",
       "      <th>rub_monthly_fee_total</th>\n",
       "    </tr>\n",
       "    <tr>\n",
       "      <th>month</th>\n",
       "      <th></th>\n",
       "      <th></th>\n",
       "      <th></th>\n",
       "      <th></th>\n",
       "      <th></th>\n",
       "    </tr>\n",
       "  </thead>\n",
       "  <tbody>\n",
       "    <tr>\n",
       "      <th>1</th>\n",
       "      <td>13153.56</td>\n",
       "      <td>33.78</td>\n",
       "      <td>428.11</td>\n",
       "      <td>0.00</td>\n",
       "      <td>1950.00</td>\n",
       "    </tr>\n",
       "    <tr>\n",
       "      <th>2</th>\n",
       "      <td>11786.96</td>\n",
       "      <td>21.96</td>\n",
       "      <td>297.12</td>\n",
       "      <td>23.05</td>\n",
       "      <td>1973.05</td>\n",
       "    </tr>\n",
       "    <tr>\n",
       "      <th>3</th>\n",
       "      <td>17551.97</td>\n",
       "      <td>32.30</td>\n",
       "      <td>489.65</td>\n",
       "      <td>54.17</td>\n",
       "      <td>2004.17</td>\n",
       "    </tr>\n",
       "    <tr>\n",
       "      <th>4</th>\n",
       "      <td>16843.80</td>\n",
       "      <td>31.56</td>\n",
       "      <td>458.02</td>\n",
       "      <td>45.43</td>\n",
       "      <td>1995.43</td>\n",
       "    </tr>\n",
       "    <tr>\n",
       "      <th>5</th>\n",
       "      <td>19381.19</td>\n",
       "      <td>37.85</td>\n",
       "      <td>510.33</td>\n",
       "      <td>104.97</td>\n",
       "      <td>2054.97</td>\n",
       "    </tr>\n",
       "    <tr>\n",
       "      <th>6</th>\n",
       "      <td>18942.24</td>\n",
       "      <td>41.73</td>\n",
       "      <td>479.70</td>\n",
       "      <td>82.06</td>\n",
       "      <td>2032.06</td>\n",
       "    </tr>\n",
       "    <tr>\n",
       "      <th>7</th>\n",
       "      <td>20514.65</td>\n",
       "      <td>49.85</td>\n",
       "      <td>545.79</td>\n",
       "      <td>158.50</td>\n",
       "      <td>2108.50</td>\n",
       "    </tr>\n",
       "    <tr>\n",
       "      <th>8</th>\n",
       "      <td>19594.07</td>\n",
       "      <td>48.44</td>\n",
       "      <td>510.78</td>\n",
       "      <td>121.15</td>\n",
       "      <td>2071.15</td>\n",
       "    </tr>\n",
       "    <tr>\n",
       "      <th>9</th>\n",
       "      <td>19222.21</td>\n",
       "      <td>52.29</td>\n",
       "      <td>539.44</td>\n",
       "      <td>63.73</td>\n",
       "      <td>2013.73</td>\n",
       "    </tr>\n",
       "    <tr>\n",
       "      <th>10</th>\n",
       "      <td>20063.87</td>\n",
       "      <td>58.43</td>\n",
       "      <td>558.08</td>\n",
       "      <td>106.92</td>\n",
       "      <td>2056.92</td>\n",
       "    </tr>\n",
       "    <tr>\n",
       "      <th>11</th>\n",
       "      <td>19805.31</td>\n",
       "      <td>55.79</td>\n",
       "      <td>541.38</td>\n",
       "      <td>130.79</td>\n",
       "      <td>2080.79</td>\n",
       "    </tr>\n",
       "    <tr>\n",
       "      <th>12</th>\n",
       "      <td>21813.59</td>\n",
       "      <td>60.61</td>\n",
       "      <td>592.81</td>\n",
       "      <td>176.25</td>\n",
       "      <td>2126.25</td>\n",
       "    </tr>\n",
       "  </tbody>\n",
       "</table>\n",
       "</div>"
      ],
      "text/plain": [
       "       mb_used  messages  minutes  rub_monthly_fee_over  rub_monthly_fee_total\n",
       "month                                                                         \n",
       "1     13153.56     33.78   428.11                  0.00                1950.00\n",
       "2     11786.96     21.96   297.12                 23.05                1973.05\n",
       "3     17551.97     32.30   489.65                 54.17                2004.17\n",
       "4     16843.80     31.56   458.02                 45.43                1995.43\n",
       "5     19381.19     37.85   510.33                104.97                2054.97\n",
       "6     18942.24     41.73   479.70                 82.06                2032.06\n",
       "7     20514.65     49.85   545.79                158.50                2108.50\n",
       "8     19594.07     48.44   510.78                121.15                2071.15\n",
       "9     19222.21     52.29   539.44                 63.73                2013.73\n",
       "10    20063.87     58.43   558.08                106.92                2056.92\n",
       "11    19805.31     55.79   541.38                130.79                2080.79\n",
       "12    21813.59     60.61   592.81                176.25                2126.25"
      ]
     },
     "execution_count": 39,
     "metadata": {},
     "output_type": "execute_result"
    }
   ],
   "source": [
    "ultra_monthly = tariff_monthly.loc['ultra']\n",
    "ultra_monthly"
   ]
  },
  {
   "cell_type": "markdown",
   "id": "7b6cd801",
   "metadata": {},
   "source": [
    "##### Посчитаем сколько минут разговора, сколько сообщений и какой объём интернет-трафика требуется пользователям каждого тарифа в месяц?"
   ]
  },
  {
   "cell_type": "code",
   "execution_count": 40,
   "id": "a103df7e",
   "metadata": {},
   "outputs": [
    {
     "data": {
      "text/html": [
       "<div>\n",
       "<style scoped>\n",
       "    .dataframe tbody tr th:only-of-type {\n",
       "        vertical-align: middle;\n",
       "    }\n",
       "\n",
       "    .dataframe tbody tr th {\n",
       "        vertical-align: top;\n",
       "    }\n",
       "\n",
       "    .dataframe thead th {\n",
       "        text-align: right;\n",
       "    }\n",
       "</style>\n",
       "<table border=\"1\" class=\"dataframe\">\n",
       "  <thead>\n",
       "    <tr style=\"text-align: right;\">\n",
       "      <th></th>\n",
       "      <th>mb_used</th>\n",
       "      <th>messages</th>\n",
       "      <th>minutes</th>\n",
       "      <th>rub_monthly_fee_over</th>\n",
       "      <th>rub_monthly_fee_total</th>\n",
       "    </tr>\n",
       "    <tr>\n",
       "      <th>tariff</th>\n",
       "      <th></th>\n",
       "      <th></th>\n",
       "      <th></th>\n",
       "      <th></th>\n",
       "      <th></th>\n",
       "    </tr>\n",
       "  </thead>\n",
       "  <tbody>\n",
       "    <tr>\n",
       "      <th>smart</th>\n",
       "      <td>15077.69</td>\n",
       "      <td>31.41</td>\n",
       "      <td>386.76</td>\n",
       "      <td>580.32</td>\n",
       "      <td>1130.32</td>\n",
       "    </tr>\n",
       "    <tr>\n",
       "      <th>ultra</th>\n",
       "      <td>18222.78</td>\n",
       "      <td>43.71</td>\n",
       "      <td>495.93</td>\n",
       "      <td>88.92</td>\n",
       "      <td>2038.92</td>\n",
       "    </tr>\n",
       "  </tbody>\n",
       "</table>\n",
       "</div>"
      ],
      "text/plain": [
       "        mb_used  messages  minutes  rub_monthly_fee_over  \\\n",
       "tariff                                                     \n",
       "smart  15077.69     31.41   386.76                580.32   \n",
       "ultra  18222.78     43.71   495.93                 88.92   \n",
       "\n",
       "        rub_monthly_fee_total  \n",
       "tariff                         \n",
       "smart                 1130.32  \n",
       "ultra                 2038.92  "
      ]
     },
     "execution_count": 40,
     "metadata": {},
     "output_type": "execute_result"
    }
   ],
   "source": [
    "tariff_exploitation = tariff_monthly.pivot_table(\n",
    "    index='tariff',\n",
    "    values=values\n",
    ")\n",
    "tariff_exploitation"
   ]
  },
  {
   "cell_type": "markdown",
   "id": "6fbeaedb",
   "metadata": {},
   "source": [
    "#### Вывод:\n",
    "- пользователи тарифа `ultra` более активны и тратят больше денег даже не выходя за границы тарифных лимитов, хотя их меньше в исходных данных, всего 148 против тарифа `smart` - 350\n",
    "- пользователи тарифа `smart` тратят в среднем в 6 раз больше на доп. услуги\n",
    "\n",
    "`получается, что для пользователя более выгоден тариф smart`"
   ]
  },
  {
   "cell_type": "markdown",
   "id": "f800c9fb",
   "metadata": {},
   "source": [
    "##### Посчитаем среднее количество, дисперсию и стандартное отклонение"
   ]
  },
  {
   "cell_type": "markdown",
   "id": "9a4b7164",
   "metadata": {},
   "source": [
    "##### минуты:"
   ]
  },
  {
   "cell_type": "code",
   "execution_count": 41,
   "id": "b6d43a9e",
   "metadata": {},
   "outputs": [
    {
     "data": {
      "text/plain": [
       "count   2229.00\n",
       "mean     417.93\n",
       "std      190.31\n",
       "min        0.00\n",
       "25%      282.00\n",
       "50%      422.00\n",
       "75%      545.00\n",
       "max     1435.00\n",
       "Name: minutes, dtype: float64"
      ]
     },
     "execution_count": 41,
     "metadata": {},
     "output_type": "execute_result"
    }
   ],
   "source": [
    "smart['minutes'].describe()"
   ]
  },
  {
   "cell_type": "code",
   "execution_count": 42,
   "id": "5b212105",
   "metadata": {},
   "outputs": [
    {
     "data": {
      "text/plain": [
       "count    985.00\n",
       "mean     526.62\n",
       "std      317.61\n",
       "min        0.00\n",
       "25%      284.00\n",
       "50%      518.00\n",
       "75%      752.00\n",
       "max     1673.00\n",
       "Name: minutes, dtype: float64"
      ]
     },
     "execution_count": 42,
     "metadata": {},
     "output_type": "execute_result"
    }
   ],
   "source": [
    "ultra['minutes'].describe()"
   ]
  },
  {
   "cell_type": "code",
   "execution_count": 43,
   "id": "d72d11d4",
   "metadata": {},
   "outputs": [
    {
     "data": {
      "image/png": "[encoded data removed]",
      "text/plain": [
       "<Figure size 432x288 with 1 Axes>"
      ]
     },
     "metadata": {
      "needs_background": "light"
     },
     "output_type": "display_data"
    }
   ],
   "source": [
    "plt.hist(smart['minutes'], bins=50, label='smart')\n",
    "plt.hist(ultra['minutes'], bins=50, label='ultra', alpha=0.7)\n",
    "plt.legend(loc='upper right')\n",
    "plt.xlabel('количество минут')\n",
    "plt.ylabel('количество пользователей')\n",
    "plt.show()"
   ]
  },
  {
   "cell_type": "code",
   "execution_count": 44,
   "id": "356393a1",
   "metadata": {},
   "outputs": [
    {
     "name": "stdout",
     "output_type": "stream",
     "text": [
      "Дисперсия минут тарифа smart  36219.315784344195\n",
      "Дисперсия минут тарифа ultra 100873.6333973009\n"
     ]
    }
   ],
   "source": [
    "smart_minutes_var = np.var(smart['minutes'], ddof=1)\n",
    "ultra_minutes_var = np.var(ultra['minutes'], ddof=1)\n",
    "print('Дисперсия минут тарифа smart ', smart_minutes_var)\n",
    "print('Дисперсия минут тарифа ultra', ultra_minutes_var)"
   ]
  },
  {
   "cell_type": "code",
   "execution_count": 45,
   "id": "5e4b92d8",
   "metadata": {},
   "outputs": [],
   "source": [
    "smart_minutes = {'Стандартное отклонение': smart['minutes'].std(),'Дисперсия': smart_minutes_var}\n",
    "smart_min = pd.Series(smart_minutes)\n",
    "\n",
    "ultra_minutes = {'Стандартное отклонение': ultra['minutes'].std(),'Дисперсия': ultra_minutes_var}\n",
    "ultra_min = pd.Series(ultra_minutes)\n",
    "\n",
    "total_min = pd.DataFrame({'smart': smart_min, 'ultra': ultra_min})"
   ]
  },
  {
   "cell_type": "markdown",
   "id": "d8829e6e",
   "metadata": {},
   "source": [
    "##### Вывод по минутам:"
   ]
  },
  {
   "cell_type": "code",
   "execution_count": 46,
   "id": "fb074421",
   "metadata": {},
   "outputs": [
    {
     "data": {
      "text/html": [
       "<div>\n",
       "<style scoped>\n",
       "    .dataframe tbody tr th:only-of-type {\n",
       "        vertical-align: middle;\n",
       "    }\n",
       "\n",
       "    .dataframe tbody tr th {\n",
       "        vertical-align: top;\n",
       "    }\n",
       "\n",
       "    .dataframe thead th {\n",
       "        text-align: right;\n",
       "    }\n",
       "</style>\n",
       "<table border=\"1\" class=\"dataframe\">\n",
       "  <thead>\n",
       "    <tr style=\"text-align: right;\">\n",
       "      <th></th>\n",
       "      <th>smart</th>\n",
       "      <th>ultra</th>\n",
       "    </tr>\n",
       "  </thead>\n",
       "  <tbody>\n",
       "    <tr>\n",
       "      <th>Стандартное отклонение</th>\n",
       "      <td>190.31</td>\n",
       "      <td>317.61</td>\n",
       "    </tr>\n",
       "    <tr>\n",
       "      <th>Дисперсия</th>\n",
       "      <td>36219.32</td>\n",
       "      <td>100873.63</td>\n",
       "    </tr>\n",
       "  </tbody>\n",
       "</table>\n",
       "</div>"
      ],
      "text/plain": [
       "                          smart     ultra\n",
       "Стандартное отклонение   190.31    317.61\n",
       "Дисперсия              36219.32 100873.63"
      ]
     },
     "execution_count": 46,
     "metadata": {},
     "output_type": "execute_result"
    }
   ],
   "source": [
    "total_min"
   ]
  },
  {
   "cell_type": "markdown",
   "id": "0fe7bfe9",
   "metadata": {},
   "source": [
    "##### сообщения:"
   ]
  },
  {
   "cell_type": "code",
   "execution_count": 47,
   "id": "adbd360e",
   "metadata": {},
   "outputs": [
    {
     "data": {
      "text/plain": [
       "count   2229.00\n",
       "mean      33.38\n",
       "std       28.23\n",
       "min        0.00\n",
       "25%       10.00\n",
       "50%       28.00\n",
       "75%       51.00\n",
       "max      143.00\n",
       "Name: messages, dtype: float64"
      ]
     },
     "execution_count": 47,
     "metadata": {},
     "output_type": "execute_result"
    }
   ],
   "source": [
    "smart['messages'].describe()"
   ]
  },
  {
   "cell_type": "code",
   "execution_count": 48,
   "id": "bbf654c8",
   "metadata": {},
   "outputs": [
    {
     "data": {
      "text/plain": [
       "count   985.00\n",
       "mean     49.36\n",
       "std      47.80\n",
       "min       0.00\n",
       "25%       6.00\n",
       "50%      38.00\n",
       "75%      79.00\n",
       "max     224.00\n",
       "Name: messages, dtype: float64"
      ]
     },
     "execution_count": 48,
     "metadata": {},
     "output_type": "execute_result"
    }
   ],
   "source": [
    "ultra['messages'].describe()"
   ]
  },
  {
   "cell_type": "code",
   "execution_count": 49,
   "id": "e8e60eea",
   "metadata": {},
   "outputs": [
    {
     "data": {
      "image/png": "[encoded data removed]",
      "text/plain": [
       "<Figure size 432x288 with 1 Axes>"
      ]
     },
     "metadata": {
      "needs_background": "light"
     },
     "output_type": "display_data"
    }
   ],
   "source": [
    "plt.hist(smart['messages'], bins=50, label='smart')\n",
    "plt.hist(ultra['messages'], bins=50, label='ultra', alpha=0.7)\n",
    "plt.legend(loc='upper right')\n",
    "plt.xlabel('количество сообщений')\n",
    "plt.ylabel('количество пользователей')\n",
    "plt.show()"
   ]
  },
  {
   "cell_type": "code",
   "execution_count": 50,
   "id": "582c889c",
   "metadata": {},
   "outputs": [
    {
     "name": "stdout",
     "output_type": "stream",
     "text": [
      "Дисперсия сообщений тарифа smart 796.8129584480091\n",
      "Дисперсия сообщений тарифа ultra 2285.2661425446818\n"
     ]
    }
   ],
   "source": [
    "smart_messages_var = np.var(smart['messages'], ddof=1)\n",
    "ultra_messages_var = np.var(ultra['messages'], ddof=1)\n",
    "print('Дисперсия сообщений тарифа smart', smart_messages_var)\n",
    "print('Дисперсия сообщений тарифа ultra', ultra_messages_var)"
   ]
  },
  {
   "cell_type": "code",
   "execution_count": 51,
   "id": "bb02b274",
   "metadata": {},
   "outputs": [],
   "source": [
    "smart_messages = {'Стандартное отклонение': smart['messages'].std(), 'Дисперсия': smart_messages_var}\n",
    "smart_mes = pd.Series(smart_messages)\n",
    "\n",
    "ultra_messages = {'Стандартное отклонение': ultra['messages'].std(),'Дисперсия': ultra_messages_var}\n",
    "ultra_mes = pd.Series(ultra_messages)\n",
    "\n",
    "total_mes = pd.DataFrame({'smart': smart_mes, 'ultra': ultra_mes})"
   ]
  },
  {
   "cell_type": "markdown",
   "id": "664fbcc7",
   "metadata": {},
   "source": [
    "##### Вывод по сообщениям:"
   ]
  },
  {
   "cell_type": "code",
   "execution_count": 52,
   "id": "8a1786f5",
   "metadata": {},
   "outputs": [
    {
     "data": {
      "text/html": [
       "<div>\n",
       "<style scoped>\n",
       "    .dataframe tbody tr th:only-of-type {\n",
       "        vertical-align: middle;\n",
       "    }\n",
       "\n",
       "    .dataframe tbody tr th {\n",
       "        vertical-align: top;\n",
       "    }\n",
       "\n",
       "    .dataframe thead th {\n",
       "        text-align: right;\n",
       "    }\n",
       "</style>\n",
       "<table border=\"1\" class=\"dataframe\">\n",
       "  <thead>\n",
       "    <tr style=\"text-align: right;\">\n",
       "      <th></th>\n",
       "      <th>smart</th>\n",
       "      <th>ultra</th>\n",
       "    </tr>\n",
       "  </thead>\n",
       "  <tbody>\n",
       "    <tr>\n",
       "      <th>Стандартное отклонение</th>\n",
       "      <td>28.23</td>\n",
       "      <td>47.80</td>\n",
       "    </tr>\n",
       "    <tr>\n",
       "      <th>Дисперсия</th>\n",
       "      <td>796.81</td>\n",
       "      <td>2285.27</td>\n",
       "    </tr>\n",
       "  </tbody>\n",
       "</table>\n",
       "</div>"
      ],
      "text/plain": [
       "                        smart   ultra\n",
       "Стандартное отклонение  28.23   47.80\n",
       "Дисперсия              796.81 2285.27"
      ]
     },
     "execution_count": 52,
     "metadata": {},
     "output_type": "execute_result"
    }
   ],
   "source": [
    "total_mes"
   ]
  },
  {
   "cell_type": "markdown",
   "id": "915adab8",
   "metadata": {},
   "source": [
    "##### интернет-траффик:"
   ]
  },
  {
   "cell_type": "code",
   "execution_count": 53,
   "id": "7cc54585",
   "metadata": {},
   "outputs": [
    {
     "data": {
      "text/plain": [
       "count    2229.00\n",
       "mean    16229.19\n",
       "std      5877.58\n",
       "min         0.00\n",
       "25%     12658.00\n",
       "50%     16531.00\n",
       "75%     20068.00\n",
       "max     38610.00\n",
       "Name: mb_used, dtype: float64"
      ]
     },
     "execution_count": 53,
     "metadata": {},
     "output_type": "execute_result"
    }
   ],
   "source": [
    "smart['mb_used'].describe()"
   ]
  },
  {
   "cell_type": "code",
   "execution_count": 54,
   "id": "ac50c8ca",
   "metadata": {},
   "outputs": [
    {
     "data": {
      "text/plain": [
       "count     985.00\n",
       "mean    19486.90\n",
       "std     10096.32\n",
       "min         0.00\n",
       "25%     11785.00\n",
       "50%     19324.00\n",
       "75%     26863.00\n",
       "max     49789.00\n",
       "Name: mb_used, dtype: float64"
      ]
     },
     "execution_count": 54,
     "metadata": {},
     "output_type": "execute_result"
    }
   ],
   "source": [
    "ultra['mb_used'].describe()"
   ]
  },
  {
   "cell_type": "code",
   "execution_count": 55,
   "id": "81e28874",
   "metadata": {},
   "outputs": [
    {
     "data": {
      "image/png": "[encoded data removed]",
      "text/plain": [
       "<Figure size 432x288 with 1 Axes>"
      ]
     },
     "metadata": {
      "needs_background": "light"
     },
     "output_type": "display_data"
    }
   ],
   "source": [
    "plt.hist(smart['mb_used'], bins=50, label='smart')\n",
    "plt.hist(ultra['mb_used'], bins=50, label='ultra', alpha=0.7)\n",
    "plt.legend(loc='upper right')\n",
    "plt.xlabel('количество мегабайт')\n",
    "plt.ylabel('количество пользователей')\n",
    "plt.show()"
   ]
  },
  {
   "cell_type": "code",
   "execution_count": 56,
   "id": "d9f19260",
   "metadata": {},
   "outputs": [
    {
     "name": "stdout",
     "output_type": "stream",
     "text": [
      "Дисперсия мегабайт тарифа smart 34545911.126957424\n",
      "Дисперсия мегабайт тарифа ultra 101935621.04821938\n"
     ]
    }
   ],
   "source": [
    "smart_mb_var = np.var(smart['mb_used'], ddof=1)\n",
    "ultra_mb_var = np.var(ultra['mb_used'], ddof=1)\n",
    "print('Дисперсия мегабайт тарифа smart',smart_mb_var)\n",
    "print('Дисперсия мегабайт тарифа ultra',ultra_mb_var)"
   ]
  },
  {
   "cell_type": "code",
   "execution_count": 57,
   "id": "403843f3",
   "metadata": {},
   "outputs": [],
   "source": [
    "smart_mb_used = {'Стандартное отклонение': smart['mb_used'].std(),'Дисперсия': smart_mb_var}            \n",
    "smart_mb = pd.Series(smart_mb_used)\n",
    "\n",
    "ultra_mb_used = {'Стандартное отклонение': ultra['mb_used'].std(), 'Дисперсия': ultra_mb_var}            \n",
    "ultra_mb = pd.Series(ultra_mb_used)\n",
    "\n",
    "total_mb_used = pd.DataFrame({'smart': smart_mb, 'ultra': ultra_mb})"
   ]
  },
  {
   "cell_type": "markdown",
   "id": "4f428683",
   "metadata": {},
   "source": [
    "##### Вывод по интернет-траффику:"
   ]
  },
  {
   "cell_type": "code",
   "execution_count": 58,
   "id": "2dd494ce",
   "metadata": {},
   "outputs": [
    {
     "data": {
      "text/html": [
       "<div>\n",
       "<style scoped>\n",
       "    .dataframe tbody tr th:only-of-type {\n",
       "        vertical-align: middle;\n",
       "    }\n",
       "\n",
       "    .dataframe tbody tr th {\n",
       "        vertical-align: top;\n",
       "    }\n",
       "\n",
       "    .dataframe thead th {\n",
       "        text-align: right;\n",
       "    }\n",
       "</style>\n",
       "<table border=\"1\" class=\"dataframe\">\n",
       "  <thead>\n",
       "    <tr style=\"text-align: right;\">\n",
       "      <th></th>\n",
       "      <th>smart</th>\n",
       "      <th>ultra</th>\n",
       "    </tr>\n",
       "  </thead>\n",
       "  <tbody>\n",
       "    <tr>\n",
       "      <th>Стандартное отклонение</th>\n",
       "      <td>5877.58</td>\n",
       "      <td>10096.32</td>\n",
       "    </tr>\n",
       "    <tr>\n",
       "      <th>Дисперсия</th>\n",
       "      <td>34545911.13</td>\n",
       "      <td>101935621.05</td>\n",
       "    </tr>\n",
       "  </tbody>\n",
       "</table>\n",
       "</div>"
      ],
      "text/plain": [
       "                             smart        ultra\n",
       "Стандартное отклонение     5877.58     10096.32\n",
       "Дисперсия              34545911.13 101935621.05"
      ]
     },
     "execution_count": 58,
     "metadata": {},
     "output_type": "execute_result"
    }
   ],
   "source": [
    "total_mb_used"
   ]
  },
  {
   "cell_type": "markdown",
   "id": "d6ab45df",
   "metadata": {},
   "source": [
    "###### средняя выручка из Москвы и из других регионов:"
   ]
  },
  {
   "cell_type": "code",
   "execution_count": 59,
   "id": "398871a7",
   "metadata": {},
   "outputs": [],
   "source": [
    "Moscow = users_score['city'] == 'Москва'\n",
    "users_score['city'].where(Moscow, 'Другой регион', inplace=True)\n",
    "\n",
    "city_monthly = users_score.pivot_table(\n",
    "    index=['city', 'month'],\n",
    "    values=values\n",
    ")"
   ]
  },
  {
   "cell_type": "code",
   "execution_count": 60,
   "id": "b807e860",
   "metadata": {},
   "outputs": [
    {
     "data": {
      "text/html": [
       "<div>\n",
       "<style scoped>\n",
       "    .dataframe tbody tr th:only-of-type {\n",
       "        vertical-align: middle;\n",
       "    }\n",
       "\n",
       "    .dataframe tbody tr th {\n",
       "        vertical-align: top;\n",
       "    }\n",
       "\n",
       "    .dataframe thead th {\n",
       "        text-align: right;\n",
       "    }\n",
       "</style>\n",
       "<table border=\"1\" class=\"dataframe\">\n",
       "  <thead>\n",
       "    <tr style=\"text-align: right;\">\n",
       "      <th></th>\n",
       "      <th>mb_used</th>\n",
       "      <th>messages</th>\n",
       "      <th>minutes</th>\n",
       "      <th>rub_monthly_fee_over</th>\n",
       "      <th>rub_monthly_fee_total</th>\n",
       "    </tr>\n",
       "    <tr>\n",
       "      <th>city</th>\n",
       "      <th></th>\n",
       "      <th></th>\n",
       "      <th></th>\n",
       "      <th></th>\n",
       "      <th></th>\n",
       "    </tr>\n",
       "  </thead>\n",
       "  <tbody>\n",
       "    <tr>\n",
       "      <th>Другой регион</th>\n",
       "      <td>15676.05</td>\n",
       "      <td>35.27</td>\n",
       "      <td>413.25</td>\n",
       "      <td>440.82</td>\n",
       "      <td>1387.36</td>\n",
       "    </tr>\n",
       "    <tr>\n",
       "      <th>Москва</th>\n",
       "      <td>17597.82</td>\n",
       "      <td>33.94</td>\n",
       "      <td>444.01</td>\n",
       "      <td>380.56</td>\n",
       "      <td>1475.53</td>\n",
       "    </tr>\n",
       "  </tbody>\n",
       "</table>\n",
       "</div>"
      ],
      "text/plain": [
       "               mb_used  messages  minutes  rub_monthly_fee_over  \\\n",
       "city                                                              \n",
       "Другой регион 15676.05     35.27   413.25                440.82   \n",
       "Москва        17597.82     33.94   444.01                380.56   \n",
       "\n",
       "               rub_monthly_fee_total  \n",
       "city                                  \n",
       "Другой регион                1387.36  \n",
       "Москва                       1475.53  "
      ]
     },
     "execution_count": 60,
     "metadata": {},
     "output_type": "execute_result"
    }
   ],
   "source": [
    "city_usage = city_monthly.pivot_table(\n",
    "    index='city',\n",
    "    values=values\n",
    ")\n",
    "city_usage"
   ]
  },
  {
   "cell_type": "markdown",
   "id": "c178add2",
   "metadata": {},
   "source": [
    "##### Вывод:\n",
    "- по средним значениям выручки пользователей Москвы и из других регионов мы видим, что разница примерно в 100 рублей.\n",
    "- в Москве больше тратят трафик интернета,а  сообщения и минуты приблизительно одинаково тратятся"
   ]
  },
  {
   "cell_type": "markdown",
   "id": "0bab8b44",
   "metadata": {},
   "source": [
    "<a id=\"4\"></a>"
   ]
  },
  {
   "cell_type": "markdown",
   "id": "f0e301a6",
   "metadata": {},
   "source": [
    "### 4. Проверяем гипотезы"
   ]
  },
  {
   "cell_type": "markdown",
   "id": "3d5eb288",
   "metadata": {},
   "source": [
    "##### Первая гипотеза - средняя выручка пользователей тарифов «Ультра» и «Смарт» различаются"
   ]
  },
  {
   "cell_type": "markdown",
   "id": "54394992",
   "metadata": {},
   "source": [
    "- примем за нулевую гипотезу - средняя выручка пользователей тарифов `ultra` и `smart` НЕ различается\n",
    "- тогда исходя из нулевой гипотезы формируем альтернативную гипотезу - средняя выручка пользователей тарифов `ultra` и `smart`  различается\n",
    "\n",
    "`Пороговое значение alpha возьмем 5%`"
   ]
  },
  {
   "cell_type": "code",
   "execution_count": 61,
   "id": "2dc5f5bc",
   "metadata": {},
   "outputs": [
    {
     "name": "stdout",
     "output_type": "stream",
     "text": [
      "cредняя выручка ultra:  2060.5299710501267\n",
      "cредняя выручка smart:  1233.3494665489009\n",
      "p-значение: 1.172655564462924e-190\n",
      "Отвергаем нулевую гипотезу\n"
     ]
    }
   ],
   "source": [
    "print('cредняя выручка ultra: ', pd.Series(ultra['rub_monthly_fee_total']).mean())\n",
    "print('cредняя выручка smart: ', pd.Series(smart['rub_monthly_fee_total']).mean())\n",
    "\n",
    "alpha = 0.05 # критический уровень статистической значимости\n",
    "             # если p-value окажется меньше него - отвергнем гипотезу\n",
    "\n",
    "results = st.ttest_ind(\n",
    "    smart['rub_monthly_fee_total'], \n",
    "    ultra['rub_monthly_fee_total'])\n",
    "\n",
    "print('p-значение:', results.pvalue)\n",
    "\n",
    "if (results.pvalue < alpha):\n",
    "    print(\"Отвергаем нулевую гипотезу\")\n",
    "else:\n",
    "    print(\"Не получилось отвергнуть нулевую гипотезу\")"
   ]
  },
  {
   "cell_type": "markdown",
   "id": "d4bde7b4",
   "metadata": {},
   "source": [
    "##### Вывод:\n",
    "Средняя выручка пользователей тарифов `ultra` и `smart` дейтсвительно различаются - наша гипотеза подтвердилась. Об этом говорит почти нулевая вероятность. "
   ]
  },
  {
   "cell_type": "markdown",
   "id": "93a3ab18",
   "metadata": {},
   "source": [
    "##### Вторая гипотеза - средняя выручка пользователей из Москвы отличается от выручки пользователей из других регионов"
   ]
  },
  {
   "cell_type": "markdown",
   "id": "a01b1956",
   "metadata": {},
   "source": [
    "- примем за нулевую гипотезу - средняя выручка пользователей из Москвы НЕ отличается от выручки пользователей из других регионов\n",
    "- тогда исходя из нулевой гипотезы формируем альтернативную гипотезу - средняя выручка пользователей из Москвы отличается от выручки пользователей из других регионов\n",
    "\n",
    "`Пороговое значение alpha возьмем 5%`"
   ]
  },
  {
   "cell_type": "code",
   "execution_count": 62,
   "id": "81b0f821",
   "metadata": {},
   "outputs": [
    {
     "name": "stdout",
     "output_type": "stream",
     "text": [
      "cредняя выручка пользователей из Москвы:  1507.276761968085\n",
      "cредняя выручка пользователей из других регионов:  1482.0637267996062\n",
      "p-значение: 0.47443187631524797\n",
      "Не получилось отвергнуть нулевую гипотезу\n"
     ]
    }
   ],
   "source": [
    "alpha = 0.05 # критический уровень статистической значимости\n",
    "             # если p-value окажется меньше него - отвергнем гипотезу\n",
    "\n",
    "Moscow = users_score.query(\"city == 'Москва'\")['rub_monthly_fee_total']\n",
    "other_regions = users_score.query(\"city == 'Другой регион'\")['rub_monthly_fee_total']\n",
    "\n",
    "print('cредняя выручка пользователей из Москвы: ', pd.Series(Moscow).mean())\n",
    "print('cредняя выручка пользователей из других регионов: ', pd.Series(other_regions).mean())\n",
    "\n",
    "results = st.ttest_ind(Moscow, other_regions)\n",
    "\n",
    "print('p-значение:', results.pvalue)\n",
    "\n",
    "if (results.pvalue < alpha):\n",
    "    print(\"Отвергаем нулевую гипотезу\")\n",
    "else:\n",
    "    print(\"Не получилось отвергнуть нулевую гипотезу\")"
   ]
  },
  {
   "cell_type": "markdown",
   "id": "ff46267d",
   "metadata": {},
   "source": [
    "##### Вывод:\n",
    "Cредняя выручка пользователей из Москвы не отличается от выручки пользователей из других регионов."
   ]
  },
  {
   "cell_type": "markdown",
   "id": "5af9cd33",
   "metadata": {},
   "source": [
    "<a id=\"5\"></a>"
   ]
  },
  {
   "cell_type": "markdown",
   "id": "b12b8cf5",
   "metadata": {},
   "source": [
    "### 5. Общий вывод"
   ]
  },
  {
   "cell_type": "markdown",
   "id": "811349d7",
   "metadata": {},
   "source": [
    "Из двух наших гипотез подтвердилась только одна:\n",
    "\n",
    "- Средняя выручка пользователей тарифов `ultra` и `smart` дейтсвительно различаются\n",
    "\n",
    "- Во второй гипотезе вероятность отличий равна 48%, средняя выручка пользователей из Москвы не отличается от выручки пользователей из других регионов\n",
    "\n",
    "Так же были построены графики и было выявлены различия использования пакета и построены следующие таблицы"
   ]
  },
  {
   "cell_type": "code",
   "execution_count": 63,
   "id": "bda9e809",
   "metadata": {},
   "outputs": [
    {
     "data": {
      "text/plain": [
       "'вывод по минутам'"
      ]
     },
     "metadata": {},
     "output_type": "display_data"
    },
    {
     "data": {
      "text/html": [
       "<div>\n",
       "<style scoped>\n",
       "    .dataframe tbody tr th:only-of-type {\n",
       "        vertical-align: middle;\n",
       "    }\n",
       "\n",
       "    .dataframe tbody tr th {\n",
       "        vertical-align: top;\n",
       "    }\n",
       "\n",
       "    .dataframe thead th {\n",
       "        text-align: right;\n",
       "    }\n",
       "</style>\n",
       "<table border=\"1\" class=\"dataframe\">\n",
       "  <thead>\n",
       "    <tr style=\"text-align: right;\">\n",
       "      <th></th>\n",
       "      <th>smart</th>\n",
       "      <th>ultra</th>\n",
       "    </tr>\n",
       "  </thead>\n",
       "  <tbody>\n",
       "    <tr>\n",
       "      <th>Стандартное отклонение</th>\n",
       "      <td>190.31</td>\n",
       "      <td>317.61</td>\n",
       "    </tr>\n",
       "    <tr>\n",
       "      <th>Дисперсия</th>\n",
       "      <td>36219.32</td>\n",
       "      <td>100873.63</td>\n",
       "    </tr>\n",
       "  </tbody>\n",
       "</table>\n",
       "</div>"
      ],
      "text/plain": [
       "                          smart     ultra\n",
       "Стандартное отклонение   190.31    317.61\n",
       "Дисперсия              36219.32 100873.63"
      ]
     },
     "metadata": {},
     "output_type": "display_data"
    }
   ],
   "source": [
    "display('вывод по минутам', total_min)"
   ]
  },
  {
   "cell_type": "code",
   "execution_count": 64,
   "id": "c4ccd739",
   "metadata": {},
   "outputs": [
    {
     "data": {
      "text/plain": [
       "'вывод по сообщениям'"
      ]
     },
     "metadata": {},
     "output_type": "display_data"
    },
    {
     "data": {
      "text/html": [
       "<div>\n",
       "<style scoped>\n",
       "    .dataframe tbody tr th:only-of-type {\n",
       "        vertical-align: middle;\n",
       "    }\n",
       "\n",
       "    .dataframe tbody tr th {\n",
       "        vertical-align: top;\n",
       "    }\n",
       "\n",
       "    .dataframe thead th {\n",
       "        text-align: right;\n",
       "    }\n",
       "</style>\n",
       "<table border=\"1\" class=\"dataframe\">\n",
       "  <thead>\n",
       "    <tr style=\"text-align: right;\">\n",
       "      <th></th>\n",
       "      <th>smart</th>\n",
       "      <th>ultra</th>\n",
       "    </tr>\n",
       "  </thead>\n",
       "  <tbody>\n",
       "    <tr>\n",
       "      <th>Стандартное отклонение</th>\n",
       "      <td>28.23</td>\n",
       "      <td>47.80</td>\n",
       "    </tr>\n",
       "    <tr>\n",
       "      <th>Дисперсия</th>\n",
       "      <td>796.81</td>\n",
       "      <td>2285.27</td>\n",
       "    </tr>\n",
       "  </tbody>\n",
       "</table>\n",
       "</div>"
      ],
      "text/plain": [
       "                        smart   ultra\n",
       "Стандартное отклонение  28.23   47.80\n",
       "Дисперсия              796.81 2285.27"
      ]
     },
     "metadata": {},
     "output_type": "display_data"
    }
   ],
   "source": [
    "display('вывод по сообщениям', total_mes)"
   ]
  },
  {
   "cell_type": "code",
   "execution_count": 65,
   "id": "69846d4c",
   "metadata": {},
   "outputs": [
    {
     "data": {
      "text/plain": [
       "'вывод по интернет-траффику'"
      ]
     },
     "metadata": {},
     "output_type": "display_data"
    },
    {
     "data": {
      "text/html": [
       "<div>\n",
       "<style scoped>\n",
       "    .dataframe tbody tr th:only-of-type {\n",
       "        vertical-align: middle;\n",
       "    }\n",
       "\n",
       "    .dataframe tbody tr th {\n",
       "        vertical-align: top;\n",
       "    }\n",
       "\n",
       "    .dataframe thead th {\n",
       "        text-align: right;\n",
       "    }\n",
       "</style>\n",
       "<table border=\"1\" class=\"dataframe\">\n",
       "  <thead>\n",
       "    <tr style=\"text-align: right;\">\n",
       "      <th></th>\n",
       "      <th>smart</th>\n",
       "      <th>ultra</th>\n",
       "    </tr>\n",
       "  </thead>\n",
       "  <tbody>\n",
       "    <tr>\n",
       "      <th>Стандартное отклонение</th>\n",
       "      <td>5877.58</td>\n",
       "      <td>10096.32</td>\n",
       "    </tr>\n",
       "    <tr>\n",
       "      <th>Дисперсия</th>\n",
       "      <td>34545911.13</td>\n",
       "      <td>101935621.05</td>\n",
       "    </tr>\n",
       "  </tbody>\n",
       "</table>\n",
       "</div>"
      ],
      "text/plain": [
       "                             smart        ultra\n",
       "Стандартное отклонение     5877.58     10096.32\n",
       "Дисперсия              34545911.13 101935621.05"
      ]
     },
     "metadata": {},
     "output_type": "display_data"
    }
   ],
   "source": [
    "display('вывод по интернет-траффику', total_mb_used)"
   ]
  },
  {
   "cell_type": "markdown",
   "id": "c36abd58",
   "metadata": {},
   "source": [
    "##### Отвечаем на вопрос какой тариф выгоден:\n",
    "- пользователи тарифа `ultra` более активны и тратят больше денег даже не выходя за границы тарифных лимитов\n",
    "- пользователи тарифа `smart` тратят в среднем в 6 раз больше на доп. услуги\n",
    "\n",
    "Исходя из вышеприведенного анализа выборочных совокупностей и гипотезы, можем сказать:\n",
    "\n",
    "#### `что для пользователя более выгоден тариф smart, для оператора – тариф ultra, он приносит больше денег`"
   ]
  },
  {
   "cell_type": "markdown",
   "id": "1e5eff4b",
   "metadata": {},
   "source": [
    "[наверх к оглавлению](#up)"
   ]
  }
 ],
 "metadata": {
  "ExecuteTimeLog": [
   {
    "duration": 1046,
    "start_time": "2021-12-06T05:54:49.897Z"
   },
   {
    "duration": 258,
    "start_time": "2021-12-06T05:54:50.945Z"
   },
   {
    "duration": 6,
    "start_time": "2021-12-06T05:54:51.205Z"
   },
   {
    "duration": 8,
    "start_time": "2021-12-06T05:54:51.213Z"
   },
   {
    "duration": 389,
    "start_time": "2021-12-06T05:54:51.222Z"
   },
   {
    "duration": 21,
    "start_time": "2021-12-06T05:54:51.613Z"
   },
   {
    "duration": 27,
    "start_time": "2021-12-06T05:54:51.636Z"
   },
   {
    "duration": 260,
    "start_time": "2021-12-06T05:54:51.665Z"
   },
   {
    "duration": 15,
    "start_time": "2021-12-06T05:54:51.928Z"
   },
   {
    "duration": 15,
    "start_time": "2021-12-06T05:54:51.945Z"
   },
   {
    "duration": 344,
    "start_time": "2021-12-06T05:54:51.962Z"
   },
   {
    "duration": 18,
    "start_time": "2021-12-06T05:54:52.308Z"
   },
   {
    "duration": 21,
    "start_time": "2021-12-06T05:54:52.328Z"
   },
   {
    "duration": 86,
    "start_time": "2021-12-06T05:54:52.351Z"
   },
   {
    "duration": 6,
    "start_time": "2021-12-06T05:54:52.439Z"
   },
   {
    "duration": 6,
    "start_time": "2021-12-06T05:54:52.447Z"
   },
   {
    "duration": 8,
    "start_time": "2021-12-06T05:54:52.455Z"
   },
   {
    "duration": 87,
    "start_time": "2021-12-06T05:54:52.465Z"
   },
   {
    "duration": 7,
    "start_time": "2021-12-06T05:54:52.554Z"
   },
   {
    "duration": 3,
    "start_time": "2021-12-06T05:54:52.563Z"
   },
   {
    "duration": 105,
    "start_time": "2021-12-06T05:54:52.567Z"
   },
   {
    "duration": 49,
    "start_time": "2021-12-06T05:54:52.674Z"
   },
   {
    "duration": 67,
    "start_time": "2021-12-06T05:54:52.725Z"
   },
   {
    "duration": 6,
    "start_time": "2021-12-06T05:54:52.794Z"
   },
   {
    "duration": 9,
    "start_time": "2021-12-06T05:54:52.802Z"
   },
   {
    "duration": 11,
    "start_time": "2021-12-06T05:54:52.813Z"
   },
   {
    "duration": 12,
    "start_time": "2021-12-06T05:54:52.846Z"
   },
   {
    "duration": 5,
    "start_time": "2021-12-06T05:54:52.860Z"
   },
   {
    "duration": 31,
    "start_time": "2021-12-06T05:54:52.867Z"
   },
   {
    "duration": 16,
    "start_time": "2021-12-06T05:54:52.900Z"
   },
   {
    "duration": 28,
    "start_time": "2021-12-06T05:54:52.918Z"
   },
   {
    "duration": 3,
    "start_time": "2021-12-06T05:54:52.948Z"
   },
   {
    "duration": 136,
    "start_time": "2021-12-06T05:54:52.953Z"
   },
   {
    "duration": 18,
    "start_time": "2021-12-06T05:54:53.091Z"
   },
   {
    "duration": 46,
    "start_time": "2021-12-06T05:54:53.111Z"
   },
   {
    "duration": 3,
    "start_time": "2021-12-06T05:54:53.159Z"
   },
   {
    "duration": 26,
    "start_time": "2021-12-06T05:54:53.164Z"
   },
   {
    "duration": 25,
    "start_time": "2021-12-06T05:54:53.191Z"
   },
   {
    "duration": 35,
    "start_time": "2021-12-06T05:54:53.217Z"
   },
   {
    "duration": 21,
    "start_time": "2021-12-06T05:54:53.254Z"
   },
   {
    "duration": 21,
    "start_time": "2021-12-06T05:54:53.277Z"
   },
   {
    "duration": 24,
    "start_time": "2021-12-06T05:54:53.300Z"
   },
   {
    "duration": 358,
    "start_time": "2021-12-06T05:54:53.326Z"
   },
   {
    "duration": 5,
    "start_time": "2021-12-06T05:54:53.686Z"
   },
   {
    "duration": 8,
    "start_time": "2021-12-06T05:54:53.693Z"
   },
   {
    "duration": 7,
    "start_time": "2021-12-06T05:54:53.703Z"
   },
   {
    "duration": 8,
    "start_time": "2021-12-06T05:54:53.712Z"
   },
   {
    "duration": 7,
    "start_time": "2021-12-06T05:54:53.745Z"
   },
   {
    "duration": 341,
    "start_time": "2021-12-06T05:54:53.754Z"
   },
   {
    "duration": 5,
    "start_time": "2021-12-06T05:54:54.096Z"
   },
   {
    "duration": 7,
    "start_time": "2021-12-06T05:54:54.102Z"
   },
   {
    "duration": 8,
    "start_time": "2021-12-06T05:54:54.111Z"
   },
   {
    "duration": 28,
    "start_time": "2021-12-06T05:54:54.121Z"
   },
   {
    "duration": 7,
    "start_time": "2021-12-06T05:54:54.150Z"
   },
   {
    "duration": 351,
    "start_time": "2021-12-06T05:54:54.158Z"
   },
   {
    "duration": 5,
    "start_time": "2021-12-06T05:54:54.510Z"
   },
   {
    "duration": 9,
    "start_time": "2021-12-06T05:54:54.517Z"
   },
   {
    "duration": 21,
    "start_time": "2021-12-06T05:54:54.527Z"
   },
   {
    "duration": 30,
    "start_time": "2021-12-06T05:54:54.550Z"
   },
   {
    "duration": 23,
    "start_time": "2021-12-06T05:54:54.581Z"
   },
   {
    "duration": 78,
    "start_time": "2021-12-06T05:54:54.606Z"
   },
   {
    "duration": 12,
    "start_time": "2021-12-06T05:54:54.685Z"
   },
   {
    "duration": 20,
    "start_time": "2021-12-06T05:54:54.699Z"
   },
   {
    "duration": 23,
    "start_time": "2021-12-06T05:54:54.721Z"
   },
   {
    "duration": 11,
    "start_time": "2021-12-06T05:54:54.746Z"
   }
  ],
  "kernelspec": {
   "display_name": "Python 3",
   "language": "python",
   "name": "python3"
  },
  "language_info": {
   "codemirror_mode": {
    "name": "ipython",
    "version": 3
   },
   "file_extension": ".py",
   "mimetype": "text/x-python",
   "name": "python",
   "nbconvert_exporter": "python",
   "pygments_lexer": "ipython3",
   "version": "3.8.8"
  },
  "toc": {
   "base_numbering": 1,
   "nav_menu": {},
   "number_sections": true,
   "sideBar": true,
   "skip_h1_title": true,
   "title_cell": "Table of Contents",
   "title_sidebar": "Contents",
   "toc_cell": false,
   "toc_position": {},
   "toc_section_display": true,
   "toc_window_display": false
  }
 },
 "nbformat": 4,
 "nbformat_minor": 5
}
