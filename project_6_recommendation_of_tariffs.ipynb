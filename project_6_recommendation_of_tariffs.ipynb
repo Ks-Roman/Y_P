{
 "cells": [
  {
   "cell_type": "markdown",
   "id": "70cb8fd2",
   "metadata": {},
   "source": [
    "## Рекомендация тарифов"
   ]
  },
  {
   "cell_type": "markdown",
   "id": "d6579557",
   "metadata": {},
   "source": [
    "### Описание проекта"
   ]
  },
  {
   "cell_type": "markdown",
   "id": "6951c31e",
   "metadata": {},
   "source": [
    "Оператор мобильной связи «Мегалайн» выяснил: многие клиенты пользуются архивными тарифами. Они хотят построить систему, способную проанализировать поведение клиентов и предложить пользователям новый тариф: «Смарт» или «Ультра».\n",
    "В вашем распоряжении данные о поведении клиентов, которые уже перешли на эти тарифы (из проекта курса «Статистический анализ данных»). Нужно построить модель для задачи классификации, которая выберет подходящий тариф. Предобработка данных не понадобится — вы её уже сделали.\n",
    "Постройте модель с максимально большим значением accuracy. Чтобы сдать проект успешно, нужно довести долю правильных ответов по крайней мере до 0.75. Проверьте accuracy на тестовой выборке самостоятельно."
   ]
  },
  {
   "cell_type": "markdown",
   "id": "fd72a166",
   "metadata": {},
   "source": [
    "### Задачи исследования"
   ]
  },
  {
   "cell_type": "markdown",
   "id": "81f4e55b",
   "metadata": {},
   "source": [
    "### [1. Откройте файл с данными и изучите общую информацию](#1)"
   ]
  },
  {
   "cell_type": "markdown",
   "id": "66ad7b11",
   "metadata": {},
   "source": [
    "### [2. Разделите исходные данные на обучающую, валидационную и тестовую выборки.](#2)"
   ]
  },
  {
   "cell_type": "markdown",
   "id": "90405713",
   "metadata": {},
   "source": [
    "### [3. Исследуйте качество разных моделей, меняя гиперпараметры. Кратко напишите выводы исследования.](#3)"
   ]
  },
  {
   "cell_type": "markdown",
   "id": "1b65a658",
   "metadata": {},
   "source": [
    "### [4. Проверьте качество модели на тестовой выборке.](#4)"
   ]
  },
  {
   "cell_type": "markdown",
   "id": "2bb51f21",
   "metadata": {},
   "source": [
    "### [5. Дополнительное задание: проверьте модели на вменяемость.](#5)"
   ]
  },
  {
   "cell_type": "markdown",
   "id": "b2762026",
   "metadata": {},
   "source": [
    "### Описание данных"
   ]
  },
  {
   "cell_type": "markdown",
   "id": "5e5e953d",
   "metadata": {},
   "source": [
    "Каждый объект в наборе данных — это информация о поведении одного пользователя за месяц. Известно:\n",
    "    \n",
    "- сalls — количество звонков,\n",
    "- minutes — суммарная длительность звонков в минутах,\n",
    "- messages — количество sms-сообщений,\n",
    "- mb_used — израсходованный интернет-трафик в Мб,\n",
    "- is_ultra — каким тарифом пользовался в течение месяца (`Ультра` — 1, `Смарт` — 0)."
   ]
  },
  {
   "cell_type": "markdown",
   "id": "4beacbbb",
   "metadata": {},
   "source": [
    "<a id=\"1\"></a>"
   ]
  },
  {
   "cell_type": "markdown",
   "id": "1a995b0f",
   "metadata": {},
   "source": [
    "### 1. Откроем файлы и изучим общую информацию"
   ]
  },
  {
   "cell_type": "code",
   "execution_count": 1,
   "id": "0358419c",
   "metadata": {},
   "outputs": [],
   "source": [
    "import pandas as pd                          \n",
    "from sklearn.tree import DecisionTreeClassifier\n",
    "from sklearn.ensemble import RandomForestClassifier\n",
    "from sklearn.linear_model import LogisticRegression\n",
    "from sklearn.model_selection import train_test_split\n",
    "from sklearn.metrics import accuracy_score\n",
    "from sklearn.metrics import precision_score\n",
    "from sklearn.metrics import recall_score\n",
    "from sklearn.metrics import f1_score\n",
    "import warnings\n",
    "warnings.filterwarnings('ignore')"
   ]
  },
  {
   "cell_type": "code",
   "execution_count": 2,
   "id": "f50ba40b",
   "metadata": {},
   "outputs": [
    {
     "data": {
      "text/html": [
       "<div>\n",
       "<style scoped>\n",
       "    .dataframe tbody tr th:only-of-type {\n",
       "        vertical-align: middle;\n",
       "    }\n",
       "\n",
       "    .dataframe tbody tr th {\n",
       "        vertical-align: top;\n",
       "    }\n",
       "\n",
       "    .dataframe thead th {\n",
       "        text-align: right;\n",
       "    }\n",
       "</style>\n",
       "<table border=\"1\" class=\"dataframe\">\n",
       "  <thead>\n",
       "    <tr style=\"text-align: right;\">\n",
       "      <th></th>\n",
       "      <th>calls</th>\n",
       "      <th>minutes</th>\n",
       "      <th>messages</th>\n",
       "      <th>mb_used</th>\n",
       "      <th>is_ultra</th>\n",
       "    </tr>\n",
       "  </thead>\n",
       "  <tbody>\n",
       "    <tr>\n",
       "      <th>0</th>\n",
       "      <td>40.0</td>\n",
       "      <td>311.90</td>\n",
       "      <td>83.0</td>\n",
       "      <td>19915.42</td>\n",
       "      <td>0</td>\n",
       "    </tr>\n",
       "    <tr>\n",
       "      <th>1</th>\n",
       "      <td>85.0</td>\n",
       "      <td>516.75</td>\n",
       "      <td>56.0</td>\n",
       "      <td>22696.96</td>\n",
       "      <td>0</td>\n",
       "    </tr>\n",
       "    <tr>\n",
       "      <th>2</th>\n",
       "      <td>77.0</td>\n",
       "      <td>467.66</td>\n",
       "      <td>86.0</td>\n",
       "      <td>21060.45</td>\n",
       "      <td>0</td>\n",
       "    </tr>\n",
       "    <tr>\n",
       "      <th>3</th>\n",
       "      <td>106.0</td>\n",
       "      <td>745.53</td>\n",
       "      <td>81.0</td>\n",
       "      <td>8437.39</td>\n",
       "      <td>1</td>\n",
       "    </tr>\n",
       "    <tr>\n",
       "      <th>4</th>\n",
       "      <td>66.0</td>\n",
       "      <td>418.74</td>\n",
       "      <td>1.0</td>\n",
       "      <td>14502.75</td>\n",
       "      <td>0</td>\n",
       "    </tr>\n",
       "    <tr>\n",
       "      <th>5</th>\n",
       "      <td>58.0</td>\n",
       "      <td>344.56</td>\n",
       "      <td>21.0</td>\n",
       "      <td>15823.37</td>\n",
       "      <td>0</td>\n",
       "    </tr>\n",
       "    <tr>\n",
       "      <th>6</th>\n",
       "      <td>57.0</td>\n",
       "      <td>431.64</td>\n",
       "      <td>20.0</td>\n",
       "      <td>3738.90</td>\n",
       "      <td>1</td>\n",
       "    </tr>\n",
       "    <tr>\n",
       "      <th>7</th>\n",
       "      <td>15.0</td>\n",
       "      <td>132.40</td>\n",
       "      <td>6.0</td>\n",
       "      <td>21911.60</td>\n",
       "      <td>0</td>\n",
       "    </tr>\n",
       "    <tr>\n",
       "      <th>8</th>\n",
       "      <td>7.0</td>\n",
       "      <td>43.39</td>\n",
       "      <td>3.0</td>\n",
       "      <td>2538.67</td>\n",
       "      <td>1</td>\n",
       "    </tr>\n",
       "    <tr>\n",
       "      <th>9</th>\n",
       "      <td>90.0</td>\n",
       "      <td>665.41</td>\n",
       "      <td>38.0</td>\n",
       "      <td>17358.61</td>\n",
       "      <td>0</td>\n",
       "    </tr>\n",
       "  </tbody>\n",
       "</table>\n",
       "</div>"
      ],
      "text/plain": [
       "   calls  minutes  messages   mb_used  is_ultra\n",
       "0   40.0   311.90      83.0  19915.42         0\n",
       "1   85.0   516.75      56.0  22696.96         0\n",
       "2   77.0   467.66      86.0  21060.45         0\n",
       "3  106.0   745.53      81.0   8437.39         1\n",
       "4   66.0   418.74       1.0  14502.75         0\n",
       "5   58.0   344.56      21.0  15823.37         0\n",
       "6   57.0   431.64      20.0   3738.90         1\n",
       "7   15.0   132.40       6.0  21911.60         0\n",
       "8    7.0    43.39       3.0   2538.67         1\n",
       "9   90.0   665.41      38.0  17358.61         0"
      ]
     },
     "execution_count": 2,
     "metadata": {},
     "output_type": "execute_result"
    }
   ],
   "source": [
    "try:\n",
    "    df = pd.read_csv('users_behavior.csv')\n",
    "except Exception as e:\n",
    "    print(e)\n",
    "    df = pd.read_csv('/datasets/users_behavior.csv')\n",
    "\n",
    "df.head(10)"
   ]
  },
  {
   "cell_type": "code",
   "execution_count": 3,
   "id": "0cb82aa5",
   "metadata": {},
   "outputs": [
    {
     "name": "stdout",
     "output_type": "stream",
     "text": [
      "<class 'pandas.core.frame.DataFrame'>\n",
      "RangeIndex: 3214 entries, 0 to 3213\n",
      "Data columns (total 5 columns):\n",
      " #   Column    Non-Null Count  Dtype  \n",
      "---  ------    --------------  -----  \n",
      " 0   calls     3214 non-null   float64\n",
      " 1   minutes   3214 non-null   float64\n",
      " 2   messages  3214 non-null   float64\n",
      " 3   mb_used   3214 non-null   float64\n",
      " 4   is_ultra  3214 non-null   int64  \n",
      "dtypes: float64(4), int64(1)\n",
      "memory usage: 125.7 KB\n"
     ]
    }
   ],
   "source": [
    "df.info()"
   ]
  },
  {
   "cell_type": "code",
   "execution_count": 4,
   "id": "9de5f0ae",
   "metadata": {},
   "outputs": [
    {
     "data": {
      "text/plain": [
       "calls       0\n",
       "minutes     0\n",
       "messages    0\n",
       "mb_used     0\n",
       "is_ultra    0\n",
       "dtype: int64"
      ]
     },
     "execution_count": 4,
     "metadata": {},
     "output_type": "execute_result"
    }
   ],
   "source": [
    "df.isna().sum()"
   ]
  },
  {
   "cell_type": "code",
   "execution_count": 5,
   "id": "b3bf45b8",
   "metadata": {},
   "outputs": [
    {
     "data": {
      "text/plain": [
       "0"
      ]
     },
     "execution_count": 5,
     "metadata": {},
     "output_type": "execute_result"
    }
   ],
   "source": [
    "df.duplicated().sum()"
   ]
  },
  {
   "cell_type": "markdown",
   "id": "059f850a",
   "metadata": {},
   "source": [
    "##### Вывод:\n",
    "Перед нами стоит задача классификации. За целевой признак берем столбец is_ultra. Остальные признаки помогут нам предсказывать решение по столбцу is_ultra.\n",
    "\n",
    "Данных не очень много, модель может быть немного переобученной."
   ]
  },
  {
   "cell_type": "markdown",
   "id": "55cd3534",
   "metadata": {},
   "source": [
    "<a id=\"2\"></a>"
   ]
  },
  {
   "cell_type": "markdown",
   "id": "9314d71d",
   "metadata": {},
   "source": [
    "### 2. Разделяем исходные данные на обучающую, валидационную и тестовую выборки."
   ]
  },
  {
   "cell_type": "code",
   "execution_count": 6,
   "id": "66d57d96",
   "metadata": {},
   "outputs": [
    {
     "name": "stdout",
     "output_type": "stream",
     "text": [
      "Размер тренерующей выборки 1928\n",
      "Размер валидационной выборки 643\n",
      "Размер тестовой выборки 643\n"
     ]
    }
   ],
   "source": [
    "df_train, vnt_df = train_test_split(df, test_size=0.40, random_state=17012022)\n",
    "df_valid, test_df = train_test_split(vnt_df, test_size=0.50, random_state=17012022)\n",
    "\n",
    "print('Размер тренерующей выборки', df_train.shape[0])\n",
    "print('Размер валидационной выборки', df_valid.shape[0])\n",
    "print('Размер тестовой выборки', test_df.shape[0])"
   ]
  },
  {
   "cell_type": "code",
   "execution_count": 7,
   "id": "d8be4db0",
   "metadata": {},
   "outputs": [],
   "source": [
    "features_train = df_train.drop(['is_ultra'], axis=1)\n",
    "target_train = df_train['is_ultra']\n",
    "features_valid = df_valid.drop(['is_ultra'], axis=1)\n",
    "target_valid = df_valid['is_ultra']\n",
    "test_features = test_df.drop(['is_ultra'], axis=1)\n",
    "test_target = test_df['is_ultra']"
   ]
  },
  {
   "cell_type": "markdown",
   "id": "814a5406",
   "metadata": {},
   "source": [
    "##### Вывод:\n",
    "- обучение пройдет на данных `df_train`\n",
    "- валидация модели на данных `df_valid`\n",
    "- лучшая модель по валидации будет применена на данных `test_df`"
   ]
  },
  {
   "cell_type": "markdown",
   "id": "35184900",
   "metadata": {},
   "source": [
    "<a id=\"3\"></a>"
   ]
  },
  {
   "cell_type": "markdown",
   "id": "812a49f8",
   "metadata": {},
   "source": [
    "### 3. Исследуем модели."
   ]
  },
  {
   "cell_type": "code",
   "execution_count": 8,
   "id": "3c8a6e96",
   "metadata": {},
   "outputs": [],
   "source": [
    "import matplotlib\n",
    "import matplotlib.pyplot as plt"
   ]
  },
  {
   "cell_type": "code",
   "execution_count": 9,
   "id": "f04bdf30",
   "metadata": {},
   "outputs": [
    {
     "name": "stdout",
     "output_type": "stream",
     "text": [
      "Лучшая глубина дерева 5 Лучшая точность 0.833592534992224\n"
     ]
    },
    {
     "data": {
      "image/png": "[encoded data removed]",
      "text/plain": [
       "<Figure size 432x288 with 1 Axes>"
      ]
     },
     "metadata": {
      "needs_background": "light"
     },
     "output_type": "display_data"
    }
   ],
   "source": [
    "\n",
    "best_depth = 0\n",
    "best_accuracy = 0\n",
    "\n",
    "for depth in range(1,101):\n",
    "    model = DecisionTreeClassifier(random_state=17012022, max_depth=depth)\n",
    "    model.fit(features_train, target_train)\n",
    "    predictions_valid = model.predict(features_valid)\n",
    "    accuracy = accuracy_score(target_valid, predictions_valid)\n",
    "    #print('Глубина дерева', depth,'Точность',accuracy)\n",
    "    \n",
    "    plt.scatter(depth, accuracy)\n",
    "    plt.xlabel(\"Глубина дерева\")\n",
    "    plt.ylabel(\"Точность\")\n",
    "    plt.title(\"Исследование модели\")\n",
    "    \n",
    "    if accuracy > best_accuracy:\n",
    "        best_depth = depth\n",
    "        best_accuracy = accuracy\n",
    "\n",
    "print('Лучшая глубина дерева', best_depth,'Лучшая точность', best_accuracy)  "
   ]
  },
  {
   "cell_type": "code",
   "execution_count": 10,
   "id": "45a5c8fd",
   "metadata": {},
   "outputs": [
    {
     "name": "stdout",
     "output_type": "stream",
     "text": [
      "Глубина дерева 5 Точность 0.833592534992224\n"
     ]
    }
   ],
   "source": [
    "best_tree_model = DecisionTreeClassifier(random_state=17012022, max_depth=5)\n",
    "best_tree_model.fit(features_train, target_train)\n",
    "predictions_valid = best_tree_model.predict(features_valid)\n",
    "accuracy = accuracy_score(target_valid, predictions_valid)\n",
    "print('Глубина дерева', 5,'Точность',accuracy)"
   ]
  },
  {
   "cell_type": "markdown",
   "id": "de46edc4",
   "metadata": {},
   "source": [
    "##### Настроим гиперпараметр criterion с gini на entropy"
   ]
  },
  {
   "cell_type": "code",
   "execution_count": 11,
   "id": "5361b45a",
   "metadata": {},
   "outputs": [
    {
     "name": "stdout",
     "output_type": "stream",
     "text": [
      "Глубина дерева 5 Точность 0.833592534992224\n"
     ]
    }
   ],
   "source": [
    "model = DecisionTreeClassifier(random_state=17012022, max_depth=5, criterion=\"entropy\")\n",
    "model.fit(features_train, target_train)\n",
    "predictions_valid = best_tree_model.predict(features_valid)\n",
    "accuracy = accuracy_score(target_valid, predictions_valid)\n",
    "print('Глубина дерева', 5,'Точность',accuracy)"
   ]
  },
  {
   "cell_type": "markdown",
   "id": "8a63eb32",
   "metadata": {},
   "source": [
    "##### Гиперпараметр gini показывает себя лучше. Изменим splitter с best на random"
   ]
  },
  {
   "cell_type": "code",
   "execution_count": 12,
   "id": "12398f46",
   "metadata": {},
   "outputs": [
    {
     "name": "stdout",
     "output_type": "stream",
     "text": [
      "Глубина дерева 5 Точность 0.833592534992224\n"
     ]
    }
   ],
   "source": [
    "model = DecisionTreeClassifier(random_state=17012022, max_depth=5, splitter='random')\n",
    "model.fit(features_train, target_train)\n",
    "predictions_valid = best_tree_model.predict(features_valid)\n",
    "accuracy = accuracy_score(target_valid, predictions_valid)\n",
    "print('Глубина дерева', 5,'Точность',accuracy)"
   ]
  },
  {
   "cell_type": "markdown",
   "id": "6aa57ee9",
   "metadata": {},
   "source": [
    "##### Гиперпараметр best работает лучше. Перейдем к оценке случайного леса. Изменим в цикле гиперпараметр n_estimators."
   ]
  },
  {
   "cell_type": "code",
   "execution_count": 13,
   "id": "c46d5640",
   "metadata": {},
   "outputs": [
    {
     "name": "stdout",
     "output_type": "stream",
     "text": [
      "Лучшее количество деревьев 52 Лучшая точность 0.8149300155520995\n"
     ]
    },
    {
     "data": {
      "image/png": "[encoded data removed]",
      "text/plain": [
       "<Figure size 432x288 with 1 Axes>"
      ]
     },
     "metadata": {
      "needs_background": "light"
     },
     "output_type": "display_data"
    }
   ],
   "source": [
    "best_est = 0\n",
    "best_accuracy = 0\n",
    "\n",
    "for est in range(1,101):\n",
    "    model = RandomForestClassifier(random_state=17012022, n_estimators=est)\n",
    "    model.fit(features_train, target_train)\n",
    "    predictions_valid = model.predict(features_valid)\n",
    "    accuracy = accuracy_score(target_valid, predictions_valid)\n",
    "    #print('Количество деревьев', est,'Точность',accuracy)\n",
    "\n",
    "    plt.scatter(est, accuracy)\n",
    "    plt.xlabel(\"Количество деревьев\")\n",
    "    plt.ylabel(\"Точность\")\n",
    "    plt.title(\"Оценка случайного леса\")\n",
    "    \n",
    "    if accuracy > best_accuracy:\n",
    "        best_est= est\n",
    "        best_accuracy = accuracy\n",
    "\n",
    "print('Лучшее количество деревьев', best_est,'Лучшая точность', best_accuracy)   "
   ]
  },
  {
   "cell_type": "markdown",
   "id": "4443091c",
   "metadata": {},
   "source": [
    "`Лучший показатель точности при количестве деревьев 52.`"
   ]
  },
  {
   "cell_type": "code",
   "execution_count": 14,
   "id": "a17b16d5",
   "metadata": {},
   "outputs": [
    {
     "name": "stdout",
     "output_type": "stream",
     "text": [
      "Количество деревьев 52 Точность 0.8149300155520995\n"
     ]
    }
   ],
   "source": [
    "best_forest_model = RandomForestClassifier(random_state=17012022, n_estimators=52)\n",
    "best_forest_model.fit(features_train, target_train)\n",
    "predictions_valid = best_forest_model.predict(features_valid)\n",
    "accuracy = accuracy_score(target_valid, predictions_valid)\n",
    "print('Количество деревьев', 52,'Точность',accuracy)"
   ]
  },
  {
   "cell_type": "markdown",
   "id": "918b7abb",
   "metadata": {},
   "source": [
    "##### Настроим гиперпараметр criterion с gini на entropy"
   ]
  },
  {
   "cell_type": "code",
   "execution_count": 15,
   "id": "fceff1f5",
   "metadata": {},
   "outputs": [
    {
     "name": "stdout",
     "output_type": "stream",
     "text": [
      "Количество деревьев 100 Точность 0.8055987558320373\n"
     ]
    }
   ],
   "source": [
    "model = RandomForestClassifier(random_state=17012022, n_estimators=52, criterion='entropy')\n",
    "model.fit(features_train, target_train)\n",
    "predictions_valid = model.predict(features_valid)\n",
    "accuracy = accuracy_score(target_valid, predictions_valid)\n",
    "print('Количество деревьев', est,'Точность',accuracy)"
   ]
  },
  {
   "cell_type": "markdown",
   "id": "97fd4dbe",
   "metadata": {},
   "source": [
    "##### Гиперпараметр gini показывает себя лучше. Изменим bootstrap с True на Flase."
   ]
  },
  {
   "cell_type": "code",
   "execution_count": 16,
   "id": "cfa0353b",
   "metadata": {},
   "outputs": [
    {
     "name": "stdout",
     "output_type": "stream",
     "text": [
      "Количество деревьев 100 Точность 0.7838258164852255\n"
     ]
    }
   ],
   "source": [
    "model = RandomForestClassifier(random_state=17012022, n_estimators=52, bootstrap=False)\n",
    "model.fit(features_train, target_train)\n",
    "predictions_valid = model.predict(features_valid)\n",
    "accuracy = accuracy_score(target_valid, predictions_valid)\n",
    "print('Количество деревьев', est,'Точность',accuracy)"
   ]
  },
  {
   "cell_type": "markdown",
   "id": "21614c6d",
   "metadata": {},
   "source": [
    "##### bootstrap с True показывает себя лучше. Изменим warm_start с False на True"
   ]
  },
  {
   "cell_type": "code",
   "execution_count": 17,
   "id": "1d4a2e3d",
   "metadata": {},
   "outputs": [
    {
     "name": "stdout",
     "output_type": "stream",
     "text": [
      "Количество деревьев 100 Точность 0.8149300155520995\n"
     ]
    }
   ],
   "source": [
    "model = RandomForestClassifier(random_state=17012022, n_estimators=52, warm_start=True)\n",
    "model.fit(features_train, target_train)\n",
    "predictions_valid = model.predict(features_valid)\n",
    "accuracy = accuracy_score(target_valid, predictions_valid)\n",
    "print('Количество деревьев', est,'Точность',accuracy)"
   ]
  },
  {
   "cell_type": "markdown",
   "id": "c1f5f1a0",
   "metadata": {},
   "source": [
    "##### Значения не изменились. Перейдем к логистической регрессии. "
   ]
  },
  {
   "cell_type": "code",
   "execution_count": 18,
   "id": "191ef5f3",
   "metadata": {},
   "outputs": [
    {
     "name": "stdout",
     "output_type": "stream",
     "text": [
      "Лучшее количество итераций 83 Лучшая точность 0.7822706065318819\n"
     ]
    },
    {
     "data": {
      "image/png": "[encoded data removed]",
      "text/plain": [
       "<Figure size 432x288 with 1 Axes>"
      ]
     },
     "metadata": {
      "needs_background": "light"
     },
     "output_type": "display_data"
    }
   ],
   "source": [
    "best_iteration = 0\n",
    "best_accuracy = 0\n",
    "\n",
    "for max_iteration in range(1,201):\n",
    "    model = LogisticRegression(random_state=17012022, max_iter=max_iteration)\n",
    "    model.fit(features_train, target_train)\n",
    "    predictions_valid = model.predict(features_valid)\n",
    "    accuracy = accuracy_score(target_valid, predictions_valid)\n",
    "    #print('Количество итераций', max_iteration,'Точность',accuracy)\n",
    "    \n",
    "    plt.scatter(max_iteration, accuracy)\n",
    "    plt.xlabel(\"Количество итераций\")\n",
    "    plt.ylabel(\"Точность\")\n",
    "    plt.title(\"Логистическая регрессия\")\n",
    "    \n",
    "    if accuracy > best_accuracy:\n",
    "        best_iteration = max_iteration\n",
    "        best_accuracy = accuracy\n",
    "\n",
    "print('Лучшее количество итераций', best_iteration,'Лучшая точность', best_accuracy)   "
   ]
  },
  {
   "cell_type": "code",
   "execution_count": 19,
   "id": "c06b9d75",
   "metadata": {},
   "outputs": [
    {
     "name": "stdout",
     "output_type": "stream",
     "text": [
      "Количество итерраций 83 Точность 0.7822706065318819\n"
     ]
    }
   ],
   "source": [
    "best_reg_model = LogisticRegression(random_state=17012022)\n",
    "best_reg_model.fit(features_train, target_train)\n",
    "predictions_valid = best_reg_model.predict(features_valid)\n",
    "accuracy = accuracy_score(target_valid, predictions_valid)\n",
    "print('Количество итерраций', 83,'Точность',accuracy)"
   ]
  },
  {
   "cell_type": "markdown",
   "id": "0619a22c",
   "metadata": {},
   "source": [
    "Значение по-умолчанию в max_iter=83 хорошее, как и у 84, 85 и т.д. итераций. Увеличение в большую сторону ничего не меняет. Изменим другой гиперпараметр solver."
   ]
  },
  {
   "cell_type": "code",
   "execution_count": 20,
   "id": "02800f37",
   "metadata": {},
   "outputs": [
    {
     "name": "stdout",
     "output_type": "stream",
     "text": [
      "Solver lbfgs Точность 0.7822706065318819\n",
      "Solver sag Точность 0.7216174183514774\n",
      "Solver newton-cg Точность 0.7822706065318819\n",
      "Solver liblinear Точность 0.7371695178849145\n",
      "Solver saga Точность 0.7216174183514774\n",
      "Лучший решатель lbfgs Лучшая точность 0.7822706065318819\n"
     ]
    }
   ],
   "source": [
    "best_solver = ''\n",
    "best_accuracy = 0\n",
    "\n",
    "for solve in {'newton-cg', 'lbfgs', 'liblinear', 'sag', 'saga'}:\n",
    "    model = LogisticRegression(random_state=17012022, solver=solve)\n",
    "    model.fit(features_train, target_train)\n",
    "    predictions_valid = model.predict(features_valid)\n",
    "    accuracy = accuracy_score(target_valid, predictions_valid)\n",
    "    print('Solver', solve,'Точность',accuracy)\n",
    "    if accuracy > best_accuracy:\n",
    "        best_solver= solve\n",
    "        best_accuracy = accuracy\n",
    "\n",
    "print('Лучший решатель', best_solver,'Лучшая точность', best_accuracy) "
   ]
  },
  {
   "cell_type": "markdown",
   "id": "622a6855",
   "metadata": {},
   "source": [
    "##### Вывод:\n",
    "В ходе исследования были получены следующие данные:\n",
    "\n",
    "- точность модели решающего дерева при глубине 5 равна 0.833. \n",
    "- точность модели случайного леса при количестве деревьев 52 равна 0.814. \n",
    "- точность модели логистической регресии равна 0.782. \n",
    "- так как выборка небольшая, то лучший результат показывает решающее древо с гиперпараметром max_depth=5."
   ]
  },
  {
   "cell_type": "markdown",
   "id": "a1cfbead",
   "metadata": {},
   "source": [
    "<a id=\"4\"></a>"
   ]
  },
  {
   "cell_type": "markdown",
   "id": "29454983",
   "metadata": {},
   "source": [
    "### 4. Проверяем качество модели на тестовой выборке."
   ]
  },
  {
   "cell_type": "code",
   "execution_count": 21,
   "id": "32b7b9bb",
   "metadata": {},
   "outputs": [
    {
     "name": "stdout",
     "output_type": "stream",
     "text": [
      "Точность модели решающего леса на тестовой выборке 0.8009331259720062\n",
      "Точность модели случайного леса на тестовой выборке 0.7978227060653188\n",
      "Точность модели логистической регресиии на тестовой выборке 0.7340590979782271\n"
     ]
    }
   ],
   "source": [
    "test_predictions = best_tree_model.predict(test_features)\n",
    "accuracy = accuracy_score(test_target, test_predictions)\n",
    "print('Точность модели решающего леса на тестовой выборке',accuracy)\n",
    "\n",
    "test_predictions = best_forest_model.predict(test_features)\n",
    "accuracy = accuracy_score(test_target, test_predictions)\n",
    "print('Точность модели случайного леса на тестовой выборке',accuracy)\n",
    "\n",
    "test_predictions = best_reg_model.predict(test_features)\n",
    "accuracy = accuracy_score(test_target, test_predictions)\n",
    "print('Точность модели логистической регресиии на тестовой выборке',accuracy)"
   ]
  },
  {
   "cell_type": "markdown",
   "id": "04d8aea8",
   "metadata": {},
   "source": [
    "#### Вывод:\n",
    "Для гарантий и при учете того, что выборка не будет большой, рекомендую использовать модель `случайного леса`. Показатель выше требуемого на 4 пункта."
   ]
  },
  {
   "cell_type": "markdown",
   "id": "a719d58d",
   "metadata": {},
   "source": [
    "<a id=\"5\"></a>"
   ]
  },
  {
   "cell_type": "markdown",
   "id": "4714ffe0",
   "metadata": {},
   "source": [
    "### 5. Проверяем модели на адекватность."
   ]
  },
  {
   "cell_type": "markdown",
   "id": "a20b9bac",
   "metadata": {},
   "source": [
    "Оценить адекватность модели можно используя несколько метрик:\n",
    "\n",
    "- `accuracy` - точность совпадения прогнозов с правильными ответами.\n",
    "- `precision` - отношение правильно предсказанных классов равных 1 к сумме правильно предсказанных классов равных 1 с неправльными предсказаниями.\n",
    "- `recall` - отношение правильно предсказанных классов равных 1 к сумме правильно предсказанных классов равных 1 с неправльными предсказаниями."
   ]
  },
  {
   "cell_type": "code",
   "execution_count": 22,
   "id": "a54d441f",
   "metadata": {},
   "outputs": [
    {
     "name": "stdout",
     "output_type": "stream",
     "text": [
      "Accuracy = 0.7978227060653188 Precision = 0.7125 Recall = 0.5757575757575758\n"
     ]
    }
   ],
   "source": [
    "test_predictions = best_forest_model.predict(test_features)\n",
    "accuracy = accuracy_score(test_target, test_predictions)\n",
    "precision = precision_score(test_target, test_predictions)\n",
    "recall = recall_score(test_target, test_predictions)\n",
    "print('Accuracy =', accuracy, 'Precision =', precision, 'Recall =', recall)"
   ]
  },
  {
   "cell_type": "markdown",
   "id": "d0273c59",
   "metadata": {},
   "source": [
    "Для оценки адеватности используется F-мера - среднее гармоническое между precision и recall. Если хотя бы один из параметров близок к нулю, то и F-мера стремится к 0. Если оба стремятся к 1, то F-мера тоже стремится к 1."
   ]
  },
  {
   "cell_type": "code",
   "execution_count": 23,
   "id": "3b129761",
   "metadata": {},
   "outputs": [
    {
     "name": "stdout",
     "output_type": "stream",
     "text": [
      "F-мера = 0.6368715083798883\n"
     ]
    }
   ],
   "source": [
    "f_score = f1_score(test_target, test_predictions)\n",
    "print('F-мера =', f_score)"
   ]
  },
  {
   "cell_type": "markdown",
   "id": "e93fab91",
   "metadata": {},
   "source": [
    "#### Вывод:\n",
    "Адекватность модели оценивается по нескольким параметрам. Для модели классификации это `accuracy`, `precision` и `recall`. Качество модели лучше всего отражают `precision` и `recall` и эти метрики складываются в `F-мера` как единую оценку модели.\n",
    "\n",
    "Модель получилась среднего качества. И для таких задач она адекватна."
   ]
  },
  {
   "cell_type": "code",
   "execution_count": 27,
   "id": "eacbec3f",
   "metadata": {},
   "outputs": [
    {
     "data": {
      "text/plain": [
       "0.6920684292379471"
      ]
     },
     "execution_count": 27,
     "metadata": {},
     "output_type": "execute_result"
    }
   ],
   "source": [
    "from sklearn.dummy import DummyClassifier\n",
    "\n",
    "model = DummyClassifier(strategy=\"most_frequent\")\n",
    "model.fit(features_train, target_train)\n",
    "\n",
    "\n",
    "model.score(test_features, test_target)"
   ]
  },
  {
   "cell_type": "markdown",
   "id": "67297207",
   "metadata": {},
   "source": [
    "### Вывод:"
   ]
  },
  {
   "cell_type": "markdown",
   "id": "6ff2e34d",
   "metadata": {},
   "source": [
    "В ходе проделанной работы было выполнено:\n",
    "\n",
    "- Изучен файл с данными.\n",
    "- Разбиты данные на три выборки: обучающая, валидационная и тестовая.\n",
    "- Исследованы три модели классификации: Решающее дерево, Случайный лес и Логистическая регрессия.\n",
    "- Найдены оптимальные параметры для каждой модели и выбрана одна из них для обучения модели.\n",
    "- Оценена адекватность модели.\n",
    "\n",
    "Для обучения модели было использована выборка в 2000 значений. Этого может быть недостаточно для повышения ключевых параметров модели классификатора. Увеличение в 10 или 100 увеличит accuracy, precision и recall, а также время обучения.\n",
    "\n",
    "Адекватность модели повышается с ростом количества значений."
   ]
  }
 ],
 "metadata": {
  "ExecuteTimeLog": [
   {
    "duration": 1005,
    "start_time": "2022-01-19T09:04:30.051Z"
   },
   {
    "duration": 234,
    "start_time": "2022-01-19T09:04:31.058Z"
   },
   {
    "duration": 5,
    "start_time": "2022-01-19T09:04:31.294Z"
   },
   {
    "duration": 9,
    "start_time": "2022-01-19T09:04:31.301Z"
   },
   {
    "duration": 7,
    "start_time": "2022-01-19T09:04:31.312Z"
   },
   {
    "duration": 15,
    "start_time": "2022-01-19T09:04:31.321Z"
   },
   {
    "duration": 9,
    "start_time": "2022-01-19T09:04:31.337Z"
   },
   {
    "duration": 105,
    "start_time": "2022-01-19T09:04:31.348Z"
   },
   {
    "duration": 3974,
    "start_time": "2022-01-19T09:04:31.455Z"
   },
   {
    "duration": 9,
    "start_time": "2022-01-19T09:04:35.430Z"
   },
   {
    "duration": 11,
    "start_time": "2022-01-19T09:04:35.440Z"
   },
   {
    "duration": 15,
    "start_time": "2022-01-19T09:04:35.453Z"
   },
   {
    "duration": 28635,
    "start_time": "2022-01-19T09:04:35.469Z"
   },
   {
    "duration": 186,
    "start_time": "2022-01-19T09:05:04.105Z"
   },
   {
    "duration": 218,
    "start_time": "2022-01-19T09:05:04.292Z"
   },
   {
    "duration": 245,
    "start_time": "2022-01-19T09:05:04.512Z"
   },
   {
    "duration": 184,
    "start_time": "2022-01-19T09:05:04.759Z"
   },
   {
    "duration": 6246,
    "start_time": "2022-01-19T09:05:04.945Z"
   },
   {
    "duration": 9,
    "start_time": "2022-01-19T09:05:11.192Z"
   },
   {
    "duration": 146,
    "start_time": "2022-01-19T09:05:11.202Z"
   },
   {
    "duration": 15,
    "start_time": "2022-01-19T09:05:11.350Z"
   },
   {
    "duration": 20,
    "start_time": "2022-01-19T09:05:11.367Z"
   },
   {
    "duration": 15,
    "start_time": "2022-01-19T09:05:11.389Z"
   },
   {
    "duration": 17,
    "start_time": "2022-01-19T09:05:11.405Z"
   },
   {
    "duration": 410,
    "start_time": "2022-01-19T09:05:11.423Z"
   }
  ],
  "kernelspec": {
   "display_name": "Python 3",
   "language": "python",
   "name": "python3"
  },
  "language_info": {
   "codemirror_mode": {
    "name": "ipython",
    "version": 3
   },
   "file_extension": ".py",
   "mimetype": "text/x-python",
   "name": "python",
   "nbconvert_exporter": "python",
   "pygments_lexer": "ipython3",
   "version": "3.8.8"
  },
  "toc": {
   "base_numbering": 1,
   "nav_menu": {},
   "number_sections": true,
   "sideBar": true,
   "skip_h1_title": true,
   "title_cell": "Table of Contents",
   "title_sidebar": "Contents",
   "toc_cell": false,
   "toc_position": {},
   "toc_section_display": true,
   "toc_window_display": false
  }
 },
 "nbformat": 4,
 "nbformat_minor": 5
}
