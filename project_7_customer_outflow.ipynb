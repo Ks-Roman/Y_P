{
 "cells": [
  {
   "cell_type": "markdown",
   "id": "0adf3d71",
   "metadata": {},
   "source": [
    "## Отток клиентов"
   ]
  },
  {
   "cell_type": "markdown",
   "id": "972c867c",
   "metadata": {},
   "source": [
    "<a id=\"up\"></a>"
   ]
  },
  {
   "cell_type": "markdown",
   "id": "09eb7428",
   "metadata": {},
   "source": [
    "### Описание проекта"
   ]
  },
  {
   "cell_type": "markdown",
   "id": "e7982a7b",
   "metadata": {},
   "source": [
    "Из «Бета-Банка» стали уходить клиенты. Каждый месяц. Немного, но заметно. Банковские маркетологи посчитали: сохранять текущих клиентов дешевле, чем привлекать новых.\n",
    "\n",
    "Нужно спрогнозировать, уйдёт клиент из банка в ближайшее время или нет. Вам предоставлены исторические данные о поведении клиентов и расторжении договоров с банком.\n",
    "\n",
    "Постройте модель с предельно большим значением F1-меры. Чтобы сдать проект успешно, нужно довести метрику до 0.59. Проверьте F1-меру на тестовой выборке самостоятельно.\n",
    "\n",
    "Дополнительно измеряйте AUC-ROC, сравнивайте её значение с F1-мерой."
   ]
  },
  {
   "cell_type": "markdown",
   "id": "df33fe17",
   "metadata": {},
   "source": [
    "### Задачи исследования"
   ]
  },
  {
   "cell_type": "markdown",
   "id": "e3872f69",
   "metadata": {},
   "source": [
    "### [1. Загрузите и подготовьте данные. Поясните порядок действий.](#1)"
   ]
  },
  {
   "cell_type": "markdown",
   "id": "fd35629c",
   "metadata": {},
   "source": [
    "### [2. Исследуйте баланс классов, обучите модель без учёта дисбаланса. Кратко опишите выводы.](#2)"
   ]
  },
  {
   "cell_type": "markdown",
   "id": "b31799ed",
   "metadata": {},
   "source": [
    "### [3. Улучшите качество модели, учитывая дисбаланс классов. Обучите разные модели и найдите лучшую. Кратко опишите выводы.](#3)"
   ]
  },
  {
   "cell_type": "markdown",
   "id": "b27600d6",
   "metadata": {},
   "source": [
    "### [4. Проведите финальное тестирование.](#4)"
   ]
  },
  {
   "cell_type": "markdown",
   "id": "b8711495",
   "metadata": {},
   "source": [
    "### Описание данных"
   ]
  },
  {
   "cell_type": "markdown",
   "id": "0fb18676",
   "metadata": {},
   "source": [
    "`Признаки`\n",
    "\n",
    "- RowNumber — индекс строки в данных\n",
    "- CustomerId — уникальный идентификатор клиента\n",
    "- Surname — фамилия\n",
    "- CreditScore — кредитный рейтинг\n",
    "- Geography — страна проживания\n",
    "- Gender — пол\n",
    "- Age — возраст\n",
    "- Tenure — сколько лет человек является клиентом банка\n",
    "- Balance — баланс на счёте\n",
    "- NumOfProducts — количество продуктов банка, используемых клиентом\n",
    "- HasCrCard — наличие кредитной карты\n",
    "- IsActiveMember — активность клиента\n",
    "- EstimatedSalary — предполагаемая зарплата\n",
    "\n",
    "`Целевой признак`\n",
    "- Exited — факт ухода клиента"
   ]
  },
  {
   "cell_type": "markdown",
   "id": "ded530ed",
   "metadata": {},
   "source": [
    "<a id=\"1\"></a>"
   ]
  },
  {
   "cell_type": "markdown",
   "id": "43ab385e",
   "metadata": {},
   "source": [
    "### 1. Откроем файлы и изучим общую информацию, подготовим данные."
   ]
  },
  {
   "cell_type": "code",
   "execution_count": 1,
   "id": "cc524845",
   "metadata": {},
   "outputs": [],
   "source": [
    "import pandas as pd    \n",
    "import matplotlib.pyplot as plt\n",
    "\n",
    "from sklearn.tree import DecisionTreeClassifier\n",
    "from sklearn.ensemble import RandomForestClassifier\n",
    "from sklearn.linear_model import LogisticRegression\n",
    "\n",
    "from sklearn.model_selection import train_test_split\n",
    "from sklearn.utils import shuffle\n",
    "\n",
    "from sklearn.metrics import accuracy_score\n",
    "from sklearn.metrics import precision_score\n",
    "from sklearn.metrics import recall_score\n",
    "from sklearn.metrics import f1_score\n",
    "from sklearn.metrics import roc_auc_score \n",
    "from sklearn.metrics import roc_curve\n",
    "\n",
    "import warnings\n",
    "warnings.filterwarnings('ignore')"
   ]
  },
  {
   "cell_type": "code",
   "execution_count": 2,
   "id": "a4343dd7",
   "metadata": {},
   "outputs": [
    {
     "data": {
      "text/html": [
       "<div>\n",
       "<style scoped>\n",
       "    .dataframe tbody tr th:only-of-type {\n",
       "        vertical-align: middle;\n",
       "    }\n",
       "\n",
       "    .dataframe tbody tr th {\n",
       "        vertical-align: top;\n",
       "    }\n",
       "\n",
       "    .dataframe thead th {\n",
       "        text-align: right;\n",
       "    }\n",
       "</style>\n",
       "<table border=\"1\" class=\"dataframe\">\n",
       "  <thead>\n",
       "    <tr style=\"text-align: right;\">\n",
       "      <th></th>\n",
       "      <th>RowNumber</th>\n",
       "      <th>CustomerId</th>\n",
       "      <th>Surname</th>\n",
       "      <th>CreditScore</th>\n",
       "      <th>Geography</th>\n",
       "      <th>Gender</th>\n",
       "      <th>Age</th>\n",
       "      <th>Tenure</th>\n",
       "      <th>Balance</th>\n",
       "      <th>NumOfProducts</th>\n",
       "      <th>HasCrCard</th>\n",
       "      <th>IsActiveMember</th>\n",
       "      <th>EstimatedSalary</th>\n",
       "      <th>Exited</th>\n",
       "    </tr>\n",
       "  </thead>\n",
       "  <tbody>\n",
       "    <tr>\n",
       "      <th>0</th>\n",
       "      <td>1</td>\n",
       "      <td>15634602</td>\n",
       "      <td>Hargrave</td>\n",
       "      <td>619</td>\n",
       "      <td>France</td>\n",
       "      <td>Female</td>\n",
       "      <td>42</td>\n",
       "      <td>2.0</td>\n",
       "      <td>0.00</td>\n",
       "      <td>1</td>\n",
       "      <td>1</td>\n",
       "      <td>1</td>\n",
       "      <td>101348.88</td>\n",
       "      <td>1</td>\n",
       "    </tr>\n",
       "    <tr>\n",
       "      <th>1</th>\n",
       "      <td>2</td>\n",
       "      <td>15647311</td>\n",
       "      <td>Hill</td>\n",
       "      <td>608</td>\n",
       "      <td>Spain</td>\n",
       "      <td>Female</td>\n",
       "      <td>41</td>\n",
       "      <td>1.0</td>\n",
       "      <td>83807.86</td>\n",
       "      <td>1</td>\n",
       "      <td>0</td>\n",
       "      <td>1</td>\n",
       "      <td>112542.58</td>\n",
       "      <td>0</td>\n",
       "    </tr>\n",
       "    <tr>\n",
       "      <th>2</th>\n",
       "      <td>3</td>\n",
       "      <td>15619304</td>\n",
       "      <td>Onio</td>\n",
       "      <td>502</td>\n",
       "      <td>France</td>\n",
       "      <td>Female</td>\n",
       "      <td>42</td>\n",
       "      <td>8.0</td>\n",
       "      <td>159660.80</td>\n",
       "      <td>3</td>\n",
       "      <td>1</td>\n",
       "      <td>0</td>\n",
       "      <td>113931.57</td>\n",
       "      <td>1</td>\n",
       "    </tr>\n",
       "    <tr>\n",
       "      <th>3</th>\n",
       "      <td>4</td>\n",
       "      <td>15701354</td>\n",
       "      <td>Boni</td>\n",
       "      <td>699</td>\n",
       "      <td>France</td>\n",
       "      <td>Female</td>\n",
       "      <td>39</td>\n",
       "      <td>1.0</td>\n",
       "      <td>0.00</td>\n",
       "      <td>2</td>\n",
       "      <td>0</td>\n",
       "      <td>0</td>\n",
       "      <td>93826.63</td>\n",
       "      <td>0</td>\n",
       "    </tr>\n",
       "    <tr>\n",
       "      <th>4</th>\n",
       "      <td>5</td>\n",
       "      <td>15737888</td>\n",
       "      <td>Mitchell</td>\n",
       "      <td>850</td>\n",
       "      <td>Spain</td>\n",
       "      <td>Female</td>\n",
       "      <td>43</td>\n",
       "      <td>2.0</td>\n",
       "      <td>125510.82</td>\n",
       "      <td>1</td>\n",
       "      <td>1</td>\n",
       "      <td>1</td>\n",
       "      <td>79084.10</td>\n",
       "      <td>0</td>\n",
       "    </tr>\n",
       "    <tr>\n",
       "      <th>5</th>\n",
       "      <td>6</td>\n",
       "      <td>15574012</td>\n",
       "      <td>Chu</td>\n",
       "      <td>645</td>\n",
       "      <td>Spain</td>\n",
       "      <td>Male</td>\n",
       "      <td>44</td>\n",
       "      <td>8.0</td>\n",
       "      <td>113755.78</td>\n",
       "      <td>2</td>\n",
       "      <td>1</td>\n",
       "      <td>0</td>\n",
       "      <td>149756.71</td>\n",
       "      <td>1</td>\n",
       "    </tr>\n",
       "    <tr>\n",
       "      <th>6</th>\n",
       "      <td>7</td>\n",
       "      <td>15592531</td>\n",
       "      <td>Bartlett</td>\n",
       "      <td>822</td>\n",
       "      <td>France</td>\n",
       "      <td>Male</td>\n",
       "      <td>50</td>\n",
       "      <td>7.0</td>\n",
       "      <td>0.00</td>\n",
       "      <td>2</td>\n",
       "      <td>1</td>\n",
       "      <td>1</td>\n",
       "      <td>10062.80</td>\n",
       "      <td>0</td>\n",
       "    </tr>\n",
       "    <tr>\n",
       "      <th>7</th>\n",
       "      <td>8</td>\n",
       "      <td>15656148</td>\n",
       "      <td>Obinna</td>\n",
       "      <td>376</td>\n",
       "      <td>Germany</td>\n",
       "      <td>Female</td>\n",
       "      <td>29</td>\n",
       "      <td>4.0</td>\n",
       "      <td>115046.74</td>\n",
       "      <td>4</td>\n",
       "      <td>1</td>\n",
       "      <td>0</td>\n",
       "      <td>119346.88</td>\n",
       "      <td>1</td>\n",
       "    </tr>\n",
       "    <tr>\n",
       "      <th>8</th>\n",
       "      <td>9</td>\n",
       "      <td>15792365</td>\n",
       "      <td>He</td>\n",
       "      <td>501</td>\n",
       "      <td>France</td>\n",
       "      <td>Male</td>\n",
       "      <td>44</td>\n",
       "      <td>4.0</td>\n",
       "      <td>142051.07</td>\n",
       "      <td>2</td>\n",
       "      <td>0</td>\n",
       "      <td>1</td>\n",
       "      <td>74940.50</td>\n",
       "      <td>0</td>\n",
       "    </tr>\n",
       "    <tr>\n",
       "      <th>9</th>\n",
       "      <td>10</td>\n",
       "      <td>15592389</td>\n",
       "      <td>H?</td>\n",
       "      <td>684</td>\n",
       "      <td>France</td>\n",
       "      <td>Male</td>\n",
       "      <td>27</td>\n",
       "      <td>2.0</td>\n",
       "      <td>134603.88</td>\n",
       "      <td>1</td>\n",
       "      <td>1</td>\n",
       "      <td>1</td>\n",
       "      <td>71725.73</td>\n",
       "      <td>0</td>\n",
       "    </tr>\n",
       "  </tbody>\n",
       "</table>\n",
       "</div>"
      ],
      "text/plain": [
       "   RowNumber  CustomerId   Surname  CreditScore Geography  Gender  Age  \\\n",
       "0          1    15634602  Hargrave          619    France  Female   42   \n",
       "1          2    15647311      Hill          608     Spain  Female   41   \n",
       "2          3    15619304      Onio          502    France  Female   42   \n",
       "3          4    15701354      Boni          699    France  Female   39   \n",
       "4          5    15737888  Mitchell          850     Spain  Female   43   \n",
       "5          6    15574012       Chu          645     Spain    Male   44   \n",
       "6          7    15592531  Bartlett          822    France    Male   50   \n",
       "7          8    15656148    Obinna          376   Germany  Female   29   \n",
       "8          9    15792365        He          501    France    Male   44   \n",
       "9         10    15592389        H?          684    France    Male   27   \n",
       "\n",
       "   Tenure    Balance  NumOfProducts  HasCrCard  IsActiveMember  \\\n",
       "0     2.0       0.00              1          1               1   \n",
       "1     1.0   83807.86              1          0               1   \n",
       "2     8.0  159660.80              3          1               0   \n",
       "3     1.0       0.00              2          0               0   \n",
       "4     2.0  125510.82              1          1               1   \n",
       "5     8.0  113755.78              2          1               0   \n",
       "6     7.0       0.00              2          1               1   \n",
       "7     4.0  115046.74              4          1               0   \n",
       "8     4.0  142051.07              2          0               1   \n",
       "9     2.0  134603.88              1          1               1   \n",
       "\n",
       "   EstimatedSalary  Exited  \n",
       "0        101348.88       1  \n",
       "1        112542.58       0  \n",
       "2        113931.57       1  \n",
       "3         93826.63       0  \n",
       "4         79084.10       0  \n",
       "5        149756.71       1  \n",
       "6         10062.80       0  \n",
       "7        119346.88       1  \n",
       "8         74940.50       0  \n",
       "9         71725.73       0  "
      ]
     },
     "execution_count": 2,
     "metadata": {},
     "output_type": "execute_result"
    }
   ],
   "source": [
    "try:\n",
    "    df = pd.read_csv('Churn.csv')\n",
    "except Exception as e:\n",
    "    print(e)\n",
    "    df = pd.read_csv('/datasets/Churn.csv')\n",
    "\n",
    "df.head(10)"
   ]
  },
  {
   "cell_type": "code",
   "execution_count": 3,
   "id": "939248e3",
   "metadata": {},
   "outputs": [
    {
     "name": "stdout",
     "output_type": "stream",
     "text": [
      "<class 'pandas.core.frame.DataFrame'>\n",
      "RangeIndex: 10000 entries, 0 to 9999\n",
      "Data columns (total 14 columns):\n",
      " #   Column           Non-Null Count  Dtype  \n",
      "---  ------           --------------  -----  \n",
      " 0   RowNumber        10000 non-null  int64  \n",
      " 1   CustomerId       10000 non-null  int64  \n",
      " 2   Surname          10000 non-null  object \n",
      " 3   CreditScore      10000 non-null  int64  \n",
      " 4   Geography        10000 non-null  object \n",
      " 5   Gender           10000 non-null  object \n",
      " 6   Age              10000 non-null  int64  \n",
      " 7   Tenure           9091 non-null   float64\n",
      " 8   Balance          10000 non-null  float64\n",
      " 9   NumOfProducts    10000 non-null  int64  \n",
      " 10  HasCrCard        10000 non-null  int64  \n",
      " 11  IsActiveMember   10000 non-null  int64  \n",
      " 12  EstimatedSalary  10000 non-null  float64\n",
      " 13  Exited           10000 non-null  int64  \n",
      "dtypes: float64(3), int64(8), object(3)\n",
      "memory usage: 1.1+ MB\n"
     ]
    }
   ],
   "source": [
    "df.info()"
   ]
  },
  {
   "cell_type": "code",
   "execution_count": 4,
   "id": "4c46d591",
   "metadata": {},
   "outputs": [
    {
     "data": {
      "text/plain": [
       "RowNumber            0\n",
       "CustomerId           0\n",
       "Surname              0\n",
       "CreditScore          0\n",
       "Geography            0\n",
       "Gender               0\n",
       "Age                  0\n",
       "Tenure             909\n",
       "Balance              0\n",
       "NumOfProducts        0\n",
       "HasCrCard            0\n",
       "IsActiveMember       0\n",
       "EstimatedSalary      0\n",
       "Exited               0\n",
       "dtype: int64"
      ]
     },
     "execution_count": 4,
     "metadata": {},
     "output_type": "execute_result"
    }
   ],
   "source": [
    "df.isna().sum()"
   ]
  },
  {
   "cell_type": "code",
   "execution_count": 5,
   "id": "783e0f22",
   "metadata": {},
   "outputs": [],
   "source": [
    "df['Tenure'] = df['Tenure'].fillna(0)"
   ]
  },
  {
   "cell_type": "code",
   "execution_count": 6,
   "id": "1e72d5a7",
   "metadata": {},
   "outputs": [
    {
     "data": {
      "text/plain": [
       "0"
      ]
     },
     "execution_count": 6,
     "metadata": {},
     "output_type": "execute_result"
    }
   ],
   "source": [
    "df.duplicated().sum()"
   ]
  },
  {
   "cell_type": "code",
   "execution_count": 7,
   "id": "d0510ee8",
   "metadata": {},
   "outputs": [
    {
     "name": "stdout",
     "output_type": "stream",
     "text": [
      "Уникальные совпадения столбца RowNumber\n",
      "2049    1\n",
      "8865    1\n",
      "6806    1\n",
      "4759    1\n",
      "8857    1\n",
      "       ..\n",
      "9526    1\n",
      "5432    1\n",
      "7481    1\n",
      "1338    1\n",
      "2047    1\n",
      "Name: RowNumber, Length: 10000, dtype: int64\n",
      "Уникальные совпадения столбца CustomerId\n",
      "15695872    1\n",
      "15801062    1\n",
      "15682268    1\n",
      "15647453    1\n",
      "15684319    1\n",
      "           ..\n",
      "15629677    1\n",
      "15773039    1\n",
      "15766896    1\n",
      "15719793    1\n",
      "15812607    1\n",
      "Name: CustomerId, Length: 10000, dtype: int64\n",
      "Уникальные совпадения столбца Surname\n",
      "Smith       32\n",
      "Martin      29\n",
      "Scott       29\n",
      "Walker      28\n",
      "Brown       26\n",
      "            ..\n",
      "Renwick      1\n",
      "Rios         1\n",
      "Trout        1\n",
      "Efremova     1\n",
      "Chidalu      1\n",
      "Name: Surname, Length: 2932, dtype: int64\n",
      "Уникальные совпадения столбца CreditScore\n",
      "850    233\n",
      "678     63\n",
      "655     54\n",
      "667     53\n",
      "705     53\n",
      "      ... \n",
      "412      1\n",
      "351      1\n",
      "365      1\n",
      "373      1\n",
      "423      1\n",
      "Name: CreditScore, Length: 460, dtype: int64\n",
      "Уникальные совпадения столбца Geography\n",
      "France     5014\n",
      "Germany    2509\n",
      "Spain      2477\n",
      "Name: Geography, dtype: int64\n",
      "Уникальные совпадения столбца Gender\n",
      "Male      5457\n",
      "Female    4543\n",
      "Name: Gender, dtype: int64\n",
      "Уникальные совпадения столбца Age\n",
      "37    478\n",
      "38    477\n",
      "35    474\n",
      "36    456\n",
      "34    447\n",
      "     ... \n",
      "92      2\n",
      "88      1\n",
      "82      1\n",
      "85      1\n",
      "83      1\n",
      "Name: Age, Length: 70, dtype: int64\n",
      "Уникальные совпадения столбца Tenure\n",
      "0.0     1291\n",
      "1.0      952\n",
      "2.0      950\n",
      "8.0      933\n",
      "3.0      928\n",
      "5.0      927\n",
      "7.0      925\n",
      "4.0      885\n",
      "9.0      882\n",
      "6.0      881\n",
      "10.0     446\n",
      "Name: Tenure, dtype: int64\n",
      "Уникальные совпадения столбца Balance\n",
      "0.00         3617\n",
      "105473.74       2\n",
      "130170.82       2\n",
      "72594.00        1\n",
      "139723.90       1\n",
      "             ... \n",
      "130306.49       1\n",
      "92895.56        1\n",
      "132005.77       1\n",
      "166287.85       1\n",
      "104001.38       1\n",
      "Name: Balance, Length: 6382, dtype: int64\n",
      "Уникальные совпадения столбца NumOfProducts\n",
      "1    5084\n",
      "2    4590\n",
      "3     266\n",
      "4      60\n",
      "Name: NumOfProducts, dtype: int64\n",
      "Уникальные совпадения столбца HasCrCard\n",
      "1    7055\n",
      "0    2945\n",
      "Name: HasCrCard, dtype: int64\n",
      "Уникальные совпадения столбца IsActiveMember\n",
      "1    5151\n",
      "0    4849\n",
      "Name: IsActiveMember, dtype: int64\n",
      "Уникальные совпадения столбца EstimatedSalary\n",
      "24924.92     2\n",
      "109145.20    1\n",
      "59755.14     1\n",
      "1557.82      1\n",
      "117202.19    1\n",
      "            ..\n",
      "37674.47     1\n",
      "158043.11    1\n",
      "103792.53    1\n",
      "182266.01    1\n",
      "155061.97    1\n",
      "Name: EstimatedSalary, Length: 9999, dtype: int64\n",
      "Уникальные совпадения столбца Exited\n",
      "0    7963\n",
      "1    2037\n",
      "Name: Exited, dtype: int64\n"
     ]
    }
   ],
   "source": [
    "def values_column(df_frame):\n",
    "    for column in df_frame.columns:\n",
    "        print('Уникальные совпадения столбца', column)\n",
    "        print(df_frame[column].value_counts())\n",
    "        \n",
    "values_column(df)"
   ]
  },
  {
   "cell_type": "markdown",
   "id": "5c803c51",
   "metadata": {},
   "source": [
    "Удалим столбцы `RowNumber, CustomerId и Surname`, для исследовании модели они не потребуются, т.к.\n",
    "- `RowNumber` повторяет индекс строки в данных, \n",
    "- `CustomerId` - случайный или последовательный номер, который никак не зависит от действий пользователя,\n",
    "- `Surname` - признак, фамилия, это не гарант того, что клиент останется или уйдет."
   ]
  },
  {
   "cell_type": "code",
   "execution_count": 8,
   "id": "647b9542",
   "metadata": {},
   "outputs": [],
   "source": [
    "df = df.drop(['RowNumber', 'CustomerId', 'Surname'], axis=1)"
   ]
  },
  {
   "cell_type": "markdown",
   "id": "420253d9",
   "metadata": {},
   "source": [
    "Применим прямое кодирование ко всему датафрейму, чтобы не попасть в дамми-ловушку. Сохраним таблицу в переменной df_ohe. "
   ]
  },
  {
   "cell_type": "code",
   "execution_count": 9,
   "id": "c3bc61d1",
   "metadata": {},
   "outputs": [
    {
     "name": "stdout",
     "output_type": "stream",
     "text": [
      "<class 'pandas.core.frame.DataFrame'>\n",
      "RangeIndex: 10000 entries, 0 to 9999\n",
      "Data columns (total 12 columns):\n",
      " #   Column             Non-Null Count  Dtype  \n",
      "---  ------             --------------  -----  \n",
      " 0   CreditScore        10000 non-null  int64  \n",
      " 1   Age                10000 non-null  int64  \n",
      " 2   Tenure             10000 non-null  float64\n",
      " 3   Balance            10000 non-null  float64\n",
      " 4   NumOfProducts      10000 non-null  int64  \n",
      " 5   HasCrCard          10000 non-null  int64  \n",
      " 6   IsActiveMember     10000 non-null  int64  \n",
      " 7   EstimatedSalary    10000 non-null  float64\n",
      " 8   Exited             10000 non-null  int64  \n",
      " 9   Geography_Germany  10000 non-null  uint8  \n",
      " 10  Geography_Spain    10000 non-null  uint8  \n",
      " 11  Gender_Male        10000 non-null  uint8  \n",
      "dtypes: float64(3), int64(6), uint8(3)\n",
      "memory usage: 732.5 KB\n"
     ]
    }
   ],
   "source": [
    "df_ohe = pd.get_dummies(df, drop_first=True)\n",
    "df_ohe.info()"
   ]
  },
  {
   "cell_type": "markdown",
   "id": "7ed2e271",
   "metadata": {},
   "source": [
    "#### Вывод:\n",
    "- данные готовы к исследованию,\n",
    "- были удалены столбцы `RowNumber, CustomerId и Surname`, для исследовании модели они не потребуются,\n",
    "- заменены пропущеные значения стлбца `Tenure` — сколько лет человек является клиентом банка, на нулевое значение."
   ]
  },
  {
   "cell_type": "markdown",
   "id": "e8ea83bd",
   "metadata": {},
   "source": [
    "<a id=\"2\"></a>"
   ]
  },
  {
   "cell_type": "markdown",
   "id": "b44b807c",
   "metadata": {},
   "source": [
    "### 2. Исследование"
   ]
  },
  {
   "cell_type": "markdown",
   "id": "0ef483ac",
   "metadata": {},
   "source": [
    "Разобьем исходный набор данных на три части: обучающую, валидационную и тестовую.(60/20/20) Размеры тестового и валидационного наборов сделаем равными."
   ]
  },
  {
   "cell_type": "code",
   "execution_count": 10,
   "id": "9fbcecd6",
   "metadata": {},
   "outputs": [
    {
     "name": "stdout",
     "output_type": "stream",
     "text": [
      "(6000, 11) (2000, 11) (2000, 11)\n",
      "(6000,) (2000,) (2000,)\n"
     ]
    }
   ],
   "source": [
    "target = df_ohe['Exited']\n",
    "features = df_ohe.drop('Exited', axis=1)\n",
    "\n",
    "features_train, features_valid, target_train, target_valid = train_test_split(features, target, test_size=0.4, \n",
    "                                                                              random_state=28012022)\n",
    "features_valid, features_test, target_valid, target_test = train_test_split(features_valid, target_valid, test_size=0.5, \n",
    "                                                                              random_state=28012022)\n",
    "print(features_train.shape, features_valid.shape, features_test.shape)\n",
    "print(target_train.shape, target_valid.shape, target_test.shape)"
   ]
  },
  {
   "cell_type": "markdown",
   "id": "4c2234b1",
   "metadata": {},
   "source": [
    "Посмотрим, какой существует дисбаланс классов."
   ]
  },
  {
   "cell_type": "code",
   "execution_count": 11,
   "id": "54c5efff",
   "metadata": {},
   "outputs": [
    {
     "data": {
      "text/plain": [
       "0    7963\n",
       "1    2037\n",
       "Name: Exited, dtype: int64"
      ]
     },
     "execution_count": 11,
     "metadata": {},
     "output_type": "execute_result"
    }
   ],
   "source": [
    "target.value_counts()"
   ]
  },
  {
   "cell_type": "markdown",
   "id": "382b883c",
   "metadata": {},
   "source": [
    "Соотношение классов 1:4. Изучим модели без исправление баланса."
   ]
  },
  {
   "cell_type": "markdown",
   "id": "e835d8fc",
   "metadata": {},
   "source": [
    "##### Логистическая регрессия"
   ]
  },
  {
   "cell_type": "code",
   "execution_count": 12,
   "id": "3a6fd19b",
   "metadata": {},
   "outputs": [
    {
     "name": "stdout",
     "output_type": "stream",
     "text": [
      "F1 = 0.10071942446043165\n",
      "Wall time: 570 ms\n"
     ]
    }
   ],
   "source": [
    "%%time\n",
    "\n",
    "model = LogisticRegression(solver='liblinear', random_state=28012022)\n",
    "model.fit(features_train, target_train)\n",
    "predicted_valid = model.predict(features_valid)\n",
    "print('F1','=', f1_score(target_valid, predicted_valid))"
   ]
  },
  {
   "cell_type": "markdown",
   "id": "40737a80",
   "metadata": {},
   "source": [
    "- при дисбалансе классов логистическая регрессия предсказывает крайне плохо."
   ]
  },
  {
   "cell_type": "markdown",
   "id": "0c816510",
   "metadata": {},
   "source": [
    "#### Дерево решений"
   ]
  },
  {
   "cell_type": "code",
   "execution_count": 13,
   "id": "6aaedbfb",
   "metadata": {},
   "outputs": [
    {
     "name": "stdout",
     "output_type": "stream",
     "text": [
      "Max depth 2  F1 = 0.49837133550488605\n",
      "Max depth 4  F1 = 0.5009560229445507\n",
      "Max depth 6  F1 = 0.5723577235772358\n",
      "Max depth 8  F1 = 0.5652173913043478\n",
      "Max depth 10  F1 = 0.5641838351822505\n",
      "Max depth 12  F1 = 0.534711964549483\n",
      "Max depth 14  F1 = 0.5105189340813464\n",
      "Max depth 16  F1 = 0.4952638700947226\n",
      "Max depth 18  F1 = 0.49343832020997375\n",
      "Max depth 20  F1 = 0.49546044098573283\n",
      "Max depth 22  F1 = 0.5\n",
      "Wall time: 376 ms\n"
     ]
    }
   ],
   "source": [
    "%%time\n",
    "\n",
    "for depth in range(2, 24, 2):\n",
    "    model = DecisionTreeClassifier(random_state=28012022, max_depth=depth)\n",
    "    model.fit(features_train, target_train)\n",
    "    predicted_valid = model.predict(features_valid)\n",
    "    print('Max depth', depth,\"\",'F1','=', f1_score(target_valid, predicted_valid))\n",
    "   "
   ]
  },
  {
   "cell_type": "markdown",
   "id": "10572bce",
   "metadata": {},
   "source": [
    "- Пока лучшие результаты 0.5723577235772358 получили у модели с глубиной равной 6."
   ]
  },
  {
   "cell_type": "markdown",
   "id": "8eedeab6",
   "metadata": {},
   "source": [
    "##### Случайный лес"
   ]
  },
  {
   "cell_type": "markdown",
   "id": "9a512145",
   "metadata": {},
   "source": [
    "В качестве гиперпараметра глубины дерева возьмем значение, найденное для предыдущей модели. А количество деревьев для нашего случайного леса будет искать в диапазоне от 10 до 200 с шагом 10."
   ]
  },
  {
   "cell_type": "code",
   "execution_count": 14,
   "id": "da1f9f18",
   "metadata": {},
   "outputs": [
    {
     "name": "stdout",
     "output_type": "stream",
     "text": [
      "n-estimators 10  F1 = 0.5421245421245422\n",
      "n-estimators 20  F1 = 0.5333333333333333\n",
      "n-estimators 30  F1 = 0.5464480874316939\n",
      "n-estimators 40  F1 = 0.5527272727272726\n",
      "n-estimators 50  F1 = 0.5467889908256881\n",
      "n-estimators 60  F1 = 0.5594149908592322\n",
      "n-estimators 70  F1 = 0.5541284403669724\n",
      "n-estimators 80  F1 = 0.5488029465930018\n",
      "n-estimators 90  F1 = 0.5471349353049907\n",
      "n-estimators 100  F1 = 0.5394495412844036\n",
      "n-estimators 110  F1 = 0.5421245421245422\n",
      "n-estimators 120  F1 = 0.5457875457875457\n",
      "n-estimators 130  F1 = 0.5431192660550459\n",
      "n-estimators 140  F1 = 0.5447897623400365\n",
      "n-estimators 150  F1 = 0.5447897623400365\n",
      "n-estimators 160  F1 = 0.5447897623400365\n",
      "n-estimators 170  F1 = 0.5431192660550459\n",
      "n-estimators 180  F1 = 0.5404411764705883\n",
      "n-estimators 190  F1 = 0.5447897623400365\n",
      "n-estimators 200  F1 = 0.5447897623400365\n",
      "Wall time: 11.8 s\n"
     ]
    }
   ],
   "source": [
    "%%time\n",
    "\n",
    "for estim in range(10, 201, 10):\n",
    "    model =  RandomForestClassifier(random_state=28012022, n_estimators=estim, max_depth=6)\n",
    "    model.fit(features_train, target_train)\n",
    "    predicted_valid = model.predict(features_valid)\n",
    "    print('n-estimators', estim,\"\",'F1','=', f1_score(target_valid, predicted_valid))"
   ]
  },
  {
   "cell_type": "markdown",
   "id": "e76ed003",
   "metadata": {},
   "source": [
    "- Лучший результат был получен в районе 30-50 n_estimators. Сделаем исследование с шагом 1."
   ]
  },
  {
   "cell_type": "code",
   "execution_count": 15,
   "id": "d39b1f2a",
   "metadata": {},
   "outputs": [
    {
     "name": "stdout",
     "output_type": "stream",
     "text": [
      "n-estimators 30  F1 = 0.5464480874316939\n",
      "n-estimators 31  F1 = 0.5569620253164557\n",
      "n-estimators 32  F1 = 0.5527272727272726\n",
      "n-estimators 33  F1 = 0.5543478260869567\n",
      "n-estimators 34  F1 = 0.5595667870036101\n",
      "n-estimators 35  F1 = 0.5621621621621622\n",
      "n-estimators 36  F1 = 0.5537340619307832\n",
      "n-estimators 37  F1 = 0.5537340619307832\n",
      "n-estimators 38  F1 = 0.5553539019963702\n",
      "n-estimators 39  F1 = 0.5500910746812386\n",
      "n-estimators 40  F1 = 0.5527272727272726\n",
      "n-estimators 41  F1 = 0.5605786618444846\n",
      "n-estimators 42  F1 = 0.5709156193895871\n",
      "n-estimators 43  F1 = 0.5615942028985507\n",
      "n-estimators 44  F1 = 0.5599999999999999\n",
      "n-estimators 45  F1 = 0.5610200364298725\n",
      "n-estimators 46  F1 = 0.5626134301270417\n",
      "n-estimators 47  F1 = 0.5610200364298725\n",
      "n-estimators 48  F1 = 0.5537340619307832\n",
      "n-estimators 49  F1 = 0.5477941176470589\n",
      "n-estimators 50  F1 = 0.5467889908256881\n",
      "Wall time: 4.71 s\n"
     ]
    }
   ],
   "source": [
    "%%time\n",
    "\n",
    "for estim in range(30, 51, 1):\n",
    "    model =  RandomForestClassifier(random_state=28012022, n_estimators=estim, max_depth=6)\n",
    "    model.fit(features_train, target_train)\n",
    "    predicted_valid = model.predict(features_valid)\n",
    "    print('n-estimators', estim,\"\",'F1','=', f1_score(target_valid, predicted_valid))"
   ]
  },
  {
   "cell_type": "markdown",
   "id": "fa4da2ee",
   "metadata": {},
   "source": [
    "- Модель случайного леса предсказывает чуть хуже, чем дерево решений. Лучший результат 0.5709156193895871 достигается при количестве деревьев равном 42."
   ]
  },
  {
   "cell_type": "markdown",
   "id": "f20c9240",
   "metadata": {},
   "source": [
    "##### Проведем оценку `accuracy, precision и recall`, также покажем `F-метрику`."
   ]
  },
  {
   "cell_type": "code",
   "execution_count": 16,
   "id": "9ff7d9dd",
   "metadata": {},
   "outputs": [
    {
     "name": "stdout",
     "output_type": "stream",
     "text": [
      "Логистическая регрессия \n",
      "\n",
      "Точность попадания по классам 0.8125\n",
      "Precision 0.3620689655172414\n",
      "Recall 0.0584958217270195\n",
      "F1 0.10071942446043165\n",
      "\n",
      "Дерево решений \n",
      "\n",
      "Точность попадания по классам 0.8685\n",
      "Precision 0.6875\n",
      "Recall 0.49025069637883006\n",
      "F1 0.5723577235772358\n",
      "\n",
      "Случайный лес \n",
      "\n",
      "Точность попадания по классам 0.8745\n",
      "Precision 0.7347826086956522\n",
      "Recall 0.47075208913649025\n",
      "F1 0.5738539898132428\n",
      "\n",
      "Wall time: 473 ms\n"
     ]
    }
   ],
   "source": [
    "%%time\n",
    "\n",
    "model = LogisticRegression(random_state=28012022, solver='liblinear')\n",
    "model.fit(features_train, target_train)\n",
    "predicted_valid = model.predict(features_valid)\n",
    "print('Логистическая регрессия','\\n')\n",
    "print('Точность попадания по классам', accuracy_score(target_valid, predicted_valid))\n",
    "print('Precision', precision_score(target_valid, predicted_valid))\n",
    "print('Recall', recall_score(target_valid, predicted_valid))\n",
    "print('F1', f1_score(target_valid, predicted_valid))\n",
    "print()\n",
    "\n",
    "model = DecisionTreeClassifier(random_state=28012022, max_depth=6)\n",
    "model.fit(features_train, target_train)\n",
    "predicted_valid = model.predict(features_valid)\n",
    "print('Дерево решений','\\n')\n",
    "print('Точность попадания по классам', accuracy_score(target_valid, predicted_valid))\n",
    "print('Precision', precision_score(target_valid, predicted_valid))\n",
    "print('Recall', recall_score(target_valid, predicted_valid))\n",
    "print('F1', f1_score(target_valid, predicted_valid))\n",
    "print()\n",
    "\n",
    "model = RandomForestClassifier(random_state=28012022, n_estimators=42)\n",
    "model.fit(features_train, target_train)\n",
    "predicted_valid = model.predict(features_valid)\n",
    "print('Случайный лес','\\n')\n",
    "print('Точность попадания по классам', accuracy_score(target_valid, predicted_valid))\n",
    "print('Precision', precision_score(target_valid, predicted_valid))\n",
    "print('Recall', recall_score(target_valid, predicted_valid))\n",
    "print('F1', f1_score(target_valid, predicted_valid))\n",
    "print()\n"
   ]
  },
  {
   "cell_type": "markdown",
   "id": "2a6d7a99",
   "metadata": {},
   "source": [
    "##### Проведем построение `ROC-кривой` для каждой модели. И выведем показатель `AUC-ROC`."
   ]
  },
  {
   "cell_type": "code",
   "execution_count": 17,
   "id": "c7f7e2e9",
   "metadata": {},
   "outputs": [
    {
     "name": "stdout",
     "output_type": "stream",
     "text": [
      "AUC-ROC Логистическая регрессия 0.6690634659550957\n",
      "AUC-ROC Дерево решений 0.8194464955297656\n",
      "AUC-ROC Случайный лес 0.8369251373661348\n"
     ]
    },
    {
     "data": {
      "image/png": "[encoded data removed]",
      "text/plain": [
       "<Figure size 648x432 with 1 Axes>"
      ]
     },
     "metadata": {
      "needs_background": "light"
     },
     "output_type": "display_data"
    }
   ],
   "source": [
    "plt.figure(figsize=[9,6])\n",
    "\n",
    "plt.plot([0, 1], [0, 1], linestyle='--', label='Случайная модель')\n",
    "\n",
    "model = LogisticRegression(random_state=28012022, solver='liblinear')\n",
    "model.fit(features_train, target_train)\n",
    "probabilities_valid = model.predict_proba(features_valid)\n",
    "probabilities_one_valid = probabilities_valid[:, 1]\n",
    "fpr, tpr, thresholds = roc_curve(target_valid, probabilities_one_valid)\n",
    "auc_roc = roc_auc_score(target_valid, probabilities_one_valid)\n",
    "print('AUC-ROC Логистическая регрессия',auc_roc)\n",
    "plt.plot(fpr, tpr, label='Логистическая регрессия')\n",
    "\n",
    "model = DecisionTreeClassifier(random_state=28012022, max_depth=6)\n",
    "model.fit(features_train, target_train)\n",
    "probabilities_valid = model.predict_proba(features_valid)\n",
    "probabilities_one_valid = probabilities_valid[:, 1]\n",
    "fpr, tpr, thresholds = roc_curve(target_valid, probabilities_one_valid)\n",
    "auc_roc = roc_auc_score(target_valid, probabilities_one_valid)\n",
    "print('AUC-ROC Дерево решений',auc_roc)\n",
    "plt.plot(fpr, tpr, label='Дерево решений')\n",
    "\n",
    "model = RandomForestClassifier(random_state=28012022, n_estimators=42)\n",
    "model.fit(features_train, target_train)\n",
    "probabilities_valid = model.predict_proba(features_valid)\n",
    "probabilities_one_valid = probabilities_valid[:, 1]\n",
    "fpr, tpr, thresholds = roc_curve(target_valid, probabilities_one_valid)\n",
    "auc_roc = roc_auc_score(target_valid, probabilities_one_valid)\n",
    "print('AUC-ROC Случайный лес', auc_roc)\n",
    "plt.plot(fpr, tpr, label='Случайный лес')\n",
    "\n",
    "\n",
    "plt.xlim([0,1])\n",
    "plt.ylim([0,1])\n",
    "\n",
    "plt.xlabel(\"Доля ложноположительных ответов\")\n",
    "plt.ylabel(\"Доля истинно положительных ответов\")\n",
    "\n",
    "plt.legend(loc='lower right', fontsize='x-large')\n",
    "\n",
    "plt.title(\"ROC-кривая(кривая ошибок)\")\n",
    "plt.show()"
   ]
  },
  {
   "cell_type": "markdown",
   "id": "8b8c5e09",
   "metadata": {},
   "source": [
    "- Метрика `F1 и AUC-ROC` лучшая на случайном лесе."
   ]
  },
  {
   "cell_type": "markdown",
   "id": "a39680f1",
   "metadata": {},
   "source": [
    "#### Вывод:\n",
    "- в данных сущестует дисбаланс классов в отношении 1:4,\n",
    "- дисбаланс влияет на качество изучаемых моделей,\n",
    "- некоторые модели имеют recall ниже, чем percision, что влияет на F-меру."
   ]
  },
  {
   "cell_type": "markdown",
   "id": "793f9995",
   "metadata": {},
   "source": [
    "<a id=\"3\"></a>"
   ]
  },
  {
   "cell_type": "markdown",
   "id": "762467f9",
   "metadata": {},
   "source": [
    "### 3. Улучшение качества модели, учитывая дисбаланс классов."
   ]
  },
  {
   "cell_type": "markdown",
   "id": "3e7d65d8",
   "metadata": {},
   "source": [
    "Изучим поведение моделей:\n",
    "- при взвешивании классов,\n",
    "- при увеличении выборки,\n",
    "- при уменьшении выборки."
   ]
  },
  {
   "cell_type": "markdown",
   "id": "189b1d4b",
   "metadata": {},
   "source": [
    "##### Изучим возможности моделей по взвешиванию классов, придадим объектам редкого класса больший вес."
   ]
  },
  {
   "cell_type": "code",
   "execution_count": 18,
   "id": "b424c7c2",
   "metadata": {},
   "outputs": [
    {
     "name": "stdout",
     "output_type": "stream",
     "text": [
      "Логистическая регрессия \n",
      "\n",
      "Точность попадания по классам 0.669\n",
      "Precision 0.315018315018315\n",
      "Recall 0.7186629526462396\n",
      "F1 0.43803056027164683\n",
      "\n",
      "Дерево решений \n",
      "\n",
      "Точность попадания по классам 0.7625\n",
      "Precision 0.41131498470948014\n",
      "Recall 0.7493036211699164\n",
      "F1 0.5310957551826259\n",
      "\n",
      "Случайный лес \n",
      "\n",
      "Точность попадания по классам 0.8725\n",
      "Precision 0.7626262626262627\n",
      "Recall 0.4206128133704735\n",
      "F1 0.5421903052064632\n",
      "\n",
      "Wall time: 483 ms\n"
     ]
    }
   ],
   "source": [
    "%%time\n",
    "\n",
    "model = LogisticRegression(random_state=28012022, solver='liblinear', class_weight='balanced')\n",
    "model.fit(features_train, target_train)\n",
    "predicted_valid = model.predict(features_valid)\n",
    "print('Логистическая регрессия','\\n')\n",
    "print('Точность попадания по классам', accuracy_score(target_valid, predicted_valid))\n",
    "print('Precision', precision_score(target_valid, predicted_valid))\n",
    "print('Recall', recall_score(target_valid, predicted_valid))\n",
    "print('F1', f1_score(target_valid, predicted_valid))\n",
    "print()\n",
    "\n",
    "model = DecisionTreeClassifier(random_state=28012022, max_depth=6, class_weight='balanced')\n",
    "model.fit(features_train, target_train)\n",
    "predicted_valid = model.predict(features_valid)\n",
    "print('Дерево решений','\\n')\n",
    "print('Точность попадания по классам', accuracy_score(target_valid, predicted_valid))\n",
    "print('Precision', precision_score(target_valid, predicted_valid))\n",
    "print('Recall', recall_score(target_valid, predicted_valid))\n",
    "print('F1', f1_score(target_valid, predicted_valid))\n",
    "print()\n",
    "\n",
    "model = RandomForestClassifier(random_state=28012022, n_estimators=42, class_weight='balanced')\n",
    "model.fit(features_train, target_train)\n",
    "predicted_valid = model.predict(features_valid)\n",
    "print('Случайный лес', '\\n')\n",
    "print('Точность попадания по классам', accuracy_score(target_valid, predicted_valid))\n",
    "print('Precision', precision_score(target_valid, predicted_valid))\n",
    "print('Recall', recall_score(target_valid, predicted_valid))\n",
    "print('F1', f1_score(target_valid, predicted_valid))\n",
    "print()\n",
    "\n"
   ]
  },
  {
   "cell_type": "markdown",
   "id": "734cfe52",
   "metadata": {},
   "source": [
    "- F1-мера понизилась у дерева решений и случайного леса, но выросла у логистической регресии."
   ]
  },
  {
   "cell_type": "markdown",
   "id": "b76ca75a",
   "metadata": {},
   "source": [
    "##### Увеличение выборки"
   ]
  },
  {
   "cell_type": "markdown",
   "id": "ee529c45",
   "metadata": {},
   "source": [
    "Cделаем объекты редкого класса не такими редкими и переобучим модели."
   ]
  },
  {
   "cell_type": "code",
   "execution_count": 19,
   "id": "ba963f19",
   "metadata": {},
   "outputs": [
    {
     "name": "stdout",
     "output_type": "stream",
     "text": [
      "(17430, 11)\n",
      "(17430,)\n"
     ]
    }
   ],
   "source": [
    "def upsample(features, target, repeat):\n",
    "    features_zeros = features[target == 0]\n",
    "    features_ones = features[target == 1]\n",
    "    target_zeros = target[target == 0]\n",
    "    target_ones = target[target == 1]\n",
    "    \n",
    "    repeat = 10\n",
    "    features_upsampled = pd.concat([features_zeros] + [features_ones] * repeat)\n",
    "    target_upsampled = pd.concat([target_zeros] + [target_ones] * repeat)\n",
    "    \n",
    "    features_upsampled, target_upsampled = shuffle(features_upsampled, target_upsampled, random_state=28012022)\n",
    "    \n",
    "    return features_upsampled, target_upsampled \n",
    "\n",
    "features_upsampled, target_upsampled = upsample(features_train, target_train, 10)\n",
    "\n",
    "print(features_upsampled.shape)\n",
    "print(target_upsampled.shape)"
   ]
  },
  {
   "cell_type": "code",
   "execution_count": 20,
   "id": "445de83e",
   "metadata": {},
   "outputs": [
    {
     "name": "stdout",
     "output_type": "stream",
     "text": [
      "Логистическая регрессия \n",
      "\n",
      "Точность попадания по классам 0.217\n",
      "Precision 0.18616744669786792\n",
      "Recall 0.9972144846796658\n",
      "F1 0.3137598597721297\n",
      "\n",
      "Дерево решений \n",
      "\n",
      "Точность попадания по классам 0.5715\n",
      "Precision 0.27807486631016043\n",
      "Recall 0.8690807799442897\n",
      "F1 0.4213369345037137\n",
      "\n",
      "Случайный лес \n",
      "\n",
      "Точность попадания по классам 0.8675\n",
      "Precision 0.6643356643356644\n",
      "Recall 0.5292479108635098\n",
      "F1 0.5891472868217055\n",
      "\n",
      "Wall time: 1.12 s\n"
     ]
    }
   ],
   "source": [
    "%%time\n",
    "\n",
    "model = LogisticRegression(random_state=28012022, solver='liblinear')\n",
    "model.fit(features_upsampled, target_upsampled)\n",
    "predicted_valid = model.predict(features_valid)\n",
    "print('Логистическая регрессия','\\n')\n",
    "print('Точность попадания по классам', accuracy_score(target_valid, predicted_valid))\n",
    "print('Precision', precision_score(target_valid, predicted_valid))\n",
    "print('Recall', recall_score(target_valid, predicted_valid))\n",
    "print('F1', f1_score(target_valid, predicted_valid))\n",
    "print()\n",
    "\n",
    "model = DecisionTreeClassifier(random_state=28012022, max_depth=7)\n",
    "model.fit(features_upsampled, target_upsampled)\n",
    "predicted_valid = model.predict(features_valid)\n",
    "print('Дерево решений','\\n')\n",
    "print('Точность попадания по классам', accuracy_score(target_valid, predicted_valid))\n",
    "print('Precision', precision_score(target_valid, predicted_valid))\n",
    "print('Recall', recall_score(target_valid, predicted_valid))\n",
    "print('F1', f1_score(target_valid, predicted_valid))\n",
    "print()\n",
    "\n",
    "model = RandomForestClassifier(random_state=28012022, n_estimators=53)\n",
    "model.fit(features_upsampled, target_upsampled)\n",
    "predicted_valid = model.predict(features_valid)\n",
    "print('Случайный лес','\\n')\n",
    "print('Точность попадания по классам', accuracy_score(target_valid, predicted_valid))\n",
    "print('Precision', precision_score(target_valid, predicted_valid))\n",
    "print('Recall', recall_score(target_valid, predicted_valid))\n",
    "print('F1', f1_score(target_valid, predicted_valid))\n",
    "print()\n",
    "\n"
   ]
  },
  {
   "cell_type": "markdown",
   "id": "3472bc65",
   "metadata": {},
   "source": [
    "- F1-мера стала лучше у случайного леса по сравнению с дисбалансными данными. Лучшей моделью по F1-мера стал случайны лес с тренировочными данными, где увеличен класс 1."
   ]
  },
  {
   "cell_type": "markdown",
   "id": "c57cab77",
   "metadata": {},
   "source": [
    "##### Уменьшение выборки"
   ]
  },
  {
   "cell_type": "code",
   "execution_count": 21,
   "id": "8e24a5f9",
   "metadata": {},
   "outputs": [
    {
     "name": "stdout",
     "output_type": "stream",
     "text": [
      "(1743, 11)\n",
      "(1743,)\n"
     ]
    }
   ],
   "source": [
    "def downsample(features, target, fraction):\n",
    "    features_zeros = features[target == 0]\n",
    "    features_ones = features[target == 1]\n",
    "    target_zeros = target[target == 0]\n",
    "    target_ones = target[target == 1]\n",
    "\n",
    "    features_downsampled = pd.concat([features_zeros.sample(frac=fraction, random_state=28012022)]\n",
    "                                    + [features_ones])\n",
    "    target_downsampled = pd.concat([target_zeros.sample(frac=fraction, random_state=28012022)]\n",
    "                                    + [target_ones])\n",
    "    \n",
    "    features_downsampled, target_downsampled = shuffle(\n",
    "        features_downsampled, target_downsampled, random_state=28012022)\n",
    "    \n",
    "    return features_downsampled, target_downsampled\n",
    "\n",
    "features_downsampled, target_downsampled = downsample(features_train, target_train, 0.1)\n",
    "\n",
    "print(features_downsampled.shape)\n",
    "print(target_downsampled.shape)"
   ]
  },
  {
   "cell_type": "code",
   "execution_count": 22,
   "id": "c566e85d",
   "metadata": {},
   "outputs": [
    {
     "name": "stdout",
     "output_type": "stream",
     "text": [
      "Логистическая регрессия \n",
      "\n",
      "Точность попадания по классам 0.219\n",
      "Precision 0.18590078328981724\n",
      "Recall 0.9916434540389972\n",
      "F1 0.3131046613896218\n",
      "\n",
      "Дерево решений \n",
      "\n",
      "Точность попадания по классам 0.616\n",
      "Precision 0.29852216748768473\n",
      "Recall 0.8440111420612814\n",
      "F1 0.4410480349344978\n",
      "\n",
      "Случайный лес \n",
      "\n",
      "Точность попадания по классам 0.578\n",
      "Precision 0.2836752899197145\n",
      "Recall 0.8857938718662952\n",
      "F1 0.42972972972972967\n",
      "\n",
      "Wall time: 248 ms\n"
     ]
    }
   ],
   "source": [
    "%%time\n",
    "\n",
    "model = LogisticRegression(random_state=28012022, solver='liblinear')\n",
    "model.fit(features_downsampled, target_downsampled)\n",
    "predicted_valid = model.predict(features_valid)\n",
    "print('Логистическая регрессия','\\n')\n",
    "print('Точность попадания по классам', accuracy_score(target_valid, predicted_valid))\n",
    "print('Precision', precision_score(target_valid, predicted_valid))\n",
    "print('Recall', recall_score(target_valid, predicted_valid))\n",
    "print('F1', f1_score(target_valid, predicted_valid))\n",
    "print()\n",
    "\n",
    "model = DecisionTreeClassifier(random_state=28012022, max_depth=6)\n",
    "model.fit(features_downsampled, target_downsampled)\n",
    "predicted_valid = model.predict(features_valid)\n",
    "print('Дерево решений','\\n')\n",
    "print('Точность попадания по классам', accuracy_score(target_valid, predicted_valid))\n",
    "print('Precision', precision_score(target_valid, predicted_valid))\n",
    "print('Recall', recall_score(target_valid, predicted_valid))\n",
    "print('F1', f1_score(target_valid, predicted_valid))\n",
    "print()\n",
    "\n",
    "model = RandomForestClassifier(random_state=28012022, n_estimators=42)\n",
    "model.fit(features_downsampled, target_downsampled)\n",
    "predicted_valid = model.predict(features_valid)\n",
    "print('Случайный лес','\\n')\n",
    "print('Точность попадания по классам', accuracy_score(target_valid, predicted_valid))\n",
    "print('Precision', precision_score(target_valid, predicted_valid))\n",
    "print('Recall', recall_score(target_valid, predicted_valid))\n",
    "print('F1', f1_score(target_valid, predicted_valid))\n",
    "print()\n"
   ]
  },
  {
   "cell_type": "markdown",
   "id": "8f123b8c",
   "metadata": {},
   "source": [
    "- У всех моделей выросла `Recall` : модели хорошо ищут положительные объекты, а `F1-мера` уменьшилась, прогноз класса 0 не удался."
   ]
  },
  {
   "cell_type": "markdown",
   "id": "9533332a",
   "metadata": {},
   "source": [
    "##### Проведем построение `ROC-кривой` для каждой модели и выведем показатель `AUC-ROC` для увеличенной выборки"
   ]
  },
  {
   "cell_type": "code",
   "execution_count": 23,
   "id": "ec4cc7d6",
   "metadata": {},
   "outputs": [
    {
     "name": "stdout",
     "output_type": "stream",
     "text": [
      "AUC-ROC Логистическая регрессия 0.713511192136054\n",
      "AUC-ROC Дерево решений 0.8262702442121201\n",
      "AUC-ROC Случайный лес 0.8394993201713067\n"
     ]
    },
    {
     "data": {
      "image/png": "[encoded data removed]",
      "text/plain": [
       "<Figure size 648x432 with 1 Axes>"
      ]
     },
     "metadata": {
      "needs_background": "light"
     },
     "output_type": "display_data"
    }
   ],
   "source": [
    "plt.figure(figsize=[9,6])\n",
    "\n",
    "plt.plot([0, 1], [0, 1], linestyle='--', label='Случайная модель')\n",
    "\n",
    "model = LogisticRegression(random_state=28012022, solver='liblinear')\n",
    "model.fit(features_upsampled, target_upsampled)\n",
    "probabilities_valid = model.predict_proba(features_valid)\n",
    "probabilities_one_valid = probabilities_valid[:, 1]\n",
    "fpr, tpr, thresholds = roc_curve(target_valid, probabilities_one_valid)\n",
    "auc_roc = roc_auc_score(target_valid, probabilities_one_valid)\n",
    "print('AUC-ROC Логистическая регрессия',auc_roc)\n",
    "plt.plot(fpr, tpr, label='Логистическая регрессия')\n",
    "\n",
    "model = DecisionTreeClassifier(random_state=28012022, max_depth=6)\n",
    "model.fit(features_upsampled, target_upsampled)\n",
    "probabilities_valid = model.predict_proba(features_valid)\n",
    "probabilities_one_valid = probabilities_valid[:, 1]\n",
    "fpr, tpr, thresholds = roc_curve(target_valid, probabilities_one_valid)\n",
    "auc_roc = roc_auc_score(target_valid, probabilities_one_valid)\n",
    "print('AUC-ROC Дерево решений',auc_roc)\n",
    "plt.plot(fpr, tpr, label='Дерево решений')\n",
    "\n",
    "model = RandomForestClassifier(random_state=28012022, n_estimators=42)\n",
    "model.fit(features_upsampled, target_upsampled)\n",
    "probabilities_valid = model.predict_proba(features_valid)\n",
    "probabilities_one_valid = probabilities_valid[:, 1]\n",
    "fpr, tpr, thresholds = roc_curve(target_valid, probabilities_one_valid)\n",
    "auc_roc = roc_auc_score(target_valid, probabilities_one_valid)\n",
    "print('AUC-ROC Случайный лес', auc_roc)\n",
    "plt.plot(fpr, tpr, label='Случайный лес')\n",
    "\n",
    "\n",
    "plt.xlim([0,1])\n",
    "plt.ylim([0,1])\n",
    "\n",
    "plt.xlabel(\"Доля ложноположительных ответов\")\n",
    "plt.ylabel(\"Доля истинно положительных ответов\")\n",
    "\n",
    "plt.legend(loc='lower right', fontsize='x-large')\n",
    "\n",
    "plt.title(\"ROC-кривая(кривая ошибок)\")\n",
    "plt.show()"
   ]
  },
  {
   "cell_type": "markdown",
   "id": "41d99c46",
   "metadata": {},
   "source": [
    "- `Метрика F1 и AUC-ROC лучшая на случайном лесе для увеличенной выборки`"
   ]
  },
  {
   "cell_type": "markdown",
   "id": "94f8dc14",
   "metadata": {},
   "source": [
    " #### Вывод:\n",
    "- дисбаланс повлиял на модели в худшую сторону, решением стало увеличение классов 1 в тренировочной выборке,\n",
    "- выравние и уменьшение классов в выборке привело к резкому росту параметра recall и небольшому понижению percison."
   ]
  },
  {
   "cell_type": "markdown",
   "id": "ebbd837e",
   "metadata": {},
   "source": [
    "<a id=\"4\"></a>"
   ]
  },
  {
   "cell_type": "markdown",
   "id": "42657a1c",
   "metadata": {},
   "source": [
    "### 4. Финальное тестирование"
   ]
  },
  {
   "cell_type": "markdown",
   "id": "1d9e847a",
   "metadata": {},
   "source": [
    "К тестовой выборке примем модель случайного дерева. Исследуем гиперпараметры и улучшим F-меру модели.\n",
    "\n"
   ]
  },
  {
   "cell_type": "markdown",
   "id": "96021c8e",
   "metadata": {},
   "source": [
    "##### Гиперпараметр n_estimators."
   ]
  },
  {
   "cell_type": "code",
   "execution_count": 24,
   "id": "09741d59",
   "metadata": {},
   "outputs": [
    {
     "name": "stdout",
     "output_type": "stream",
     "text": [
      "n-estimators 10  F1 = 0.5492063492063491\n",
      "n-estimators 30  F1 = 0.5829457364341085\n",
      "n-estimators 50  F1 = 0.5878693623639191\n",
      "n-estimators 70  F1 = 0.5816485225505443\n",
      "n-estimators 90  F1 = 0.5862595419847328\n",
      "n-estimators 110  F1 = 0.5893129770992365\n",
      "n-estimators 130  F1 = 0.5840978593272171\n",
      "n-estimators 150  F1 = 0.5815384615384616\n",
      "n-estimators 170  F1 = 0.5893129770992365\n",
      "n-estimators 190  F1 = 0.588597842835131\n",
      "n-estimators 210  F1 = 0.5916795069337443\n",
      "n-estimators 230  F1 = 0.5929339477726575\n",
      "n-estimators 250  F1 = 0.5947611710323575\n",
      "n-estimators 270  F1 = 0.588597842835131\n",
      "n-estimators 290  F1 = 0.5895061728395061\n",
      "n-estimators 310  F1 = 0.5916795069337443\n",
      "n-estimators 330  F1 = 0.5947611710323575\n",
      "n-estimators 350  F1 = 0.598159509202454\n",
      "n-estimators 370  F1 = 0.5969230769230769\n",
      "n-estimators 390  F1 = 0.5941807044410412\n",
      "n-estimators 410  F1 = 0.5941807044410412\n",
      "n-estimators 430  F1 = 0.5975609756097562\n",
      "n-estimators 450  F1 = 0.6003062787136293\n",
      "n-estimators 470  F1 = 0.5993883792048929\n",
      "n-estimators 490  F1 = 0.5984732824427481\n",
      "Wall time: 1min 50s\n"
     ]
    }
   ],
   "source": [
    "%%time\n",
    "\n",
    "for estim in range(10, 500, 20):\n",
    "    model =  RandomForestClassifier(random_state=28012022, n_estimators=estim)\n",
    "    model.fit(features_upsampled, target_upsampled)\n",
    "    predicted_valid = model.predict(features_valid)\n",
    "    print('n-estimators', estim,\"\",'F1','=', f1_score(target_valid, predicted_valid))"
   ]
  },
  {
   "cell_type": "markdown",
   "id": "b0f06b8b",
   "metadata": {},
   "source": [
    "Лучший результат лежит в диапазоне 390-430."
   ]
  },
  {
   "cell_type": "code",
   "execution_count": 25,
   "id": "8ac09a77",
   "metadata": {},
   "outputs": [
    {
     "name": "stdout",
     "output_type": "stream",
     "text": [
      "n-estimators 390  F1 = 0.5941807044410412\n",
      "n-estimators 391  F1 = 0.5941807044410412\n",
      "n-estimators 392  F1 = 0.5941807044410412\n",
      "n-estimators 393  F1 = 0.5941807044410412\n",
      "n-estimators 394  F1 = 0.5941807044410412\n",
      "n-estimators 395  F1 = 0.5941807044410412\n",
      "n-estimators 396  F1 = 0.5941807044410412\n",
      "n-estimators 397  F1 = 0.5932721712538226\n",
      "n-estimators 398  F1 = 0.5941807044410412\n",
      "n-estimators 399  F1 = 0.5941807044410412\n",
      "n-estimators 400  F1 = 0.5941807044410412\n",
      "n-estimators 401  F1 = 0.5941807044410412\n",
      "n-estimators 402  F1 = 0.5941807044410412\n",
      "n-estimators 403  F1 = 0.5941807044410412\n",
      "n-estimators 404  F1 = 0.5941807044410412\n",
      "n-estimators 405  F1 = 0.5941807044410412\n",
      "n-estimators 406  F1 = 0.5941807044410412\n",
      "n-estimators 407  F1 = 0.5941807044410412\n",
      "n-estimators 408  F1 = 0.5941807044410412\n",
      "n-estimators 409  F1 = 0.5941807044410412\n",
      "n-estimators 410  F1 = 0.5941807044410412\n",
      "n-estimators 411  F1 = 0.5941807044410412\n",
      "n-estimators 412  F1 = 0.5941807044410412\n",
      "n-estimators 413  F1 = 0.5941807044410412\n",
      "n-estimators 414  F1 = 0.5950920245398773\n",
      "n-estimators 415  F1 = 0.5972434915773354\n",
      "n-estimators 416  F1 = 0.5950920245398773\n",
      "n-estimators 417  F1 = 0.5963302752293578\n",
      "n-estimators 418  F1 = 0.5950920245398773\n",
      "n-estimators 419  F1 = 0.5963302752293578\n",
      "n-estimators 420  F1 = 0.5950920245398773\n",
      "n-estimators 421  F1 = 0.5963302752293578\n",
      "n-estimators 422  F1 = 0.5972434915773354\n",
      "n-estimators 423  F1 = 0.5954198473282443\n",
      "n-estimators 424  F1 = 0.5963302752293578\n",
      "n-estimators 425  F1 = 0.5954198473282443\n",
      "n-estimators 426  F1 = 0.5954198473282443\n",
      "n-estimators 427  F1 = 0.5975609756097562\n",
      "n-estimators 428  F1 = 0.5975609756097562\n",
      "n-estimators 429  F1 = 0.5966514459665145\n",
      "n-estimators 430  F1 = 0.5975609756097562\n",
      "n-estimators 431  F1 = 0.5975609756097562\n",
      "Wall time: 5min 4s\n"
     ]
    }
   ],
   "source": [
    "%%time\n",
    "\n",
    "for estim in range(390, 432):\n",
    "    model =  RandomForestClassifier(random_state=28012022, n_estimators=estim)\n",
    "    model.fit(features_upsampled, target_upsampled)\n",
    "    predicted_valid = model.predict(features_valid)\n",
    "    print('n-estimators', estim,\"\",'F1','=', f1_score(target_valid, predicted_valid))"
   ]
  },
  {
   "cell_type": "markdown",
   "id": "7a90cd52",
   "metadata": {},
   "source": [
    "- `Лучшее значение F1-меры = 0.6118721461187214 при количестве деревьев равным от 399 до 425 и при количестве деревьев равным 429` "
   ]
  },
  {
   "cell_type": "code",
   "execution_count": 26,
   "id": "d61074a9",
   "metadata": {},
   "outputs": [
    {
     "name": "stdout",
     "output_type": "stream",
     "text": [
      "n-estimators 399  F1 = 0.608955223880597\n",
      "n-estimators 400  F1 = 0.608955223880597\n",
      "n-estimators 401  F1 = 0.608955223880597\n",
      "n-estimators 402  F1 = 0.608955223880597\n",
      "n-estimators 403  F1 = 0.608955223880597\n",
      "n-estimators 404  F1 = 0.6068759342301944\n",
      "n-estimators 405  F1 = 0.608955223880597\n",
      "n-estimators 406  F1 = 0.608955223880597\n",
      "n-estimators 407  F1 = 0.6080476900149031\n",
      "n-estimators 408  F1 = 0.6080476900149031\n",
      "n-estimators 409  F1 = 0.6080476900149031\n",
      "n-estimators 410  F1 = 0.6080476900149031\n",
      "n-estimators 411  F1 = 0.6071428571428572\n",
      "n-estimators 412  F1 = 0.6047904191616768\n",
      "n-estimators 413  F1 = 0.6062407132243685\n",
      "n-estimators 414  F1 = 0.6059701492537314\n",
      "n-estimators 415  F1 = 0.6062407132243685\n",
      "n-estimators 416  F1 = 0.6026986506746627\n",
      "n-estimators 417  F1 = 0.6017964071856287\n",
      "n-estimators 418  F1 = 0.6036036036036037\n",
      "n-estimators 419  F1 = 0.6026986506746627\n",
      "n-estimators 420  F1 = 0.6036036036036037\n",
      "n-estimators 421  F1 = 0.6047904191616768\n",
      "n-estimators 422  F1 = 0.6056971514242879\n",
      "n-estimators 423  F1 = 0.6056971514242879\n",
      "n-estimators 424  F1 = 0.6056971514242879\n",
      "n-estimators 425  F1 = 0.6077844311377245\n",
      "Wall time: 4min 10s\n"
     ]
    }
   ],
   "source": [
    "%%time\n",
    "\n",
    "for estim in range(399, 426):\n",
    "    model =  RandomForestClassifier(random_state=28012022, n_estimators=estim, criterion='entropy')\n",
    "    model.fit(features_upsampled, target_upsampled)\n",
    "    predicted_valid = model.predict(features_valid)\n",
    "    print('n-estimators', estim,\"\",'F1','=', f1_score(target_valid, predicted_valid))"
   ]
  },
  {
   "cell_type": "code",
   "execution_count": 27,
   "id": "dac9b619",
   "metadata": {},
   "outputs": [
    {
     "name": "stdout",
     "output_type": "stream",
     "text": [
      "n-estimators 425  F1 = 0.6056971514242879\n",
      "Wall time: 9.25 s\n"
     ]
    }
   ],
   "source": [
    "%%time\n",
    "\n",
    "\n",
    "model =  RandomForestClassifier(random_state=28012022, n_estimators=422, criterion='entropy')\n",
    "model.fit(features_upsampled, target_upsampled)\n",
    "predicted_valid = model.predict(features_valid)\n",
    "print('n-estimators', estim,\"\",'F1','=', f1_score(target_valid, predicted_valid))"
   ]
  },
  {
   "cell_type": "markdown",
   "id": "c5e72628",
   "metadata": {},
   "source": [
    "##### Изменим гиперпараметр min_samples_split."
   ]
  },
  {
   "cell_type": "code",
   "execution_count": 28,
   "id": "873ca1ff",
   "metadata": {},
   "outputs": [
    {
     "name": "stdout",
     "output_type": "stream",
     "text": [
      "Samples_split 0.1  F1 = 0.3699731903485255\n",
      "Samples_split 0.2  F1 = 0.3205013428827216\n",
      "Samples_split 0.3  F1 = 0.3043662568885121\n",
      "Samples_split 0.4  F1 = 0.3043662568885121\n",
      "Samples_split 0.5  F1 = 0.3043662568885121\n",
      "Samples_split 0.6  F1 = 0.3043662568885121\n",
      "Samples_split 0.7  F1 = 0.3043662568885121\n",
      "Samples_split 0.8  F1 = 0.3043662568885121\n",
      "Samples_split 0.9  F1 = 0.3043662568885121\n",
      "Samples_split 1.0  F1 = 0.3043662568885121\n",
      "Samples_split 2  F1 = 0.5972434915773354\n",
      "Samples_split 3  F1 = 0.5993883792048929\n",
      "Samples_split 4  F1 = 0.6085626911314985\n",
      "Samples_split 5  F1 = 0.6027397260273973\n",
      "Samples_split 6  F1 = 0.6098654708520179\n",
      "Samples_split 7  F1 = 0.6033182503770739\n",
      "Samples_split 8  F1 = 0.6085672082717873\n",
      "Samples_split 9  F1 = 0.6060606060606061\n",
      "Samples_split 10  F1 = 0.6077032810271041\n",
      "Wall time: 1min 30s\n"
     ]
    }
   ],
   "source": [
    "%%time\n",
    "\n",
    "for samples_split in range(1, 11):\n",
    "    model =  RandomForestClassifier(random_state=28012022, n_estimators=422, min_samples_split=samples_split/10)\n",
    "    model.fit(features_upsampled, target_upsampled)\n",
    "    predicted_valid = model.predict(features_valid)\n",
    "    print('Samples_split', samples_split/10,\"\",'F1','=', f1_score(target_valid, predicted_valid))\n",
    "    \n",
    "for samples_split in range(2, 11):\n",
    "    model =  RandomForestClassifier(random_state=28012022, n_estimators=422, min_samples_split=samples_split)\n",
    "    model.fit(features_upsampled, target_upsampled)\n",
    "    predicted_valid = model.predict(features_valid)\n",
    "    print('Samples_split', samples_split,\"\",'F1','=', f1_score(target_valid, predicted_valid))"
   ]
  },
  {
   "cell_type": "markdown",
   "id": "2a7acee2",
   "metadata": {},
   "source": [
    "- `Лучший F1 получен при min_samples_split=8.`"
   ]
  },
  {
   "cell_type": "markdown",
   "id": "97f15fda",
   "metadata": {},
   "source": [
    "##### Изменим гиперпараметр min_samples_leaf."
   ]
  },
  {
   "cell_type": "code",
   "execution_count": 29,
   "id": "4ea33241",
   "metadata": {},
   "outputs": [
    {
     "name": "stdout",
     "output_type": "stream",
     "text": [
      "Samples_leaf 0.1  F1 = 0.3043662568885121\n",
      "Samples_leaf 0.2  F1 = 0.3043662568885121\n",
      "Samples_leaf 0.3  F1 = 0.3043662568885121\n",
      "Samples_leaf 0.4  F1 = 0.3043662568885121\n",
      "Samples_leaf 0.5  F1 = 0.3043662568885121\n",
      "Samples_leaf 1  F1 = 0.6027397260273973\n",
      "Samples_leaf 2  F1 = 0.6056527590847914\n",
      "Samples_leaf 3  F1 = 0.5901234567901235\n",
      "Samples_leaf 4  F1 = 0.5648679678530425\n",
      "Samples_leaf 5  F1 = 0.5583424209378408\n",
      "Samples_leaf 6  F1 = 0.5429769392033543\n",
      "Samples_leaf 7  F1 = 0.5350701402805611\n",
      "Samples_leaf 8  F1 = 0.5321637426900585\n",
      "Samples_leaf 9  F1 = 0.5258126195028681\n",
      "Samples_leaf 10  F1 = 0.5189990732159406\n",
      "Wall time: 1min 22s\n"
     ]
    }
   ],
   "source": [
    "%%time\n",
    "\n",
    "for samples_leaf in range(1, 6):\n",
    "    model =  RandomForestClassifier(random_state=28012022, n_estimators=422, min_samples_split=5, \n",
    "                                    min_samples_leaf= samples_leaf/10)\n",
    "    model.fit(features_upsampled, target_upsampled)\n",
    "    predicted_valid = model.predict(features_valid)\n",
    "    print('Samples_leaf', samples_leaf/10,\"\",'F1','=', f1_score(target_valid, predicted_valid))\n",
    "    \n",
    "for samples_leaf in range(1, 11):\n",
    "    model =  RandomForestClassifier(random_state=28012022, n_estimators=422, min_samples_split=5,\n",
    "                                   min_samples_leaf= samples_leaf)\n",
    "    model.fit(features_upsampled, target_upsampled)\n",
    "    predicted_valid = model.predict(features_valid)\n",
    "    print('Samples_leaf', samples_leaf,\"\",'F1','=', f1_score(target_valid, predicted_valid))"
   ]
  },
  {
   "cell_type": "markdown",
   "id": "a367e297",
   "metadata": {},
   "source": [
    "- `Лучший F1 получен при Samples_leaf=2.`"
   ]
  },
  {
   "cell_type": "code",
   "execution_count": 30,
   "id": "5084a769",
   "metadata": {},
   "outputs": [
    {
     "name": "stdout",
     "output_type": "stream",
     "text": [
      "Max depth 20  F1 = 0.609271523178808\n",
      "Max depth 22  F1 = 0.618279569892473\n",
      "Max depth 24  F1 = 0.6133333333333333\n",
      "Max depth 26  F1 = 0.6098535286284953\n",
      "Max depth 28  F1 = 0.6117021276595744\n",
      "Max depth 30  F1 = 0.6117021276595744\n",
      "Max depth 32  F1 = 0.6117021276595744\n",
      "Max depth 34  F1 = 0.6117021276595744\n",
      "Max depth 36  F1 = 0.6117021276595744\n",
      "Max depth 38  F1 = 0.6117021276595744\n",
      "Max depth 40  F1 = 0.6117021276595744\n",
      "Max depth 42  F1 = 0.6117021276595744\n",
      "Max depth 44  F1 = 0.6117021276595744\n",
      "Max depth 46  F1 = 0.6117021276595744\n",
      "Wall time: 1min 40s\n"
     ]
    }
   ],
   "source": [
    "%%time\n",
    "\n",
    "for depth in range(20, 48, 2):\n",
    "    model = RandomForestClassifier(random_state=28012022, max_depth=depth, n_estimators=422,\n",
    "                                    min_samples_split=8,min_samples_leaf=2)\n",
    "    model.fit(features_upsampled, target_upsampled)\n",
    "    predicted_valid = model.predict(features_valid)\n",
    "    print('Max depth', depth,\"\",'F1','=', f1_score(target_valid, predicted_valid))"
   ]
  },
  {
   "cell_type": "markdown",
   "id": "70b49656",
   "metadata": {},
   "source": [
    "##### Проверим на тестовой выборке четыре модели: на дисбалансных данных и сбалансированных: со взвешенными классами, \n",
    "##### усечением 0 класса и расширением класса 1 c `max_depth=28, n_estimators=422, min_samples_split=8, min_samples_leaf=2`"
   ]
  },
  {
   "cell_type": "code",
   "execution_count": 31,
   "id": "eaec96ef",
   "metadata": {},
   "outputs": [
    {
     "name": "stdout",
     "output_type": "stream",
     "text": [
      "Случайный лес - дисбаланс классов \n",
      "\n",
      "Точность попадания по классам 0.8595\n",
      "Precision 0.777292576419214\n",
      "Recall 0.4362745098039216\n",
      "F1 0.5588697017268446\n",
      "\n",
      "Случайный лес - взвешенные классы \n",
      "\n",
      "Точность попадания по классам 0.849\n",
      "Precision 0.6558823529411765\n",
      "Recall 0.5465686274509803\n",
      "F1 0.5962566844919786\n",
      "\n",
      "Случайный лес - уменьшенное количество классов 0 \n",
      "\n",
      "Точность попадания по классам 0.5765\n",
      "Precision 0.31693077564637195\n",
      "Recall 0.9313725490196079\n",
      "F1 0.4729309271935283\n",
      "\n",
      "Случайный лес - увеличенное количество классов 1 \n",
      "\n",
      "Точность попадания по классам 0.83\n",
      "Precision 0.5794392523364486\n",
      "Recall 0.6078431372549019\n",
      "F1 0.5933014354066984\n",
      "\n"
     ]
    }
   ],
   "source": [
    "model = RandomForestClassifier(random_state=28012022, max_depth=28, n_estimators=422,\n",
    "                                    min_samples_split=8, min_samples_leaf=2)\n",
    "model.fit(features_train, target_train)\n",
    "predicted_test = model.predict(features_test)\n",
    "print('Случайный лес - дисбаланс классов','\\n')\n",
    "print('Точность попадания по классам', accuracy_score(target_test, predicted_test))\n",
    "print('Precision', precision_score(target_test, predicted_test))\n",
    "print('Recall', recall_score(target_test, predicted_test))\n",
    "print('F1', f1_score(target_test, predicted_test))\n",
    "print()\n",
    "\n",
    "model = RandomForestClassifier(random_state=28012022, max_depth=28, n_estimators=422,\n",
    "                                    min_samples_split=8, min_samples_leaf=2, class_weight='balanced')\n",
    "model.fit(features_train, target_train)\n",
    "predicted_test = model.predict(features_test)\n",
    "print('Случайный лес - взвешенные классы','\\n')\n",
    "print('Точность попадания по классам', accuracy_score(target_test, predicted_test))\n",
    "print('Precision', precision_score(target_test, predicted_test))\n",
    "print('Recall', recall_score(target_test, predicted_test))\n",
    "print('F1', f1_score(target_test, predicted_test))\n",
    "print()\n",
    "\n",
    "model = RandomForestClassifier(random_state=28012022, max_depth=28, n_estimators=422,\n",
    "                                    min_samples_split=8, min_samples_leaf=2)\n",
    "model.fit(features_downsampled, target_downsampled)\n",
    "predicted_test = model.predict(features_test)\n",
    "print('Случайный лес - уменьшенное количество классов 0','\\n')\n",
    "print('Точность попадания по классам', accuracy_score(target_test, predicted_test))\n",
    "print('Precision', precision_score(target_test, predicted_test))\n",
    "print('Recall', recall_score(target_test, predicted_test))\n",
    "print('F1', f1_score(target_test, predicted_test))\n",
    "print()\n",
    "\n",
    "model = RandomForestClassifier(random_state=28012022, max_depth=28, n_estimators=422,\n",
    "                                    min_samples_split=8, min_samples_leaf=2)\n",
    "model.fit(features_upsampled, target_upsampled)\n",
    "predicted_test = model.predict(features_test)\n",
    "print('Случайный лес - увеличенное количество классов 1','\\n')\n",
    "print('Точность попадания по классам', accuracy_score(target_test, predicted_test))\n",
    "print('Precision', precision_score(target_test, predicted_test))\n",
    "print('Recall', recall_score(target_test, predicted_test))\n",
    "print('F1', f1_score(target_test, predicted_test))\n",
    "print()"
   ]
  },
  {
   "cell_type": "code",
   "execution_count": 32,
   "id": "7c79f48f",
   "metadata": {},
   "outputs": [
    {
     "name": "stdout",
     "output_type": "stream",
     "text": [
      "AUC-ROC Случайный лес - дисбаланс классов 0.8508027268696423\n",
      "AUC-ROC Случайный лес - взвешенные классы  0.8530443270272934\n",
      "AUC-ROC Случайный лес - уменьшенное количество классов 0 0.845632882550005\n",
      "AUC-ROC Случайный лес - увеличенное количество классов 1 0.8505025125628142\n"
     ]
    },
    {
     "data": {
      "image/png": "[encoded data removed]",
      "text/plain": [
       "<Figure size 864x648 with 1 Axes>"
      ]
     },
     "metadata": {
      "needs_background": "light"
     },
     "output_type": "display_data"
    }
   ],
   "source": [
    "plt.figure(figsize=[12,9])\n",
    "\n",
    "plt.plot([0, 1], [0, 1], linestyle='--', label='RandomModel')\n",
    "\n",
    "\n",
    "model = RandomForestClassifier(random_state=28012022, max_depth=28, n_estimators=422,\n",
    "                                    min_samples_split=8, min_samples_leaf=2)\n",
    "model.fit(features_train, target_train)\n",
    "predicted_test = model.predict(features_test)\n",
    "probabilities_test = model.predict_proba(features_test)\n",
    "probabilities_one_test = probabilities_test[:, 1]\n",
    "fpr, tpr, thresholds = roc_curve(target_test, probabilities_one_test)\n",
    "auc_roc = roc_auc_score(target_test, probabilities_one_test)\n",
    "print('AUC-ROC Случайный лес - дисбаланс классов',auc_roc)\n",
    "plt.plot(fpr, tpr, label='Случайный лес - дисбаланс классов')\n",
    "\n",
    "model = RandomForestClassifier(random_state=28012022, max_depth=28, n_estimators=422,\n",
    "                                    min_samples_split=8, min_samples_leaf=2, class_weight='balanced')\n",
    "model.fit(features_train, target_train)\n",
    "predicted_test = model.predict(features_test)\n",
    "probabilities_test = model.predict_proba(features_test)\n",
    "probabilities_one_test = probabilities_test[:, 1]\n",
    "fpr, tpr, thresholds = roc_curve(target_test, probabilities_one_test)\n",
    "auc_roc = roc_auc_score(target_test, probabilities_one_test)\n",
    "print('AUC-ROC Случайный лес - взвешенные классы ',auc_roc)\n",
    "plt.plot(fpr, tpr, label='Случайный лес - взвешенные классы ')\n",
    "\n",
    "model = RandomForestClassifier(random_state=28012022, max_depth=28, n_estimators=422,\n",
    "                                    min_samples_split=8, min_samples_leaf=2)\n",
    "model.fit(features_downsampled, target_downsampled)\n",
    "predicted_test = model.predict(features_test)\n",
    "probabilities_test = model.predict_proba(features_test)\n",
    "probabilities_one_test = probabilities_test[:, 1]\n",
    "fpr, tpr, thresholds = roc_curve(target_test, probabilities_one_test)\n",
    "auc_roc = roc_auc_score(target_test, probabilities_one_test)\n",
    "print('AUC-ROC Случайный лес - уменьшенное количество классов 0',auc_roc)\n",
    "plt.plot(fpr, tpr, label='Случайный лес - уменьшенное количество классов 0')\n",
    "\n",
    "model = RandomForestClassifier(random_state=28012022, max_depth=28, n_estimators=422,\n",
    "                                    min_samples_split=8, min_samples_leaf=2)\n",
    "model.fit(features_upsampled, target_upsampled)\n",
    "predicted_test = model.predict(features_test)\n",
    "probabilities_test = model.predict_proba(features_test)\n",
    "probabilities_one_test = probabilities_test[:, 1]\n",
    "fpr, tpr, thresholds = roc_curve(target_test, probabilities_one_test)\n",
    "auc_roc = roc_auc_score(target_test, probabilities_one_test)\n",
    "print('AUC-ROC Случайный лес - увеличенное количество классов 1',auc_roc)\n",
    "plt.plot(fpr, tpr, label='Случайный лес - увеличенное количество классов 1')\n",
    "\n",
    "plt.xlim([0,1])\n",
    "plt.ylim([0,1])\n",
    "\n",
    "plt.xlabel(\"Доля ложноположительных ответов\")\n",
    "plt.ylabel(\"Доля истинно положительных ответов\")\n",
    "\n",
    "plt.legend(loc='lower right', fontsize='x-large')\n",
    "\n",
    "plt.title(\"ROC-кривая(кривая ошибок)\")\n",
    "plt.show()"
   ]
  },
  {
   "cell_type": "markdown",
   "id": "683fa642",
   "metadata": {},
   "source": [
    "#### Вывод:\n",
    "- 2 из 4 моделей достигли минимума F-меры на тестовых данных: модель случайного леса со взвешенными классами и модель с увеличенным количеством класса 1,\n",
    "- видно, что увеличенное количество классов 1 дает результат лучше для данного набора данных. Percision падает, recall растет, и в целом F-мера имеет небольшой прирост,\n",
    "- оценивая адеватность модели можно заметить, что AUC-ROC со взвешенными классами предсказывает вероятность ухода клиента,\n",
    "- в результате исследования была получена модель с лучшими показателями как по F1-мере, так и по AUC-ROC - Случайный лес: увеличенное количество классов 1."
   ]
  },
  {
   "cell_type": "markdown",
   "id": "eecb15f5",
   "metadata": {},
   "source": [
    "### Итог:\n",
    "При работе с проектом было выполнено:\n",
    "\n",
    "- Изучены данные.\n",
    "- Разбиты данные на тренировочную, валидационную и тестовую выборку.\n",
    "- Исследована задача. Проверены модели на данных без изменений.\n",
    "- Скоректирован балланс класса. Изменен вес класса.\n",
    "- Получена улученная модель. Проведен поиск гиперпараметров.\n",
    "- Проведен финальный тест.\n",
    "\n",
    "Обученная модель случайного леса с увеличенным количеством классов 1 имеет достаточную адекватность, подтвержденная ее значением AUC-ROC = 0.851. Это лучше, чем случайная модель предсказывания (AUC-ROC = 0.5). Точность попадания по классам 0.834, precision 0.587, recall 0.627 и F1 0.606. Модель старается собрать больше данных, чем показать верную точность (recall > precision). Процент попадания в классы достаточно высокий."
   ]
  },
  {
   "cell_type": "markdown",
   "id": "379901b8",
   "metadata": {},
   "source": [
    "[наверх к оглавлению](#up)"
   ]
  }
 ],
 "metadata": {
  "ExecuteTimeLog": [
   {
    "duration": 1531,
    "start_time": "2022-01-28T18:26:50.599Z"
   },
   {
    "duration": 291,
    "start_time": "2022-01-28T18:26:52.133Z"
   },
   {
    "duration": 13,
    "start_time": "2022-01-28T18:26:52.427Z"
   },
   {
    "duration": 9,
    "start_time": "2022-01-28T18:26:52.996Z"
   },
   {
    "duration": 5,
    "start_time": "2022-01-28T18:26:53.964Z"
   },
   {
    "duration": 19,
    "start_time": "2022-01-28T18:28:00.587Z"
   },
   {
    "duration": 50,
    "start_time": "2022-01-28T18:28:01.750Z"
   },
   {
    "duration": 7,
    "start_time": "2022-01-28T18:28:09.129Z"
   },
   {
    "duration": 28,
    "start_time": "2022-01-28T18:31:15.258Z"
   },
   {
    "duration": 16,
    "start_time": "2022-01-28T18:31:59.056Z"
   },
   {
    "duration": 9,
    "start_time": "2022-01-28T18:33:16.964Z"
   },
   {
    "duration": 55,
    "start_time": "2022-01-28T18:33:40.912Z"
   },
   {
    "duration": 362,
    "start_time": "2022-01-28T18:34:15.221Z"
   },
   {
    "duration": 12354,
    "start_time": "2022-01-28T18:34:39.697Z"
   },
   {
    "duration": 5016,
    "start_time": "2022-01-28T18:34:52.054Z"
   },
   {
    "duration": 717,
    "start_time": "2022-01-28T18:34:57.074Z"
   },
   {
    "duration": 1046,
    "start_time": "2022-01-28T18:34:57.793Z"
   },
   {
    "duration": 639,
    "start_time": "2022-01-28T18:36:15.551Z"
   },
   {
    "duration": 27,
    "start_time": "2022-01-28T18:36:55.197Z"
   },
   {
    "duration": 1573,
    "start_time": "2022-01-28T18:36:57.676Z"
   },
   {
    "duration": 24,
    "start_time": "2022-01-28T18:38:00.651Z"
   },
   {
    "duration": 379,
    "start_time": "2022-01-28T18:38:01.490Z"
   },
   {
    "duration": 1649,
    "start_time": "2022-01-28T18:38:05.743Z"
   },
   {
    "duration": 139037,
    "start_time": "2022-01-28T18:38:37.752Z"
   },
   {
    "duration": 388329,
    "start_time": "2022-01-28T18:40:56.792Z"
   },
   {
    "duration": 283728,
    "start_time": "2022-01-28T18:47:25.124Z"
   },
   {
    "duration": 9850,
    "start_time": "2022-01-28T18:52:08.855Z"
   },
   {
    "duration": 108388,
    "start_time": "2022-01-28T18:52:18.707Z"
   },
   {
    "duration": 97591,
    "start_time": "2022-01-28T18:54:07.099Z"
   },
   {
    "duration": 126443,
    "start_time": "2022-01-28T18:55:44.692Z"
   },
   {
    "duration": 17775,
    "start_time": "2022-01-28T18:57:51.138Z"
   },
   {
    "duration": 19955,
    "start_time": "2022-01-28T18:58:08.916Z"
   }
  ],
  "kernelspec": {
   "display_name": "Python 3",
   "language": "python",
   "name": "python3"
  },
  "language_info": {
   "codemirror_mode": {
    "name": "ipython",
    "version": 3
   },
   "file_extension": ".py",
   "mimetype": "text/x-python",
   "name": "python",
   "nbconvert_exporter": "python",
   "pygments_lexer": "ipython3",
   "version": "3.8.8"
  },
  "toc": {
   "base_numbering": 1,
   "nav_menu": {},
   "number_sections": true,
   "sideBar": true,
   "skip_h1_title": true,
   "title_cell": "Table of Contents",
   "title_sidebar": "Contents",
   "toc_cell": false,
   "toc_position": {},
   "toc_section_display": true,
   "toc_window_display": false
  }
 },
 "nbformat": 4,
 "nbformat_minor": 5
}
