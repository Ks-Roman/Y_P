{
 "cells": [
  {
   "cell_type": "markdown",
   "id": "c69be7d9",
   "metadata": {},
   "source": [
    "<a id=\"up\"></a>"
   ]
  },
  {
   "cell_type": "markdown",
   "id": "111e1f70",
   "metadata": {},
   "source": [
    "## Защита персональных данных клиентов"
   ]
  },
  {
   "cell_type": "markdown",
   "id": "877cd83a",
   "metadata": {},
   "source": [
    "### Описание проекта"
   ]
  },
  {
   "cell_type": "markdown",
   "id": "18b0ef91",
   "metadata": {},
   "source": [
    "Вам нужно защитить данные клиентов страховой компании «Хоть потоп». Разработайте такой метод преобразования данных, чтобы по ним было сложно восстановить персональную информацию. Обоснуйте корректность его работы.\n",
    "\n",
    "Нужно защитить данные, чтобы при преобразовании качество моделей машинного обучения не ухудшилось. Подбирать наилучшую модель не требуется."
   ]
  },
  {
   "cell_type": "markdown",
   "id": "b7bbb71a",
   "metadata": {},
   "source": [
    "### Задачи исследования"
   ]
  },
  {
   "cell_type": "markdown",
   "id": "08f9e389",
   "metadata": {},
   "source": [
    "### [1. Загрузите и изучите данные.](#1)"
   ]
  },
  {
   "cell_type": "markdown",
   "id": "6573852d",
   "metadata": {},
   "source": [
    "### [2. Ответьте на вопрос и обоснуйте решение.](#2)\n",
    "Признаки умножают на обратимую матрицу. Изменится ли качество линейной регрессии? (Её можно обучить заново.)\n",
    "- a. Изменится. Приведите примеры матриц.\n",
    "- b. Не изменится. Укажите, как связаны параметры линейной регрессии в исходной задаче и в преобразованной."
   ]
  },
  {
   "cell_type": "markdown",
   "id": "98ce1223",
   "metadata": {},
   "source": [
    "### [3. Предложите алгоритм преобразования данных для решения задачи. Обоснуйте, почему качество линейной регрессии не поменяется.](#3)"
   ]
  },
  {
   "cell_type": "markdown",
   "id": "c139592e",
   "metadata": {},
   "source": [
    "### [4. Запрограммируйте этот алгоритм, применив матричные операции. Проверьте, что качество линейной регрессии из sklearn не отличается до и после преобразования. Примените метрику R2.](#4)"
   ]
  },
  {
   "cell_type": "markdown",
   "id": "70f99889",
   "metadata": {},
   "source": [
    "### Описание данных"
   ]
  },
  {
   "cell_type": "markdown",
   "id": "0e1d284b",
   "metadata": {},
   "source": [
    "Набор данных находится в файле `/datasets/insurance.csv`. \n",
    "- `Признаки`: пол, возраст и зарплата застрахованного, количество членов его семьи.\n",
    "- `Целевой признак`: количество страховых выплат клиенту за последние 5 лет."
   ]
  },
  {
   "cell_type": "markdown",
   "id": "286aee12",
   "metadata": {},
   "source": [
    "<a id=\"1\"></a>"
   ]
  },
  {
   "cell_type": "markdown",
   "id": "83884121",
   "metadata": {},
   "source": [
    "### 1. Загрузим и изучим данные."
   ]
  },
  {
   "cell_type": "code",
   "execution_count": 1,
   "id": "a02afdbd",
   "metadata": {},
   "outputs": [],
   "source": [
    "import pandas as pd\n",
    "import numpy as np\n",
    "\n",
    "from sklearn.model_selection import train_test_split\n",
    "from sklearn.linear_model import LinearRegression\n",
    "from sklearn.metrics import r2_score\n",
    "from sklearn.metrics import mean_squared_error\n",
    "\n",
    "import warnings\n",
    "warnings.filterwarnings('ignore')"
   ]
  },
  {
   "cell_type": "code",
   "execution_count": 2,
   "id": "dba7660e",
   "metadata": {},
   "outputs": [
    {
     "name": "stdout",
     "output_type": "stream",
     "text": [
      "[Errno 2] File b'insurance.csv' does not exist: b'insurance.csv'\n"
     ]
    },
    {
     "data": {
      "text/html": [
       "<div>\n",
       "<style scoped>\n",
       "    .dataframe tbody tr th:only-of-type {\n",
       "        vertical-align: middle;\n",
       "    }\n",
       "\n",
       "    .dataframe tbody tr th {\n",
       "        vertical-align: top;\n",
       "    }\n",
       "\n",
       "    .dataframe thead th {\n",
       "        text-align: right;\n",
       "    }\n",
       "</style>\n",
       "<table border=\"1\" class=\"dataframe\">\n",
       "  <thead>\n",
       "    <tr style=\"text-align: right;\">\n",
       "      <th></th>\n",
       "      <th>Пол</th>\n",
       "      <th>Возраст</th>\n",
       "      <th>Зарплата</th>\n",
       "      <th>Члены семьи</th>\n",
       "      <th>Страховые выплаты</th>\n",
       "    </tr>\n",
       "  </thead>\n",
       "  <tbody>\n",
       "    <tr>\n",
       "      <td>0</td>\n",
       "      <td>1</td>\n",
       "      <td>41.0</td>\n",
       "      <td>49600.0</td>\n",
       "      <td>1</td>\n",
       "      <td>0</td>\n",
       "    </tr>\n",
       "    <tr>\n",
       "      <td>1</td>\n",
       "      <td>0</td>\n",
       "      <td>46.0</td>\n",
       "      <td>38000.0</td>\n",
       "      <td>1</td>\n",
       "      <td>1</td>\n",
       "    </tr>\n",
       "    <tr>\n",
       "      <td>2</td>\n",
       "      <td>0</td>\n",
       "      <td>29.0</td>\n",
       "      <td>21000.0</td>\n",
       "      <td>0</td>\n",
       "      <td>0</td>\n",
       "    </tr>\n",
       "    <tr>\n",
       "      <td>3</td>\n",
       "      <td>0</td>\n",
       "      <td>21.0</td>\n",
       "      <td>41700.0</td>\n",
       "      <td>2</td>\n",
       "      <td>0</td>\n",
       "    </tr>\n",
       "    <tr>\n",
       "      <td>4</td>\n",
       "      <td>1</td>\n",
       "      <td>28.0</td>\n",
       "      <td>26100.0</td>\n",
       "      <td>0</td>\n",
       "      <td>0</td>\n",
       "    </tr>\n",
       "  </tbody>\n",
       "</table>\n",
       "</div>"
      ],
      "text/plain": [
       "   Пол  Возраст  Зарплата  Члены семьи  Страховые выплаты\n",
       "0    1     41.0   49600.0            1                  0\n",
       "1    0     46.0   38000.0            1                  1\n",
       "2    0     29.0   21000.0            0                  0\n",
       "3    0     21.0   41700.0            2                  0\n",
       "4    1     28.0   26100.0            0                  0"
      ]
     },
     "execution_count": 2,
     "metadata": {},
     "output_type": "execute_result"
    }
   ],
   "source": [
    "try:\n",
    "    data = pd.read_csv('insurance.csv')\n",
    "except Exception as e:\n",
    "    print(e)\n",
    "    data = pd.read_csv('/datasets/insurance.csv')\n",
    "\n",
    "data.head()  "
   ]
  },
  {
   "cell_type": "code",
   "execution_count": 3,
   "id": "c283d307",
   "metadata": {},
   "outputs": [
    {
     "name": "stdout",
     "output_type": "stream",
     "text": [
      "<class 'pandas.core.frame.DataFrame'>\n",
      "RangeIndex: 5000 entries, 0 to 4999\n",
      "Data columns (total 5 columns):\n",
      "Пол                  5000 non-null int64\n",
      "Возраст              5000 non-null float64\n",
      "Зарплата             5000 non-null float64\n",
      "Члены семьи          5000 non-null int64\n",
      "Страховые выплаты    5000 non-null int64\n",
      "dtypes: float64(2), int64(3)\n",
      "memory usage: 195.4 KB\n"
     ]
    }
   ],
   "source": [
    "data.info()  "
   ]
  },
  {
   "cell_type": "code",
   "execution_count": 4,
   "id": "ee74fd31",
   "metadata": {},
   "outputs": [
    {
     "data": {
      "text/plain": [
       "Пол                  0\n",
       "Возраст              0\n",
       "Зарплата             0\n",
       "Члены семьи          0\n",
       "Страховые выплаты    0\n",
       "dtype: int64"
      ]
     },
     "execution_count": 4,
     "metadata": {},
     "output_type": "execute_result"
    }
   ],
   "source": [
    "data.isna().sum()"
   ]
  },
  {
   "cell_type": "code",
   "execution_count": 5,
   "id": "ea53c8a3",
   "metadata": {},
   "outputs": [
    {
     "data": {
      "text/html": [
       "<div>\n",
       "<style scoped>\n",
       "    .dataframe tbody tr th:only-of-type {\n",
       "        vertical-align: middle;\n",
       "    }\n",
       "\n",
       "    .dataframe tbody tr th {\n",
       "        vertical-align: top;\n",
       "    }\n",
       "\n",
       "    .dataframe thead th {\n",
       "        text-align: right;\n",
       "    }\n",
       "</style>\n",
       "<table border=\"1\" class=\"dataframe\">\n",
       "  <thead>\n",
       "    <tr style=\"text-align: right;\">\n",
       "      <th></th>\n",
       "      <th>Пол</th>\n",
       "      <th>Возраст</th>\n",
       "      <th>Зарплата</th>\n",
       "      <th>Члены семьи</th>\n",
       "      <th>Страховые выплаты</th>\n",
       "    </tr>\n",
       "  </thead>\n",
       "  <tbody>\n",
       "    <tr>\n",
       "      <td>count</td>\n",
       "      <td>5000.000000</td>\n",
       "      <td>5000.000000</td>\n",
       "      <td>5000.000000</td>\n",
       "      <td>5000.000000</td>\n",
       "      <td>5000.000000</td>\n",
       "    </tr>\n",
       "    <tr>\n",
       "      <td>mean</td>\n",
       "      <td>0.499000</td>\n",
       "      <td>30.952800</td>\n",
       "      <td>39916.360000</td>\n",
       "      <td>1.194200</td>\n",
       "      <td>0.148000</td>\n",
       "    </tr>\n",
       "    <tr>\n",
       "      <td>std</td>\n",
       "      <td>0.500049</td>\n",
       "      <td>8.440807</td>\n",
       "      <td>9900.083569</td>\n",
       "      <td>1.091387</td>\n",
       "      <td>0.463183</td>\n",
       "    </tr>\n",
       "    <tr>\n",
       "      <td>min</td>\n",
       "      <td>0.000000</td>\n",
       "      <td>18.000000</td>\n",
       "      <td>5300.000000</td>\n",
       "      <td>0.000000</td>\n",
       "      <td>0.000000</td>\n",
       "    </tr>\n",
       "    <tr>\n",
       "      <td>25%</td>\n",
       "      <td>0.000000</td>\n",
       "      <td>24.000000</td>\n",
       "      <td>33300.000000</td>\n",
       "      <td>0.000000</td>\n",
       "      <td>0.000000</td>\n",
       "    </tr>\n",
       "    <tr>\n",
       "      <td>50%</td>\n",
       "      <td>0.000000</td>\n",
       "      <td>30.000000</td>\n",
       "      <td>40200.000000</td>\n",
       "      <td>1.000000</td>\n",
       "      <td>0.000000</td>\n",
       "    </tr>\n",
       "    <tr>\n",
       "      <td>75%</td>\n",
       "      <td>1.000000</td>\n",
       "      <td>37.000000</td>\n",
       "      <td>46600.000000</td>\n",
       "      <td>2.000000</td>\n",
       "      <td>0.000000</td>\n",
       "    </tr>\n",
       "    <tr>\n",
       "      <td>max</td>\n",
       "      <td>1.000000</td>\n",
       "      <td>65.000000</td>\n",
       "      <td>79000.000000</td>\n",
       "      <td>6.000000</td>\n",
       "      <td>5.000000</td>\n",
       "    </tr>\n",
       "  </tbody>\n",
       "</table>\n",
       "</div>"
      ],
      "text/plain": [
       "               Пол      Возраст      Зарплата  Члены семьи  Страховые выплаты\n",
       "count  5000.000000  5000.000000   5000.000000  5000.000000        5000.000000\n",
       "mean      0.499000    30.952800  39916.360000     1.194200           0.148000\n",
       "std       0.500049     8.440807   9900.083569     1.091387           0.463183\n",
       "min       0.000000    18.000000   5300.000000     0.000000           0.000000\n",
       "25%       0.000000    24.000000  33300.000000     0.000000           0.000000\n",
       "50%       0.000000    30.000000  40200.000000     1.000000           0.000000\n",
       "75%       1.000000    37.000000  46600.000000     2.000000           0.000000\n",
       "max       1.000000    65.000000  79000.000000     6.000000           5.000000"
      ]
     },
     "execution_count": 5,
     "metadata": {},
     "output_type": "execute_result"
    }
   ],
   "source": [
    "data.describe()"
   ]
  },
  {
   "cell_type": "markdown",
   "id": "5cd344e3",
   "metadata": {},
   "source": [
    "#### Вывод:\n",
    "- Данные состроят из 5000 строк\n",
    "- `Признаки`: Пол, Возраст, Зарплата, Члены, семьи\n",
    "- `Целевой признак`: количество страховых выплат\n",
    "- Данные в предобработке не нуждаются"
   ]
  },
  {
   "cell_type": "markdown",
   "id": "6c23869e",
   "metadata": {},
   "source": [
    "<a id=\"2\"></a>"
   ]
  },
  {
   "cell_type": "markdown",
   "id": "2740867c",
   "metadata": {},
   "source": [
    "### 2. Умножение матриц."
   ]
  },
  {
   "cell_type": "markdown",
   "id": "67bb8238",
   "metadata": {},
   "source": [
    "Обозначения:\n",
    "\n",
    "\n",
    "    \n",
    "- $X$ - матрица признаков (нулевой столбец состоит из единиц)\n",
    "    \n",
    "- $y$ - вектор целевого признака\n",
    "    \n",
    "- $P$ - матрица, на которую умножаются признаки\n",
    "    \n",
    "- $w$ - вектор весов линейной регрессии (нулевой элемент равен сдвигу)\n",
    "    \n",
    "    \n",
    "Предсказания:\n",
    "    \n",
    "$$a=Xw$$\n",
    "\n",
    "Задача обучения:\n",
    "$$w=argmin_{w}MSE(Xw,y)$$\n",
    "\n",
    "Формула обучения:\n",
    "$$w=(X^TX)^{-1}X^Ty$$\n",
    "\n",
    " \n",
    "##### Признаки умножают на обратимую матрицу. Изменится ли качество линейной регрессии?\n",
    "\n",
    "##### Ответ: Не изменится.\n",
    "\n",
    "`Обоснование`:\n",
    "\n",
    "Признаки умножают на обратимую матрицу  :\n",
    "$$w_1=((XP)^TXP)^{-1}(XP)^Ty$$\n",
    "\n",
    "Транспонированное произведение матриц равно произведению транспонированных матриц, взятых в обратном порядке\n",
    "$$w_1=(P^TX^TXP)^{-1}P^TX^Ty$$\n",
    "\n",
    "Используя формулу\n",
    "$$(AB)^{-1}=B^{-1}A^{-1}$$\n",
    "\n",
    "где  $A$ и  $B$ квадратные\n",
    "\n",
    "$P,P^T$ и $X^T,X$ квадратные\n",
    "$$w_1=P^{-1}(X^TX)^{-1}(P^T)^{-1}P^TX^Ty$$\n",
    "\n",
    "Умножение матрицы на обратную матрицу равно единичной матрице\n",
    "$$w_1=P^{-1}(X^TX)^{-1}|X^Ty$$\n",
    "\n",
    "Умножение любой матрицы на единичную равно этой самой матрице\n",
    "$$w_1=P^{-1}(X^TX)^{-1}X^Ty$$\n",
    "\n",
    "$$a_1=XPw_1$$\n",
    "\n",
    "$$a_1=XPP^{-1}(X^TX)^{-1}X^Ty$$\n",
    "\n",
    "$$a_1=X(X^T)^{-1}X^Ty$$\n",
    "\n",
    "$$a_1=Xw$$ "
   ]
  },
  {
   "cell_type": "markdown",
   "id": "99602d7e",
   "metadata": {},
   "source": [
    "#### Вывод:\n",
    "Преобразовав формулы мы выяснили что при умножении признаков на обратимую матрицу качество не меняется"
   ]
  },
  {
   "cell_type": "markdown",
   "id": "488c28b2",
   "metadata": {},
   "source": [
    "<a id=\"3\"></a>"
   ]
  },
  {
   "cell_type": "markdown",
   "id": "34173742",
   "metadata": {},
   "source": [
    "### 3. Алгоритм преобразования."
   ]
  },
  {
   "cell_type": "markdown",
   "id": "cc2633a0",
   "metadata": {},
   "source": [
    "##### `Алгоритм`\n",
    "\n",
    "Необходимо умножить матрицу признаков на матрицу шифрования так как при умножении количество столбцов матрицы A должно быть равно количеству строк матрицы, полученная матрица будет иметь количество строк матрицы A и количество столбцов матрицы B. Поэтому размер матрицы щифрования на которую умножают равен 4х4\n",
    "\n",
    "Матрицу шифрования сгенерируем с помощью np.random.normal()"
   ]
  },
  {
   "cell_type": "markdown",
   "id": "77d18d6f",
   "metadata": {},
   "source": [
    "##### `Обоснование`"
   ]
  },
  {
   "cell_type": "code",
   "execution_count": 6,
   "id": "98041dce",
   "metadata": {},
   "outputs": [],
   "source": [
    "#разобьем data на признаки и целевой признак\n",
    "features = data.drop('Страховые выплаты', axis=1)\n",
    "target = data['Страховые выплаты']"
   ]
  },
  {
   "cell_type": "code",
   "execution_count": 7,
   "id": "6b890aaa",
   "metadata": {},
   "outputs": [],
   "source": [
    "# Создадим обратимую квадратную матрицу со случайными числами размерностью столбцов features\n",
    "state = np.random.RandomState(12345)\n",
    "matrix_cr=np.random.normal(size=(features.shape[1],features.shape[1]))"
   ]
  },
  {
   "cell_type": "code",
   "execution_count": 8,
   "id": "0de7c901",
   "metadata": {},
   "outputs": [
    {
     "data": {
      "text/html": [
       "<div>\n",
       "<style scoped>\n",
       "    .dataframe tbody tr th:only-of-type {\n",
       "        vertical-align: middle;\n",
       "    }\n",
       "\n",
       "    .dataframe tbody tr th {\n",
       "        vertical-align: top;\n",
       "    }\n",
       "\n",
       "    .dataframe thead th {\n",
       "        text-align: right;\n",
       "    }\n",
       "</style>\n",
       "<table border=\"1\" class=\"dataframe\">\n",
       "  <thead>\n",
       "    <tr style=\"text-align: right;\">\n",
       "      <th></th>\n",
       "      <th>0</th>\n",
       "      <th>1</th>\n",
       "      <th>2</th>\n",
       "      <th>3</th>\n",
       "    </tr>\n",
       "  </thead>\n",
       "  <tbody>\n",
       "    <tr>\n",
       "      <td>0</td>\n",
       "      <td>23516.101860</td>\n",
       "      <td>-15027.138916</td>\n",
       "      <td>-35501.352296</td>\n",
       "      <td>-8277.286752</td>\n",
       "    </tr>\n",
       "    <tr>\n",
       "      <td>1</td>\n",
       "      <td>18018.723299</td>\n",
       "      <td>-11507.117956</td>\n",
       "      <td>-27182.097792</td>\n",
       "      <td>-6316.539297</td>\n",
       "    </tr>\n",
       "    <tr>\n",
       "      <td>2</td>\n",
       "      <td>9958.585064</td>\n",
       "      <td>-6358.625934</td>\n",
       "      <td>-15017.539271</td>\n",
       "      <td>-3484.238022</td>\n",
       "    </tr>\n",
       "    <tr>\n",
       "      <td>3</td>\n",
       "      <td>19768.027129</td>\n",
       "      <td>-12633.941188</td>\n",
       "      <td>-29862.462435</td>\n",
       "      <td>-6981.959359</td>\n",
       "    </tr>\n",
       "    <tr>\n",
       "      <td>4</td>\n",
       "      <td>12375.592735</td>\n",
       "      <td>-7907.502356</td>\n",
       "      <td>-18673.730147</td>\n",
       "      <td>-4344.676567</td>\n",
       "    </tr>\n",
       "    <tr>\n",
       "      <td>...</td>\n",
       "      <td>...</td>\n",
       "      <td>...</td>\n",
       "      <td>...</td>\n",
       "      <td>...</td>\n",
       "    </tr>\n",
       "    <tr>\n",
       "      <td>4995</td>\n",
       "      <td>16925.129967</td>\n",
       "      <td>-10813.658842</td>\n",
       "      <td>-25554.329113</td>\n",
       "      <td>-5960.718835</td>\n",
       "    </tr>\n",
       "    <tr>\n",
       "      <td>4996</td>\n",
       "      <td>24842.434170</td>\n",
       "      <td>-15874.686446</td>\n",
       "      <td>-37516.151384</td>\n",
       "      <td>-8759.432474</td>\n",
       "    </tr>\n",
       "    <tr>\n",
       "      <td>4997</td>\n",
       "      <td>16070.666529</td>\n",
       "      <td>-10269.907951</td>\n",
       "      <td>-24273.391290</td>\n",
       "      <td>-5671.356930</td>\n",
       "    </tr>\n",
       "    <tr>\n",
       "      <td>4998</td>\n",
       "      <td>15501.394317</td>\n",
       "      <td>-9908.029543</td>\n",
       "      <td>-23411.123732</td>\n",
       "      <td>-5467.639667</td>\n",
       "    </tr>\n",
       "    <tr>\n",
       "      <td>4999</td>\n",
       "      <td>19248.046632</td>\n",
       "      <td>-12302.145556</td>\n",
       "      <td>-29065.914796</td>\n",
       "      <td>-6785.004276</td>\n",
       "    </tr>\n",
       "  </tbody>\n",
       "</table>\n",
       "<p>5000 rows × 4 columns</p>\n",
       "</div>"
      ],
      "text/plain": [
       "                 0             1             2            3\n",
       "0     23516.101860 -15027.138916 -35501.352296 -8277.286752\n",
       "1     18018.723299 -11507.117956 -27182.097792 -6316.539297\n",
       "2      9958.585064  -6358.625934 -15017.539271 -3484.238022\n",
       "3     19768.027129 -12633.941188 -29862.462435 -6981.959359\n",
       "4     12375.592735  -7907.502356 -18673.730147 -4344.676567\n",
       "...            ...           ...           ...          ...\n",
       "4995  16925.129967 -10813.658842 -25554.329113 -5960.718835\n",
       "4996  24842.434170 -15874.686446 -37516.151384 -8759.432474\n",
       "4997  16070.666529 -10269.907951 -24273.391290 -5671.356930\n",
       "4998  15501.394317  -9908.029543 -23411.123732 -5467.639667\n",
       "4999  19248.046632 -12302.145556 -29065.914796 -6785.004276\n",
       "\n",
       "[5000 rows x 4 columns]"
      ]
     },
     "execution_count": 8,
     "metadata": {},
     "output_type": "execute_result"
    }
   ],
   "source": [
    "# зашифруем даннные путем умножения матриц\n",
    "features_cr=features @ matrix_cr\n",
    "features_cr"
   ]
  },
  {
   "cell_type": "markdown",
   "id": "c96091e5",
   "metadata": {},
   "source": [
    "#### Вывод\n",
    "После умножения размер матрицы признаков и кодированных признаков совпадает"
   ]
  },
  {
   "cell_type": "markdown",
   "id": "d9f0c0c7",
   "metadata": {},
   "source": [
    "<a id=\"4\"></a>"
   ]
  },
  {
   "cell_type": "markdown",
   "id": "2dc8324c",
   "metadata": {},
   "source": [
    "### 4. Проверка алгоритма."
   ]
  },
  {
   "cell_type": "markdown",
   "id": "db516054",
   "metadata": {},
   "source": [
    "##### Качество линейной регресии на нешифрованных данных"
   ]
  },
  {
   "cell_type": "code",
   "execution_count": 9,
   "id": "5b2929ca",
   "metadata": {},
   "outputs": [
    {
     "name": "stdout",
     "output_type": "stream",
     "text": [
      "R2: 0.42494550286668\n"
     ]
    }
   ],
   "source": [
    "model = LinearRegression()\n",
    "model.fit(features, target)\n",
    "predictions = model.predict(features)\n",
    "print('R2:', r2_score(target,predictions))"
   ]
  },
  {
   "cell_type": "markdown",
   "id": "4b48704e",
   "metadata": {},
   "source": [
    "##### Качество линейной регресии c шифрованием данных"
   ]
  },
  {
   "cell_type": "code",
   "execution_count": 10,
   "id": "90937985",
   "metadata": {},
   "outputs": [
    {
     "name": "stdout",
     "output_type": "stream",
     "text": [
      "R2: 0.4249455028666852\n"
     ]
    }
   ],
   "source": [
    "model = LinearRegression()\n",
    "model.fit(features_cr, target)\n",
    "predictions = model.predict(features_cr)\n",
    "print('R2:', r2_score(target,predictions))"
   ]
  },
  {
   "cell_type": "markdown",
   "id": "56480d19",
   "metadata": {},
   "source": [
    "#### Вывод:\n",
    "Качество моделей с шифрованием при помощи умножения на обратимую матрицу со случайными числами не изменяется.\n",
    "Небольшое расхождение связанно с тем, что операции с float накапливают небольшую погрешность."
   ]
  },
  {
   "cell_type": "markdown",
   "id": "c4f0ff60",
   "metadata": {},
   "source": [
    "##### [к оглавлению](#up)"
   ]
  },
  {
   "cell_type": "code",
   "execution_count": 11,
   "id": "f2c52bbb",
   "metadata": {},
   "outputs": [],
   "source": [
    "class LinearRegressionMy:\n",
    "    def fit(self, train_features, train_target):\n",
    "        X = np.concatenate((np.ones((train_features.shape[0], 1)), train_features), axis=1)\n",
    "        y = train_target\n",
    "        w = np.linalg.inv(X.T @ X) @ X.T @ y\n",
    "        self.w = w[1:]\n",
    "        self.w0 = w[0]\n",
    "        \n",
    "    def predict(self, test_features):\n",
    "        return test_features @ self.w + self.w0"
   ]
  },
  {
   "cell_type": "code",
   "execution_count": 12,
   "id": "0eec0517",
   "metadata": {},
   "outputs": [
    {
     "name": "stdout",
     "output_type": "stream",
     "text": [
      "R2: 0.42494550286668\n"
     ]
    }
   ],
   "source": [
    "model = LinearRegressionMy()\n",
    "model.fit(features, target)\n",
    "predictions = model.predict(features)\n",
    "print('R2:', r2_score(target,predictions))"
   ]
  },
  {
   "cell_type": "code",
   "execution_count": 13,
   "id": "9f4f37d5",
   "metadata": {},
   "outputs": [
    {
     "name": "stdout",
     "output_type": "stream",
     "text": [
      "R2: 0.4249455028662076\n"
     ]
    }
   ],
   "source": [
    "model = LinearRegressionMy()\n",
    "model.fit(features_cr, target)\n",
    "predictions = model.predict(features_cr)\n",
    "print('R2:', r2_score(target,predictions))"
   ]
  }
 ],
 "metadata": {
  "ExecuteTimeLog": [
   {
    "duration": 1038,
    "start_time": "2022-03-15T18:26:36.159Z"
   },
   {
    "duration": 106,
    "start_time": "2022-03-15T18:26:37.200Z"
   },
   {
    "duration": 7,
    "start_time": "2022-03-15T18:26:37.310Z"
   },
   {
    "duration": 17,
    "start_time": "2022-03-15T18:26:37.318Z"
   },
   {
    "duration": 39,
    "start_time": "2022-03-15T18:26:37.337Z"
   },
   {
    "duration": 5,
    "start_time": "2022-03-15T18:26:37.378Z"
   },
   {
    "duration": 9,
    "start_time": "2022-03-15T18:26:37.386Z"
   },
   {
    "duration": 25,
    "start_time": "2022-03-15T18:26:37.397Z"
   },
   {
    "duration": 37,
    "start_time": "2022-03-15T18:26:37.424Z"
   },
   {
    "duration": 106,
    "start_time": "2022-03-15T18:26:37.464Z"
   },
   {
    "duration": 98,
    "start_time": "2022-03-15T18:26:37.662Z"
   },
   {
    "duration": 97,
    "start_time": "2022-03-15T18:26:37.762Z"
   },
   {
    "duration": 101,
    "start_time": "2022-03-15T18:26:37.861Z"
   },
   {
    "duration": 1014,
    "start_time": "2022-03-15T18:28:17.472Z"
   },
   {
    "duration": 84,
    "start_time": "2022-03-15T18:28:18.488Z"
   },
   {
    "duration": 6,
    "start_time": "2022-03-15T18:28:18.576Z"
   },
   {
    "duration": 6,
    "start_time": "2022-03-15T18:28:18.584Z"
   },
   {
    "duration": 23,
    "start_time": "2022-03-15T18:28:18.592Z"
   },
   {
    "duration": 4,
    "start_time": "2022-03-15T18:28:18.617Z"
   },
   {
    "duration": 6,
    "start_time": "2022-03-15T18:28:18.623Z"
   },
   {
    "duration": 36,
    "start_time": "2022-03-15T18:28:18.631Z"
   },
   {
    "duration": 91,
    "start_time": "2022-03-15T18:28:18.669Z"
   },
   {
    "duration": 103,
    "start_time": "2022-03-15T18:28:18.762Z"
   },
   {
    "duration": 92,
    "start_time": "2022-03-15T18:28:18.868Z"
   },
   {
    "duration": 98,
    "start_time": "2022-03-15T18:28:18.963Z"
   },
   {
    "duration": 100,
    "start_time": "2022-03-15T18:28:19.063Z"
   },
   {
    "duration": 72,
    "start_time": "2022-03-16T08:41:23.450Z"
   }
  ],
  "kernelspec": {
   "display_name": "Python 3",
   "language": "python",
   "name": "python3"
  },
  "language_info": {
   "codemirror_mode": {
    "name": "ipython",
    "version": 3
   },
   "file_extension": ".py",
   "mimetype": "text/x-python",
   "name": "python",
   "nbconvert_exporter": "python",
   "pygments_lexer": "ipython3",
   "version": "3.8.8"
  },
  "toc": {
   "base_numbering": 1,
   "nav_menu": {},
   "number_sections": true,
   "sideBar": true,
   "skip_h1_title": true,
   "title_cell": "Table of Contents",
   "title_sidebar": "Contents",
   "toc_cell": false,
   "toc_position": {},
   "toc_section_display": true,
   "toc_window_display": false
  }
 },
 "nbformat": 4,
 "nbformat_minor": 5
}
