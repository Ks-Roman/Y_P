{
 "cells": [
  {
   "cell_type": "markdown",
   "id": "9b7322bd",
   "metadata": {},
   "source": [
    "## Определение стоимости автомобилей"
   ]
  },
  {
   "cell_type": "markdown",
   "id": "814e6786",
   "metadata": {},
   "source": [
    "<a id=\"up\"></a>"
   ]
  },
  {
   "cell_type": "markdown",
   "id": "d9a09209",
   "metadata": {},
   "source": [
    "### Описание проекта"
   ]
  },
  {
   "cell_type": "markdown",
   "id": "dae61445",
   "metadata": {},
   "source": [
    "Сервис по продаже автомобилей с пробегом «Не бит, не крашен» разрабатывает приложение для привлечения новых клиентов. В нём можно быстро узнать рыночную стоимость своего автомобиля. В вашем распоряжении исторические данные: технические характеристики, комплектации и цены автомобилей. Вам нужно построить модель для определения стоимости.\n",
    "\n",
    "Заказчику важны:\n",
    "- качество предсказания;\n",
    "- скорость предсказания;\n",
    "- время обучения."
   ]
  },
  {
   "cell_type": "markdown",
   "id": "406f4b1d",
   "metadata": {},
   "source": [
    "### Задачи исследования"
   ]
  },
  {
   "cell_type": "markdown",
   "id": "590947e5",
   "metadata": {},
   "source": [
    "### [1. Загрузите и подготовьте данные. ](#1)"
   ]
  },
  {
   "cell_type": "markdown",
   "id": "f159ead8",
   "metadata": {},
   "source": [
    "### [2. Обучите разные модели. Для каждой попробуйте различные гиперпараметры.](#2)"
   ]
  },
  {
   "cell_type": "markdown",
   "id": "027c57b3",
   "metadata": {},
   "source": [
    "### [3. Проанализируйте скорость работы и качество моделей.](#3)\n",
    "##### Примечания:\n",
    "- Для оценки качества моделей применяйте метрику RMSE.\n",
    "- Самостоятельно освойте библиотеку `LightGBM` и её средствами постройте модели градиентного бустинга.\n",
    "- Время выполнения ячейки кода Jupyter Notebook можно получить специальной командой. Найдите её.\n",
    "- Поскольку модель градиентного бустинга может обучаться долго, измените у неё только два-три параметра."
   ]
  },
  {
   "cell_type": "markdown",
   "id": "2e419e05",
   "metadata": {},
   "source": [
    "### Описание данных"
   ]
  },
  {
   "cell_type": "markdown",
   "id": "7eca2ad2",
   "metadata": {},
   "source": [
    "`Признаки`\n",
    "\n",
    "- DateCrawled — дата скачивания анкеты из базы\n",
    "- VehicleType — тип автомобильного кузова\n",
    "- RegistrationYear — год регистрации автомобиля\n",
    "- Gearbox — тип коробки передач\n",
    "- Power — мощность (л. с.)\n",
    "- Model — модель автомобиля\n",
    "- Kilometer — пробег (км)\n",
    "- RegistrationMonth — месяц регистрации автомобиля\n",
    "- FuelType — тип топлива\n",
    "- Brand — марка автомобиля\n",
    "- NotRepaired — была машина в ремонте или нет\n",
    "- DateCreated — дата создания анкеты\n",
    "- NumberOfPictures — количество фотографий автомобиля\n",
    "- PostalCode — почтовый индекс владельца анкеты (пользователя)\n",
    "- LastSeen — дата последней активности пользователя\n",
    "\n",
    "`Целевой признак`\n",
    "- Price — цена (евро)"
   ]
  },
  {
   "cell_type": "markdown",
   "id": "44842e6e",
   "metadata": {},
   "source": [
    "<a id=\"1\"></a>"
   ]
  },
  {
   "cell_type": "markdown",
   "id": "2df8c68b",
   "metadata": {},
   "source": [
    "### 1. Загрузим файл и изучим общую информацию, подготовим данные."
   ]
  },
  {
   "cell_type": "code",
   "execution_count": 1,
   "id": "ef0f4927",
   "metadata": {},
   "outputs": [],
   "source": [
    "import pandas as pd    \n",
    "import matplotlib.pyplot as plt\n",
    "import numpy as np\n",
    "\n",
    "from sklearn.linear_model import LinearRegression\n",
    "from sklearn.linear_model import Ridge\n",
    "from sklearn.model_selection import GridSearchCV\n",
    "\n",
    "from sklearn.tree import DecisionTreeRegressor\n",
    "\n",
    "from sklearn.model_selection import train_test_split\n",
    "from sklearn.preprocessing import OrdinalEncoder\n",
    "from sklearn.preprocessing import StandardScaler\n",
    "from sklearn.metrics import mean_squared_error\n",
    "\n",
    "from catboost import Pool, CatBoostRegressor, cv\n",
    "from lightgbm import LGBMRegressor\n",
    "\n",
    "import warnings\n",
    "warnings.filterwarnings('ignore')"
   ]
  },
  {
   "cell_type": "code",
   "execution_count": 2,
   "id": "017b1366",
   "metadata": {},
   "outputs": [
    {
     "data": {
      "text/html": [
       "<div>\n",
       "<style scoped>\n",
       "    .dataframe tbody tr th:only-of-type {\n",
       "        vertical-align: middle;\n",
       "    }\n",
       "\n",
       "    .dataframe tbody tr th {\n",
       "        vertical-align: top;\n",
       "    }\n",
       "\n",
       "    .dataframe thead th {\n",
       "        text-align: right;\n",
       "    }\n",
       "</style>\n",
       "<table border=\"1\" class=\"dataframe\">\n",
       "  <thead>\n",
       "    <tr style=\"text-align: right;\">\n",
       "      <th></th>\n",
       "      <th>DateCrawled</th>\n",
       "      <th>Price</th>\n",
       "      <th>VehicleType</th>\n",
       "      <th>RegistrationYear</th>\n",
       "      <th>Gearbox</th>\n",
       "      <th>Power</th>\n",
       "      <th>Model</th>\n",
       "      <th>Kilometer</th>\n",
       "      <th>RegistrationMonth</th>\n",
       "      <th>FuelType</th>\n",
       "      <th>Brand</th>\n",
       "      <th>NotRepaired</th>\n",
       "      <th>DateCreated</th>\n",
       "      <th>NumberOfPictures</th>\n",
       "      <th>PostalCode</th>\n",
       "      <th>LastSeen</th>\n",
       "    </tr>\n",
       "  </thead>\n",
       "  <tbody>\n",
       "    <tr>\n",
       "      <th>0</th>\n",
       "      <td>2016-03-24 11:52:17</td>\n",
       "      <td>480</td>\n",
       "      <td>NaN</td>\n",
       "      <td>1993</td>\n",
       "      <td>manual</td>\n",
       "      <td>0</td>\n",
       "      <td>golf</td>\n",
       "      <td>150000</td>\n",
       "      <td>0</td>\n",
       "      <td>petrol</td>\n",
       "      <td>volkswagen</td>\n",
       "      <td>NaN</td>\n",
       "      <td>2016-03-24 00:00:00</td>\n",
       "      <td>0</td>\n",
       "      <td>70435</td>\n",
       "      <td>2016-04-07 03:16:57</td>\n",
       "    </tr>\n",
       "    <tr>\n",
       "      <th>1</th>\n",
       "      <td>2016-03-24 10:58:45</td>\n",
       "      <td>18300</td>\n",
       "      <td>coupe</td>\n",
       "      <td>2011</td>\n",
       "      <td>manual</td>\n",
       "      <td>190</td>\n",
       "      <td>NaN</td>\n",
       "      <td>125000</td>\n",
       "      <td>5</td>\n",
       "      <td>gasoline</td>\n",
       "      <td>audi</td>\n",
       "      <td>yes</td>\n",
       "      <td>2016-03-24 00:00:00</td>\n",
       "      <td>0</td>\n",
       "      <td>66954</td>\n",
       "      <td>2016-04-07 01:46:50</td>\n",
       "    </tr>\n",
       "    <tr>\n",
       "      <th>2</th>\n",
       "      <td>2016-03-14 12:52:21</td>\n",
       "      <td>9800</td>\n",
       "      <td>suv</td>\n",
       "      <td>2004</td>\n",
       "      <td>auto</td>\n",
       "      <td>163</td>\n",
       "      <td>grand</td>\n",
       "      <td>125000</td>\n",
       "      <td>8</td>\n",
       "      <td>gasoline</td>\n",
       "      <td>jeep</td>\n",
       "      <td>NaN</td>\n",
       "      <td>2016-03-14 00:00:00</td>\n",
       "      <td>0</td>\n",
       "      <td>90480</td>\n",
       "      <td>2016-04-05 12:47:46</td>\n",
       "    </tr>\n",
       "    <tr>\n",
       "      <th>3</th>\n",
       "      <td>2016-03-17 16:54:04</td>\n",
       "      <td>1500</td>\n",
       "      <td>small</td>\n",
       "      <td>2001</td>\n",
       "      <td>manual</td>\n",
       "      <td>75</td>\n",
       "      <td>golf</td>\n",
       "      <td>150000</td>\n",
       "      <td>6</td>\n",
       "      <td>petrol</td>\n",
       "      <td>volkswagen</td>\n",
       "      <td>no</td>\n",
       "      <td>2016-03-17 00:00:00</td>\n",
       "      <td>0</td>\n",
       "      <td>91074</td>\n",
       "      <td>2016-03-17 17:40:17</td>\n",
       "    </tr>\n",
       "    <tr>\n",
       "      <th>4</th>\n",
       "      <td>2016-03-31 17:25:20</td>\n",
       "      <td>3600</td>\n",
       "      <td>small</td>\n",
       "      <td>2008</td>\n",
       "      <td>manual</td>\n",
       "      <td>69</td>\n",
       "      <td>fabia</td>\n",
       "      <td>90000</td>\n",
       "      <td>7</td>\n",
       "      <td>gasoline</td>\n",
       "      <td>skoda</td>\n",
       "      <td>no</td>\n",
       "      <td>2016-03-31 00:00:00</td>\n",
       "      <td>0</td>\n",
       "      <td>60437</td>\n",
       "      <td>2016-04-06 10:17:21</td>\n",
       "    </tr>\n",
       "  </tbody>\n",
       "</table>\n",
       "</div>"
      ],
      "text/plain": [
       "           DateCrawled  Price VehicleType  RegistrationYear Gearbox  Power  \\\n",
       "0  2016-03-24 11:52:17    480         NaN              1993  manual      0   \n",
       "1  2016-03-24 10:58:45  18300       coupe              2011  manual    190   \n",
       "2  2016-03-14 12:52:21   9800         suv              2004    auto    163   \n",
       "3  2016-03-17 16:54:04   1500       small              2001  manual     75   \n",
       "4  2016-03-31 17:25:20   3600       small              2008  manual     69   \n",
       "\n",
       "   Model  Kilometer  RegistrationMonth  FuelType       Brand NotRepaired  \\\n",
       "0   golf     150000                  0    petrol  volkswagen         NaN   \n",
       "1    NaN     125000                  5  gasoline        audi         yes   \n",
       "2  grand     125000                  8  gasoline        jeep         NaN   \n",
       "3   golf     150000                  6    petrol  volkswagen          no   \n",
       "4  fabia      90000                  7  gasoline       skoda          no   \n",
       "\n",
       "           DateCreated  NumberOfPictures  PostalCode             LastSeen  \n",
       "0  2016-03-24 00:00:00                 0       70435  2016-04-07 03:16:57  \n",
       "1  2016-03-24 00:00:00                 0       66954  2016-04-07 01:46:50  \n",
       "2  2016-03-14 00:00:00                 0       90480  2016-04-05 12:47:46  \n",
       "3  2016-03-17 00:00:00                 0       91074  2016-03-17 17:40:17  \n",
       "4  2016-03-31 00:00:00                 0       60437  2016-04-06 10:17:21  "
      ]
     },
     "execution_count": 2,
     "metadata": {},
     "output_type": "execute_result"
    }
   ],
   "source": [
    "try:\n",
    "    df = pd.read_csv('autos.csv')\n",
    "except Exception as e:\n",
    "    print(e)\n",
    "    df = pd.read_csv('/datasets/autos.csv')\n",
    "\n",
    "pd.set_option('display.max_columns', None) \n",
    "df.head()"
   ]
  },
  {
   "cell_type": "code",
   "execution_count": 3,
   "id": "22dfe92d",
   "metadata": {},
   "outputs": [
    {
     "name": "stdout",
     "output_type": "stream",
     "text": [
      "<class 'pandas.core.frame.DataFrame'>\n",
      "RangeIndex: 354369 entries, 0 to 354368\n",
      "Data columns (total 16 columns):\n",
      " #   Column             Non-Null Count   Dtype \n",
      "---  ------             --------------   ----- \n",
      " 0   DateCrawled        354369 non-null  object\n",
      " 1   Price              354369 non-null  int64 \n",
      " 2   VehicleType        316879 non-null  object\n",
      " 3   RegistrationYear   354369 non-null  int64 \n",
      " 4   Gearbox            334536 non-null  object\n",
      " 5   Power              354369 non-null  int64 \n",
      " 6   Model              334664 non-null  object\n",
      " 7   Kilometer          354369 non-null  int64 \n",
      " 8   RegistrationMonth  354369 non-null  int64 \n",
      " 9   FuelType           321474 non-null  object\n",
      " 10  Brand              354369 non-null  object\n",
      " 11  NotRepaired        283215 non-null  object\n",
      " 12  DateCreated        354369 non-null  object\n",
      " 13  NumberOfPictures   354369 non-null  int64 \n",
      " 14  PostalCode         354369 non-null  int64 \n",
      " 15  LastSeen           354369 non-null  object\n",
      "dtypes: int64(7), object(9)\n",
      "memory usage: 43.3+ MB\n"
     ]
    }
   ],
   "source": [
    "df.info()"
   ]
  },
  {
   "cell_type": "code",
   "execution_count": 4,
   "id": "6a102234",
   "metadata": {},
   "outputs": [
    {
     "data": {
      "text/plain": [
       "DateCrawled              0\n",
       "Price                    0\n",
       "VehicleType          37490\n",
       "RegistrationYear         0\n",
       "Gearbox              19833\n",
       "Power                    0\n",
       "Model                19705\n",
       "Kilometer                0\n",
       "RegistrationMonth        0\n",
       "FuelType             32895\n",
       "Brand                    0\n",
       "NotRepaired          71154\n",
       "DateCreated              0\n",
       "NumberOfPictures         0\n",
       "PostalCode               0\n",
       "LastSeen                 0\n",
       "dtype: int64"
      ]
     },
     "execution_count": 4,
     "metadata": {},
     "output_type": "execute_result"
    }
   ],
   "source": [
    "df.isna().sum()"
   ]
  },
  {
   "cell_type": "code",
   "execution_count": 5,
   "id": "8c43115d",
   "metadata": {},
   "outputs": [
    {
     "data": {
      "text/plain": [
       "4"
      ]
     },
     "execution_count": 5,
     "metadata": {},
     "output_type": "execute_result"
    }
   ],
   "source": [
    "df.duplicated().sum()"
   ]
  },
  {
   "cell_type": "markdown",
   "id": "3bf00419",
   "metadata": {},
   "source": [
    "##### Вывод:\n",
    "- важные признаки: `Price`,`VehicleType`,`RegistrationYear`,`Gearbox`,`Power`,`Model`,`Kilometer`,`FuelType`,`Brand`,`NotRepaired`, остальные признаки не влияют на то, чтобы быстро узнать рыночную стоимость своего автомобиля;\n",
    "- имеются дубликаты, большое количество пропусков, нулевые значения.\n",
    "\n",
    "##### Проведем предоработку данных, рассмотрим важные признаки."
   ]
  },
  {
   "cell_type": "code",
   "execution_count": 6,
   "id": "452a1fda",
   "metadata": {},
   "outputs": [],
   "source": [
    "import sweetviz as sv"
   ]
  },
  {
   "cell_type": "code",
   "execution_count": 7,
   "id": "d9651a1c",
   "metadata": {},
   "outputs": [
    {
     "name": "stdout",
     "output_type": "stream",
     "text": [
      "<class 'pandas.core.frame.DataFrame'>\n",
      "RangeIndex: 354369 entries, 0 to 354368\n",
      "Data columns (total 10 columns):\n",
      " #   Column            Non-Null Count   Dtype \n",
      "---  ------            --------------   ----- \n",
      " 0   Price             354369 non-null  int64 \n",
      " 1   VehicleType       316879 non-null  object\n",
      " 2   RegistrationYear  354369 non-null  int64 \n",
      " 3   Gearbox           334536 non-null  object\n",
      " 4   Power             354369 non-null  int64 \n",
      " 5   Model             334664 non-null  object\n",
      " 6   Kilometer         354369 non-null  int64 \n",
      " 7   FuelType          321474 non-null  object\n",
      " 8   Brand             354369 non-null  object\n",
      " 9   NotRepaired       283215 non-null  object\n",
      "dtypes: int64(4), object(6)\n",
      "memory usage: 27.0+ MB\n"
     ]
    }
   ],
   "source": [
    "df = df[['Price',            # оставим важные признаки\n",
    "         'VehicleType', \n",
    "         'RegistrationYear',\n",
    "         'Gearbox',\n",
    "         'Power',\n",
    "         'Model',\n",
    "         'Kilometer',\n",
    "         'FuelType',\n",
    "         'Brand',\n",
    "         'NotRepaired']]\n",
    "         \n",
    "                 \n",
    "df.info()"
   ]
  },
  {
   "cell_type": "code",
   "execution_count": 8,
   "id": "2ed2f75b",
   "metadata": {},
   "outputs": [
    {
     "data": {
      "application/vnd.jupyter.widget-view+json": {
       "model_id": "e4e1ae85273a4605996c7af64a279457",
       "version_major": 2,
       "version_minor": 0
      },
      "text/plain": [
       "                                             |     | [  0%]   00:00 -> (? left)"
      ]
     },
     "metadata": {},
     "output_type": "display_data"
    }
   ],
   "source": [
    "report = sv.analyze([df, \"Permit Logs\"])"
   ]
  },
  {
   "cell_type": "code",
   "execution_count": 11,
   "id": "f81182da",
   "metadata": {},
   "outputs": [
    {
     "name": "stdout",
     "output_type": "stream",
     "text": [
      "Report common analysis.html was generated! NOTEBOOK/COLAB USERS: the web browser MAY not pop up, regardless, the report IS saved in your notebook/colab files.\n"
     ]
    }
   ],
   "source": [
    "report.show_html('common analysis.html')"
   ]
  },
  {
   "cell_type": "code",
   "execution_count": 12,
   "id": "6fc5e307",
   "metadata": {},
   "outputs": [
    {
     "data": {
      "text/html": [
       "<div>\n",
       "<style scoped>\n",
       "    .dataframe tbody tr th:only-of-type {\n",
       "        vertical-align: middle;\n",
       "    }\n",
       "\n",
       "    .dataframe tbody tr th {\n",
       "        vertical-align: top;\n",
       "    }\n",
       "\n",
       "    .dataframe thead th {\n",
       "        text-align: right;\n",
       "    }\n",
       "</style>\n",
       "<table border=\"1\" class=\"dataframe\">\n",
       "  <thead>\n",
       "    <tr style=\"text-align: right;\">\n",
       "      <th></th>\n",
       "      <th>Price</th>\n",
       "      <th>VehicleType</th>\n",
       "      <th>RegistrationYear</th>\n",
       "      <th>Gearbox</th>\n",
       "      <th>Power</th>\n",
       "      <th>Model</th>\n",
       "      <th>Kilometer</th>\n",
       "      <th>FuelType</th>\n",
       "      <th>Brand</th>\n",
       "      <th>NotRepaired</th>\n",
       "    </tr>\n",
       "  </thead>\n",
       "  <tbody>\n",
       "    <tr>\n",
       "      <th>0</th>\n",
       "      <td>480</td>\n",
       "      <td>NaN</td>\n",
       "      <td>1993</td>\n",
       "      <td>manual</td>\n",
       "      <td>0</td>\n",
       "      <td>golf</td>\n",
       "      <td>150000</td>\n",
       "      <td>petrol</td>\n",
       "      <td>volkswagen</td>\n",
       "      <td>NaN</td>\n",
       "    </tr>\n",
       "    <tr>\n",
       "      <th>1</th>\n",
       "      <td>18300</td>\n",
       "      <td>coupe</td>\n",
       "      <td>2011</td>\n",
       "      <td>manual</td>\n",
       "      <td>190</td>\n",
       "      <td>NaN</td>\n",
       "      <td>125000</td>\n",
       "      <td>gasoline</td>\n",
       "      <td>audi</td>\n",
       "      <td>yes</td>\n",
       "    </tr>\n",
       "    <tr>\n",
       "      <th>2</th>\n",
       "      <td>9800</td>\n",
       "      <td>suv</td>\n",
       "      <td>2004</td>\n",
       "      <td>auto</td>\n",
       "      <td>163</td>\n",
       "      <td>grand</td>\n",
       "      <td>125000</td>\n",
       "      <td>gasoline</td>\n",
       "      <td>jeep</td>\n",
       "      <td>NaN</td>\n",
       "    </tr>\n",
       "    <tr>\n",
       "      <th>3</th>\n",
       "      <td>1500</td>\n",
       "      <td>small</td>\n",
       "      <td>2001</td>\n",
       "      <td>manual</td>\n",
       "      <td>75</td>\n",
       "      <td>golf</td>\n",
       "      <td>150000</td>\n",
       "      <td>petrol</td>\n",
       "      <td>volkswagen</td>\n",
       "      <td>no</td>\n",
       "    </tr>\n",
       "    <tr>\n",
       "      <th>4</th>\n",
       "      <td>3600</td>\n",
       "      <td>small</td>\n",
       "      <td>2008</td>\n",
       "      <td>manual</td>\n",
       "      <td>69</td>\n",
       "      <td>fabia</td>\n",
       "      <td>90000</td>\n",
       "      <td>gasoline</td>\n",
       "      <td>skoda</td>\n",
       "      <td>no</td>\n",
       "    </tr>\n",
       "  </tbody>\n",
       "</table>\n",
       "</div>"
      ],
      "text/plain": [
       "   Price VehicleType  RegistrationYear Gearbox  Power  Model  Kilometer  \\\n",
       "0    480         NaN              1993  manual      0   golf     150000   \n",
       "1  18300       coupe              2011  manual    190    NaN     125000   \n",
       "2   9800         suv              2004    auto    163  grand     125000   \n",
       "3   1500       small              2001  manual     75   golf     150000   \n",
       "4   3600       small              2008  manual     69  fabia      90000   \n",
       "\n",
       "   FuelType       Brand NotRepaired  \n",
       "0    petrol  volkswagen         NaN  \n",
       "1  gasoline        audi         yes  \n",
       "2  gasoline        jeep         NaN  \n",
       "3    petrol  volkswagen          no  \n",
       "4  gasoline       skoda          no  "
      ]
     },
     "execution_count": 12,
     "metadata": {},
     "output_type": "execute_result"
    }
   ],
   "source": [
    "df.head()"
   ]
  },
  {
   "cell_type": "code",
   "execution_count": 13,
   "id": "1b1069d2",
   "metadata": {},
   "outputs": [],
   "source": [
    "df = df.drop_duplicates().reset_index(drop = True) # удаляем дубликаты, не жалко их мало"
   ]
  },
  {
   "cell_type": "code",
   "execution_count": 14,
   "id": "3311a1e6",
   "metadata": {},
   "outputs": [
    {
     "name": "stdout",
     "output_type": "stream",
     "text": [
      "Колличество объявлений с нулевой ценой: 8904\n"
     ]
    }
   ],
   "source": [
    "#  целевой признак price, пропусков данных нет, но есть цена равная нулю, восстановить по среднему было бы некоректно,\n",
    "# так как признак целевой и это напрямую повлияет на прогноз.\n",
    "\n",
    "print(\"Колличество объявлений с нулевой ценой:\",len(df.loc[df['Price'] == 0]))"
   ]
  },
  {
   "cell_type": "code",
   "execution_count": 15,
   "id": "ba78025d",
   "metadata": {},
   "outputs": [],
   "source": [
    "df = df.loc[df['Price'] != 0] # избавимся от нулевой цены"
   ]
  },
  {
   "cell_type": "code",
   "execution_count": 16,
   "id": "957280d6",
   "metadata": {},
   "outputs": [
    {
     "name": "stdout",
     "output_type": "stream",
     "text": [
      "1 20000\n"
     ]
    },
    {
     "data": {
      "text/plain": [
       "array([[<AxesSubplot:title={'center':'Price'}>]], dtype=object)"
      ]
     },
     "execution_count": 16,
     "metadata": {},
     "output_type": "execute_result"
    },
    {
     "data": {
      "image/png": "[encoded data removed]",
      "text/plain": [
       "<Figure size 600x400 with 1 Axes>"
      ]
     },
     "metadata": {},
     "output_type": "display_data"
    }
   ],
   "source": [
    "print(df['Price'].min(),df['Price'].max())\n",
    "df[['Price']].hist(bins=100,range = (0, 100000))"
   ]
  },
  {
   "cell_type": "code",
   "execution_count": 17,
   "id": "47895416",
   "metadata": {},
   "outputs": [
    {
     "data": {
      "text/plain": [
       "0.05      350.0\n",
       "0.95    14900.0\n",
       "Name: Price, dtype: float64"
      ]
     },
     "execution_count": 17,
     "metadata": {},
     "output_type": "execute_result"
    }
   ],
   "source": [
    "df['Price'].quantile([.05, 0.95])"
   ]
  },
  {
   "cell_type": "code",
   "execution_count": 18,
   "id": "c4351c4f",
   "metadata": {},
   "outputs": [],
   "source": [
    "df = df.query('350 <= Price') # установим цену от 350(euro) и выше"
   ]
  },
  {
   "cell_type": "code",
   "execution_count": 19,
   "id": "0fda5427",
   "metadata": {},
   "outputs": [
    {
     "data": {
      "text/plain": [
       "Price                   0\n",
       "VehicleType             0\n",
       "RegistrationYear        0\n",
       "Gearbox                 0\n",
       "Power                   0\n",
       "Model               14916\n",
       "Kilometer               0\n",
       "FuelType            24139\n",
       "Brand                   0\n",
       "NotRepaired             0\n",
       "dtype: int64"
      ]
     },
     "execution_count": 19,
     "metadata": {},
     "output_type": "execute_result"
    }
   ],
   "source": [
    "df.fillna({'Gearbox':'manual', # тип коробки передач ставим механика, т.к. в априори идет механика\n",
    "           'NotRepaired':'yes',  # пропуски заменим на да, скре всего не аполнена, т.к. авто без ремонта\n",
    "           'VehicleType':'unknown'}, # пропуски запишем как неизвестно\n",
    "            inplace=True)\n",
    "df.isna().sum()"
   ]
  },
  {
   "cell_type": "code",
   "execution_count": 20,
   "id": "781920a0",
   "metadata": {},
   "outputs": [
    {
     "name": "stdout",
     "output_type": "stream",
     "text": [
      "1000 9999\n"
     ]
    },
    {
     "data": {
      "text/plain": [
       "array([[<AxesSubplot:title={'center':'RegistrationYear'}>]], dtype=object)"
      ]
     },
     "execution_count": 20,
     "metadata": {},
     "output_type": "execute_result"
    },
    {
     "data": {
      "image/png": "[encoded data removed]",
      "text/plain": [
       "<Figure size 600x400 with 1 Axes>"
      ]
     },
     "metadata": {},
     "output_type": "display_data"
    }
   ],
   "source": [
    "print(df['RegistrationYear'].min(),df['RegistrationYear'].max())\n",
    "df[['RegistrationYear']].hist(bins=100,range = (1900, 2022))"
   ]
  },
  {
   "cell_type": "code",
   "execution_count": 21,
   "id": "1d19e428",
   "metadata": {
    "scrolled": false
   },
   "outputs": [
    {
     "data": {
      "text/plain": [
       "count    273340.000000\n",
       "mean       2002.859234\n",
       "std           6.763974\n",
       "min        1960.000000\n",
       "25%        1999.000000\n",
       "50%        2003.000000\n",
       "75%        2007.000000\n",
       "max        2016.000000\n",
       "Name: RegistrationYear, dtype: float64"
      ]
     },
     "execution_count": 21,
     "metadata": {},
     "output_type": "execute_result"
    }
   ],
   "source": [
    "df = df.query('1959 < RegistrationYear < 2017') # взяли актуальный период без выбросов\n",
    "df['RegistrationYear'].describe() "
   ]
  },
  {
   "cell_type": "code",
   "execution_count": 22,
   "id": "24963e87",
   "metadata": {},
   "outputs": [
    {
     "name": "stdout",
     "output_type": "stream",
     "text": [
      "Колличество объявлений с некорректной мощностью: 25170\n"
     ]
    }
   ],
   "source": [
    "print(\"Колличество объявлений с некорректной мощностью:\",len(df.loc[(df['Power'] > 1000) | (df['Power'] <= 0)]))"
   ]
  },
  {
   "cell_type": "code",
   "execution_count": 23,
   "id": "1060847d",
   "metadata": {},
   "outputs": [],
   "source": [
    "# заменим пропуски мощности по среднему по моели авто, остальные удаляем\n",
    "df.loc[(df['Power'] > 1000) | (df['Power'] <= 0), 'Power'] = None\n",
    "df['Power'] = df['Power'].fillna(df.groupby('Model')['Power'].transform('median'))\n",
    "df = df.loc[~df['Power'].isna()]\n",
    "df['Power'] = df['Power'].astype('int64')"
   ]
  },
  {
   "cell_type": "code",
   "execution_count": 24,
   "id": "ac5a15eb",
   "metadata": {},
   "outputs": [],
   "source": [
    "# удалим пропуски по моделям\n",
    "df = df.loc[~df['Model'].isna()]"
   ]
  },
  {
   "cell_type": "code",
   "execution_count": 25,
   "id": "0194f395",
   "metadata": {},
   "outputs": [],
   "source": [
    "# пропуски тип топлива на среднее по моделям\n",
    "df['FuelType'] = df['FuelType'].fillna(df.groupby('Model')['FuelType'].transform(lambda x: x.value_counts().idxmax()))"
   ]
  },
  {
   "cell_type": "code",
   "execution_count": 26,
   "id": "f23b0872",
   "metadata": {},
   "outputs": [
    {
     "data": {
      "text/plain": [
       "Price               0\n",
       "VehicleType         0\n",
       "RegistrationYear    0\n",
       "Gearbox             0\n",
       "Power               0\n",
       "Model               0\n",
       "Kilometer           0\n",
       "FuelType            0\n",
       "Brand               0\n",
       "NotRepaired         0\n",
       "dtype: int64"
      ]
     },
     "execution_count": 26,
     "metadata": {},
     "output_type": "execute_result"
    }
   ],
   "source": [
    "df.isna().sum()"
   ]
  },
  {
   "cell_type": "markdown",
   "id": "5213cb18",
   "metadata": {},
   "source": [
    "##### Преобразуем категориальные признаки с большим колличеством категорий техникой `Ordinal Encoding`."
   ]
  },
  {
   "cell_type": "code",
   "execution_count": 27,
   "id": "3c697a8d",
   "metadata": {},
   "outputs": [],
   "source": [
    "df_reg = df"
   ]
  },
  {
   "cell_type": "code",
   "execution_count": 28,
   "id": "ac0586b2",
   "metadata": {},
   "outputs": [],
   "source": [
    "encoder = OrdinalEncoder()\n",
    "encoder.fit(df) \n",
    "df_ordinal = pd.DataFrame(encoder.transform(df), columns=df.columns)\n",
    "df_ordinal.reset_index()\n",
    "df.loc[:,['Brand', 'Model']] = df_ordinal.loc[:,['Brand', 'Model']]\n"
   ]
  },
  {
   "cell_type": "code",
   "execution_count": 29,
   "id": "63d4a5b9",
   "metadata": {},
   "outputs": [],
   "source": [
    "df = df.fillna(0)"
   ]
  },
  {
   "cell_type": "code",
   "execution_count": 30,
   "id": "24ad8232",
   "metadata": {},
   "outputs": [],
   "source": [
    "df['Brand'] = df['Brand'].astype(int)\n",
    "df['Model'] = df['Model'].astype(int)"
   ]
  },
  {
   "cell_type": "markdown",
   "id": "934f8d53",
   "metadata": {},
   "source": [
    "##### Признаки `VehicleType`, `Gearbox`, `FuelType`, `NotRepaired` закодируем `one-hot encoding`."
   ]
  },
  {
   "cell_type": "code",
   "execution_count": 31,
   "id": "76242d6f",
   "metadata": {},
   "outputs": [],
   "source": [
    "def ohe(df, column):\n",
    "    data = pd.get_dummies(df[column], prefix=column, drop_first=True)\n",
    "    df = df.drop(column, axis=1)\n",
    "    return df.join(data)"
   ]
  },
  {
   "cell_type": "code",
   "execution_count": 32,
   "id": "419cc60d",
   "metadata": {},
   "outputs": [],
   "source": [
    "df = ohe(df, 'VehicleType')\n",
    "df = ohe(df, 'Gearbox')\n",
    "df = ohe(df, 'FuelType')\n",
    "df = ohe(df, 'NotRepaired')"
   ]
  },
  {
   "cell_type": "code",
   "execution_count": 33,
   "id": "9c66de50",
   "metadata": {},
   "outputs": [],
   "source": [
    "# разобьем данные на тестовую и валидационную выборки и на признаки и целевой признак\n",
    "target = df['Price']\n",
    "features = df.drop('Price', axis=1)\n",
    "features_train, features_test, target_train, target_test = train_test_split(\n",
    "    features, target, test_size=0.25, random_state=12345)"
   ]
  },
  {
   "cell_type": "code",
   "execution_count": 34,
   "id": "2dc36232",
   "metadata": {},
   "outputs": [
    {
     "data": {
      "text/html": [
       "<div>\n",
       "<style scoped>\n",
       "    .dataframe tbody tr th:only-of-type {\n",
       "        vertical-align: middle;\n",
       "    }\n",
       "\n",
       "    .dataframe tbody tr th {\n",
       "        vertical-align: top;\n",
       "    }\n",
       "\n",
       "    .dataframe thead th {\n",
       "        text-align: right;\n",
       "    }\n",
       "</style>\n",
       "<table border=\"1\" class=\"dataframe\">\n",
       "  <thead>\n",
       "    <tr style=\"text-align: right;\">\n",
       "      <th></th>\n",
       "      <th>RegistrationYear</th>\n",
       "      <th>Power</th>\n",
       "      <th>Model</th>\n",
       "      <th>Kilometer</th>\n",
       "      <th>Brand</th>\n",
       "      <th>VehicleType_convertible</th>\n",
       "      <th>VehicleType_coupe</th>\n",
       "      <th>VehicleType_other</th>\n",
       "      <th>VehicleType_sedan</th>\n",
       "      <th>VehicleType_small</th>\n",
       "      <th>VehicleType_suv</th>\n",
       "      <th>VehicleType_unknown</th>\n",
       "      <th>VehicleType_wagon</th>\n",
       "      <th>Gearbox_manual</th>\n",
       "      <th>FuelType_electric</th>\n",
       "      <th>FuelType_gasoline</th>\n",
       "      <th>FuelType_hybrid</th>\n",
       "      <th>FuelType_lpg</th>\n",
       "      <th>FuelType_other</th>\n",
       "      <th>FuelType_petrol</th>\n",
       "      <th>NotRepaired_yes</th>\n",
       "    </tr>\n",
       "  </thead>\n",
       "  <tbody>\n",
       "    <tr>\n",
       "      <th>175485</th>\n",
       "      <td>2000</td>\n",
       "      <td>50</td>\n",
       "      <td>95</td>\n",
       "      <td>150000</td>\n",
       "      <td>20</td>\n",
       "      <td>0</td>\n",
       "      <td>0</td>\n",
       "      <td>0</td>\n",
       "      <td>0</td>\n",
       "      <td>1</td>\n",
       "      <td>0</td>\n",
       "      <td>0</td>\n",
       "      <td>0</td>\n",
       "      <td>1</td>\n",
       "      <td>0</td>\n",
       "      <td>0</td>\n",
       "      <td>0</td>\n",
       "      <td>0</td>\n",
       "      <td>0</td>\n",
       "      <td>1</td>\n",
       "      <td>0</td>\n",
       "    </tr>\n",
       "    <tr>\n",
       "      <th>132621</th>\n",
       "      <td>1992</td>\n",
       "      <td>75</td>\n",
       "      <td>122</td>\n",
       "      <td>150000</td>\n",
       "      <td>24</td>\n",
       "      <td>0</td>\n",
       "      <td>0</td>\n",
       "      <td>0</td>\n",
       "      <td>0</td>\n",
       "      <td>1</td>\n",
       "      <td>0</td>\n",
       "      <td>0</td>\n",
       "      <td>0</td>\n",
       "      <td>1</td>\n",
       "      <td>0</td>\n",
       "      <td>0</td>\n",
       "      <td>0</td>\n",
       "      <td>0</td>\n",
       "      <td>0</td>\n",
       "      <td>1</td>\n",
       "      <td>1</td>\n",
       "    </tr>\n",
       "    <tr>\n",
       "      <th>32742</th>\n",
       "      <td>2010</td>\n",
       "      <td>150</td>\n",
       "      <td>29</td>\n",
       "      <td>70000</td>\n",
       "      <td>1</td>\n",
       "      <td>0</td>\n",
       "      <td>0</td>\n",
       "      <td>0</td>\n",
       "      <td>0</td>\n",
       "      <td>0</td>\n",
       "      <td>1</td>\n",
       "      <td>0</td>\n",
       "      <td>0</td>\n",
       "      <td>0</td>\n",
       "      <td>0</td>\n",
       "      <td>1</td>\n",
       "      <td>0</td>\n",
       "      <td>0</td>\n",
       "      <td>0</td>\n",
       "      <td>0</td>\n",
       "      <td>0</td>\n",
       "    </tr>\n",
       "    <tr>\n",
       "      <th>111799</th>\n",
       "      <td>1990</td>\n",
       "      <td>69</td>\n",
       "      <td>140</td>\n",
       "      <td>150000</td>\n",
       "      <td>30</td>\n",
       "      <td>0</td>\n",
       "      <td>0</td>\n",
       "      <td>0</td>\n",
       "      <td>1</td>\n",
       "      <td>0</td>\n",
       "      <td>0</td>\n",
       "      <td>0</td>\n",
       "      <td>0</td>\n",
       "      <td>1</td>\n",
       "      <td>0</td>\n",
       "      <td>0</td>\n",
       "      <td>0</td>\n",
       "      <td>0</td>\n",
       "      <td>0</td>\n",
       "      <td>1</td>\n",
       "      <td>0</td>\n",
       "    </tr>\n",
       "    <tr>\n",
       "      <th>128180</th>\n",
       "      <td>2012</td>\n",
       "      <td>110</td>\n",
       "      <td>173</td>\n",
       "      <td>90000</td>\n",
       "      <td>37</td>\n",
       "      <td>0</td>\n",
       "      <td>0</td>\n",
       "      <td>0</td>\n",
       "      <td>0</td>\n",
       "      <td>1</td>\n",
       "      <td>0</td>\n",
       "      <td>0</td>\n",
       "      <td>0</td>\n",
       "      <td>1</td>\n",
       "      <td>0</td>\n",
       "      <td>1</td>\n",
       "      <td>0</td>\n",
       "      <td>0</td>\n",
       "      <td>0</td>\n",
       "      <td>0</td>\n",
       "      <td>0</td>\n",
       "    </tr>\n",
       "    <tr>\n",
       "      <th>...</th>\n",
       "      <td>...</td>\n",
       "      <td>...</td>\n",
       "      <td>...</td>\n",
       "      <td>...</td>\n",
       "      <td>...</td>\n",
       "      <td>...</td>\n",
       "      <td>...</td>\n",
       "      <td>...</td>\n",
       "      <td>...</td>\n",
       "      <td>...</td>\n",
       "      <td>...</td>\n",
       "      <td>...</td>\n",
       "      <td>...</td>\n",
       "      <td>...</td>\n",
       "      <td>...</td>\n",
       "      <td>...</td>\n",
       "      <td>...</td>\n",
       "      <td>...</td>\n",
       "      <td>...</td>\n",
       "      <td>...</td>\n",
       "      <td>...</td>\n",
       "    </tr>\n",
       "    <tr>\n",
       "      <th>100967</th>\n",
       "      <td>2002</td>\n",
       "      <td>306</td>\n",
       "      <td>166</td>\n",
       "      <td>125000</td>\n",
       "      <td>20</td>\n",
       "      <td>1</td>\n",
       "      <td>0</td>\n",
       "      <td>0</td>\n",
       "      <td>0</td>\n",
       "      <td>0</td>\n",
       "      <td>0</td>\n",
       "      <td>0</td>\n",
       "      <td>0</td>\n",
       "      <td>0</td>\n",
       "      <td>0</td>\n",
       "      <td>0</td>\n",
       "      <td>0</td>\n",
       "      <td>0</td>\n",
       "      <td>0</td>\n",
       "      <td>1</td>\n",
       "      <td>1</td>\n",
       "    </tr>\n",
       "    <tr>\n",
       "      <th>157802</th>\n",
       "      <td>2001</td>\n",
       "      <td>50</td>\n",
       "      <td>59</td>\n",
       "      <td>100000</td>\n",
       "      <td>20</td>\n",
       "      <td>0</td>\n",
       "      <td>0</td>\n",
       "      <td>0</td>\n",
       "      <td>0</td>\n",
       "      <td>1</td>\n",
       "      <td>0</td>\n",
       "      <td>0</td>\n",
       "      <td>0</td>\n",
       "      <td>1</td>\n",
       "      <td>0</td>\n",
       "      <td>0</td>\n",
       "      <td>0</td>\n",
       "      <td>0</td>\n",
       "      <td>0</td>\n",
       "      <td>1</td>\n",
       "      <td>1</td>\n",
       "    </tr>\n",
       "    <tr>\n",
       "      <th>154329</th>\n",
       "      <td>2011</td>\n",
       "      <td>105</td>\n",
       "      <td>73</td>\n",
       "      <td>150000</td>\n",
       "      <td>11</td>\n",
       "      <td>0</td>\n",
       "      <td>0</td>\n",
       "      <td>0</td>\n",
       "      <td>1</td>\n",
       "      <td>0</td>\n",
       "      <td>0</td>\n",
       "      <td>0</td>\n",
       "      <td>0</td>\n",
       "      <td>1</td>\n",
       "      <td>0</td>\n",
       "      <td>1</td>\n",
       "      <td>0</td>\n",
       "      <td>0</td>\n",
       "      <td>0</td>\n",
       "      <td>0</td>\n",
       "      <td>0</td>\n",
       "    </tr>\n",
       "    <tr>\n",
       "      <th>91252</th>\n",
       "      <td>2006</td>\n",
       "      <td>150</td>\n",
       "      <td>129</td>\n",
       "      <td>150000</td>\n",
       "      <td>24</td>\n",
       "      <td>0</td>\n",
       "      <td>0</td>\n",
       "      <td>0</td>\n",
       "      <td>0</td>\n",
       "      <td>0</td>\n",
       "      <td>0</td>\n",
       "      <td>0</td>\n",
       "      <td>1</td>\n",
       "      <td>1</td>\n",
       "      <td>0</td>\n",
       "      <td>1</td>\n",
       "      <td>0</td>\n",
       "      <td>0</td>\n",
       "      <td>0</td>\n",
       "      <td>0</td>\n",
       "      <td>0</td>\n",
       "    </tr>\n",
       "    <tr>\n",
       "      <th>258284</th>\n",
       "      <td>1997</td>\n",
       "      <td>75</td>\n",
       "      <td>59</td>\n",
       "      <td>150000</td>\n",
       "      <td>20</td>\n",
       "      <td>0</td>\n",
       "      <td>0</td>\n",
       "      <td>0</td>\n",
       "      <td>0</td>\n",
       "      <td>1</td>\n",
       "      <td>0</td>\n",
       "      <td>0</td>\n",
       "      <td>0</td>\n",
       "      <td>1</td>\n",
       "      <td>0</td>\n",
       "      <td>0</td>\n",
       "      <td>0</td>\n",
       "      <td>0</td>\n",
       "      <td>0</td>\n",
       "      <td>1</td>\n",
       "      <td>1</td>\n",
       "    </tr>\n",
       "  </tbody>\n",
       "</table>\n",
       "<p>195192 rows × 21 columns</p>\n",
       "</div>"
      ],
      "text/plain": [
       "        RegistrationYear  Power  Model  Kilometer  Brand  \\\n",
       "175485              2000     50     95     150000     20   \n",
       "132621              1992     75    122     150000     24   \n",
       "32742               2010    150     29      70000      1   \n",
       "111799              1990     69    140     150000     30   \n",
       "128180              2012    110    173      90000     37   \n",
       "...                  ...    ...    ...        ...    ...   \n",
       "100967              2002    306    166     125000     20   \n",
       "157802              2001     50     59     100000     20   \n",
       "154329              2011    105     73     150000     11   \n",
       "91252               2006    150    129     150000     24   \n",
       "258284              1997     75     59     150000     20   \n",
       "\n",
       "        VehicleType_convertible  VehicleType_coupe  VehicleType_other  \\\n",
       "175485                        0                  0                  0   \n",
       "132621                        0                  0                  0   \n",
       "32742                         0                  0                  0   \n",
       "111799                        0                  0                  0   \n",
       "128180                        0                  0                  0   \n",
       "...                         ...                ...                ...   \n",
       "100967                        1                  0                  0   \n",
       "157802                        0                  0                  0   \n",
       "154329                        0                  0                  0   \n",
       "91252                         0                  0                  0   \n",
       "258284                        0                  0                  0   \n",
       "\n",
       "        VehicleType_sedan  VehicleType_small  VehicleType_suv  \\\n",
       "175485                  0                  1                0   \n",
       "132621                  0                  1                0   \n",
       "32742                   0                  0                1   \n",
       "111799                  1                  0                0   \n",
       "128180                  0                  1                0   \n",
       "...                   ...                ...              ...   \n",
       "100967                  0                  0                0   \n",
       "157802                  0                  1                0   \n",
       "154329                  1                  0                0   \n",
       "91252                   0                  0                0   \n",
       "258284                  0                  1                0   \n",
       "\n",
       "        VehicleType_unknown  VehicleType_wagon  Gearbox_manual  \\\n",
       "175485                    0                  0               1   \n",
       "132621                    0                  0               1   \n",
       "32742                     0                  0               0   \n",
       "111799                    0                  0               1   \n",
       "128180                    0                  0               1   \n",
       "...                     ...                ...             ...   \n",
       "100967                    0                  0               0   \n",
       "157802                    0                  0               1   \n",
       "154329                    0                  0               1   \n",
       "91252                     0                  1               1   \n",
       "258284                    0                  0               1   \n",
       "\n",
       "        FuelType_electric  FuelType_gasoline  FuelType_hybrid  FuelType_lpg  \\\n",
       "175485                  0                  0                0             0   \n",
       "132621                  0                  0                0             0   \n",
       "32742                   0                  1                0             0   \n",
       "111799                  0                  0                0             0   \n",
       "128180                  0                  1                0             0   \n",
       "...                   ...                ...              ...           ...   \n",
       "100967                  0                  0                0             0   \n",
       "157802                  0                  0                0             0   \n",
       "154329                  0                  1                0             0   \n",
       "91252                   0                  1                0             0   \n",
       "258284                  0                  0                0             0   \n",
       "\n",
       "        FuelType_other  FuelType_petrol  NotRepaired_yes  \n",
       "175485               0                1                0  \n",
       "132621               0                1                1  \n",
       "32742                0                0                0  \n",
       "111799               0                1                0  \n",
       "128180               0                0                0  \n",
       "...                ...              ...              ...  \n",
       "100967               0                1                1  \n",
       "157802               0                1                1  \n",
       "154329               0                0                0  \n",
       "91252                0                0                0  \n",
       "258284               0                1                1  \n",
       "\n",
       "[195192 rows x 21 columns]"
      ]
     },
     "execution_count": 34,
     "metadata": {},
     "output_type": "execute_result"
    }
   ],
   "source": [
    "features_train"
   ]
  },
  {
   "cell_type": "markdown",
   "id": "aea48617",
   "metadata": {},
   "source": [
    "##### стандартизируем численные признаки и преобразованные техникой `Ordinal Encoding`."
   ]
  },
  {
   "cell_type": "code",
   "execution_count": 35,
   "id": "3ac3ff7c",
   "metadata": {},
   "outputs": [],
   "source": [
    "numeric = ['RegistrationYear', 'Power', 'Model', 'Kilometer', 'Brand']"
   ]
  },
  {
   "cell_type": "code",
   "execution_count": 36,
   "id": "a9f86588",
   "metadata": {
    "scrolled": true
   },
   "outputs": [
    {
     "name": "stdout",
     "output_type": "stream",
     "text": [
      "        RegistrationYear     Power     Model  Kilometer     Brand  \\\n",
      "175485         -0.455898 -1.346471  0.048344   0.607727  0.211944   \n",
      "132621         -1.675084 -0.879783  0.403005   0.607727  0.497691   \n",
      "32742           1.068085  0.520281 -0.818607  -1.528095 -1.145353   \n",
      "111799         -1.979881 -0.991788  0.639446   0.607727  0.926311   \n",
      "128180          1.372881 -0.226420  1.072921  -0.994140  1.426368   \n",
      "\n",
      "        VehicleType_convertible  VehicleType_coupe  VehicleType_other  \\\n",
      "175485                        0                  0                  0   \n",
      "132621                        0                  0                  0   \n",
      "32742                         0                  0                  0   \n",
      "111799                        0                  0                  0   \n",
      "128180                        0                  0                  0   \n",
      "\n",
      "        VehicleType_sedan  VehicleType_small  VehicleType_suv  \\\n",
      "175485                  0                  1                0   \n",
      "132621                  0                  1                0   \n",
      "32742                   0                  0                1   \n",
      "111799                  1                  0                0   \n",
      "128180                  0                  1                0   \n",
      "\n",
      "        VehicleType_unknown  VehicleType_wagon  Gearbox_manual  \\\n",
      "175485                    0                  0               1   \n",
      "132621                    0                  0               1   \n",
      "32742                     0                  0               0   \n",
      "111799                    0                  0               1   \n",
      "128180                    0                  0               1   \n",
      "\n",
      "        FuelType_electric  FuelType_gasoline  FuelType_hybrid  FuelType_lpg  \\\n",
      "175485                  0                  0                0             0   \n",
      "132621                  0                  0                0             0   \n",
      "32742                   0                  1                0             0   \n",
      "111799                  0                  0                0             0   \n",
      "128180                  0                  1                0             0   \n",
      "\n",
      "        FuelType_other  FuelType_petrol  NotRepaired_yes  \n",
      "175485               0                1                0  \n",
      "132621               0                1                1  \n",
      "32742                0                0                0  \n",
      "111799               0                1                0  \n",
      "128180               0                0                0  \n"
     ]
    }
   ],
   "source": [
    "scaler = StandardScaler()\n",
    "scaler.fit(features_train[numeric])\n",
    "features_train[numeric] = scaler.transform(features_train[numeric])\n",
    "features_test[numeric] = scaler.transform(features_test[numeric]) \n",
    "print(features_train.head())"
   ]
  },
  {
   "cell_type": "markdown",
   "id": "2bcc859f",
   "metadata": {},
   "source": [
    "#### Вывод:\n",
    "- удалены пропуски, дубликаты, выбросы, некоректные значения в признаках заполнены на основе имеющейся инфрмации или удалены\n",
    "- отобрали признаки, необходимые для построения моделей\n",
    "- категориальные признаки преобразованы с помощью `one-hot encoding`\n",
    "- признак с большим колличеством категорий закодирован техникой `Ordinal Encoding`.\n",
    "- разделили данные на тестовую и обучающую выборки, стандартизированны"
   ]
  },
  {
   "cell_type": "markdown",
   "id": "aad78d15",
   "metadata": {},
   "source": [
    "<a id=\"2\"></a>"
   ]
  },
  {
   "cell_type": "markdown",
   "id": "b884fb6d",
   "metadata": {},
   "source": [
    "### 2. Обучим модели."
   ]
  },
  {
   "cell_type": "markdown",
   "id": "36e1e711",
   "metadata": {},
   "source": [
    "##### Linear Regression"
   ]
  },
  {
   "cell_type": "code",
   "execution_count": 37,
   "id": "f140d35a",
   "metadata": {},
   "outputs": [
    {
     "name": "stdout",
     "output_type": "stream",
     "text": [
      "Wall time: 1.45 s\n"
     ]
    },
    {
     "data": {
      "text/plain": [
       "LinearRegression()"
      ]
     },
     "execution_count": 37,
     "metadata": {},
     "output_type": "execute_result"
    }
   ],
   "source": [
    "%%time\n",
    "lmodel = LinearRegression()\n",
    "lmodel.fit(features_train, target_train)"
   ]
  },
  {
   "cell_type": "code",
   "execution_count": 38,
   "id": "7c47e996",
   "metadata": {},
   "outputs": [
    {
     "name": "stdout",
     "output_type": "stream",
     "text": [
      "Wall time: 23.6 ms\n"
     ]
    }
   ],
   "source": [
    "%%time\n",
    "preds_lmodel = lmodel.predict(features_test)"
   ]
  },
  {
   "cell_type": "code",
   "execution_count": 39,
   "id": "2d9b7c47",
   "metadata": {},
   "outputs": [
    {
     "name": "stdout",
     "output_type": "stream",
     "text": [
      "RMSE для линейной модели на тестовой выборке: 2953.53\n"
     ]
    }
   ],
   "source": [
    "mse_lmodel = mean_squared_error(target_test, preds_lmodel)\n",
    "print(\"RMSE для линейной модели на тестовой выборке:\", round((mse_lmodel) ** 0.5, 2))"
   ]
  },
  {
   "cell_type": "markdown",
   "id": "aa1e1634",
   "metadata": {},
   "source": [
    "##### Регрессия Ridge"
   ]
  },
  {
   "cell_type": "code",
   "execution_count": 40,
   "id": "32c0d487",
   "metadata": {},
   "outputs": [
    {
     "name": "stdout",
     "output_type": "stream",
     "text": [
      "{'solver': 'svd'}\n",
      "Wall time: 4.86 s\n"
     ]
    }
   ],
   "source": [
    "%%time\n",
    "\n",
    "rmodel = Ridge()\n",
    "hyperparams = [{'solver':['auto', 'svd', 'cholesky', 'lsqr','sparse_cg']}]\n",
    "rmodel = GridSearchCV(rmodel, hyperparams, scoring='neg_mean_squared_error')\n",
    "rmodel.fit(features_train, target_train)\n",
    "print(rmodel.best_params_)"
   ]
  },
  {
   "cell_type": "code",
   "execution_count": 41,
   "id": "e4fb0dd3",
   "metadata": {},
   "outputs": [
    {
     "name": "stdout",
     "output_type": "stream",
     "text": [
      "Wall time: 20.6 ms\n"
     ]
    }
   ],
   "source": [
    "%%time\n",
    "preds_rmodel = rmodel.predict(features_test)"
   ]
  },
  {
   "cell_type": "code",
   "execution_count": 42,
   "id": "5b73fa40",
   "metadata": {},
   "outputs": [
    {
     "name": "stdout",
     "output_type": "stream",
     "text": [
      "RMSE для Ridge модели на тестовой выборке: 2953.53\n"
     ]
    }
   ],
   "source": [
    "mse_rmodel = mean_squared_error(target_test, preds_rmodel)\n",
    "print(\"RMSE для Ridge модели на тестовой выборке:\", round((mse_rmodel) ** 0.5, 2))"
   ]
  },
  {
   "cell_type": "markdown",
   "id": "2af56ad6",
   "metadata": {},
   "source": [
    "##### Регрессия Decision Tree Regresso"
   ]
  },
  {
   "cell_type": "code",
   "execution_count": 43,
   "id": "5787a249",
   "metadata": {},
   "outputs": [
    {
     "name": "stdout",
     "output_type": "stream",
     "text": [
      "Wall time: 847 ms\n"
     ]
    },
    {
     "data": {
      "text/plain": [
       "DecisionTreeRegressor(max_depth=8, random_state=12345)"
      ]
     },
     "execution_count": 43,
     "metadata": {},
     "output_type": "execute_result"
    }
   ],
   "source": [
    "%%time\n",
    "\n",
    "trmodel = DecisionTreeRegressor(criterion='mse', \n",
    "                              max_depth=8, \n",
    "                              random_state=12345) \n",
    "trmodel.fit(features_train, target_train)"
   ]
  },
  {
   "cell_type": "code",
   "execution_count": 44,
   "id": "01f19aa3",
   "metadata": {},
   "outputs": [
    {
     "name": "stdout",
     "output_type": "stream",
     "text": [
      "Wall time: 17 ms\n"
     ]
    }
   ],
   "source": [
    "%%time\n",
    "preds_trmodel = trmodel.predict(features_test)"
   ]
  },
  {
   "cell_type": "code",
   "execution_count": 45,
   "id": "53315418",
   "metadata": {},
   "outputs": [
    {
     "name": "stdout",
     "output_type": "stream",
     "text": [
      "RMSE для Decision Tree Regresso модели на тестовой выборке: 2153.03\n"
     ]
    }
   ],
   "source": [
    "mse_trmodel = mean_squared_error(target_test, preds_trmodel)\n",
    "print(\"RMSE для Decision Tree Regresso модели на тестовой выборке:\", round((mse_trmodel) ** 0.5, 2))"
   ]
  },
  {
   "cell_type": "markdown",
   "id": "778f4cb7",
   "metadata": {},
   "source": [
    "##### Регрессия Cat Boost Regressor"
   ]
  },
  {
   "cell_type": "code",
   "execution_count": 46,
   "id": "ec55cf09",
   "metadata": {},
   "outputs": [],
   "source": [
    "numerical_features = ['Price', 'RegistrationYear', 'Power', 'Kilometer']"
   ]
  },
  {
   "cell_type": "code",
   "execution_count": 47,
   "id": "81e4066e",
   "metadata": {},
   "outputs": [],
   "source": [
    "categorical_features = [col for col in list(features_train.columns) if col not in numerical_features]"
   ]
  },
  {
   "cell_type": "markdown",
   "id": "d240a68f",
   "metadata": {},
   "source": [
    "- в связи с тем, что CatBoostRegressor принимает только целые числа или строки в категориях, пересобрал признаки\n",
    "- так же попробовал оставить категориальные признаки без one-hot encoding, качество немного выросло на CatBoost и LGBM, время обработки увеличилось"
   ]
  },
  {
   "cell_type": "code",
   "execution_count": 48,
   "id": "f8c53487",
   "metadata": {},
   "outputs": [],
   "source": [
    "df_reg.loc[:,['VehicleType','Gearbox', 'Brand', 'FuelType', 'NotRepaired']] = df_ordinal.loc[:,['VehicleType','Gearbox', 'Brand', 'FuelType', 'NotRepaired']]\n",
    "catfeatures = df_reg.drop('Price', axis=1)\n",
    "cattarget = df_reg['Price']\n",
    "catfeatures_train, catfeatures_test, cattarget_train, cattarget_test = train_test_split(features, target, test_size=0.25, random_state=12345)"
   ]
  },
  {
   "cell_type": "code",
   "execution_count": 49,
   "id": "288a63aa",
   "metadata": {},
   "outputs": [],
   "source": [
    "numericcat = ['RegistrationYear', 'Power', 'Kilometer']\n",
    "scaler = StandardScaler()\n",
    "scaler.fit(catfeatures_train[numericcat])\n",
    "catfeatures_train[numericcat] = scaler.transform(catfeatures_train[numericcat])\n",
    "catfeatures_test[numericcat] = scaler.transform(catfeatures_test[numericcat]) "
   ]
  },
  {
   "cell_type": "code",
   "execution_count": 50,
   "id": "e9eea1c2",
   "metadata": {},
   "outputs": [
    {
     "name": "stdout",
     "output_type": "stream",
     "text": [
      "Wall time: 2min 11s\n"
     ]
    },
    {
     "data": {
      "text/plain": [
       "<catboost.core.CatBoostRegressor at 0xe2b5850>"
      ]
     },
     "execution_count": 50,
     "metadata": {},
     "output_type": "execute_result"
    }
   ],
   "source": [
    "%%time\n",
    "catmodel = CatBoostRegressor(learning_rate=0.5, random_state=12345, verbose=False) \n",
    "catmodel.fit(catfeatures_train, target_train, cat_features=categorical_features)"
   ]
  },
  {
   "cell_type": "code",
   "execution_count": 51,
   "id": "4c7e7e45",
   "metadata": {},
   "outputs": [
    {
     "name": "stdout",
     "output_type": "stream",
     "text": [
      "Wall time: 773 ms\n"
     ]
    }
   ],
   "source": [
    "%%time\n",
    "\n",
    "cat_predict = catmodel.predict(catfeatures_test)"
   ]
  },
  {
   "cell_type": "code",
   "execution_count": 52,
   "id": "fe56a478",
   "metadata": {},
   "outputs": [
    {
     "name": "stdout",
     "output_type": "stream",
     "text": [
      "RMSE для Cat Boost Regressor модели на тестовой выборке: 1861.69\n"
     ]
    }
   ],
   "source": [
    "mse_catmodel = mean_squared_error(target_test, cat_predict)\n",
    "print(\"RMSE для Cat Boost Regressor модели на тестовой выборке:\", round((mse_catmodel) ** 0.5, 2))"
   ]
  },
  {
   "cell_type": "markdown",
   "id": "e9d9deac",
   "metadata": {},
   "source": [
    "##### Регрессия LGBM Regressor"
   ]
  },
  {
   "cell_type": "code",
   "execution_count": 53,
   "id": "3684f0b7",
   "metadata": {},
   "outputs": [
    {
     "name": "stdout",
     "output_type": "stream",
     "text": [
      "Wall time: 2.13 s\n"
     ]
    },
    {
     "data": {
      "text/plain": [
       "LGBMRegressor(cat_features=['Model', 'Brand', 'VehicleType_convertible',\n",
       "                            'VehicleType_coupe', 'VehicleType_other',\n",
       "                            'VehicleType_sedan', 'VehicleType_small',\n",
       "                            'VehicleType_suv', 'VehicleType_unknown',\n",
       "                            'VehicleType_wagon', 'Gearbox_manual',\n",
       "                            'FuelType_electric', 'FuelType_gasoline',\n",
       "                            'FuelType_hybrid', 'FuelType_lpg', 'FuelType_other',\n",
       "                            'FuelType_petrol', 'NotRepaired_yes'],\n",
       "              num_leaves=100, random_state=12345)"
      ]
     },
     "execution_count": 53,
     "metadata": {},
     "output_type": "execute_result"
    }
   ],
   "source": [
    "%%time\n",
    "\n",
    "lgbmmodel = LGBMRegressor(learning_rate=0.1, \n",
    "                      num_leaves=100, \n",
    "                      random_state=12345,\n",
    "                      cat_features=categorical_features)\n",
    "lgbmmodel.fit(features_train, target_train)"
   ]
  },
  {
   "cell_type": "code",
   "execution_count": 54,
   "id": "3c0b28f2",
   "metadata": {},
   "outputs": [
    {
     "name": "stdout",
     "output_type": "stream",
     "text": [
      "Wall time: 367 ms\n"
     ]
    }
   ],
   "source": [
    "%%time\n",
    "\n",
    "lgbm_predict = lgbmmodel.predict(features_test)"
   ]
  },
  {
   "cell_type": "code",
   "execution_count": 55,
   "id": "aede85b7",
   "metadata": {},
   "outputs": [
    {
     "name": "stdout",
     "output_type": "stream",
     "text": [
      "RMSE для LGBMRegressor модели на тестовой выборке: 1865.13\n"
     ]
    }
   ],
   "source": [
    "mse_lgbmmodel = mean_squared_error(target_test, lgbm_predict)\n",
    "print(\"RMSE для LGBMRegressor модели на тестовой выборке:\", round((mse_lgbmmodel) ** 0.5, 2))"
   ]
  },
  {
   "cell_type": "markdown",
   "id": "f44283dd",
   "metadata": {},
   "source": [
    "#### Вывод:\n",
    "- обучены модели\n",
    "\n",
    "Проведены измерения:\n",
    "\n",
    "- времени обучения\n",
    "- времени предсказания моделей\n",
    "- качества предсказания по метрике RMSE"
   ]
  },
  {
   "cell_type": "markdown",
   "id": "334ff300",
   "metadata": {},
   "source": [
    "<a id=\"3\"></a>"
   ]
  },
  {
   "cell_type": "markdown",
   "id": "2b177211",
   "metadata": {},
   "source": [
    "### 3. Анализ моделей."
   ]
  },
  {
   "cell_type": "code",
   "execution_count": 59,
   "id": "9bd0fae1",
   "metadata": {},
   "outputs": [],
   "source": [
    "data = [[\"1.45 ms\", \"23.6 ms\", 2953.53],\n",
    "        [\"4.86 ms\", \"20.6 ms\", 2953.53],\n",
    "        [\"847 ms\", \"17 ms\", 2153.03],\n",
    "        [\"2min 11s\", \"773 ms\", 1861.69],\n",
    "        [\"2.13 s\", \"367 ms\", 1865.13]]\n",
    "model = [\"Linear Regression\", \"Ridge\", \"DecisionTreeRegresso\", \"CatBoostRegressor\", \"LGBMRegressor\"]"
   ]
  },
  {
   "cell_type": "code",
   "execution_count": 60,
   "id": "bfceb56d",
   "metadata": {},
   "outputs": [
    {
     "data": {
      "text/html": [
       "<div>\n",
       "<style scoped>\n",
       "    .dataframe tbody tr th:only-of-type {\n",
       "        vertical-align: middle;\n",
       "    }\n",
       "\n",
       "    .dataframe tbody tr th {\n",
       "        vertical-align: top;\n",
       "    }\n",
       "\n",
       "    .dataframe thead th {\n",
       "        text-align: right;\n",
       "    }\n",
       "</style>\n",
       "<table border=\"1\" class=\"dataframe\">\n",
       "  <thead>\n",
       "    <tr style=\"text-align: right;\">\n",
       "      <th></th>\n",
       "      <th>fit_time</th>\n",
       "      <th>predict_time</th>\n",
       "      <th>RMSE</th>\n",
       "    </tr>\n",
       "  </thead>\n",
       "  <tbody>\n",
       "    <tr>\n",
       "      <th>Linear Regression</th>\n",
       "      <td>1.45 ms</td>\n",
       "      <td>23.6 ms</td>\n",
       "      <td>2953.53</td>\n",
       "    </tr>\n",
       "    <tr>\n",
       "      <th>Ridge</th>\n",
       "      <td>4.86 ms</td>\n",
       "      <td>20.6 ms</td>\n",
       "      <td>2953.53</td>\n",
       "    </tr>\n",
       "    <tr>\n",
       "      <th>DecisionTreeRegresso</th>\n",
       "      <td>847 ms</td>\n",
       "      <td>17 ms</td>\n",
       "      <td>2153.03</td>\n",
       "    </tr>\n",
       "    <tr>\n",
       "      <th>CatBoostRegressor</th>\n",
       "      <td>2min 11s</td>\n",
       "      <td>773 ms</td>\n",
       "      <td>1861.69</td>\n",
       "    </tr>\n",
       "    <tr>\n",
       "      <th>LGBMRegressor</th>\n",
       "      <td>2.13 s</td>\n",
       "      <td>367 ms</td>\n",
       "      <td>1865.13</td>\n",
       "    </tr>\n",
       "  </tbody>\n",
       "</table>\n",
       "</div>"
      ],
      "text/plain": [
       "                      fit_time predict_time     RMSE\n",
       "Linear Regression      1.45 ms      23.6 ms  2953.53\n",
       "Ridge                  4.86 ms      20.6 ms  2953.53\n",
       "DecisionTreeRegresso    847 ms        17 ms  2153.03\n",
       "CatBoostRegressor     2min 11s       773 ms  1861.69\n",
       "LGBMRegressor           2.13 s       367 ms  1865.13"
      ]
     },
     "execution_count": 60,
     "metadata": {},
     "output_type": "execute_result"
    }
   ],
   "source": [
    "pd.DataFrame(data=data, index=model, columns=[\"fit_time\", \"predict_time\", \"RMSE\"])"
   ]
  },
  {
   "cell_type": "markdown",
   "id": "810331c9",
   "metadata": {},
   "source": [
    "#### Вывод:\n",
    "- наилучшее качество получилось у модели `CatBoostRegressor`, время обучения самое долгое - 2min 11s\n",
    "- `LGBMRegressor` предсказала немного хуже, но обучилась быстрее на данных гиперпараметрах - 2.13 s"
   ]
  },
  {
   "cell_type": "markdown",
   "id": "9d744404",
   "metadata": {},
   "source": [
    "##### [к оглавлению](#up)"
   ]
  }
 ],
 "metadata": {
  "kernelspec": {
   "display_name": "Python 3",
   "language": "python",
   "name": "python3"
  },
  "language_info": {
   "codemirror_mode": {
    "name": "ipython",
    "version": 3
   },
   "file_extension": ".py",
   "mimetype": "text/x-python",
   "name": "python",
   "nbconvert_exporter": "python",
   "pygments_lexer": "ipython3",
   "version": "3.8.8"
  },
  "toc": {
   "base_numbering": 1,
   "nav_menu": {},
   "number_sections": true,
   "sideBar": true,
   "skip_h1_title": true,
   "title_cell": "Table of Contents",
   "title_sidebar": "Contents",
   "toc_cell": false,
   "toc_position": {},
   "toc_section_display": true,
   "toc_window_display": false
  }
 },
 "nbformat": 4,
 "nbformat_minor": 5
}
