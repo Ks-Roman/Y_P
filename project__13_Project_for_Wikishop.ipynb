{
 "cells": [
  {
   "cell_type": "markdown",
   "id": "7d7b96dc",
   "metadata": {},
   "source": [
    "<a id=\"up\"></a>"
   ]
  },
  {
   "cell_type": "markdown",
   "id": "869fc8e3",
   "metadata": {},
   "source": [
    "## Проект для «Викишоп» "
   ]
  },
  {
   "cell_type": "markdown",
   "id": "e22da68a",
   "metadata": {},
   "source": [
    "### Описание проекта"
   ]
  },
  {
   "cell_type": "markdown",
   "id": "0e3226e2",
   "metadata": {},
   "source": [
    "Интернет-магазин «Викишоп» запускает новый сервис. Теперь пользователи могут редактировать и дополнять описания товаров, как в вики-сообществах. То есть клиенты предлагают свои правки и комментируют изменения других. Магазину нужен инструмент, который будет искать токсичные комментарии и отправлять их на модерацию.\n",
    "\n",
    "Обучите модель классифицировать комментарии на позитивные и негативные. В вашем распоряжении набор данных с разметкой о токсичности правок.\n",
    "\n",
    "Постройте модель со значением метрики качества F1 не меньше 0.75."
   ]
  },
  {
   "cell_type": "markdown",
   "id": "471ea117",
   "metadata": {},
   "source": [
    "### Задачи исследования"
   ]
  },
  {
   "cell_type": "markdown",
   "id": "f682cba1",
   "metadata": {},
   "source": [
    "### [1. Загрузите и подготовьте данные. ](#1)"
   ]
  },
  {
   "cell_type": "markdown",
   "id": "3eb389e2",
   "metadata": {},
   "source": [
    "### [2. Обучите разные модели.](#2)"
   ]
  },
  {
   "cell_type": "markdown",
   "id": "7e96a15e",
   "metadata": {},
   "source": [
    "### [3. Сделайте выводы.](#3)"
   ]
  },
  {
   "cell_type": "markdown",
   "id": "7e0029a0",
   "metadata": {},
   "source": [
    "### Описание данных"
   ]
  },
  {
   "cell_type": "markdown",
   "id": "76e35e02",
   "metadata": {},
   "source": [
    "`Признаки`\n",
    "- text — текст комментария\n",
    "\n",
    "`Целевой признак`\n",
    "- toxic — набор данных с разметкой о токсичности правок"
   ]
  },
  {
   "cell_type": "markdown",
   "id": "0248b6d9",
   "metadata": {},
   "source": [
    "<a id=\"1\"></a>"
   ]
  },
  {
   "cell_type": "markdown",
   "id": "ed874bfc",
   "metadata": {},
   "source": [
    "### 1. Загрузим файл и изучим общую информацию, подготовим данные."
   ]
  },
  {
   "cell_type": "code",
   "execution_count": 1,
   "id": "af50531d",
   "metadata": {},
   "outputs": [
    {
     "name": "stderr",
     "output_type": "stream",
     "text": [
      "[nltk_data] Downloading package wordnet to\n",
      "[nltk_data]     C:\\Users\\Домашний\\AppData\\Roaming\\nltk_data...\n",
      "[nltk_data]   Package wordnet is already up-to-date!\n",
      "[nltk_data] Downloading package stopwords to\n",
      "[nltk_data]     C:\\Users\\Домашний\\AppData\\Roaming\\nltk_data...\n",
      "[nltk_data]   Package stopwords is already up-to-date!\n",
      "[nltk_data] Downloading package punkt to\n",
      "[nltk_data]     C:\\Users\\Домашний\\AppData\\Roaming\\nltk_data...\n",
      "[nltk_data]   Package punkt is already up-to-date!\n"
     ]
    },
    {
     "data": {
      "text/plain": [
       "True"
      ]
     },
     "execution_count": 1,
     "metadata": {},
     "output_type": "execute_result"
    }
   ],
   "source": [
    "import pandas as pd\n",
    "import numpy as np\n",
    "import nltk\n",
    "import re\n",
    "import torch\n",
    "import transformers\n",
    "\n",
    "\n",
    "from pymystem3 import Mystem\n",
    "from nltk.corpus import stopwords\n",
    "from tqdm import notebook\n",
    "\n",
    "from sklearn.feature_extraction.text import CountVectorizer \n",
    "from sklearn.feature_extraction.text import TfidfVectorizer\n",
    "from nltk.stem import WordNetLemmatizer \n",
    "from transformers import BertTokenizer\n",
    "\n",
    "from sklearn.linear_model import LogisticRegression\n",
    "from catboost import CatBoostClassifier\n",
    "from lightgbm import LGBMClassifier\n",
    "\n",
    "from sklearn.model_selection import cross_val_score\n",
    "from sklearn.model_selection import train_test_split\n",
    "from sklearn.model_selection import GridSearchCV\n",
    "\n",
    "from sklearn.metrics import f1_score,make_scorer\n",
    "from sklearn.metrics import confusion_matrix\n",
    "\n",
    "\n",
    "import warnings\n",
    "warnings.filterwarnings(\"ignore\")\n",
    "\n",
    "nltk.download('wordnet')\n",
    "nltk.download('stopwords')\n",
    "nltk.download('punkt')"
   ]
  },
  {
   "cell_type": "code",
   "execution_count": 2,
   "id": "11625eb9",
   "metadata": {},
   "outputs": [
    {
     "data": {
      "text/html": [
       "<div>\n",
       "<style scoped>\n",
       "    .dataframe tbody tr th:only-of-type {\n",
       "        vertical-align: middle;\n",
       "    }\n",
       "\n",
       "    .dataframe tbody tr th {\n",
       "        vertical-align: top;\n",
       "    }\n",
       "\n",
       "    .dataframe thead th {\n",
       "        text-align: right;\n",
       "    }\n",
       "</style>\n",
       "<table border=\"1\" class=\"dataframe\">\n",
       "  <thead>\n",
       "    <tr style=\"text-align: right;\">\n",
       "      <th></th>\n",
       "      <th>text</th>\n",
       "      <th>toxic</th>\n",
       "    </tr>\n",
       "  </thead>\n",
       "  <tbody>\n",
       "    <tr>\n",
       "      <th>0</th>\n",
       "      <td>Explanation\\nWhy the edits made under my usern...</td>\n",
       "      <td>0</td>\n",
       "    </tr>\n",
       "    <tr>\n",
       "      <th>1</th>\n",
       "      <td>D'aww! He matches this background colour I'm s...</td>\n",
       "      <td>0</td>\n",
       "    </tr>\n",
       "    <tr>\n",
       "      <th>2</th>\n",
       "      <td>Hey man, I'm really not trying to edit war. It...</td>\n",
       "      <td>0</td>\n",
       "    </tr>\n",
       "    <tr>\n",
       "      <th>3</th>\n",
       "      <td>\"\\nMore\\nI can't make any real suggestions on ...</td>\n",
       "      <td>0</td>\n",
       "    </tr>\n",
       "    <tr>\n",
       "      <th>4</th>\n",
       "      <td>You, sir, are my hero. Any chance you remember...</td>\n",
       "      <td>0</td>\n",
       "    </tr>\n",
       "  </tbody>\n",
       "</table>\n",
       "</div>"
      ],
      "text/plain": [
       "                                                text  toxic\n",
       "0  Explanation\\nWhy the edits made under my usern...      0\n",
       "1  D'aww! He matches this background colour I'm s...      0\n",
       "2  Hey man, I'm really not trying to edit war. It...      0\n",
       "3  \"\\nMore\\nI can't make any real suggestions on ...      0\n",
       "4  You, sir, are my hero. Any chance you remember...      0"
      ]
     },
     "execution_count": 2,
     "metadata": {},
     "output_type": "execute_result"
    }
   ],
   "source": [
    "try:\n",
    "    df = pd.read_csv('toxic_comments.csv')\n",
    "except Exception as e:\n",
    "    print(e)\n",
    "    df = pd.read_csv('/datasets/toxic_comments.csv')\n",
    "\n",
    "df.head()"
   ]
  },
  {
   "cell_type": "code",
   "execution_count": 3,
   "id": "50c82db5",
   "metadata": {},
   "outputs": [
    {
     "name": "stdout",
     "output_type": "stream",
     "text": [
      "<class 'pandas.core.frame.DataFrame'>\n",
      "RangeIndex: 159571 entries, 0 to 159570\n",
      "Data columns (total 2 columns):\n",
      " #   Column  Non-Null Count   Dtype \n",
      "---  ------  --------------   ----- \n",
      " 0   text    159571 non-null  object\n",
      " 1   toxic   159571 non-null  int64 \n",
      "dtypes: int64(1), object(1)\n",
      "memory usage: 2.4+ MB\n"
     ]
    }
   ],
   "source": [
    "df.info()"
   ]
  },
  {
   "cell_type": "code",
   "execution_count": 4,
   "id": "972002e5",
   "metadata": {},
   "outputs": [
    {
     "data": {
      "text/plain": [
       "0    143346\n",
       "1     16225\n",
       "Name: toxic, dtype: int64"
      ]
     },
     "metadata": {},
     "output_type": "display_data"
    }
   ],
   "source": [
    "display(df['toxic'].value_counts())"
   ]
  },
  {
   "cell_type": "code",
   "execution_count": 5,
   "id": "87a0b766",
   "metadata": {},
   "outputs": [],
   "source": [
    "corpus = list(df['text'])"
   ]
  },
  {
   "cell_type": "code",
   "execution_count": 6,
   "id": "b403ad60",
   "metadata": {},
   "outputs": [],
   "source": [
    "# функции лематизации и очистки текста, дополнительно убрали лишние пробелы\n",
    "m = WordNetLemmatizer()\n",
    "\n",
    "def lemmatize(text):\n",
    "    word_list = nltk.word_tokenize(text)\n",
    "    \n",
    "    return ' '.join([m.lemmatize(w) for w in word_list])\n",
    "\n",
    "def clear_text(text):\n",
    "    text = re.sub(r'[^a-zA-Z ]', ' ', text)\n",
    "    text_clear = ' '.join(text.split())\n",
    "    return text_clear"
   ]
  },
  {
   "cell_type": "code",
   "execution_count": 7,
   "id": "157fcf50",
   "metadata": {},
   "outputs": [],
   "source": [
    "df['text'] = df['text'].apply(clear_text)"
   ]
  },
  {
   "cell_type": "code",
   "execution_count": 8,
   "id": "cfc5463a",
   "metadata": {},
   "outputs": [],
   "source": [
    "df['lemm_text'] = df['text'].apply(lemmatize)"
   ]
  },
  {
   "cell_type": "code",
   "execution_count": 9,
   "id": "cbcec74f",
   "metadata": {},
   "outputs": [],
   "source": [
    "df = df.drop(['text'], axis=1)"
   ]
  },
  {
   "cell_type": "code",
   "execution_count": 10,
   "id": "92312fe3",
   "metadata": {},
   "outputs": [
    {
     "data": {
      "text/html": [
       "<div>\n",
       "<style scoped>\n",
       "    .dataframe tbody tr th:only-of-type {\n",
       "        vertical-align: middle;\n",
       "    }\n",
       "\n",
       "    .dataframe tbody tr th {\n",
       "        vertical-align: top;\n",
       "    }\n",
       "\n",
       "    .dataframe thead th {\n",
       "        text-align: right;\n",
       "    }\n",
       "</style>\n",
       "<table border=\"1\" class=\"dataframe\">\n",
       "  <thead>\n",
       "    <tr style=\"text-align: right;\">\n",
       "      <th></th>\n",
       "      <th>toxic</th>\n",
       "      <th>lemm_text</th>\n",
       "    </tr>\n",
       "  </thead>\n",
       "  <tbody>\n",
       "    <tr>\n",
       "      <th>0</th>\n",
       "      <td>0</td>\n",
       "      <td>Explanation Why the edits made under my userna...</td>\n",
       "    </tr>\n",
       "    <tr>\n",
       "      <th>1</th>\n",
       "      <td>0</td>\n",
       "      <td>D aww He match this background colour I m seem...</td>\n",
       "    </tr>\n",
       "    <tr>\n",
       "      <th>2</th>\n",
       "      <td>0</td>\n",
       "      <td>Hey man I m really not trying to edit war It s...</td>\n",
       "    </tr>\n",
       "    <tr>\n",
       "      <th>3</th>\n",
       "      <td>0</td>\n",
       "      <td>More I can t make any real suggestion on impro...</td>\n",
       "    </tr>\n",
       "    <tr>\n",
       "      <th>4</th>\n",
       "      <td>0</td>\n",
       "      <td>You sir are my hero Any chance you remember wh...</td>\n",
       "    </tr>\n",
       "    <tr>\n",
       "      <th>...</th>\n",
       "      <td>...</td>\n",
       "      <td>...</td>\n",
       "    </tr>\n",
       "    <tr>\n",
       "      <th>159566</th>\n",
       "      <td>0</td>\n",
       "      <td>And for the second time of asking when your vi...</td>\n",
       "    </tr>\n",
       "    <tr>\n",
       "      <th>159567</th>\n",
       "      <td>0</td>\n",
       "      <td>You should be ashamed of yourself That is a ho...</td>\n",
       "    </tr>\n",
       "    <tr>\n",
       "      <th>159568</th>\n",
       "      <td>0</td>\n",
       "      <td>Spitzer Umm there no actual article for prosti...</td>\n",
       "    </tr>\n",
       "    <tr>\n",
       "      <th>159569</th>\n",
       "      <td>0</td>\n",
       "      <td>And it look like it wa actually you who put on...</td>\n",
       "    </tr>\n",
       "    <tr>\n",
       "      <th>159570</th>\n",
       "      <td>0</td>\n",
       "      <td>And I really don t think you understand I came...</td>\n",
       "    </tr>\n",
       "  </tbody>\n",
       "</table>\n",
       "<p>159571 rows × 2 columns</p>\n",
       "</div>"
      ],
      "text/plain": [
       "        toxic                                          lemm_text\n",
       "0           0  Explanation Why the edits made under my userna...\n",
       "1           0  D aww He match this background colour I m seem...\n",
       "2           0  Hey man I m really not trying to edit war It s...\n",
       "3           0  More I can t make any real suggestion on impro...\n",
       "4           0  You sir are my hero Any chance you remember wh...\n",
       "...       ...                                                ...\n",
       "159566      0  And for the second time of asking when your vi...\n",
       "159567      0  You should be ashamed of yourself That is a ho...\n",
       "159568      0  Spitzer Umm there no actual article for prosti...\n",
       "159569      0  And it look like it wa actually you who put on...\n",
       "159570      0  And I really don t think you understand I came...\n",
       "\n",
       "[159571 rows x 2 columns]"
      ]
     },
     "execution_count": 10,
     "metadata": {},
     "output_type": "execute_result"
    }
   ],
   "source": [
    "df"
   ]
  },
  {
   "cell_type": "code",
   "execution_count": 11,
   "id": "5e5493e9",
   "metadata": {},
   "outputs": [],
   "source": [
    "corpus = df['lemm_text'].values #.astype('U') #корпус из лематизированных и очищеных тексов"
   ]
  },
  {
   "cell_type": "code",
   "execution_count": 12,
   "id": "fe76b0ba",
   "metadata": {},
   "outputs": [],
   "source": [
    "features = corpus # Разобьем выборки\n",
    "target = df['toxic'].values\n",
    "\n",
    "train_features, test_features, train_target, test_target = train_test_split(features, target, test_size=0.2, random_state=42)"
   ]
  },
  {
   "cell_type": "code",
   "execution_count": 13,
   "id": "4eb5a031",
   "metadata": {},
   "outputs": [],
   "source": [
    "stop_words = set(stopwords.words('english')) "
   ]
  },
  {
   "cell_type": "code",
   "execution_count": 14,
   "id": "bcfbecf8",
   "metadata": {},
   "outputs": [],
   "source": [
    "count_tf_idf = TfidfVectorizer(stop_words=stop_words) # TF-IDF для корпуса выборок\n",
    "train_features = count_tf_idf.fit_transform(train_features) \n",
    "test_features = count_tf_idf.transform(test_features)"
   ]
  },
  {
   "cell_type": "markdown",
   "id": "99e52960",
   "metadata": {},
   "source": [
    "#### Вывод:\n",
    "- загрузили данные, выяснили, что классы несбалансированны\n",
    "- написали функции лематизации и очистки текста, дополнительно убрали лишние пробелы\n",
    "- получили стоп-слова, TF-IDF для корпуса выборок\n",
    "- разбили выборки, необходимые для построения моделей"
   ]
  },
  {
   "cell_type": "markdown",
   "id": "6496de52",
   "metadata": {},
   "source": [
    "<a id=\"2\"></a>"
   ]
  },
  {
   "cell_type": "markdown",
   "id": "79fa6e6b",
   "metadata": {},
   "source": [
    "### 2. Обучение моделей."
   ]
  },
  {
   "cell_type": "code",
   "execution_count": 54,
   "id": "7fa0ae13",
   "metadata": {},
   "outputs": [],
   "source": [
    "c_space = (1,3)"
   ]
  },
  {
   "cell_type": "code",
   "execution_count": 55,
   "id": "358d6138",
   "metadata": {},
   "outputs": [],
   "source": [
    "from sklearn.pipeline import Pipeline\n",
    "from sklearn.feature_extraction.text import TfidfTransformer"
   ]
  },
  {
   "cell_type": "code",
   "execution_count": 56,
   "id": "4fd84ab0",
   "metadata": {},
   "outputs": [],
   "source": [
    "pipe_lr = Pipeline([\n",
    "    ('vect', CountVectorizer()),\n",
    "    ('tfidf', TfidfTransformer()),\n",
    "    ('clf', LogisticRegression())\n",
    "])\n",
    "param_grid = {\"clf__C\": c_space,\"clf__penalty\": ['l1', 'l2']}"
   ]
  },
  {
   "cell_type": "code",
   "execution_count": null,
   "id": "26e064ea",
   "metadata": {},
   "outputs": [],
   "source": [
    "clf = GridSearchCV(pipe_lr,param_grid=param_grid,cv=3, scoring='f1')\n",
    "clf.fit(train_features, train_target)"
   ]
  },
  {
   "cell_type": "markdown",
   "id": "df51a67e",
   "metadata": {},
   "source": [
    "##### LogisticRegression"
   ]
  },
  {
   "cell_type": "code",
   "execution_count": 42,
   "id": "35f18fcd",
   "metadata": {},
   "outputs": [
    {
     "name": "stdout",
     "output_type": "stream",
     "text": [
      "Лучшие параметры модели: {'C': 6.158482110660261, 'class_weight': 'balanced'}\n",
      "F1: 0.76\n",
      "Wall time: 3min 5s\n"
     ]
    }
   ],
   "source": [
    "%%time\n",
    "\n",
    "lr_model = LogisticRegression(solver='liblinear',random_state=12345)\n",
    "\n",
    "hyperparams = [{'C':np.logspace(-3,3,20),   \n",
    "                'class_weight':['balanced']}]\n",
    "\n",
    "clf = GridSearchCV(lr_model, hyperparams, scoring='f1',cv=3)\n",
    "clf.fit(train_features, train_target)\n",
    "LR_best_params = clf.best_params_\n",
    "print(\"Лучшие параметры модели:\", LR_best_params)\n",
    "print('F1:', clf.best_score_.round(2))"
   ]
  },
  {
   "cell_type": "markdown",
   "id": "6e89cf32",
   "metadata": {},
   "source": [
    "##### LGBMClassifier"
   ]
  },
  {
   "cell_type": "code",
   "execution_count": 58,
   "id": "fccb3a32",
   "metadata": {},
   "outputs": [
    {
     "name": "stdout",
     "output_type": "stream",
     "text": [
      "Лучшие параметры модели: {'learning_rate': 0.001, 'max_depth': 10, 'n_estimators': 50}\n",
      "F1 0.56\n",
      "Wall time: 1min 38s\n"
     ]
    }
   ],
   "source": [
    "%%time\n",
    "\n",
    "lgbm_classifier = LGBMClassifier(random_state=12345, class_weight='balanced') \n",
    "\n",
    "hyperparams = [{'max_depth' : [10], \n",
    "                'learning_rate':[0.001], \n",
    "                'n_estimators' : [50]}]  \n",
    "                            \n",
    " \n",
    "clf = GridSearchCV(lgbm_classifier, hyperparams, scoring='f1')\n",
    "clf.fit(train_features, train_target) \n",
    "LGBM_best_params = clf.best_params_\n",
    "print('Лучшие параметры модели:', LGBM_best_params) \n",
    "print('F1', clf.best_score_.round(2))"
   ]
  },
  {
   "cell_type": "markdown",
   "id": "c2e8db70",
   "metadata": {},
   "source": [
    "##### CatBoostClassifier"
   ]
  },
  {
   "cell_type": "code",
   "execution_count": 17,
   "id": "358068af",
   "metadata": {},
   "outputs": [
    {
     "name": "stdout",
     "output_type": "stream",
     "text": [
      "Wall time: 71 ms\n"
     ]
    }
   ],
   "source": [
    "%%time\n",
    "cat_model=CatBoostClassifier(loss_function=\"Logloss\", iterations=40)"
   ]
  },
  {
   "cell_type": "code",
   "execution_count": 18,
   "id": "665ab18a",
   "metadata": {},
   "outputs": [
    {
     "name": "stdout",
     "output_type": "stream",
     "text": [
      "Learning rate set to 0.5\n",
      "0:\tlearn: 0.3474917\ttotal: 2.98s\tremaining: 1m 56s\n",
      "1:\tlearn: 0.2621497\ttotal: 5.19s\tremaining: 1m 38s\n",
      "2:\tlearn: 0.2360504\ttotal: 7.36s\tremaining: 1m 30s\n",
      "3:\tlearn: 0.2207688\ttotal: 9.65s\tremaining: 1m 26s\n",
      "4:\tlearn: 0.2125140\ttotal: 11.8s\tremaining: 1m 22s\n",
      "5:\tlearn: 0.2058840\ttotal: 14s\tremaining: 1m 19s\n",
      "6:\tlearn: 0.2005402\ttotal: 16.3s\tremaining: 1m 16s\n",
      "7:\tlearn: 0.1964914\ttotal: 18.5s\tremaining: 1m 14s\n",
      "8:\tlearn: 0.1924651\ttotal: 20.8s\tremaining: 1m 11s\n",
      "9:\tlearn: 0.1891771\ttotal: 23s\tremaining: 1m 8s\n",
      "10:\tlearn: 0.1854460\ttotal: 25.2s\tremaining: 1m 6s\n",
      "11:\tlearn: 0.1832202\ttotal: 27.4s\tremaining: 1m 4s\n",
      "12:\tlearn: 0.1806358\ttotal: 29.6s\tremaining: 1m 1s\n",
      "13:\tlearn: 0.1787896\ttotal: 31.7s\tremaining: 58.9s\n",
      "14:\tlearn: 0.1755252\ttotal: 33.9s\tremaining: 56.5s\n",
      "15:\tlearn: 0.1733977\ttotal: 36.1s\tremaining: 54.1s\n",
      "16:\tlearn: 0.1708961\ttotal: 38.2s\tremaining: 51.7s\n",
      "17:\tlearn: 0.1694914\ttotal: 40.3s\tremaining: 49.3s\n",
      "18:\tlearn: 0.1676301\ttotal: 42.5s\tremaining: 47s\n",
      "19:\tlearn: 0.1661131\ttotal: 44.7s\tremaining: 44.7s\n",
      "20:\tlearn: 0.1643944\ttotal: 46.9s\tremaining: 42.4s\n",
      "21:\tlearn: 0.1625755\ttotal: 49s\tremaining: 40.1s\n",
      "22:\tlearn: 0.1609043\ttotal: 51.2s\tremaining: 37.9s\n",
      "23:\tlearn: 0.1598277\ttotal: 53.4s\tremaining: 35.6s\n",
      "24:\tlearn: 0.1583468\ttotal: 55.5s\tremaining: 33.3s\n",
      "25:\tlearn: 0.1574346\ttotal: 57.7s\tremaining: 31.1s\n",
      "26:\tlearn: 0.1562186\ttotal: 59.9s\tremaining: 28.8s\n",
      "27:\tlearn: 0.1553232\ttotal: 1m 2s\tremaining: 26.6s\n",
      "28:\tlearn: 0.1540012\ttotal: 1m 4s\tremaining: 24.3s\n",
      "29:\tlearn: 0.1530066\ttotal: 1m 6s\tremaining: 22.1s\n",
      "30:\tlearn: 0.1520366\ttotal: 1m 8s\tremaining: 19.9s\n",
      "31:\tlearn: 0.1511967\ttotal: 1m 10s\tremaining: 17.6s\n",
      "32:\tlearn: 0.1501568\ttotal: 1m 12s\tremaining: 15.4s\n",
      "33:\tlearn: 0.1493713\ttotal: 1m 14s\tremaining: 13.2s\n",
      "34:\tlearn: 0.1482786\ttotal: 1m 17s\tremaining: 11s\n",
      "35:\tlearn: 0.1472599\ttotal: 1m 19s\tremaining: 8.8s\n",
      "36:\tlearn: 0.1466409\ttotal: 1m 21s\tremaining: 6.59s\n",
      "37:\tlearn: 0.1457013\ttotal: 1m 23s\tremaining: 4.39s\n",
      "38:\tlearn: 0.1448216\ttotal: 1m 25s\tremaining: 2.2s\n",
      "39:\tlearn: 0.1441510\ttotal: 1m 27s\tremaining: 0us\n"
     ]
    },
    {
     "data": {
      "text/plain": [
       "<catboost.core.CatBoostClassifier at 0x1a292df0>"
      ]
     },
     "execution_count": 18,
     "metadata": {},
     "output_type": "execute_result"
    }
   ],
   "source": [
    "cat_model.fit(train_features,train_target)"
   ]
  },
  {
   "cell_type": "code",
   "execution_count": 19,
   "id": "0d5e9af7",
   "metadata": {},
   "outputs": [],
   "source": [
    "predict_cat=cat_model.predict(test_features)"
   ]
  },
  {
   "cell_type": "code",
   "execution_count": 20,
   "id": "56f003a5",
   "metadata": {},
   "outputs": [
    {
     "name": "stdout",
     "output_type": "stream",
     "text": [
      "F1: 0.71\n"
     ]
    }
   ],
   "source": [
    "f1_cat=f1_score(predict_cat,test_target)\n",
    "print('F1:', f1_cat.round(2))"
   ]
  },
  {
   "cell_type": "markdown",
   "id": "45735619",
   "metadata": {},
   "source": [
    "<a id=\"3\"></a>"
   ]
  },
  {
   "cell_type": "markdown",
   "id": "b61c5554",
   "metadata": {},
   "source": [
    "### 3. Выводы."
   ]
  },
  {
   "cell_type": "markdown",
   "id": "b23a5d22",
   "metadata": {},
   "source": [
    "##### LogisticRegression"
   ]
  },
  {
   "cell_type": "code",
   "execution_count": 60,
   "id": "5ec1b26d",
   "metadata": {},
   "outputs": [
    {
     "name": "stdout",
     "output_type": "stream",
     "text": [
      "F1: 0.76\n",
      "\n",
      "Матрица ошибок\n",
      "[[27554  1117]\n",
      " [  545  2699]]\n",
      "\n",
      "Wall time: 4.43 s\n"
     ]
    }
   ],
   "source": [
    "%%time\n",
    "lr_model = LogisticRegression(solver='liblinear',random_state=12345)\n",
    "lr_model.set_params(**LR_best_params)\n",
    "lr_model.fit(train_features, train_target)\n",
    "prediction = lr_model.predict(test_features)\n",
    "f1_LR = f1_score(test_target, prediction)\n",
    "print('F1:', f1_LR.round(2))\n",
    "print()\n",
    "print('Матрица ошибок')\n",
    "print(confusion_matrix(test_target, prediction))\n",
    "print()"
   ]
  },
  {
   "cell_type": "markdown",
   "id": "42b6c96a",
   "metadata": {},
   "source": [
    "##### LGBMClassifier"
   ]
  },
  {
   "cell_type": "code",
   "execution_count": 61,
   "id": "a75853b4",
   "metadata": {},
   "outputs": [
    {
     "name": "stdout",
     "output_type": "stream",
     "text": [
      "F1: 0.58\n",
      "\n",
      "Матрица ошибок\n",
      "[[28407   264]\n",
      " [ 1814  1430]]\n",
      "\n",
      "Wall time: 19.8 s\n"
     ]
    }
   ],
   "source": [
    "%%time\n",
    "LightGBM_model = LGBMClassifier(random_state=12345, class_weight='balanced')\n",
    "LightGBM_model.set_params(**LGBM_best_params)\n",
    "LightGBM_model.fit(train_features, train_target)\n",
    "prediction = LightGBM_model.predict(test_features)\n",
    "f1_LGBM = f1_score(test_target, prediction)\n",
    "print('F1:', f1_LGBM.round(2))\n",
    "print()\n",
    "print('Матрица ошибок')\n",
    "print(confusion_matrix(test_target, prediction))\n",
    "print()"
   ]
  },
  {
   "cell_type": "markdown",
   "id": "4e23482c",
   "metadata": {},
   "source": [
    "##### CatBoostClassifier"
   ]
  },
  {
   "cell_type": "code",
   "execution_count": 62,
   "id": "6bfb6c0b",
   "metadata": {},
   "outputs": [
    {
     "name": "stdout",
     "output_type": "stream",
     "text": [
      "Learning rate set to 0.5\n",
      "0:\tlearn: 0.3474917\ttotal: 2.78s\tremaining: 1m 48s\n",
      "1:\tlearn: 0.2621497\ttotal: 5.09s\tremaining: 1m 36s\n",
      "2:\tlearn: 0.2360504\ttotal: 7.58s\tremaining: 1m 33s\n",
      "3:\tlearn: 0.2207688\ttotal: 10.1s\tremaining: 1m 31s\n",
      "4:\tlearn: 0.2125140\ttotal: 12.5s\tremaining: 1m 27s\n",
      "5:\tlearn: 0.2058840\ttotal: 14.9s\tremaining: 1m 24s\n",
      "6:\tlearn: 0.2005402\ttotal: 17.1s\tremaining: 1m 20s\n",
      "7:\tlearn: 0.1964914\ttotal: 19.5s\tremaining: 1m 17s\n",
      "8:\tlearn: 0.1924651\ttotal: 21.8s\tremaining: 1m 15s\n",
      "9:\tlearn: 0.1891771\ttotal: 24.2s\tremaining: 1m 12s\n",
      "10:\tlearn: 0.1854460\ttotal: 26.5s\tremaining: 1m 9s\n",
      "11:\tlearn: 0.1832202\ttotal: 28.8s\tremaining: 1m 7s\n",
      "12:\tlearn: 0.1806358\ttotal: 31s\tremaining: 1m 4s\n",
      "13:\tlearn: 0.1787896\ttotal: 33.3s\tremaining: 1m 1s\n",
      "14:\tlearn: 0.1755252\ttotal: 35.5s\tremaining: 59.2s\n",
      "15:\tlearn: 0.1733977\ttotal: 37.7s\tremaining: 56.6s\n",
      "16:\tlearn: 0.1708961\ttotal: 40s\tremaining: 54.1s\n",
      "17:\tlearn: 0.1694914\ttotal: 42.2s\tremaining: 51.6s\n",
      "18:\tlearn: 0.1676301\ttotal: 44.4s\tremaining: 49.1s\n",
      "19:\tlearn: 0.1661131\ttotal: 46.7s\tremaining: 46.7s\n",
      "20:\tlearn: 0.1643944\ttotal: 48.9s\tremaining: 44.2s\n",
      "21:\tlearn: 0.1625755\ttotal: 51.1s\tremaining: 41.8s\n",
      "22:\tlearn: 0.1609043\ttotal: 53.3s\tremaining: 39.4s\n",
      "23:\tlearn: 0.1598277\ttotal: 55.6s\tremaining: 37s\n",
      "24:\tlearn: 0.1583468\ttotal: 57.8s\tremaining: 34.7s\n",
      "25:\tlearn: 0.1574346\ttotal: 60s\tremaining: 32.3s\n",
      "26:\tlearn: 0.1562186\ttotal: 1m 2s\tremaining: 30s\n",
      "27:\tlearn: 0.1553232\ttotal: 1m 4s\tremaining: 27.6s\n",
      "28:\tlearn: 0.1540012\ttotal: 1m 6s\tremaining: 25.3s\n",
      "29:\tlearn: 0.1530066\ttotal: 1m 9s\tremaining: 23.1s\n",
      "30:\tlearn: 0.1520366\ttotal: 1m 11s\tremaining: 20.7s\n",
      "31:\tlearn: 0.1511967\ttotal: 1m 13s\tremaining: 18.4s\n",
      "32:\tlearn: 0.1501568\ttotal: 1m 15s\tremaining: 16.1s\n",
      "33:\tlearn: 0.1493713\ttotal: 1m 18s\tremaining: 13.8s\n",
      "34:\tlearn: 0.1482786\ttotal: 1m 20s\tremaining: 11.5s\n",
      "35:\tlearn: 0.1472599\ttotal: 1m 22s\tremaining: 9.16s\n",
      "36:\tlearn: 0.1466409\ttotal: 1m 24s\tremaining: 6.86s\n",
      "37:\tlearn: 0.1457013\ttotal: 1m 26s\tremaining: 4.57s\n",
      "38:\tlearn: 0.1448216\ttotal: 1m 29s\tremaining: 2.28s\n",
      "39:\tlearn: 0.1441510\ttotal: 1m 31s\tremaining: 0us\n",
      "F1: 0.71\n",
      "\n",
      "Матрица ошибок\n",
      "[[28488  1365]\n",
      " [  183  1879]]\n",
      "\n",
      "Wall time: 1min 55s\n"
     ]
    }
   ],
   "source": [
    "%%time\n",
    "cat_model=CatBoostClassifier(loss_function=\"Logloss\", iterations=40)\n",
    "cat_model.fit(train_features,train_target)\n",
    "predict_cat=cat_model.predict(test_features)\n",
    "f1_cat=f1_score(predict_cat,test_target)\n",
    "print('F1:', f1_cat.round(2))\n",
    "print()\n",
    "print('Матрица ошибок')\n",
    "print(confusion_matrix(predict_cat,test_target))\n",
    "print()"
   ]
  },
  {
   "cell_type": "code",
   "execution_count": 63,
   "id": "86f32ddf",
   "metadata": {},
   "outputs": [
    {
     "data": {
      "text/html": [
       "<div>\n",
       "<style scoped>\n",
       "    .dataframe tbody tr th:only-of-type {\n",
       "        vertical-align: middle;\n",
       "    }\n",
       "\n",
       "    .dataframe tbody tr th {\n",
       "        vertical-align: top;\n",
       "    }\n",
       "\n",
       "    .dataframe thead th {\n",
       "        text-align: right;\n",
       "    }\n",
       "</style>\n",
       "<table border=\"1\" class=\"dataframe\">\n",
       "  <thead>\n",
       "    <tr style=\"text-align: right;\">\n",
       "      <th></th>\n",
       "      <th>F1</th>\n",
       "    </tr>\n",
       "  </thead>\n",
       "  <tbody>\n",
       "    <tr>\n",
       "      <th>LogisticRegression</th>\n",
       "      <td>0.764589</td>\n",
       "    </tr>\n",
       "    <tr>\n",
       "      <th>LGBMClassifier</th>\n",
       "      <td>0.579182</td>\n",
       "    </tr>\n",
       "    <tr>\n",
       "      <th>CatBoostClassifier</th>\n",
       "      <td>0.708255</td>\n",
       "    </tr>\n",
       "  </tbody>\n",
       "</table>\n",
       "</div>"
      ],
      "text/plain": [
       "                          F1\n",
       "LogisticRegression  0.764589\n",
       "LGBMClassifier      0.579182\n",
       "CatBoostClassifier  0.708255"
      ]
     },
     "execution_count": 63,
     "metadata": {},
     "output_type": "execute_result"
    }
   ],
   "source": [
    "razult=np.array([f1_LR,f1_LGBM,f1_cat])\n",
    "\n",
    "rezult_df=pd.DataFrame(razult,index=['LogisticRegression','LGBMClassifier','CatBoostClassifier'])\n",
    "rezult_df.set_axis(['F1'],axis='columns',inplace=True)\n",
    "rezult_df"
   ]
  },
  {
   "cell_type": "markdown",
   "id": "253ffe4e",
   "metadata": {},
   "source": [
    "### Вывод:\n",
    "- модели `LogisticRegression` и `CatBoostClassifier` показали удовлетворительное значение метрики F1\n",
    "- лучший результат показала модель `LogisticRegression`с результатом F1=0.764589"
   ]
  },
  {
   "cell_type": "markdown",
   "id": "d166b47e",
   "metadata": {},
   "source": [
    "##### [к оглавлению](#up)"
   ]
  },
  {
   "cell_type": "code",
   "execution_count": null,
   "id": "d2c6cf32",
   "metadata": {},
   "outputs": [],
   "source": []
  }
 ],
 "metadata": {
  "kernelspec": {
   "display_name": "Python 3",
   "language": "python",
   "name": "python3"
  },
  "language_info": {
   "codemirror_mode": {
    "name": "ipython",
    "version": 3
   },
   "file_extension": ".py",
   "mimetype": "text/x-python",
   "name": "python",
   "nbconvert_exporter": "python",
   "pygments_lexer": "ipython3",
   "version": "3.8.8"
  },
  "toc": {
   "base_numbering": 1,
   "nav_menu": {},
   "number_sections": true,
   "sideBar": true,
   "skip_h1_title": true,
   "title_cell": "Table of Contents",
   "title_sidebar": "Contents",
   "toc_cell": false,
   "toc_position": {},
   "toc_section_display": true,
   "toc_window_display": false
  }
 },
 "nbformat": 4,
 "nbformat_minor": 5
}
