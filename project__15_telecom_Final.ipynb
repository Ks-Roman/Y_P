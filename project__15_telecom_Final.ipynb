{
 "cells": [
  {
   "cell_type": "markdown",
   "id": "5f9c304b",
   "metadata": {},
   "source": [
    "# Телеком — задача проекта"
   ]
  },
  {
   "cell_type": "markdown",
   "id": "cc0fffee",
   "metadata": {},
   "source": [
    "Оператор связи «Ниединогоразрыва.ком» хочет научиться прогнозировать отток клиентов. Если выяснится, что пользователь планирует уйти, ему будут предложены промокоды и специальные условия. Команда оператора собрала персональные данные о некоторых клиентах, информацию об их тарифах и договорах."
   ]
  },
  {
   "cell_type": "markdown",
   "id": "f339a849",
   "metadata": {},
   "source": [
    "### Описание услуг\n",
    "\n",
    "Оператор предоставляет два основных типа услуг: \n",
    "\n",
    "1. Стационарную телефонную связь. Возможно подключение телефонного аппарата к нескольким линиям одновременно.\n",
    "2. Интернет. Подключение может быть двух типов: через телефонную линию (DSL*,* от англ. *digital subscriber line*, «цифровая абонентская линия») или оптоволоконный кабель (*Fiber optic*).\n",
    "\n",
    "Также доступны такие услуги:\n",
    "\n",
    "- Интернет-безопасность: антивирус (*DeviceProtection*) и блокировка небезопасных сайтов (*OnlineSecurity*);\n",
    "- Выделенная линия технической поддержки (*TechSupport*);\n",
    "- Облачное хранилище файлов для резервного копирования данных (*OnlineBackup*);\n",
    "- Стриминговое телевидение (*StreamingTV*) и каталог фильмов (*StreamingMovies*).\n",
    "\n",
    "За услуги клиенты могут платить каждый месяц или заключить договор на 1–2 года. Доступны различные способы расчёта и возможность получения электронного чека."
   ]
  },
  {
   "cell_type": "markdown",
   "id": "0e4a550b",
   "metadata": {},
   "source": [
    "### Описание данных\n",
    "\n",
    "Данные состоят из файлов, полученных из разных источников:\n",
    "\n",
    "- `contract.csv` — информация о договоре;\n",
    "- `personal.csv` — персональные данные клиента;\n",
    "- `internet.csv` — информация об интернет-услугах;\n",
    "- `phone.csv` — информация об услугах телефонии.\n",
    "\n",
    "Во всех файлах столбец `customerID` содержит код клиента.\n",
    "\n",
    "Информация о договорах актуальна на 1 февраля 2020."
   ]
  },
  {
   "cell_type": "markdown",
   "id": "511eee1f",
   "metadata": {},
   "source": [
    "- `customerID` - id клиента,\n",
    "- `BeginDate` – дата начала пользования услугами,\n",
    "- `EndDate` – дата окончания пользования услугами,\n",
    "- `Type` – тип оплаты: ежемесячный, годовой и тд,\n",
    "- `PaperlessBilling` – безналичный расчет,\n",
    "- `PaymentMethod` – способ оплаты,\n",
    "- `MonthlyCharges` – ежемесячные траты на услуги,\n",
    "- `TotalCharges` – всего потрачено денег на услуги\n",
    "- `gender` - пол\n",
    "- `Senior Citizen` – наличие пенсионного статуса по возрасту\n",
    "- `Partner` – наличие супруга(и)\n",
    "- `Dependents` – наличие иждивенцев\n",
    "- `InternetService` - тип интернет подключения\n",
    "- `OnlineSecurity` - онлайн безопасность\n",
    "- `OnlineBackup` - онлайн резервная копия\n",
    "- `DeviceProtection` - защита устройства\n",
    "- `TechSupport` - техническая поддержка\n",
    "- `StreamingTV` - Просмотр ТВ\n",
    "- `StreamingMovies` - Просмотр кино\n",
    "- `MultipleLines` – наличие возможности ведения параллельных линий во время звонка"
   ]
  },
  {
   "cell_type": "markdown",
   "id": "120752ac",
   "metadata": {},
   "source": [
    "*План работы*\n",
    "1. Подготовить данные. Изменить типы данных.\n",
    "2. Подготовка признаков. Составление единой таблицы со всеми данными для модели. Выделение целевого признака. Разделение на features и target со смешиванием данных.\n",
    "4. Выбор моделей. Использование и обучение регрессионных моделей, например, CatBoostRegressor, LGBMRegressor и т.д.\n",
    "5. Оценка эффективности моделей на тестовой выборке.\n"
   ]
  },
  {
   "cell_type": "code",
   "execution_count": 1,
   "id": "4187b26d",
   "metadata": {},
   "outputs": [],
   "source": [
    "import pandas as pd\n",
    "import seaborn as sns\n",
    "import numpy as np\n",
    "import matplotlib.pyplot as plt\n",
    "\n",
    "from sklearn.utils import shuffle\n",
    "from sklearn.model_selection import train_test_split, GridSearchCV\n",
    "\n",
    "from sklearn.ensemble import RandomForestClassifier\n",
    "from sklearn.metrics import roc_auc_score\n",
    "from sklearn.metrics import accuracy_score\n",
    "\n",
    "from catboost import CatBoostClassifier\n",
    "from catboost import cv\n",
    "from catboost import Pool\n",
    "import catboost as cat\n",
    "\n",
    "\n",
    "import warnings\n",
    "warnings.filterwarnings('ignore')"
   ]
  },
  {
   "cell_type": "code",
   "execution_count": 2,
   "id": "5809f94e",
   "metadata": {},
   "outputs": [
    {
     "name": "stdout",
     "output_type": "stream",
     "text": [
      "[Errno 2] No such file or directory: 'contract.csv'\n"
     ]
    },
    {
     "data": {
      "text/html": [
       "<div>\n",
       "<style scoped>\n",
       "    .dataframe tbody tr th:only-of-type {\n",
       "        vertical-align: middle;\n",
       "    }\n",
       "\n",
       "    .dataframe tbody tr th {\n",
       "        vertical-align: top;\n",
       "    }\n",
       "\n",
       "    .dataframe thead th {\n",
       "        text-align: right;\n",
       "    }\n",
       "</style>\n",
       "<table border=\"1\" class=\"dataframe\">\n",
       "  <thead>\n",
       "    <tr style=\"text-align: right;\">\n",
       "      <th></th>\n",
       "      <th>customerID</th>\n",
       "      <th>BeginDate</th>\n",
       "      <th>EndDate</th>\n",
       "      <th>Type</th>\n",
       "      <th>PaperlessBilling</th>\n",
       "      <th>PaymentMethod</th>\n",
       "      <th>MonthlyCharges</th>\n",
       "      <th>TotalCharges</th>\n",
       "    </tr>\n",
       "  </thead>\n",
       "  <tbody>\n",
       "    <tr>\n",
       "      <th>0</th>\n",
       "      <td>7590-VHVEG</td>\n",
       "      <td>2020-01-01</td>\n",
       "      <td>No</td>\n",
       "      <td>Month-to-month</td>\n",
       "      <td>Yes</td>\n",
       "      <td>Electronic check</td>\n",
       "      <td>29.85</td>\n",
       "      <td>29.85</td>\n",
       "    </tr>\n",
       "    <tr>\n",
       "      <th>1</th>\n",
       "      <td>5575-GNVDE</td>\n",
       "      <td>2017-04-01</td>\n",
       "      <td>No</td>\n",
       "      <td>One year</td>\n",
       "      <td>No</td>\n",
       "      <td>Mailed check</td>\n",
       "      <td>56.95</td>\n",
       "      <td>1889.5</td>\n",
       "    </tr>\n",
       "    <tr>\n",
       "      <th>2</th>\n",
       "      <td>3668-QPYBK</td>\n",
       "      <td>2019-10-01</td>\n",
       "      <td>2019-12-01 00:00:00</td>\n",
       "      <td>Month-to-month</td>\n",
       "      <td>Yes</td>\n",
       "      <td>Mailed check</td>\n",
       "      <td>53.85</td>\n",
       "      <td>108.15</td>\n",
       "    </tr>\n",
       "    <tr>\n",
       "      <th>3</th>\n",
       "      <td>7795-CFOCW</td>\n",
       "      <td>2016-05-01</td>\n",
       "      <td>No</td>\n",
       "      <td>One year</td>\n",
       "      <td>No</td>\n",
       "      <td>Bank transfer (automatic)</td>\n",
       "      <td>42.30</td>\n",
       "      <td>1840.75</td>\n",
       "    </tr>\n",
       "    <tr>\n",
       "      <th>4</th>\n",
       "      <td>9237-HQITU</td>\n",
       "      <td>2019-09-01</td>\n",
       "      <td>2019-11-01 00:00:00</td>\n",
       "      <td>Month-to-month</td>\n",
       "      <td>Yes</td>\n",
       "      <td>Electronic check</td>\n",
       "      <td>70.70</td>\n",
       "      <td>151.65</td>\n",
       "    </tr>\n",
       "    <tr>\n",
       "      <th>5</th>\n",
       "      <td>9305-CDSKC</td>\n",
       "      <td>2019-03-01</td>\n",
       "      <td>2019-11-01 00:00:00</td>\n",
       "      <td>Month-to-month</td>\n",
       "      <td>Yes</td>\n",
       "      <td>Electronic check</td>\n",
       "      <td>99.65</td>\n",
       "      <td>820.5</td>\n",
       "    </tr>\n",
       "    <tr>\n",
       "      <th>6</th>\n",
       "      <td>1452-KIOVK</td>\n",
       "      <td>2018-04-01</td>\n",
       "      <td>No</td>\n",
       "      <td>Month-to-month</td>\n",
       "      <td>Yes</td>\n",
       "      <td>Credit card (automatic)</td>\n",
       "      <td>89.10</td>\n",
       "      <td>1949.4</td>\n",
       "    </tr>\n",
       "    <tr>\n",
       "      <th>7</th>\n",
       "      <td>6713-OKOMC</td>\n",
       "      <td>2019-04-01</td>\n",
       "      <td>No</td>\n",
       "      <td>Month-to-month</td>\n",
       "      <td>No</td>\n",
       "      <td>Mailed check</td>\n",
       "      <td>29.75</td>\n",
       "      <td>301.9</td>\n",
       "    </tr>\n",
       "    <tr>\n",
       "      <th>8</th>\n",
       "      <td>7892-POOKP</td>\n",
       "      <td>2017-07-01</td>\n",
       "      <td>2019-11-01 00:00:00</td>\n",
       "      <td>Month-to-month</td>\n",
       "      <td>Yes</td>\n",
       "      <td>Electronic check</td>\n",
       "      <td>104.80</td>\n",
       "      <td>3046.05</td>\n",
       "    </tr>\n",
       "    <tr>\n",
       "      <th>9</th>\n",
       "      <td>6388-TABGU</td>\n",
       "      <td>2014-12-01</td>\n",
       "      <td>No</td>\n",
       "      <td>One year</td>\n",
       "      <td>No</td>\n",
       "      <td>Bank transfer (automatic)</td>\n",
       "      <td>56.15</td>\n",
       "      <td>3487.95</td>\n",
       "    </tr>\n",
       "  </tbody>\n",
       "</table>\n",
       "</div>"
      ],
      "text/plain": [
       "   customerID   BeginDate              EndDate            Type  \\\n",
       "0  7590-VHVEG  2020-01-01                   No  Month-to-month   \n",
       "1  5575-GNVDE  2017-04-01                   No        One year   \n",
       "2  3668-QPYBK  2019-10-01  2019-12-01 00:00:00  Month-to-month   \n",
       "3  7795-CFOCW  2016-05-01                   No        One year   \n",
       "4  9237-HQITU  2019-09-01  2019-11-01 00:00:00  Month-to-month   \n",
       "5  9305-CDSKC  2019-03-01  2019-11-01 00:00:00  Month-to-month   \n",
       "6  1452-KIOVK  2018-04-01                   No  Month-to-month   \n",
       "7  6713-OKOMC  2019-04-01                   No  Month-to-month   \n",
       "8  7892-POOKP  2017-07-01  2019-11-01 00:00:00  Month-to-month   \n",
       "9  6388-TABGU  2014-12-01                   No        One year   \n",
       "\n",
       "  PaperlessBilling              PaymentMethod  MonthlyCharges TotalCharges  \n",
       "0              Yes           Electronic check           29.85        29.85  \n",
       "1               No               Mailed check           56.95       1889.5  \n",
       "2              Yes               Mailed check           53.85       108.15  \n",
       "3               No  Bank transfer (automatic)           42.30      1840.75  \n",
       "4              Yes           Electronic check           70.70       151.65  \n",
       "5              Yes           Electronic check           99.65        820.5  \n",
       "6              Yes    Credit card (automatic)           89.10       1949.4  \n",
       "7               No               Mailed check           29.75        301.9  \n",
       "8              Yes           Electronic check          104.80      3046.05  \n",
       "9               No  Bank transfer (automatic)           56.15      3487.95  "
      ]
     },
     "execution_count": 2,
     "metadata": {},
     "output_type": "execute_result"
    }
   ],
   "source": [
    "try:\n",
    "    df_contract = pd.read_csv('contract.csv')\n",
    "    df_personal = pd.read_csv('personal.csv')\n",
    "    df_internet = pd.read_csv('internet.csv')\n",
    "    df_phone = pd.read_csv('phone.csv')\n",
    "except Exception as e:\n",
    "    print(e)\n",
    "    df_contract = pd.read_csv('/datasets/final_provider/contract.csv')\n",
    "    df_personal = pd.read_csv('/datasets/final_provider/personal.csv')\n",
    "    df_internet = pd.read_csv('/datasets/final_provider/internet.csv')\n",
    "    df_phone = pd.read_csv('/datasets/final_provider/phone.csv')\n",
    "\n",
    "df_contract.head(10)"
   ]
  },
  {
   "cell_type": "code",
   "execution_count": 3,
   "id": "57ec15e6",
   "metadata": {},
   "outputs": [
    {
     "data": {
      "text/plain": [
       "customerID          0\n",
       "BeginDate           0\n",
       "EndDate             0\n",
       "Type                0\n",
       "PaperlessBilling    0\n",
       "PaymentMethod       0\n",
       "MonthlyCharges      0\n",
       "TotalCharges        0\n",
       "dtype: int64"
      ]
     },
     "execution_count": 3,
     "metadata": {},
     "output_type": "execute_result"
    }
   ],
   "source": [
    "df_contract.isna().sum()"
   ]
  },
  {
   "cell_type": "code",
   "execution_count": 4,
   "id": "59d9321d",
   "metadata": {},
   "outputs": [
    {
     "data": {
      "text/plain": [
       "0"
      ]
     },
     "execution_count": 4,
     "metadata": {},
     "output_type": "execute_result"
    }
   ],
   "source": [
    "df_contract.duplicated().sum()"
   ]
  },
  {
   "cell_type": "code",
   "execution_count": 5,
   "id": "9a3ea596",
   "metadata": {},
   "outputs": [
    {
     "data": {
      "text/html": [
       "<div>\n",
       "<style scoped>\n",
       "    .dataframe tbody tr th:only-of-type {\n",
       "        vertical-align: middle;\n",
       "    }\n",
       "\n",
       "    .dataframe tbody tr th {\n",
       "        vertical-align: top;\n",
       "    }\n",
       "\n",
       "    .dataframe thead th {\n",
       "        text-align: right;\n",
       "    }\n",
       "</style>\n",
       "<table border=\"1\" class=\"dataframe\">\n",
       "  <thead>\n",
       "    <tr style=\"text-align: right;\">\n",
       "      <th></th>\n",
       "      <th>customerID</th>\n",
       "      <th>gender</th>\n",
       "      <th>SeniorCitizen</th>\n",
       "      <th>Partner</th>\n",
       "      <th>Dependents</th>\n",
       "    </tr>\n",
       "  </thead>\n",
       "  <tbody>\n",
       "    <tr>\n",
       "      <th>0</th>\n",
       "      <td>7590-VHVEG</td>\n",
       "      <td>Female</td>\n",
       "      <td>0</td>\n",
       "      <td>Yes</td>\n",
       "      <td>No</td>\n",
       "    </tr>\n",
       "    <tr>\n",
       "      <th>1</th>\n",
       "      <td>5575-GNVDE</td>\n",
       "      <td>Male</td>\n",
       "      <td>0</td>\n",
       "      <td>No</td>\n",
       "      <td>No</td>\n",
       "    </tr>\n",
       "    <tr>\n",
       "      <th>2</th>\n",
       "      <td>3668-QPYBK</td>\n",
       "      <td>Male</td>\n",
       "      <td>0</td>\n",
       "      <td>No</td>\n",
       "      <td>No</td>\n",
       "    </tr>\n",
       "    <tr>\n",
       "      <th>3</th>\n",
       "      <td>7795-CFOCW</td>\n",
       "      <td>Male</td>\n",
       "      <td>0</td>\n",
       "      <td>No</td>\n",
       "      <td>No</td>\n",
       "    </tr>\n",
       "    <tr>\n",
       "      <th>4</th>\n",
       "      <td>9237-HQITU</td>\n",
       "      <td>Female</td>\n",
       "      <td>0</td>\n",
       "      <td>No</td>\n",
       "      <td>No</td>\n",
       "    </tr>\n",
       "    <tr>\n",
       "      <th>5</th>\n",
       "      <td>9305-CDSKC</td>\n",
       "      <td>Female</td>\n",
       "      <td>0</td>\n",
       "      <td>No</td>\n",
       "      <td>No</td>\n",
       "    </tr>\n",
       "    <tr>\n",
       "      <th>6</th>\n",
       "      <td>1452-KIOVK</td>\n",
       "      <td>Male</td>\n",
       "      <td>0</td>\n",
       "      <td>No</td>\n",
       "      <td>Yes</td>\n",
       "    </tr>\n",
       "    <tr>\n",
       "      <th>7</th>\n",
       "      <td>6713-OKOMC</td>\n",
       "      <td>Female</td>\n",
       "      <td>0</td>\n",
       "      <td>No</td>\n",
       "      <td>No</td>\n",
       "    </tr>\n",
       "    <tr>\n",
       "      <th>8</th>\n",
       "      <td>7892-POOKP</td>\n",
       "      <td>Female</td>\n",
       "      <td>0</td>\n",
       "      <td>Yes</td>\n",
       "      <td>No</td>\n",
       "    </tr>\n",
       "    <tr>\n",
       "      <th>9</th>\n",
       "      <td>6388-TABGU</td>\n",
       "      <td>Male</td>\n",
       "      <td>0</td>\n",
       "      <td>No</td>\n",
       "      <td>Yes</td>\n",
       "    </tr>\n",
       "  </tbody>\n",
       "</table>\n",
       "</div>"
      ],
      "text/plain": [
       "   customerID  gender  SeniorCitizen Partner Dependents\n",
       "0  7590-VHVEG  Female              0     Yes         No\n",
       "1  5575-GNVDE    Male              0      No         No\n",
       "2  3668-QPYBK    Male              0      No         No\n",
       "3  7795-CFOCW    Male              0      No         No\n",
       "4  9237-HQITU  Female              0      No         No\n",
       "5  9305-CDSKC  Female              0      No         No\n",
       "6  1452-KIOVK    Male              0      No        Yes\n",
       "7  6713-OKOMC  Female              0      No         No\n",
       "8  7892-POOKP  Female              0     Yes         No\n",
       "9  6388-TABGU    Male              0      No        Yes"
      ]
     },
     "execution_count": 5,
     "metadata": {},
     "output_type": "execute_result"
    }
   ],
   "source": [
    "df_personal.head(10)"
   ]
  },
  {
   "cell_type": "code",
   "execution_count": 6,
   "id": "b7f46ec9",
   "metadata": {},
   "outputs": [
    {
     "data": {
      "text/plain": [
       "customerID       0\n",
       "gender           0\n",
       "SeniorCitizen    0\n",
       "Partner          0\n",
       "Dependents       0\n",
       "dtype: int64"
      ]
     },
     "execution_count": 6,
     "metadata": {},
     "output_type": "execute_result"
    }
   ],
   "source": [
    "df_personal.isna().sum()"
   ]
  },
  {
   "cell_type": "code",
   "execution_count": 7,
   "id": "3e1b0497",
   "metadata": {},
   "outputs": [
    {
     "data": {
      "text/plain": [
       "0"
      ]
     },
     "execution_count": 7,
     "metadata": {},
     "output_type": "execute_result"
    }
   ],
   "source": [
    "df_personal.duplicated().sum()"
   ]
  },
  {
   "cell_type": "code",
   "execution_count": 8,
   "id": "fc18da13",
   "metadata": {},
   "outputs": [
    {
     "data": {
      "text/html": [
       "<div>\n",
       "<style scoped>\n",
       "    .dataframe tbody tr th:only-of-type {\n",
       "        vertical-align: middle;\n",
       "    }\n",
       "\n",
       "    .dataframe tbody tr th {\n",
       "        vertical-align: top;\n",
       "    }\n",
       "\n",
       "    .dataframe thead th {\n",
       "        text-align: right;\n",
       "    }\n",
       "</style>\n",
       "<table border=\"1\" class=\"dataframe\">\n",
       "  <thead>\n",
       "    <tr style=\"text-align: right;\">\n",
       "      <th></th>\n",
       "      <th>customerID</th>\n",
       "      <th>InternetService</th>\n",
       "      <th>OnlineSecurity</th>\n",
       "      <th>OnlineBackup</th>\n",
       "      <th>DeviceProtection</th>\n",
       "      <th>TechSupport</th>\n",
       "      <th>StreamingTV</th>\n",
       "      <th>StreamingMovies</th>\n",
       "    </tr>\n",
       "  </thead>\n",
       "  <tbody>\n",
       "    <tr>\n",
       "      <th>0</th>\n",
       "      <td>7590-VHVEG</td>\n",
       "      <td>DSL</td>\n",
       "      <td>No</td>\n",
       "      <td>Yes</td>\n",
       "      <td>No</td>\n",
       "      <td>No</td>\n",
       "      <td>No</td>\n",
       "      <td>No</td>\n",
       "    </tr>\n",
       "    <tr>\n",
       "      <th>1</th>\n",
       "      <td>5575-GNVDE</td>\n",
       "      <td>DSL</td>\n",
       "      <td>Yes</td>\n",
       "      <td>No</td>\n",
       "      <td>Yes</td>\n",
       "      <td>No</td>\n",
       "      <td>No</td>\n",
       "      <td>No</td>\n",
       "    </tr>\n",
       "    <tr>\n",
       "      <th>2</th>\n",
       "      <td>3668-QPYBK</td>\n",
       "      <td>DSL</td>\n",
       "      <td>Yes</td>\n",
       "      <td>Yes</td>\n",
       "      <td>No</td>\n",
       "      <td>No</td>\n",
       "      <td>No</td>\n",
       "      <td>No</td>\n",
       "    </tr>\n",
       "    <tr>\n",
       "      <th>3</th>\n",
       "      <td>7795-CFOCW</td>\n",
       "      <td>DSL</td>\n",
       "      <td>Yes</td>\n",
       "      <td>No</td>\n",
       "      <td>Yes</td>\n",
       "      <td>Yes</td>\n",
       "      <td>No</td>\n",
       "      <td>No</td>\n",
       "    </tr>\n",
       "    <tr>\n",
       "      <th>4</th>\n",
       "      <td>9237-HQITU</td>\n",
       "      <td>Fiber optic</td>\n",
       "      <td>No</td>\n",
       "      <td>No</td>\n",
       "      <td>No</td>\n",
       "      <td>No</td>\n",
       "      <td>No</td>\n",
       "      <td>No</td>\n",
       "    </tr>\n",
       "    <tr>\n",
       "      <th>5</th>\n",
       "      <td>9305-CDSKC</td>\n",
       "      <td>Fiber optic</td>\n",
       "      <td>No</td>\n",
       "      <td>No</td>\n",
       "      <td>Yes</td>\n",
       "      <td>No</td>\n",
       "      <td>Yes</td>\n",
       "      <td>Yes</td>\n",
       "    </tr>\n",
       "    <tr>\n",
       "      <th>6</th>\n",
       "      <td>1452-KIOVK</td>\n",
       "      <td>Fiber optic</td>\n",
       "      <td>No</td>\n",
       "      <td>Yes</td>\n",
       "      <td>No</td>\n",
       "      <td>No</td>\n",
       "      <td>Yes</td>\n",
       "      <td>No</td>\n",
       "    </tr>\n",
       "    <tr>\n",
       "      <th>7</th>\n",
       "      <td>6713-OKOMC</td>\n",
       "      <td>DSL</td>\n",
       "      <td>Yes</td>\n",
       "      <td>No</td>\n",
       "      <td>No</td>\n",
       "      <td>No</td>\n",
       "      <td>No</td>\n",
       "      <td>No</td>\n",
       "    </tr>\n",
       "    <tr>\n",
       "      <th>8</th>\n",
       "      <td>7892-POOKP</td>\n",
       "      <td>Fiber optic</td>\n",
       "      <td>No</td>\n",
       "      <td>No</td>\n",
       "      <td>Yes</td>\n",
       "      <td>Yes</td>\n",
       "      <td>Yes</td>\n",
       "      <td>Yes</td>\n",
       "    </tr>\n",
       "    <tr>\n",
       "      <th>9</th>\n",
       "      <td>6388-TABGU</td>\n",
       "      <td>DSL</td>\n",
       "      <td>Yes</td>\n",
       "      <td>Yes</td>\n",
       "      <td>No</td>\n",
       "      <td>No</td>\n",
       "      <td>No</td>\n",
       "      <td>No</td>\n",
       "    </tr>\n",
       "  </tbody>\n",
       "</table>\n",
       "</div>"
      ],
      "text/plain": [
       "   customerID InternetService OnlineSecurity OnlineBackup DeviceProtection  \\\n",
       "0  7590-VHVEG             DSL             No          Yes               No   \n",
       "1  5575-GNVDE             DSL            Yes           No              Yes   \n",
       "2  3668-QPYBK             DSL            Yes          Yes               No   \n",
       "3  7795-CFOCW             DSL            Yes           No              Yes   \n",
       "4  9237-HQITU     Fiber optic             No           No               No   \n",
       "5  9305-CDSKC     Fiber optic             No           No              Yes   \n",
       "6  1452-KIOVK     Fiber optic             No          Yes               No   \n",
       "7  6713-OKOMC             DSL            Yes           No               No   \n",
       "8  7892-POOKP     Fiber optic             No           No              Yes   \n",
       "9  6388-TABGU             DSL            Yes          Yes               No   \n",
       "\n",
       "  TechSupport StreamingTV StreamingMovies  \n",
       "0          No          No              No  \n",
       "1          No          No              No  \n",
       "2          No          No              No  \n",
       "3         Yes          No              No  \n",
       "4          No          No              No  \n",
       "5          No         Yes             Yes  \n",
       "6          No         Yes              No  \n",
       "7          No          No              No  \n",
       "8         Yes         Yes             Yes  \n",
       "9          No          No              No  "
      ]
     },
     "execution_count": 8,
     "metadata": {},
     "output_type": "execute_result"
    }
   ],
   "source": [
    "df_internet.head(10)"
   ]
  },
  {
   "cell_type": "code",
   "execution_count": 9,
   "id": "ac83f6be",
   "metadata": {},
   "outputs": [
    {
     "data": {
      "text/plain": [
       "customerID          0\n",
       "InternetService     0\n",
       "OnlineSecurity      0\n",
       "OnlineBackup        0\n",
       "DeviceProtection    0\n",
       "TechSupport         0\n",
       "StreamingTV         0\n",
       "StreamingMovies     0\n",
       "dtype: int64"
      ]
     },
     "execution_count": 9,
     "metadata": {},
     "output_type": "execute_result"
    }
   ],
   "source": [
    "df_internet.isna().sum()"
   ]
  },
  {
   "cell_type": "code",
   "execution_count": 10,
   "id": "6810882a",
   "metadata": {},
   "outputs": [
    {
     "data": {
      "text/plain": [
       "0"
      ]
     },
     "execution_count": 10,
     "metadata": {},
     "output_type": "execute_result"
    }
   ],
   "source": [
    "df_internet.duplicated().sum()"
   ]
  },
  {
   "cell_type": "code",
   "execution_count": 11,
   "id": "69d3806a",
   "metadata": {},
   "outputs": [
    {
     "data": {
      "text/html": [
       "<div>\n",
       "<style scoped>\n",
       "    .dataframe tbody tr th:only-of-type {\n",
       "        vertical-align: middle;\n",
       "    }\n",
       "\n",
       "    .dataframe tbody tr th {\n",
       "        vertical-align: top;\n",
       "    }\n",
       "\n",
       "    .dataframe thead th {\n",
       "        text-align: right;\n",
       "    }\n",
       "</style>\n",
       "<table border=\"1\" class=\"dataframe\">\n",
       "  <thead>\n",
       "    <tr style=\"text-align: right;\">\n",
       "      <th></th>\n",
       "      <th>customerID</th>\n",
       "      <th>MultipleLines</th>\n",
       "    </tr>\n",
       "  </thead>\n",
       "  <tbody>\n",
       "    <tr>\n",
       "      <th>0</th>\n",
       "      <td>5575-GNVDE</td>\n",
       "      <td>No</td>\n",
       "    </tr>\n",
       "    <tr>\n",
       "      <th>1</th>\n",
       "      <td>3668-QPYBK</td>\n",
       "      <td>No</td>\n",
       "    </tr>\n",
       "    <tr>\n",
       "      <th>2</th>\n",
       "      <td>9237-HQITU</td>\n",
       "      <td>No</td>\n",
       "    </tr>\n",
       "    <tr>\n",
       "      <th>3</th>\n",
       "      <td>9305-CDSKC</td>\n",
       "      <td>Yes</td>\n",
       "    </tr>\n",
       "    <tr>\n",
       "      <th>4</th>\n",
       "      <td>1452-KIOVK</td>\n",
       "      <td>Yes</td>\n",
       "    </tr>\n",
       "    <tr>\n",
       "      <th>5</th>\n",
       "      <td>7892-POOKP</td>\n",
       "      <td>Yes</td>\n",
       "    </tr>\n",
       "    <tr>\n",
       "      <th>6</th>\n",
       "      <td>6388-TABGU</td>\n",
       "      <td>No</td>\n",
       "    </tr>\n",
       "    <tr>\n",
       "      <th>7</th>\n",
       "      <td>9763-GRSKD</td>\n",
       "      <td>No</td>\n",
       "    </tr>\n",
       "    <tr>\n",
       "      <th>8</th>\n",
       "      <td>7469-LKBCI</td>\n",
       "      <td>No</td>\n",
       "    </tr>\n",
       "    <tr>\n",
       "      <th>9</th>\n",
       "      <td>8091-TTVAX</td>\n",
       "      <td>Yes</td>\n",
       "    </tr>\n",
       "  </tbody>\n",
       "</table>\n",
       "</div>"
      ],
      "text/plain": [
       "   customerID MultipleLines\n",
       "0  5575-GNVDE            No\n",
       "1  3668-QPYBK            No\n",
       "2  9237-HQITU            No\n",
       "3  9305-CDSKC           Yes\n",
       "4  1452-KIOVK           Yes\n",
       "5  7892-POOKP           Yes\n",
       "6  6388-TABGU            No\n",
       "7  9763-GRSKD            No\n",
       "8  7469-LKBCI            No\n",
       "9  8091-TTVAX           Yes"
      ]
     },
     "execution_count": 11,
     "metadata": {},
     "output_type": "execute_result"
    }
   ],
   "source": [
    "df_phone.head(10)"
   ]
  },
  {
   "cell_type": "code",
   "execution_count": 12,
   "id": "a1ac1ec4",
   "metadata": {},
   "outputs": [
    {
     "data": {
      "text/plain": [
       "customerID       0\n",
       "MultipleLines    0\n",
       "dtype: int64"
      ]
     },
     "execution_count": 12,
     "metadata": {},
     "output_type": "execute_result"
    }
   ],
   "source": [
    "df_phone.isna().sum()"
   ]
  },
  {
   "cell_type": "code",
   "execution_count": 13,
   "id": "4162fae6",
   "metadata": {},
   "outputs": [
    {
     "data": {
      "text/plain": [
       "0"
      ]
     },
     "execution_count": 13,
     "metadata": {},
     "output_type": "execute_result"
    }
   ],
   "source": [
    "df_phone.duplicated().sum()"
   ]
  },
  {
   "cell_type": "code",
   "execution_count": 14,
   "id": "149414a3",
   "metadata": {},
   "outputs": [],
   "source": [
    "df = df_contract.set_index('customerID').join(df_personal.set_index('customerID'))"
   ]
  },
  {
   "cell_type": "code",
   "execution_count": 15,
   "id": "b0eb38e4",
   "metadata": {},
   "outputs": [],
   "source": [
    "df = df.join(df_internet.set_index('customerID'))"
   ]
  },
  {
   "cell_type": "code",
   "execution_count": 16,
   "id": "be70fea5",
   "metadata": {},
   "outputs": [],
   "source": [
    "df = df.join(df_phone.set_index('customerID'))"
   ]
  },
  {
   "cell_type": "code",
   "execution_count": 17,
   "id": "08306c27",
   "metadata": {},
   "outputs": [
    {
     "data": {
      "text/plain": [
       "BeginDate              0\n",
       "EndDate                0\n",
       "Type                   0\n",
       "PaperlessBilling       0\n",
       "PaymentMethod          0\n",
       "MonthlyCharges         0\n",
       "TotalCharges           0\n",
       "gender                 0\n",
       "SeniorCitizen          0\n",
       "Partner                0\n",
       "Dependents             0\n",
       "InternetService     1526\n",
       "OnlineSecurity      1526\n",
       "OnlineBackup        1526\n",
       "DeviceProtection    1526\n",
       "TechSupport         1526\n",
       "StreamingTV         1526\n",
       "StreamingMovies     1526\n",
       "MultipleLines        682\n",
       "dtype: int64"
      ]
     },
     "execution_count": 17,
     "metadata": {},
     "output_type": "execute_result"
    }
   ],
   "source": [
    "df.isna().sum()"
   ]
  },
  {
   "cell_type": "code",
   "execution_count": 18,
   "id": "c3a660b3",
   "metadata": {},
   "outputs": [],
   "source": [
    "df['InternetService'].fillna('No',inplace = True)\n",
    "df['OnlineSecurity'].fillna('No',inplace = True)\n",
    "df['OnlineBackup'].fillna('No',inplace = True)\n",
    "df['DeviceProtection'].fillna('No',inplace = True)\n",
    "df['TechSupport'].fillna('No',inplace = True)\n",
    "df['StreamingTV'].fillna('No',inplace = True)\n",
    "df['StreamingMovies'].fillna('No',inplace = True)\n",
    "df['MultipleLines'].fillna('No',inplace = True)"
   ]
  },
  {
   "cell_type": "code",
   "execution_count": 19,
   "id": "bc961a2f",
   "metadata": {},
   "outputs": [
    {
     "data": {
      "text/plain": [
       "BeginDate           0\n",
       "EndDate             0\n",
       "Type                0\n",
       "PaperlessBilling    0\n",
       "PaymentMethod       0\n",
       "MonthlyCharges      0\n",
       "TotalCharges        0\n",
       "gender              0\n",
       "SeniorCitizen       0\n",
       "Partner             0\n",
       "Dependents          0\n",
       "InternetService     0\n",
       "OnlineSecurity      0\n",
       "OnlineBackup        0\n",
       "DeviceProtection    0\n",
       "TechSupport         0\n",
       "StreamingTV         0\n",
       "StreamingMovies     0\n",
       "MultipleLines       0\n",
       "dtype: int64"
      ]
     },
     "execution_count": 19,
     "metadata": {},
     "output_type": "execute_result"
    }
   ],
   "source": [
    "df.isna().sum()"
   ]
  },
  {
   "cell_type": "code",
   "execution_count": 20,
   "id": "ab032f0f",
   "metadata": {},
   "outputs": [
    {
     "name": "stdout",
     "output_type": "stream",
     "text": [
      "<class 'pandas.core.frame.DataFrame'>\n",
      "Index: 7043 entries, 7590-VHVEG to 3186-AJIEK\n",
      "Data columns (total 19 columns):\n",
      " #   Column            Non-Null Count  Dtype  \n",
      "---  ------            --------------  -----  \n",
      " 0   BeginDate         7043 non-null   object \n",
      " 1   EndDate           7043 non-null   object \n",
      " 2   Type              7043 non-null   object \n",
      " 3   PaperlessBilling  7043 non-null   object \n",
      " 4   PaymentMethod     7043 non-null   object \n",
      " 5   MonthlyCharges    7043 non-null   float64\n",
      " 6   TotalCharges      7043 non-null   object \n",
      " 7   gender            7043 non-null   object \n",
      " 8   SeniorCitizen     7043 non-null   int64  \n",
      " 9   Partner           7043 non-null   object \n",
      " 10  Dependents        7043 non-null   object \n",
      " 11  InternetService   7043 non-null   object \n",
      " 12  OnlineSecurity    7043 non-null   object \n",
      " 13  OnlineBackup      7043 non-null   object \n",
      " 14  DeviceProtection  7043 non-null   object \n",
      " 15  TechSupport       7043 non-null   object \n",
      " 16  StreamingTV       7043 non-null   object \n",
      " 17  StreamingMovies   7043 non-null   object \n",
      " 18  MultipleLines     7043 non-null   object \n",
      "dtypes: float64(1), int64(1), object(17)\n",
      "memory usage: 1.3+ MB\n"
     ]
    }
   ],
   "source": [
    "df.info()"
   ]
  },
  {
   "cell_type": "code",
   "execution_count": 21,
   "id": "4dbbd582",
   "metadata": {},
   "outputs": [],
   "source": [
    "df['BeginDate']=pd.to_datetime(df['BeginDate'],format = '%Y-%m-%d')"
   ]
  },
  {
   "cell_type": "code",
   "execution_count": 22,
   "id": "3a24a3f0",
   "metadata": {},
   "outputs": [
    {
     "data": {
      "text/plain": [
       "<AxesSubplot:xlabel='BeginDate', ylabel='Density'>"
      ]
     },
     "execution_count": 22,
     "metadata": {},
     "output_type": "execute_result"
    },
    {
     "data": {
      "image/png": "[encoded data removed]",
      "text/plain": [
       "<Figure size 432x288 with 1 Axes>"
      ]
     },
     "metadata": {
      "needs_background": "light"
     },
     "output_type": "display_data"
    }
   ],
   "source": [
    "#Рост клиентов по годам начала пользования услугами\n",
    "sns.distplot(df['BeginDate'].dt.year)"
   ]
  },
  {
   "cell_type": "markdown",
   "id": "a71e81bc",
   "metadata": {},
   "source": [
    "*рост новых клентов пришелся на 2014 и 2019 года*"
   ]
  },
  {
   "cell_type": "code",
   "execution_count": 23,
   "id": "6e33d7fd",
   "metadata": {},
   "outputs": [],
   "source": [
    "begin_date=pd.to_datetime(df.loc[df['EndDate'] != 'No','BeginDate'],format = '%Y-%m-%d')\n",
    "end_date=pd.to_datetime(df.loc[df['EndDate'] != 'No','EndDate'],format = '%Y-%m-%dT%H:%M:%S')"
   ]
  },
  {
   "cell_type": "code",
   "execution_count": 24,
   "id": "4d55f3e9",
   "metadata": {},
   "outputs": [
    {
     "data": {
      "text/plain": [
       "<AxesSubplot:xlabel='EndDate', ylabel='Density'>"
      ]
     },
     "execution_count": 24,
     "metadata": {},
     "output_type": "execute_result"
    },
    {
     "data": {
      "image/png": "[encoded data removed]",
      "text/plain": [
       "<Figure size 432x288 with 1 Axes>"
      ]
     },
     "metadata": {
      "needs_background": "light"
     },
     "output_type": "display_data"
    }
   ],
   "source": [
    "sns.distplot(end_date.dt.year)"
   ]
  },
  {
   "cell_type": "markdown",
   "id": "1ad56bba",
   "metadata": {},
   "source": [
    "*отток клиетов приходится на 2019 и небольшой отток произошел в 2020 году*"
   ]
  },
  {
   "cell_type": "code",
   "execution_count": 25,
   "id": "8778a071",
   "metadata": {},
   "outputs": [
    {
     "data": {
      "text/html": [
       "<div>\n",
       "<style scoped>\n",
       "    .dataframe tbody tr th:only-of-type {\n",
       "        vertical-align: middle;\n",
       "    }\n",
       "\n",
       "    .dataframe tbody tr th {\n",
       "        vertical-align: top;\n",
       "    }\n",
       "\n",
       "    .dataframe thead th {\n",
       "        text-align: right;\n",
       "    }\n",
       "</style>\n",
       "<table border=\"1\" class=\"dataframe\">\n",
       "  <thead>\n",
       "    <tr style=\"text-align: right;\">\n",
       "      <th></th>\n",
       "      <th>BeginDate</th>\n",
       "      <th>EndDate</th>\n",
       "      <th>Lasted</th>\n",
       "    </tr>\n",
       "    <tr>\n",
       "      <th>customerID</th>\n",
       "      <th></th>\n",
       "      <th></th>\n",
       "      <th></th>\n",
       "    </tr>\n",
       "  </thead>\n",
       "  <tbody>\n",
       "    <tr>\n",
       "      <th>3668-QPYBK</th>\n",
       "      <td>2019-10-01</td>\n",
       "      <td>2019-12-01</td>\n",
       "      <td>61 days</td>\n",
       "    </tr>\n",
       "    <tr>\n",
       "      <th>9237-HQITU</th>\n",
       "      <td>2019-09-01</td>\n",
       "      <td>2019-11-01</td>\n",
       "      <td>61 days</td>\n",
       "    </tr>\n",
       "    <tr>\n",
       "      <th>9305-CDSKC</th>\n",
       "      <td>2019-03-01</td>\n",
       "      <td>2019-11-01</td>\n",
       "      <td>245 days</td>\n",
       "    </tr>\n",
       "    <tr>\n",
       "      <th>7892-POOKP</th>\n",
       "      <td>2017-07-01</td>\n",
       "      <td>2019-11-01</td>\n",
       "      <td>853 days</td>\n",
       "    </tr>\n",
       "    <tr>\n",
       "      <th>0280-XJGEX</th>\n",
       "      <td>2015-09-01</td>\n",
       "      <td>2019-10-01</td>\n",
       "      <td>1491 days</td>\n",
       "    </tr>\n",
       "    <tr>\n",
       "      <th>...</th>\n",
       "      <td>...</td>\n",
       "      <td>...</td>\n",
       "      <td>...</td>\n",
       "    </tr>\n",
       "    <tr>\n",
       "      <th>1699-HPSBG</th>\n",
       "      <td>2018-11-01</td>\n",
       "      <td>2019-11-01</td>\n",
       "      <td>365 days</td>\n",
       "    </tr>\n",
       "    <tr>\n",
       "      <th>8775-CEBBJ</th>\n",
       "      <td>2019-02-01</td>\n",
       "      <td>2019-11-01</td>\n",
       "      <td>273 days</td>\n",
       "    </tr>\n",
       "    <tr>\n",
       "      <th>6894-LFHLY</th>\n",
       "      <td>2019-10-01</td>\n",
       "      <td>2019-11-01</td>\n",
       "      <td>31 days</td>\n",
       "    </tr>\n",
       "    <tr>\n",
       "      <th>0639-TSIQW</th>\n",
       "      <td>2014-03-01</td>\n",
       "      <td>2019-10-01</td>\n",
       "      <td>2040 days</td>\n",
       "    </tr>\n",
       "    <tr>\n",
       "      <th>8361-LTMKD</th>\n",
       "      <td>2019-07-01</td>\n",
       "      <td>2019-11-01</td>\n",
       "      <td>123 days</td>\n",
       "    </tr>\n",
       "  </tbody>\n",
       "</table>\n",
       "<p>1869 rows × 3 columns</p>\n",
       "</div>"
      ],
      "text/plain": [
       "            BeginDate    EndDate    Lasted\n",
       "customerID                                \n",
       "3668-QPYBK 2019-10-01 2019-12-01   61 days\n",
       "9237-HQITU 2019-09-01 2019-11-01   61 days\n",
       "9305-CDSKC 2019-03-01 2019-11-01  245 days\n",
       "7892-POOKP 2017-07-01 2019-11-01  853 days\n",
       "0280-XJGEX 2015-09-01 2019-10-01 1491 days\n",
       "...               ...        ...       ...\n",
       "1699-HPSBG 2018-11-01 2019-11-01  365 days\n",
       "8775-CEBBJ 2019-02-01 2019-11-01  273 days\n",
       "6894-LFHLY 2019-10-01 2019-11-01   31 days\n",
       "0639-TSIQW 2014-03-01 2019-10-01 2040 days\n",
       "8361-LTMKD 2019-07-01 2019-11-01  123 days\n",
       "\n",
       "[1869 rows x 3 columns]"
      ]
     },
     "execution_count": 25,
     "metadata": {},
     "output_type": "execute_result"
    }
   ],
   "source": [
    "df_out = pd.concat([begin_date,end_date], axis=1)\n",
    "df_out['Lasted'] = df_out['EndDate'] - df_out['BeginDate']\n",
    "df_out"
   ]
  },
  {
   "cell_type": "code",
   "execution_count": 26,
   "id": "7ff9bf4e",
   "metadata": {},
   "outputs": [
    {
     "data": {
      "text/plain": [
       "<AxesSubplot:xlabel='Lasted', ylabel='Density'>"
      ]
     },
     "execution_count": 26,
     "metadata": {},
     "output_type": "execute_result"
    },
    {
     "data": {
      "image/png": "[encoded data removed]",
      "text/plain": [
       "<Figure size 432x288 with 1 Axes>"
      ]
     },
     "metadata": {
      "needs_background": "light"
     },
     "output_type": "display_data"
    }
   ],
   "source": [
    "sns.distplot(df_out['Lasted'].dt.days)"
   ]
  },
  {
   "cell_type": "code",
   "execution_count": 27,
   "id": "c209b5fc",
   "metadata": {},
   "outputs": [
    {
     "data": {
      "text/plain": [
       "<AxesSubplot:xlabel='Lasted', ylabel='Density'>"
      ]
     },
     "execution_count": 27,
     "metadata": {},
     "output_type": "execute_result"
    },
    {
     "data": {
      "image/png": "[encoded data removed]",
      "text/plain": [
       "<Figure size 432x288 with 1 Axes>"
      ]
     },
     "metadata": {
      "needs_background": "light"
     },
     "output_type": "display_data"
    }
   ],
   "source": [
    "sns.distplot(df_out[df_out['Lasted'].dt.days<120]['Lasted'].dt.days)"
   ]
  },
  {
   "cell_type": "markdown",
   "id": "940db12b",
   "metadata": {},
   "source": [
    "*большое количетво людей пользуется услугами около месяца*"
   ]
  },
  {
   "cell_type": "code",
   "execution_count": 28,
   "id": "597e5582",
   "metadata": {},
   "outputs": [
    {
     "data": {
      "text/plain": [
       "<AxesSubplot:xlabel='MonthlyCharges', ylabel='Density'>"
      ]
     },
     "execution_count": 28,
     "metadata": {},
     "output_type": "execute_result"
    },
    {
     "data": {
      "image/png": "[encoded data removed]",
      "text/plain": [
       "<Figure size 432x288 with 1 Axes>"
      ]
     },
     "metadata": {
      "needs_background": "light"
     },
     "output_type": "display_data"
    }
   ],
   "source": [
    "sns.distplot(df['MonthlyCharges'])"
   ]
  },
  {
   "cell_type": "markdown",
   "id": "1c14917a",
   "metadata": {},
   "source": [
    "*основное количество пользователей ползуется тарифом с ценой около 20*"
   ]
  },
  {
   "cell_type": "code",
   "execution_count": 29,
   "id": "2a99170f",
   "metadata": {},
   "outputs": [],
   "source": [
    "# проверили TotalCharges на числовые строки, чтобы отбросить просто пустые строки и не числовые строки \n",
    "for i in range(len(df['TotalCharges'])):\n",
    "  partition = df['TotalCharges'][i].partition('.')\n",
    "  if (partition[0].isdigit() and partition[1] == '.' and partition[2].isdigit()) \\\n",
    "  or (partition[0] == '' and partition[1] == '.' and partition[2].isdigit()) \\\n",
    "  or (partition[0].isdigit() and partition[1] == '.' and partition[2] == ''):\n",
    "    df['TotalCharges'][i] = float(df['TotalCharges'][i])\n",
    "  else: \n",
    "    df['TotalCharges'][i] = 'NaN'"
   ]
  },
  {
   "cell_type": "code",
   "execution_count": 30,
   "id": "8170fd35",
   "metadata": {},
   "outputs": [],
   "source": [
    "Total_Charges = df[df['TotalCharges'] != 'NaN']['TotalCharges'].astype('float')"
   ]
  },
  {
   "cell_type": "code",
   "execution_count": 31,
   "id": "127c5b71",
   "metadata": {},
   "outputs": [
    {
     "data": {
      "text/plain": [
       "<AxesSubplot:xlabel='TotalCharges', ylabel='Density'>"
      ]
     },
     "execution_count": 31,
     "metadata": {},
     "output_type": "execute_result"
    },
    {
     "data": {
      "image/png": "[encoded data removed]",
      "text/plain": [
       "<Figure size 432x288 with 1 Axes>"
      ]
     },
     "metadata": {
      "needs_background": "light"
     },
     "output_type": "display_data"
    }
   ],
   "source": [
    "sns.distplot(Total_Charges)"
   ]
  },
  {
   "cell_type": "code",
   "execution_count": 32,
   "id": "79c67bfe",
   "metadata": {},
   "outputs": [
    {
     "name": "stdout",
     "output_type": "stream",
     "text": [
      "Медиана Total Charges: 1397.1\n",
      "Среднее Total Charges: 2281.3374627310677\n"
     ]
    }
   ],
   "source": [
    "print('Медиана Total Charges:',Total_Charges.median())\n",
    "print('Среднее Total Charges:',Total_Charges.mean())"
   ]
  },
  {
   "cell_type": "code",
   "execution_count": 33,
   "id": "6f84c12f",
   "metadata": {},
   "outputs": [
    {
     "data": {
      "text/plain": [
       "1880.4410768188259"
      ]
     },
     "execution_count": 33,
     "metadata": {},
     "output_type": "execute_result"
    }
   ],
   "source": [
    "((df['BeginDate'][0] - df['BeginDate'][1])/np.timedelta64(1, 'M')) * df['MonthlyCharges'][1]"
   ]
  },
  {
   "cell_type": "code",
   "execution_count": 34,
   "id": "11609ec0",
   "metadata": {},
   "outputs": [],
   "source": [
    "# Для расчета общей оплаты берем месячную оплату и расчитываем количество месяцев до 2020-01-01, \n",
    "# для людей которые еще пользуются и для тех кто закончил берем разницу до финальной даты\n",
    "\n",
    "final_date = df['BeginDate'][0]\n",
    "df.loc[((df['TotalCharges'] == 'NaN') & (df['EndDate'] == 'No')),'TotalCharges'] = \\\n",
    "((final_date - df['BeginDate'])/np.timedelta64(1, 'M')) * df['MonthlyCharges']\n"
   ]
  },
  {
   "cell_type": "code",
   "execution_count": 35,
   "id": "6ff136d5",
   "metadata": {},
   "outputs": [],
   "source": [
    "df.loc[((df['TotalCharges'] == 'NaN') & (df['EndDate'] != 'No')),'TotalCharges'] = \\\n",
    "((pd.to_datetime(df[df['EndDate'] != 'No']['EndDate']) - df['BeginDate'])/np.timedelta64(1, 'M')) * df['MonthlyCharges']"
   ]
  },
  {
   "cell_type": "code",
   "execution_count": 36,
   "id": "48cdcdc2",
   "metadata": {},
   "outputs": [],
   "source": [
    "df['TotalCharges'] = pd.to_numeric(df['TotalCharges'], downcast='float')"
   ]
  },
  {
   "cell_type": "code",
   "execution_count": 37,
   "id": "b1db325c",
   "metadata": {},
   "outputs": [
    {
     "name": "stdout",
     "output_type": "stream",
     "text": [
      "OnlineSecurity \n",
      " No     5024\n",
      "Yes    2019\n",
      "Name: OnlineSecurity, dtype: int64\n"
     ]
    },
    {
     "data": {
      "image/png": "[encoded data removed]",
      "text/plain": [
       "<Figure size 432x288 with 1 Axes>"
      ]
     },
     "metadata": {
      "needs_background": "light"
     },
     "output_type": "display_data"
    },
    {
     "name": "stdout",
     "output_type": "stream",
     "text": [
      "OnlineBackup \n",
      " No     4614\n",
      "Yes    2429\n",
      "Name: OnlineBackup, dtype: int64\n"
     ]
    },
    {
     "data": {
      "image/png": "[encoded data removed]",
      "text/plain": [
       "<Figure size 432x288 with 1 Axes>"
      ]
     },
     "metadata": {
      "needs_background": "light"
     },
     "output_type": "display_data"
    },
    {
     "name": "stdout",
     "output_type": "stream",
     "text": [
      "DeviceProtection \n",
      " No     4621\n",
      "Yes    2422\n",
      "Name: DeviceProtection, dtype: int64\n"
     ]
    },
    {
     "data": {
      "image/png": "[encoded data removed]",
      "text/plain": [
       "<Figure size 432x288 with 1 Axes>"
      ]
     },
     "metadata": {
      "needs_background": "light"
     },
     "output_type": "display_data"
    },
    {
     "name": "stdout",
     "output_type": "stream",
     "text": [
      "TechSupport \n",
      " No     4999\n",
      "Yes    2044\n",
      "Name: TechSupport, dtype: int64\n"
     ]
    },
    {
     "data": {
      "image/png": "[encoded data removed]",
      "text/plain": [
       "<Figure size 432x288 with 1 Axes>"
      ]
     },
     "metadata": {
      "needs_background": "light"
     },
     "output_type": "display_data"
    },
    {
     "name": "stdout",
     "output_type": "stream",
     "text": [
      "StreamingTV \n",
      " No     4336\n",
      "Yes    2707\n",
      "Name: StreamingTV, dtype: int64\n"
     ]
    },
    {
     "data": {
      "image/png": "[encoded data removed]",
      "text/plain": [
       "<Figure size 432x288 with 1 Axes>"
      ]
     },
     "metadata": {
      "needs_background": "light"
     },
     "output_type": "display_data"
    },
    {
     "name": "stdout",
     "output_type": "stream",
     "text": [
      "StreamingMovies \n",
      " No     4311\n",
      "Yes    2732\n",
      "Name: StreamingMovies, dtype: int64\n"
     ]
    },
    {
     "data": {
      "image/png": "[encoded data removed]",
      "text/plain": [
       "<Figure size 432x288 with 1 Axes>"
      ]
     },
     "metadata": {
      "needs_background": "light"
     },
     "output_type": "display_data"
    },
    {
     "name": "stdout",
     "output_type": "stream",
     "text": [
      "gender \n",
      " Male      3555\n",
      "Female    3488\n",
      "Name: gender, dtype: int64\n"
     ]
    },
    {
     "data": {
      "image/png": "[encoded data removed]",
      "text/plain": [
       "<Figure size 432x288 with 1 Axes>"
      ]
     },
     "metadata": {
      "needs_background": "light"
     },
     "output_type": "display_data"
    },
    {
     "name": "stdout",
     "output_type": "stream",
     "text": [
      "SeniorCitizen \n",
      " 0    5901\n",
      "1    1142\n",
      "Name: SeniorCitizen, dtype: int64\n"
     ]
    },
    {
     "data": {
      "image/png": "[encoded data removed]",
      "text/plain": [
       "<Figure size 432x288 with 1 Axes>"
      ]
     },
     "metadata": {
      "needs_background": "light"
     },
     "output_type": "display_data"
    },
    {
     "name": "stdout",
     "output_type": "stream",
     "text": [
      "Partner \n",
      " No     3641\n",
      "Yes    3402\n",
      "Name: Partner, dtype: int64\n"
     ]
    },
    {
     "data": {
      "image/png": "[encoded data removed]",
      "text/plain": [
       "<Figure size 432x288 with 1 Axes>"
      ]
     },
     "metadata": {
      "needs_background": "light"
     },
     "output_type": "display_data"
    },
    {
     "name": "stdout",
     "output_type": "stream",
     "text": [
      "Dependents \n",
      " No     4933\n",
      "Yes    2110\n",
      "Name: Dependents, dtype: int64\n"
     ]
    },
    {
     "data": {
      "image/png": "[encoded data removed]",
      "text/plain": [
       "<Figure size 432x288 with 1 Axes>"
      ]
     },
     "metadata": {
      "needs_background": "light"
     },
     "output_type": "display_data"
    },
    {
     "name": "stdout",
     "output_type": "stream",
     "text": [
      "MultipleLines \n",
      " No     4072\n",
      "Yes    2971\n",
      "Name: MultipleLines, dtype: int64\n"
     ]
    },
    {
     "data": {
      "image/png": "[encoded data removed]",
      "text/plain": [
       "<Figure size 432x288 with 1 Axes>"
      ]
     },
     "metadata": {
      "needs_background": "light"
     },
     "output_type": "display_data"
    },
    {
     "name": "stdout",
     "output_type": "stream",
     "text": [
      "PaperlessBilling \n",
      " Yes    4171\n",
      "No     2872\n",
      "Name: PaperlessBilling, dtype: int64\n"
     ]
    },
    {
     "data": {
      "image/png": "[encoded data removed]",
      "text/plain": [
       "<Figure size 432x288 with 1 Axes>"
      ]
     },
     "metadata": {
      "needs_background": "light"
     },
     "output_type": "display_data"
    }
   ],
   "source": [
    "binary_col = ['OnlineSecurity','OnlineBackup','DeviceProtection','TechSupport','StreamingTV',\\\n",
    "              'StreamingMovies','gender','SeniorCitizen','Partner','Dependents','MultipleLines','PaperlessBilling']\n",
    "for i in binary_col:\n",
    "  print(i,'\\n',df[i].value_counts())\n",
    "  plt.hist(df[i])\n",
    "  plt.title(i)\n",
    "  plt.show() "
   ]
  },
  {
   "cell_type": "markdown",
   "id": "699617c3",
   "metadata": {},
   "source": [
    "*Все переменные примерно сбалансированы между собой без видимого дисбаланса за исключением зависимых людей финансово и людей в возрасте*\n",
    "\n",
    "*Также можно явно выделить ,что самая популярные услуги это Онлайн Безопасность и Техническая поддержка, а также большенство предпочитает получать чеки онлайн. Самая непопулярная услуга это мультилинии , но это понятно , ведь с ростом интернета доп услуги телефонии уже не так востребованы и нужны*"
   ]
  },
  {
   "cell_type": "code",
   "execution_count": 38,
   "id": "7d61d12a",
   "metadata": {},
   "outputs": [],
   "source": [
    "#string Yes No переводим в 1 и 0 соответсвенно\n",
    "df['MultipleLines'] = pd.Series(np.where(df['MultipleLines'].values == 'Yes', 1, 0),df.index)\n",
    "df['Dependents'] = pd.Series(np.where(df['Dependents'].values == 'Yes', 1, 0),df.index)\n",
    "df['Partner'] = pd.Series(np.where(df['Partner'].values == 'Yes', 1, 0),df.index)\n",
    "df['gender'] = pd.Series(np.where(df['gender'].values == 'Female', 1, 0),df.index)\n",
    "df['StreamingMovies'] = pd.Series(np.where(df['StreamingMovies'].values == 'Yes', 1, 0),df.index)\n",
    "df['StreamingTV'] = pd.Series(np.where(df['StreamingTV'].values == 'Yes', 1, 0),df.index)\n",
    "df['TechSupport'] = pd.Series(np.where(df['TechSupport'].values == 'Yes', 1, 0),df.index)\n",
    "df['DeviceProtection'] = pd.Series(np.where(df['DeviceProtection'].values == 'Yes', 1, 0),df.index)\n",
    "df['OnlineBackup'] = pd.Series(np.where(df['OnlineBackup'].values == 'Yes', 1, 0),df.index)\n",
    "df['OnlineSecurity'] = pd.Series(np.where(df['OnlineSecurity'].values == 'Yes', 1, 0),df.index)\n",
    "df['PaperlessBilling'] = pd.Series(np.where(df['PaperlessBilling'].values == 'Yes',1,0),df.index)"
   ]
  },
  {
   "cell_type": "code",
   "execution_count": 39,
   "id": "d71dba1b",
   "metadata": {},
   "outputs": [
    {
     "name": "stdout",
     "output_type": "stream",
     "text": [
      "<class 'pandas.core.frame.DataFrame'>\n",
      "Index: 7043 entries, 7590-VHVEG to 3186-AJIEK\n",
      "Data columns (total 19 columns):\n",
      " #   Column            Non-Null Count  Dtype         \n",
      "---  ------            --------------  -----         \n",
      " 0   BeginDate         7043 non-null   datetime64[ns]\n",
      " 1   EndDate           7043 non-null   object        \n",
      " 2   Type              7043 non-null   object        \n",
      " 3   PaperlessBilling  7043 non-null   int64         \n",
      " 4   PaymentMethod     7043 non-null   object        \n",
      " 5   MonthlyCharges    7043 non-null   float64       \n",
      " 6   TotalCharges      7043 non-null   float32       \n",
      " 7   gender            7043 non-null   int64         \n",
      " 8   SeniorCitizen     7043 non-null   int64         \n",
      " 9   Partner           7043 non-null   int64         \n",
      " 10  Dependents        7043 non-null   int64         \n",
      " 11  InternetService   7043 non-null   object        \n",
      " 12  OnlineSecurity    7043 non-null   int64         \n",
      " 13  OnlineBackup      7043 non-null   int64         \n",
      " 14  DeviceProtection  7043 non-null   int64         \n",
      " 15  TechSupport       7043 non-null   int64         \n",
      " 16  StreamingTV       7043 non-null   int64         \n",
      " 17  StreamingMovies   7043 non-null   int64         \n",
      " 18  MultipleLines     7043 non-null   int64         \n",
      "dtypes: datetime64[ns](1), float32(1), float64(1), int64(12), object(4)\n",
      "memory usage: 1.3+ MB\n"
     ]
    }
   ],
   "source": [
    "df.info()"
   ]
  },
  {
   "cell_type": "code",
   "execution_count": 40,
   "id": "5f8895ab",
   "metadata": {},
   "outputs": [
    {
     "name": "stdout",
     "output_type": "stream",
     "text": [
      "Month-to-month    3875\n",
      "Two year          1695\n",
      "One year          1473\n",
      "Name: Type, dtype: int64\n"
     ]
    },
    {
     "data": {
      "image/png": "[encoded data removed]",
      "text/plain": [
       "<Figure size 432x288 with 1 Axes>"
      ]
     },
     "metadata": {
      "needs_background": "light"
     },
     "output_type": "display_data"
    }
   ],
   "source": [
    "print(df['Type'].value_counts())\n",
    "plt.hist(df['Type']);"
   ]
  },
  {
   "cell_type": "code",
   "execution_count": 41,
   "id": "ae2beefe",
   "metadata": {},
   "outputs": [
    {
     "name": "stdout",
     "output_type": "stream",
     "text": [
      "Fiber optic    3096\n",
      "DSL            2421\n",
      "No             1526\n",
      "Name: InternetService, dtype: int64\n"
     ]
    },
    {
     "data": {
      "image/png": "[encoded data removed]",
      "text/plain": [
       "<Figure size 432x288 with 1 Axes>"
      ]
     },
     "metadata": {
      "needs_background": "light"
     },
     "output_type": "display_data"
    }
   ],
   "source": [
    "print(df['InternetService'].value_counts())\n",
    "plt.hist(df['InternetService']);"
   ]
  },
  {
   "cell_type": "code",
   "execution_count": 42,
   "id": "d733554d",
   "metadata": {},
   "outputs": [
    {
     "name": "stdout",
     "output_type": "stream",
     "text": [
      "Electronic check             2365\n",
      "Mailed check                 1612\n",
      "Bank transfer (automatic)    1544\n",
      "Credit card (automatic)      1522\n",
      "Name: PaymentMethod, dtype: int64\n"
     ]
    },
    {
     "data": {
      "image/png": "[encoded data removed]",
      "text/plain": [
       "<Figure size 720x288 with 1 Axes>"
      ]
     },
     "metadata": {
      "needs_background": "light"
     },
     "output_type": "display_data"
    }
   ],
   "source": [
    "print(df['PaymentMethod'].value_counts())\n",
    "plt.figure(figsize=(10,4))\n",
    "plt.hist(df['PaymentMethod']);"
   ]
  },
  {
   "cell_type": "code",
   "execution_count": 43,
   "id": "09a24e58",
   "metadata": {},
   "outputs": [],
   "source": [
    "#OHE encoding\n",
    "df = pd.get_dummies(df, columns = ['Type', 'InternetService','PaymentMethod'], drop_first = True)"
   ]
  },
  {
   "cell_type": "code",
   "execution_count": 44,
   "id": "a58cda73",
   "metadata": {},
   "outputs": [],
   "source": [
    "# target из EndDate\n",
    "df['quit'] = pd.Series(np.where(df['EndDate'].values == 'No', 0, 1),df.index)"
   ]
  },
  {
   "cell_type": "code",
   "execution_count": 45,
   "id": "df0bec6d",
   "metadata": {},
   "outputs": [],
   "source": [
    "last_dat = df[df['EndDate'] != 'No']['EndDate'].sort_values().tail(1)"
   ]
  },
  {
   "cell_type": "code",
   "execution_count": 46,
   "id": "b1fbcad1",
   "metadata": {},
   "outputs": [
    {
     "data": {
      "text/plain": [
       "Timestamp('2020-01-01 00:00:00')"
      ]
     },
     "execution_count": 46,
     "metadata": {},
     "output_type": "execute_result"
    }
   ],
   "source": [
    "final_date"
   ]
  },
  {
   "cell_type": "code",
   "execution_count": 47,
   "id": "c9913443",
   "metadata": {},
   "outputs": [],
   "source": [
    "df.loc[df['EndDate'] == 'No','EndDate'] = final_date"
   ]
  },
  {
   "cell_type": "code",
   "execution_count": 48,
   "id": "7e3ac00d",
   "metadata": {},
   "outputs": [],
   "source": [
    "df['duration'] = (pd.to_datetime(df['EndDate']) - df['BeginDate']).dt.days"
   ]
  },
  {
   "cell_type": "code",
   "execution_count": 49,
   "id": "d01d7cce",
   "metadata": {},
   "outputs": [
    {
     "data": {
      "text/plain": [
       "0    5174\n",
       "1    1869\n",
       "Name: quit, dtype: int64"
      ]
     },
     "execution_count": 49,
     "metadata": {},
     "output_type": "execute_result"
    }
   ],
   "source": [
    "df['quit'].value_counts()"
   ]
  },
  {
   "cell_type": "markdown",
   "id": "6e312f6f",
   "metadata": {},
   "source": [
    "*Заметили дисбаланс , поэтому будем пробовать upsampling в случае плохой метрики*"
   ]
  },
  {
   "cell_type": "code",
   "execution_count": 50,
   "id": "bf23440a",
   "metadata": {},
   "outputs": [
    {
     "data": {
      "text/plain": [
       "<AxesSubplot:xlabel='quit', ylabel='Density'>"
      ]
     },
     "execution_count": 50,
     "metadata": {},
     "output_type": "execute_result"
    },
    {
     "data": {
      "image/png": "[encoded data removed]",
      "text/plain": [
       "<Figure size 432x288 with 1 Axes>"
      ]
     },
     "metadata": {
      "needs_background": "light"
     },
     "output_type": "display_data"
    }
   ],
   "source": [
    "sns.distplot(df['quit'])"
   ]
  },
  {
   "cell_type": "code",
   "execution_count": 51,
   "id": "0c756e79",
   "metadata": {},
   "outputs": [
    {
     "name": "stdout",
     "output_type": "stream",
     "text": [
      "<class 'pandas.core.frame.DataFrame'>\n",
      "Index: 7043 entries, 7590-VHVEG to 3186-AJIEK\n",
      "Data columns (total 25 columns):\n",
      " #   Column                                 Non-Null Count  Dtype         \n",
      "---  ------                                 --------------  -----         \n",
      " 0   BeginDate                              7043 non-null   datetime64[ns]\n",
      " 1   EndDate                                7043 non-null   object        \n",
      " 2   PaperlessBilling                       7043 non-null   int64         \n",
      " 3   MonthlyCharges                         7043 non-null   float64       \n",
      " 4   TotalCharges                           7043 non-null   float32       \n",
      " 5   gender                                 7043 non-null   int64         \n",
      " 6   SeniorCitizen                          7043 non-null   int64         \n",
      " 7   Partner                                7043 non-null   int64         \n",
      " 8   Dependents                             7043 non-null   int64         \n",
      " 9   OnlineSecurity                         7043 non-null   int64         \n",
      " 10  OnlineBackup                           7043 non-null   int64         \n",
      " 11  DeviceProtection                       7043 non-null   int64         \n",
      " 12  TechSupport                            7043 non-null   int64         \n",
      " 13  StreamingTV                            7043 non-null   int64         \n",
      " 14  StreamingMovies                        7043 non-null   int64         \n",
      " 15  MultipleLines                          7043 non-null   int64         \n",
      " 16  Type_One year                          7043 non-null   uint8         \n",
      " 17  Type_Two year                          7043 non-null   uint8         \n",
      " 18  InternetService_Fiber optic            7043 non-null   uint8         \n",
      " 19  InternetService_No                     7043 non-null   uint8         \n",
      " 20  PaymentMethod_Credit card (automatic)  7043 non-null   uint8         \n",
      " 21  PaymentMethod_Electronic check         7043 non-null   uint8         \n",
      " 22  PaymentMethod_Mailed check             7043 non-null   uint8         \n",
      " 23  quit                                   7043 non-null   int64         \n",
      " 24  duration                               7043 non-null   int64         \n",
      "dtypes: datetime64[ns](1), float32(1), float64(1), int64(14), object(1), uint8(7)\n",
      "memory usage: 1.3+ MB\n"
     ]
    }
   ],
   "source": [
    "df.info()"
   ]
  },
  {
   "cell_type": "code",
   "execution_count": 52,
   "id": "6755ef6f",
   "metadata": {},
   "outputs": [],
   "source": [
    "#убираем ,чтобы модель не смогла обмануться по features \n",
    "df.drop('EndDate', axis = 1, inplace = True)\n",
    "df.drop('BeginDate', axis = 1, inplace = True)"
   ]
  },
  {
   "cell_type": "code",
   "execution_count": 53,
   "id": "773e2210",
   "metadata": {},
   "outputs": [],
   "source": [
    "train_df, test_df = train_test_split(df, test_size = 0.3, random_state = 42)"
   ]
  },
  {
   "cell_type": "code",
   "execution_count": 54,
   "id": "db8def34",
   "metadata": {},
   "outputs": [],
   "source": [
    "features_train = train_df.drop('quit', axis = 1)\n",
    "features_test = test_df.drop('quit', axis = 1)\n",
    "\n",
    "target_train = train_df['quit']\n",
    "target_test = test_df['quit']"
   ]
  },
  {
   "cell_type": "markdown",
   "id": "ab54b5ff",
   "metadata": {},
   "source": [
    "#### Random Forest Classifier model"
   ]
  },
  {
   "cell_type": "code",
   "execution_count": 55,
   "id": "cb458f32",
   "metadata": {},
   "outputs": [
    {
     "data": {
      "text/plain": [
       "0.875044431313152"
      ]
     },
     "execution_count": 55,
     "metadata": {},
     "output_type": "execute_result"
    }
   ],
   "source": [
    "rfc_model = RandomForestClassifier(class_weight = 'balanced', random_state = 42)\n",
    "\n",
    "rfc_model.fit(features_train, target_train)\n",
    "\n",
    "predict_forest_proba = rfc_model.predict_proba(features_test)[:,1]\n",
    "\n",
    "roc_auc_score(target_test, predict_forest_proba)"
   ]
  },
  {
   "cell_type": "code",
   "execution_count": 56,
   "id": "64f4038a",
   "metadata": {},
   "outputs": [
    {
     "name": "stdout",
     "output_type": "stream",
     "text": [
      "Feature importances:\n",
      " 1. feature 'duration' (0.2142)\n",
      " 2. feature 'TotalCharges' (0.1748)\n",
      " 3. feature 'MonthlyCharges' (0.1606)\n",
      " 4. feature 'Type_Two year' (0.0593)\n",
      " 5. feature 'InternetService_Fiber optic' (0.0462)\n",
      " 6. feature 'PaymentMethod_Electronic check' (0.0374)\n",
      " 7. feature 'Type_One year' (0.0289)\n",
      " 8. feature 'OnlineSecurity' (0.0240)\n",
      " 9. feature 'gender' (0.0231)\n",
      "10. feature 'PaperlessBilling' (0.0225)\n",
      "11. feature 'InternetService_No' (0.0219)\n",
      "12. feature 'Partner' (0.0206)\n",
      "13. feature 'OnlineBackup' (0.0204)\n",
      "14. feature 'TechSupport' (0.0190)\n",
      "15. feature 'Dependents' (0.0181)\n",
      "16. feature 'MultipleLines' (0.0180)\n",
      "17. feature 'SeniorCitizen' (0.0170)\n",
      "18. feature 'DeviceProtection' (0.0167)\n",
      "19. feature 'StreamingMovies' (0.0164)\n",
      "20. feature 'StreamingTV' (0.0158)\n",
      "21. feature 'PaymentMethod_Credit card (automatic)' (0.0134)\n",
      "22. feature 'PaymentMethod_Mailed check' (0.0117)\n"
     ]
    },
    {
     "data": {
      "text/plain": [
       "<BarContainer object of 22 artists>"
      ]
     },
     "execution_count": 56,
     "metadata": {},
     "output_type": "execute_result"
    },
    {
     "data": {
      "image/png": "[encoded data removed]",
      "text/plain": [
       "<Figure size 648x432 with 1 Axes>"
      ]
     },
     "metadata": {
      "needs_background": "light"
     },
     "output_type": "display_data"
    }
   ],
   "source": [
    "plt.figure(figsize=(9,6))\n",
    "feature_import = rfc_model.feature_importances_\n",
    "col_names = features_train.columns\n",
    "indices = np.argsort(feature_import)[::-1]\n",
    "print(\"Feature importances:\")\n",
    "for f, idx in enumerate(indices):\n",
    "    print(\"{:2d}. feature '{:5s}' ({:.4f})\".format(f + 1, col_names[idx], feature_import[idx]))\n",
    "color_rectangle = np.random.rand(22, 3)    \n",
    "plt.barh(col_names,feature_import,color = color_rectangle)\n"
   ]
  },
  {
   "cell_type": "markdown",
   "id": "67b84a33",
   "metadata": {},
   "source": [
    "Для случайного леса видим , что по графику относительно всех остальных отличаются большей значимостью 10 features :\n",
    "\n",
    " 1. feature 'duration' (0.2142)\n",
    " 2. feature 'TotalCharges' (0.1748)\n",
    " 3. feature 'MonthlyCharges' (0.1606)\n",
    " 4. feature 'Type_Two year' (0.0593)\n",
    " 5. feature 'InternetService_Fiber optic' (0.0462)\n",
    " 6. feature 'PaymentMethod_Electronic check' (0.0374)\n",
    " 7. feature 'Type_One year' (0.0289)\n",
    " 8. feature 'OnlineSecurity' (0.0240)\n",
    " 9. feature 'gender' (0.0231)\n",
    " 10. feature 'PaperlessBilling' (0.0225)\n",
    "\n",
    "Остальные уже не так сильно влияют на конечную переменную"
   ]
  },
  {
   "cell_type": "code",
   "execution_count": 57,
   "id": "a567933b",
   "metadata": {},
   "outputs": [],
   "source": [
    "rfc_X_train = features_train[['duration','MonthlyCharges','Type_Two year','InternetService_Fiber optic',\\\n",
    "                              'PaymentMethod_Electronic check','Type_One year','OnlineSecurity','gender','PaperlessBilling']]"
   ]
  },
  {
   "cell_type": "code",
   "execution_count": 58,
   "id": "174c4635",
   "metadata": {},
   "outputs": [],
   "source": [
    "rfc_X_test = features_test[['duration','MonthlyCharges','Type_Two year','InternetService_Fiber optic',\\\n",
    "                             'PaymentMethod_Electronic check','Type_One year','OnlineSecurity','gender','PaperlessBilling']]"
   ]
  },
  {
   "cell_type": "code",
   "execution_count": 59,
   "id": "0480bfb1",
   "metadata": {},
   "outputs": [
    {
     "data": {
      "text/html": [
       "<div>\n",
       "<style scoped>\n",
       "    .dataframe tbody tr th:only-of-type {\n",
       "        vertical-align: middle;\n",
       "    }\n",
       "\n",
       "    .dataframe tbody tr th {\n",
       "        vertical-align: top;\n",
       "    }\n",
       "\n",
       "    .dataframe thead th {\n",
       "        text-align: right;\n",
       "    }\n",
       "</style>\n",
       "<table border=\"1\" class=\"dataframe\">\n",
       "  <thead>\n",
       "    <tr style=\"text-align: right;\">\n",
       "      <th></th>\n",
       "      <th>duration</th>\n",
       "      <th>MonthlyCharges</th>\n",
       "      <th>Type_Two year</th>\n",
       "      <th>InternetService_Fiber optic</th>\n",
       "      <th>PaymentMethod_Electronic check</th>\n",
       "      <th>Type_One year</th>\n",
       "      <th>OnlineSecurity</th>\n",
       "      <th>gender</th>\n",
       "      <th>PaperlessBilling</th>\n",
       "    </tr>\n",
       "  </thead>\n",
       "  <tbody>\n",
       "    <tr>\n",
       "      <th>duration</th>\n",
       "      <td>1.000000</td>\n",
       "      <td>0.255196</td>\n",
       "      <td>0.556983</td>\n",
       "      <td>0.028186</td>\n",
       "      <td>-0.198081</td>\n",
       "      <td>0.195872</td>\n",
       "      <td>0.323482</td>\n",
       "      <td>-0.003605</td>\n",
       "      <td>0.005131</td>\n",
       "    </tr>\n",
       "    <tr>\n",
       "      <th>MonthlyCharges</th>\n",
       "      <td>0.255196</td>\n",
       "      <td>1.000000</td>\n",
       "      <td>-0.064528</td>\n",
       "      <td>0.784431</td>\n",
       "      <td>0.273973</td>\n",
       "      <td>-0.004445</td>\n",
       "      <td>0.303200</td>\n",
       "      <td>0.022098</td>\n",
       "      <td>0.361758</td>\n",
       "    </tr>\n",
       "    <tr>\n",
       "      <th>Type_Two year</th>\n",
       "      <td>0.556983</td>\n",
       "      <td>-0.064528</td>\n",
       "      <td>1.000000</td>\n",
       "      <td>-0.207933</td>\n",
       "      <td>-0.274685</td>\n",
       "      <td>-0.293496</td>\n",
       "      <td>0.191845</td>\n",
       "      <td>0.004981</td>\n",
       "      <td>-0.155598</td>\n",
       "    </tr>\n",
       "    <tr>\n",
       "      <th>InternetService_Fiber optic</th>\n",
       "      <td>0.028186</td>\n",
       "      <td>0.784431</td>\n",
       "      <td>-0.207933</td>\n",
       "      <td>1.000000</td>\n",
       "      <td>0.333991</td>\n",
       "      <td>-0.081352</td>\n",
       "      <td>-0.028235</td>\n",
       "      <td>0.012709</td>\n",
       "      <td>0.334210</td>\n",
       "    </tr>\n",
       "    <tr>\n",
       "      <th>PaymentMethod_Electronic check</th>\n",
       "      <td>-0.198081</td>\n",
       "      <td>0.273973</td>\n",
       "      <td>-0.274685</td>\n",
       "      <td>0.333991</td>\n",
       "      <td>1.000000</td>\n",
       "      <td>-0.104785</td>\n",
       "      <td>-0.097504</td>\n",
       "      <td>-0.008552</td>\n",
       "      <td>0.212748</td>\n",
       "    </tr>\n",
       "    <tr>\n",
       "      <th>Type_One year</th>\n",
       "      <td>0.195872</td>\n",
       "      <td>-0.004445</td>\n",
       "      <td>-0.293496</td>\n",
       "      <td>-0.081352</td>\n",
       "      <td>-0.104785</td>\n",
       "      <td>1.000000</td>\n",
       "      <td>0.087182</td>\n",
       "      <td>-0.009798</td>\n",
       "      <td>-0.055460</td>\n",
       "    </tr>\n",
       "    <tr>\n",
       "      <th>OnlineSecurity</th>\n",
       "      <td>0.323482</td>\n",
       "      <td>0.303200</td>\n",
       "      <td>0.191845</td>\n",
       "      <td>-0.028235</td>\n",
       "      <td>-0.097504</td>\n",
       "      <td>0.087182</td>\n",
       "      <td>1.000000</td>\n",
       "      <td>0.025977</td>\n",
       "      <td>0.012713</td>\n",
       "    </tr>\n",
       "    <tr>\n",
       "      <th>gender</th>\n",
       "      <td>-0.003605</td>\n",
       "      <td>0.022098</td>\n",
       "      <td>0.004981</td>\n",
       "      <td>0.012709</td>\n",
       "      <td>-0.008552</td>\n",
       "      <td>-0.009798</td>\n",
       "      <td>0.025977</td>\n",
       "      <td>1.000000</td>\n",
       "      <td>0.015118</td>\n",
       "    </tr>\n",
       "    <tr>\n",
       "      <th>PaperlessBilling</th>\n",
       "      <td>0.005131</td>\n",
       "      <td>0.361758</td>\n",
       "      <td>-0.155598</td>\n",
       "      <td>0.334210</td>\n",
       "      <td>0.212748</td>\n",
       "      <td>-0.055460</td>\n",
       "      <td>0.012713</td>\n",
       "      <td>0.015118</td>\n",
       "      <td>1.000000</td>\n",
       "    </tr>\n",
       "  </tbody>\n",
       "</table>\n",
       "</div>"
      ],
      "text/plain": [
       "                                duration  MonthlyCharges  Type_Two year  \\\n",
       "duration                        1.000000        0.255196       0.556983   \n",
       "MonthlyCharges                  0.255196        1.000000      -0.064528   \n",
       "Type_Two year                   0.556983       -0.064528       1.000000   \n",
       "InternetService_Fiber optic     0.028186        0.784431      -0.207933   \n",
       "PaymentMethod_Electronic check -0.198081        0.273973      -0.274685   \n",
       "Type_One year                   0.195872       -0.004445      -0.293496   \n",
       "OnlineSecurity                  0.323482        0.303200       0.191845   \n",
       "gender                         -0.003605        0.022098       0.004981   \n",
       "PaperlessBilling                0.005131        0.361758      -0.155598   \n",
       "\n",
       "                                InternetService_Fiber optic  \\\n",
       "duration                                           0.028186   \n",
       "MonthlyCharges                                     0.784431   \n",
       "Type_Two year                                     -0.207933   \n",
       "InternetService_Fiber optic                        1.000000   \n",
       "PaymentMethod_Electronic check                     0.333991   \n",
       "Type_One year                                     -0.081352   \n",
       "OnlineSecurity                                    -0.028235   \n",
       "gender                                             0.012709   \n",
       "PaperlessBilling                                   0.334210   \n",
       "\n",
       "                                PaymentMethod_Electronic check  Type_One year  \\\n",
       "duration                                             -0.198081       0.195872   \n",
       "MonthlyCharges                                        0.273973      -0.004445   \n",
       "Type_Two year                                        -0.274685      -0.293496   \n",
       "InternetService_Fiber optic                           0.333991      -0.081352   \n",
       "PaymentMethod_Electronic check                        1.000000      -0.104785   \n",
       "Type_One year                                        -0.104785       1.000000   \n",
       "OnlineSecurity                                       -0.097504       0.087182   \n",
       "gender                                               -0.008552      -0.009798   \n",
       "PaperlessBilling                                      0.212748      -0.055460   \n",
       "\n",
       "                                OnlineSecurity    gender  PaperlessBilling  \n",
       "duration                              0.323482 -0.003605          0.005131  \n",
       "MonthlyCharges                        0.303200  0.022098          0.361758  \n",
       "Type_Two year                         0.191845  0.004981         -0.155598  \n",
       "InternetService_Fiber optic          -0.028235  0.012709          0.334210  \n",
       "PaymentMethod_Electronic check       -0.097504 -0.008552          0.212748  \n",
       "Type_One year                         0.087182 -0.009798         -0.055460  \n",
       "OnlineSecurity                        1.000000  0.025977          0.012713  \n",
       "gender                                0.025977  1.000000          0.015118  \n",
       "PaperlessBilling                      0.012713  0.015118          1.000000  "
      ]
     },
     "execution_count": 59,
     "metadata": {},
     "output_type": "execute_result"
    }
   ],
   "source": [
    "rfc_X_train.corr()"
   ]
  },
  {
   "cell_type": "code",
   "execution_count": 60,
   "id": "711e5906",
   "metadata": {},
   "outputs": [],
   "source": [
    "rfc = GridSearchCV(RandomForestClassifier(criterion = 'entropy', class_weight='balanced'),{\n",
    "    'max_depth': range(3,15,3),\n",
    "    'n_estimators': range(10,100, 10),\n",
    "    'min_samples_split' : range(4,28,4),\n",
    "    'min_samples_leaf' : range(3,13,2)\n",
    "}, cv = 5, scoring = 'roc_auc')"
   ]
  },
  {
   "cell_type": "code",
   "execution_count": null,
   "id": "6ee48d6b",
   "metadata": {},
   "outputs": [],
   "source": [
    "rfc.fit(rfc_X_train,target_train)"
   ]
  },
  {
   "cell_type": "code",
   "execution_count": null,
   "id": "af6e8340",
   "metadata": {},
   "outputs": [],
   "source": [
    "rfc.best_params_"
   ]
  },
  {
   "cell_type": "code",
   "execution_count": null,
   "id": "e990dbb1",
   "metadata": {},
   "outputs": [],
   "source": [
    "rfc.best_score_"
   ]
  },
  {
   "cell_type": "code",
   "execution_count": 62,
   "id": "b714b2e4",
   "metadata": {},
   "outputs": [
    {
     "data": {
      "text/plain": [
       "0.8728239976635355"
      ]
     },
     "execution_count": 62,
     "metadata": {},
     "output_type": "execute_result"
    }
   ],
   "source": [
    "rfc_model = RandomForestClassifier(class_weight = 'balanced',criterion = 'entropy', max_depth=9, min_samples_leaf=5, min_samples_split=20, n_estimators = 70, random_state = 42)\n",
    "\n",
    "rfc_model.fit(rfc_X_train, target_train)\n",
    "\n",
    "predict_forest_proba = rfc_model.predict_proba(rfc_X_test)[:,1]\n",
    "\n",
    "roc_auc_score(target_test, predict_forest_proba)"
   ]
  },
  {
   "cell_type": "code",
   "execution_count": 63,
   "id": "a0b05d9e",
   "metadata": {},
   "outputs": [
    {
     "data": {
      "text/plain": [
       "0.7903454803596782"
      ]
     },
     "execution_count": 63,
     "metadata": {},
     "output_type": "execute_result"
    }
   ],
   "source": [
    "predict_forest = rfc_model.predict(rfc_X_test)\n",
    "accuracy_score(target_test, predict_forest)"
   ]
  },
  {
   "cell_type": "markdown",
   "id": "a181325e",
   "metadata": {},
   "source": [
    "#### CatBoostClassifier"
   ]
  },
  {
   "cell_type": "code",
   "execution_count": 64,
   "id": "7a9de9ec",
   "metadata": {},
   "outputs": [],
   "source": [
    "train_dataset = Pool(features_train, target_train)\n",
    "test_dataset = Pool(features_test, target_test)"
   ]
  },
  {
   "cell_type": "code",
   "execution_count": 65,
   "id": "e379219e",
   "metadata": {},
   "outputs": [
    {
     "data": {
      "application/vnd.jupyter.widget-view+json": {
       "model_id": "043c35e602674478beb9afbce1071ca3",
       "version_major": 2,
       "version_minor": 0
      },
      "text/plain": [
       "MetricVisualizer(layout=Layout(align_self='stretch', height='500px'))"
      ]
     },
     "metadata": {},
     "output_type": "display_data"
    },
    {
     "data": {
      "text/plain": [
       "0.9212337528554901"
      ]
     },
     "execution_count": 65,
     "metadata": {},
     "output_type": "execute_result"
    }
   ],
   "source": [
    "modelCat = CatBoostClassifier(loss_function = 'CrossEntropy',learning_rate = 0.03, random_state = 42)\n",
    "modelCat.fit(train_dataset, eval_set = test_dataset, plot = True, verbose = False)\n",
    "cat_predict_proba = modelCat.predict_proba(features_test)[:,1]\n",
    "roc_auc_score(target_test, cat_predict_proba)"
   ]
  },
  {
   "cell_type": "code",
   "execution_count": 66,
   "id": "09440226",
   "metadata": {},
   "outputs": [
    {
     "data": {
      "text/html": [
       "<div>\n",
       "<style scoped>\n",
       "    .dataframe tbody tr th:only-of-type {\n",
       "        vertical-align: middle;\n",
       "    }\n",
       "\n",
       "    .dataframe tbody tr th {\n",
       "        vertical-align: top;\n",
       "    }\n",
       "\n",
       "    .dataframe thead th {\n",
       "        text-align: right;\n",
       "    }\n",
       "</style>\n",
       "<table border=\"1\" class=\"dataframe\">\n",
       "  <thead>\n",
       "    <tr style=\"text-align: right;\">\n",
       "      <th></th>\n",
       "      <th>Feature Id</th>\n",
       "      <th>Importances</th>\n",
       "    </tr>\n",
       "  </thead>\n",
       "  <tbody>\n",
       "    <tr>\n",
       "      <th>0</th>\n",
       "      <td>duration</td>\n",
       "      <td>32.691056</td>\n",
       "    </tr>\n",
       "    <tr>\n",
       "      <th>1</th>\n",
       "      <td>TotalCharges</td>\n",
       "      <td>18.685712</td>\n",
       "    </tr>\n",
       "    <tr>\n",
       "      <th>2</th>\n",
       "      <td>MonthlyCharges</td>\n",
       "      <td>12.897827</td>\n",
       "    </tr>\n",
       "    <tr>\n",
       "      <th>3</th>\n",
       "      <td>Type_Two year</td>\n",
       "      <td>6.054067</td>\n",
       "    </tr>\n",
       "    <tr>\n",
       "      <th>4</th>\n",
       "      <td>InternetService_Fiber optic</td>\n",
       "      <td>3.352305</td>\n",
       "    </tr>\n",
       "    <tr>\n",
       "      <th>5</th>\n",
       "      <td>Type_One year</td>\n",
       "      <td>2.783755</td>\n",
       "    </tr>\n",
       "    <tr>\n",
       "      <th>6</th>\n",
       "      <td>PaymentMethod_Electronic check</td>\n",
       "      <td>2.312863</td>\n",
       "    </tr>\n",
       "    <tr>\n",
       "      <th>7</th>\n",
       "      <td>PaperlessBilling</td>\n",
       "      <td>2.288292</td>\n",
       "    </tr>\n",
       "    <tr>\n",
       "      <th>8</th>\n",
       "      <td>InternetService_No</td>\n",
       "      <td>2.193780</td>\n",
       "    </tr>\n",
       "    <tr>\n",
       "      <th>9</th>\n",
       "      <td>MultipleLines</td>\n",
       "      <td>1.764810</td>\n",
       "    </tr>\n",
       "    <tr>\n",
       "      <th>10</th>\n",
       "      <td>StreamingMovies</td>\n",
       "      <td>1.673452</td>\n",
       "    </tr>\n",
       "    <tr>\n",
       "      <th>11</th>\n",
       "      <td>gender</td>\n",
       "      <td>1.590939</td>\n",
       "    </tr>\n",
       "    <tr>\n",
       "      <th>12</th>\n",
       "      <td>TechSupport</td>\n",
       "      <td>1.533112</td>\n",
       "    </tr>\n",
       "    <tr>\n",
       "      <th>13</th>\n",
       "      <td>PaymentMethod_Mailed check</td>\n",
       "      <td>1.427614</td>\n",
       "    </tr>\n",
       "    <tr>\n",
       "      <th>14</th>\n",
       "      <td>OnlineSecurity</td>\n",
       "      <td>1.396965</td>\n",
       "    </tr>\n",
       "    <tr>\n",
       "      <th>15</th>\n",
       "      <td>DeviceProtection</td>\n",
       "      <td>1.279096</td>\n",
       "    </tr>\n",
       "    <tr>\n",
       "      <th>16</th>\n",
       "      <td>OnlineBackup</td>\n",
       "      <td>1.153142</td>\n",
       "    </tr>\n",
       "    <tr>\n",
       "      <th>17</th>\n",
       "      <td>Partner</td>\n",
       "      <td>1.148893</td>\n",
       "    </tr>\n",
       "    <tr>\n",
       "      <th>18</th>\n",
       "      <td>Dependents</td>\n",
       "      <td>1.108331</td>\n",
       "    </tr>\n",
       "    <tr>\n",
       "      <th>19</th>\n",
       "      <td>SeniorCitizen</td>\n",
       "      <td>1.098173</td>\n",
       "    </tr>\n",
       "    <tr>\n",
       "      <th>20</th>\n",
       "      <td>StreamingTV</td>\n",
       "      <td>0.796643</td>\n",
       "    </tr>\n",
       "    <tr>\n",
       "      <th>21</th>\n",
       "      <td>PaymentMethod_Credit card (automatic)</td>\n",
       "      <td>0.769174</td>\n",
       "    </tr>\n",
       "  </tbody>\n",
       "</table>\n",
       "</div>"
      ],
      "text/plain": [
       "                               Feature Id  Importances\n",
       "0                                duration    32.691056\n",
       "1                            TotalCharges    18.685712\n",
       "2                          MonthlyCharges    12.897827\n",
       "3                           Type_Two year     6.054067\n",
       "4             InternetService_Fiber optic     3.352305\n",
       "5                           Type_One year     2.783755\n",
       "6          PaymentMethod_Electronic check     2.312863\n",
       "7                        PaperlessBilling     2.288292\n",
       "8                      InternetService_No     2.193780\n",
       "9                           MultipleLines     1.764810\n",
       "10                        StreamingMovies     1.673452\n",
       "11                                 gender     1.590939\n",
       "12                            TechSupport     1.533112\n",
       "13             PaymentMethod_Mailed check     1.427614\n",
       "14                         OnlineSecurity     1.396965\n",
       "15                       DeviceProtection     1.279096\n",
       "16                           OnlineBackup     1.153142\n",
       "17                                Partner     1.148893\n",
       "18                             Dependents     1.108331\n",
       "19                          SeniorCitizen     1.098173\n",
       "20                            StreamingTV     0.796643\n",
       "21  PaymentMethod_Credit card (automatic)     0.769174"
      ]
     },
     "execution_count": 66,
     "metadata": {},
     "output_type": "execute_result"
    },
    {
     "data": {
      "image/png": "[encoded data removed]",
      "text/plain": [
       "<Figure size 864x432 with 1 Axes>"
      ]
     },
     "metadata": {
      "needs_background": "light"
     },
     "output_type": "display_data"
    }
   ],
   "source": [
    "#feature Importance\n",
    "plt.figure(figsize=(12,6))\n",
    "feature_import = modelCat.get_feature_importance(train_dataset, prettified = True)\n",
    "color_rectangle = np.random.rand(22, 3)    \n",
    "plt.barh(feature_import['Feature Id'],feature_import['Importances'],color = color_rectangle)\n",
    "feature_import"
   ]
  },
  {
   "cell_type": "markdown",
   "id": "0386fb42",
   "metadata": {},
   "source": [
    "Vожно выделить топ 11 значимых features,т.к. разница в важности между 10 и 11 не такая большая :\n",
    "\n",
    "1. duration\t32.691056\n",
    "2.\tTotalCharges\t18.685712 (убран из-за мультиколлениарности)\n",
    "3.\tMonthlyCharges\t12.897827\n",
    "4.\tType_Two year\t6.054067\n",
    "5.\tInternetService_Fiber optic\t3.352305\n",
    "6.\tType_One year\t2.783755\n",
    "7.\tPaymentMethod_Electronic check\t2.312863\n",
    "8.\tPaperlessBilling\t2.288292\n",
    "9.\tInternetService_No\t2.193780\n",
    "10.\tMultipleLines\t1.764810\n",
    "11.\tStreamingMovies\t1.673452\n",
    "\n",
    "Остальные будем считать менее важны на конечную переменную"
   ]
  },
  {
   "cell_type": "code",
   "execution_count": 67,
   "id": "fb01ef2d",
   "metadata": {},
   "outputs": [],
   "source": [
    "cat_X_train = features_train[['duration','Type_Two year','InternetService_Fiber optic',\\\n",
    "                              'Type_One year','PaymentMethod_Electronic check','PaperlessBilling','MultipleLines','StreamingMovies','InternetService_No']]\n",
    "cat_X_test = features_test[['duration','Type_Two year','InternetService_Fiber optic',\\\n",
    "                              'Type_One year','PaymentMethod_Electronic check','PaperlessBilling','MultipleLines','StreamingMovies','InternetService_No']]\n",
    "train_dataset = Pool(cat_X_train, target_train)\n",
    "test_dataset = Pool(cat_X_test, target_test)"
   ]
  },
  {
   "cell_type": "code",
   "execution_count": null,
   "id": "f3317998",
   "metadata": {},
   "outputs": [],
   "source": [
    "modelCat = CatBoostClassifier( random_state = 42)\n",
    "gsearchCat = GridSearchCV(modelCat,{\n",
    "    'iterations': [400,500,600,1000],\n",
    "    'learning_rate' : [0.03],\n",
    "    'depth' : range(3,15,3),\n",
    "    'verbose' : [False]\n",
    "}, cv = 5, scoring = 'roc_auc')"
   ]
  },
  {
   "cell_type": "code",
   "execution_count": 522,
   "id": "a9507b94",
   "metadata": {},
   "outputs": [
    {
     "data": {
      "text/plain": [
       "GridSearchCV(cv=5,\n",
       "             estimator=<catboost.core.CatBoostClassifier object at 0x000000001A838A00>,\n",
       "             param_grid={'depth': range(3, 15, 3),\n",
       "                         'iterations': [400, 500, 600, 1000],\n",
       "                         'learning_rate': [0.03], 'verbose': [False]},\n",
       "             scoring='roc_auc')"
      ]
     },
     "execution_count": 522,
     "metadata": {},
     "output_type": "execute_result"
    }
   ],
   "source": [
    "gsearchCat.fit(cat_X_train,target_train)"
   ]
  },
  {
   "cell_type": "code",
   "execution_count": 523,
   "id": "3d4a7e57",
   "metadata": {},
   "outputs": [
    {
     "data": {
      "text/plain": [
       "{'depth': 3, 'iterations': 1000, 'learning_rate': 0.03, 'verbose': False}"
      ]
     },
     "execution_count": 523,
     "metadata": {},
     "output_type": "execute_result"
    }
   ],
   "source": [
    "gsearchCat.best_params_"
   ]
  },
  {
   "cell_type": "code",
   "execution_count": 524,
   "id": "a843ab2d",
   "metadata": {},
   "outputs": [
    {
     "data": {
      "text/plain": [
       "0.8858661766502207"
      ]
     },
     "execution_count": 524,
     "metadata": {},
     "output_type": "execute_result"
    }
   ],
   "source": [
    "gsearchCat.best_score_"
   ]
  },
  {
   "cell_type": "code",
   "execution_count": 68,
   "id": "8f372ac8",
   "metadata": {},
   "outputs": [],
   "source": [
    "modelCat = CatBoostClassifier(loss_function = 'CrossEntropy',iterations = 1000, depth = 3,learning_rate = 0.03, random_state = 42)"
   ]
  },
  {
   "cell_type": "code",
   "execution_count": 69,
   "id": "47e4b4be",
   "metadata": {},
   "outputs": [
    {
     "data": {
      "text/plain": [
       "<catboost.core.CatBoostClassifier at 0x7f88cba96670>"
      ]
     },
     "execution_count": 69,
     "metadata": {},
     "output_type": "execute_result"
    }
   ],
   "source": [
    "modelCat.fit(train_dataset, eval_set = test_dataset, verbose = False)"
   ]
  },
  {
   "cell_type": "code",
   "execution_count": 70,
   "id": "8b4102e3",
   "metadata": {},
   "outputs": [],
   "source": [
    "cat_predict_proba = modelCat.predict_proba(cat_X_test)[:,1]"
   ]
  },
  {
   "cell_type": "code",
   "execution_count": 71,
   "id": "9426fbea",
   "metadata": {},
   "outputs": [
    {
     "data": {
      "text/plain": [
       "0.8989603638726447"
      ]
     },
     "execution_count": 71,
     "metadata": {},
     "output_type": "execute_result"
    }
   ],
   "source": [
    "roc_auc_score(target_test, cat_predict_proba)"
   ]
  },
  {
   "cell_type": "code",
   "execution_count": 72,
   "id": "60b5d441",
   "metadata": {},
   "outputs": [
    {
     "data": {
      "text/plain": [
       "0.8438239469947941"
      ]
     },
     "execution_count": 72,
     "metadata": {},
     "output_type": "execute_result"
    }
   ],
   "source": [
    "catPrediction = modelCat.predict(cat_X_test)\n",
    "accuracy_score(target_test,catPrediction)"
   ]
  },
  {
   "cell_type": "markdown",
   "id": "51c7281a",
   "metadata": {},
   "source": [
    "В итоге получили лучшую модель: CatBoost с roc_auc = 0.89   и точностью 84%"
   ]
  },
  {
   "cell_type": "markdown",
   "id": "0941aa16",
   "metadata": {},
   "source": [
    "## Вывод:\n",
    "- загрузили данные, сделали выводы\n",
    "- проанализировали данные, выяснили, что большое кол-во пользователей пришло и ушло в один год, видимо ищут более выгодные условия для нового пользователя\n",
    "- перевели данные для формата модели и сделали кодировку\n",
    "- использовали `GridSearchCV`; потребность разделения на обучение , тест и валидацию отпала\n",
    "- обучили модели `Random Forest Classifier` и более ресурсоемкую модель `Cat Boost Classifier`, т.к она показала наиболее луччшие результаты\n",
    "- настроили гиперпараметры на ряду с кросс-валидацией\n",
    "\n",
    "**Плюсы:**\n",
    "\n",
    "- создали дополнительные признаки : `duration (длительность контракта на 2020-01-01)` и выделили `target` из `EndDate`\n",
    "- убрали признаки с помощью которых модель могла обмануться , а также в последующем после feature_importance выделили основные признаки для алгоритма\n",
    "- решили проблемы мультиколлинеарности с помощью матрицы корреляции\n",
    "\n",
    "***Лучшая модель - `CatBoostClassifier`***:\n",
    "\n",
    "*loss_function = 'CrossEntropy',iterations = 1000, depth = 3,learning_rate = 0.03*\n",
    "\n",
    "гиперпараметры:\n",
    "`roc_auc = 0.8989603638726447`\n",
    "`accuracy = 0.8438239469947941`\n",
    "\n"
   ]
  }
 ],
 "metadata": {
  "ExecuteTimeLog": [
   {
    "duration": 2267,
    "start_time": "2022-06-11T03:38:42.472Z"
   },
   {
    "duration": 110,
    "start_time": "2022-06-11T03:38:44.741Z"
   },
   {
    "duration": 7,
    "start_time": "2022-06-11T03:38:44.852Z"
   },
   {
    "duration": 15,
    "start_time": "2022-06-11T03:38:45.181Z"
   },
   {
    "duration": 9,
    "start_time": "2022-06-11T03:38:45.732Z"
   },
   {
    "duration": 7,
    "start_time": "2022-06-11T03:38:45.914Z"
   },
   {
    "duration": 8,
    "start_time": "2022-06-11T03:38:46.451Z"
   },
   {
    "duration": 11,
    "start_time": "2022-06-11T03:38:46.662Z"
   },
   {
    "duration": 7,
    "start_time": "2022-06-11T03:38:46.857Z"
   },
   {
    "duration": 8,
    "start_time": "2022-06-11T03:38:47.078Z"
   },
   {
    "duration": 7,
    "start_time": "2022-06-11T03:38:47.341Z"
   },
   {
    "duration": 6,
    "start_time": "2022-06-11T03:38:47.587Z"
   },
   {
    "duration": 6,
    "start_time": "2022-06-11T03:38:47.914Z"
   },
   {
    "duration": 10,
    "start_time": "2022-06-11T03:38:49.041Z"
   },
   {
    "duration": 7,
    "start_time": "2022-06-11T03:38:49.224Z"
   },
   {
    "duration": 7,
    "start_time": "2022-06-11T03:38:49.414Z"
   },
   {
    "duration": 10,
    "start_time": "2022-06-11T03:38:49.612Z"
   },
   {
    "duration": 9,
    "start_time": "2022-06-11T03:38:49.846Z"
   },
   {
    "duration": 11,
    "start_time": "2022-06-11T03:38:51.835Z"
   },
   {
    "duration": 16,
    "start_time": "2022-06-11T03:39:23.144Z"
   },
   {
    "duration": 5,
    "start_time": "2022-06-11T03:39:23.708Z"
   },
   {
    "duration": 213,
    "start_time": "2022-06-11T03:39:23.897Z"
   },
   {
    "duration": 9,
    "start_time": "2022-06-11T03:39:30.623Z"
   },
   {
    "duration": 182,
    "start_time": "2022-06-11T03:39:31.208Z"
   },
   {
    "duration": 14,
    "start_time": "2022-06-11T03:39:32.416Z"
   },
   {
    "duration": 161,
    "start_time": "2022-06-11T03:39:33.082Z"
   },
   {
    "duration": 195,
    "start_time": "2022-06-11T03:39:33.931Z"
   },
   {
    "duration": 166,
    "start_time": "2022-06-11T03:39:34.609Z"
   },
   {
    "duration": 2816,
    "start_time": "2022-06-11T03:39:35.205Z"
   },
   {
    "duration": 7,
    "start_time": "2022-06-11T03:39:38.023Z"
   },
   {
    "duration": 221,
    "start_time": "2022-06-11T03:39:38.031Z"
   },
   {
    "duration": 5,
    "start_time": "2022-06-11T03:39:38.359Z"
   },
   {
    "duration": 5,
    "start_time": "2022-06-11T03:39:39.020Z"
   },
   {
    "duration": 7,
    "start_time": "2022-06-11T03:39:39.427Z"
   },
   {
    "duration": 21,
    "start_time": "2022-06-11T03:39:39.634Z"
   },
   {
    "duration": 7,
    "start_time": "2022-06-11T03:39:40.044Z"
   },
   {
    "duration": 1425,
    "start_time": "2022-06-11T03:39:40.307Z"
   },
   {
    "duration": 28,
    "start_time": "2022-06-11T03:39:41.735Z"
   },
   {
    "duration": 15,
    "start_time": "2022-06-11T03:39:42.068Z"
   },
   {
    "duration": 106,
    "start_time": "2022-06-11T03:39:42.691Z"
   },
   {
    "duration": 98,
    "start_time": "2022-06-11T03:39:43.497Z"
   },
   {
    "duration": 119,
    "start_time": "2022-06-11T03:39:44.102Z"
   },
   {
    "duration": 11,
    "start_time": "2022-06-11T03:39:44.316Z"
   },
   {
    "duration": 5,
    "start_time": "2022-06-11T03:39:44.475Z"
   },
   {
    "duration": 6,
    "start_time": "2022-06-11T03:39:44.649Z"
   },
   {
    "duration": 3,
    "start_time": "2022-06-11T03:39:44.903Z"
   },
   {
    "duration": 5,
    "start_time": "2022-06-11T03:39:45.165Z"
   },
   {
    "duration": 12,
    "start_time": "2022-06-11T03:39:45.308Z"
   },
   {
    "duration": 6,
    "start_time": "2022-06-11T03:39:45.455Z"
   },
   {
    "duration": 154,
    "start_time": "2022-06-11T03:39:45.780Z"
   },
   {
    "duration": 22,
    "start_time": "2022-06-11T03:39:45.936Z"
   },
   {
    "duration": 6,
    "start_time": "2022-06-11T03:39:46.180Z"
   },
   {
    "duration": 5,
    "start_time": "2022-06-11T03:39:46.249Z"
   },
   {
    "duration": 5,
    "start_time": "2022-06-11T03:39:46.423Z"
   },
   {
    "duration": 491,
    "start_time": "2022-06-11T03:39:46.730Z"
   },
   {
    "duration": 278,
    "start_time": "2022-06-11T03:39:47.223Z"
   },
   {
    "duration": 4,
    "start_time": "2022-06-11T03:39:47.858Z"
   },
   {
    "duration": 4,
    "start_time": "2022-06-11T03:39:48.331Z"
   },
   {
    "duration": 14,
    "start_time": "2022-06-11T03:39:48.519Z"
   },
   {
    "duration": 3,
    "start_time": "2022-06-11T03:39:49.137Z"
   },
   {
    "duration": 28342,
    "start_time": "2022-06-11T03:39:49.773Z"
   },
   {
    "duration": 0,
    "start_time": "2022-06-11T03:40:18.117Z"
   },
   {
    "duration": 0,
    "start_time": "2022-06-11T03:40:18.119Z"
   },
   {
    "duration": 0,
    "start_time": "2022-06-11T03:40:18.120Z"
   },
   {
    "duration": 0,
    "start_time": "2022-06-11T03:40:18.122Z"
   },
   {
    "duration": 0,
    "start_time": "2022-06-11T03:40:18.123Z"
   },
   {
    "duration": 0,
    "start_time": "2022-06-11T03:40:18.124Z"
   },
   {
    "duration": 0,
    "start_time": "2022-06-11T03:40:18.126Z"
   },
   {
    "duration": 0,
    "start_time": "2022-06-11T03:40:18.127Z"
   },
   {
    "duration": 1,
    "start_time": "2022-06-11T03:40:18.128Z"
   },
   {
    "duration": 292,
    "start_time": "2022-06-11T03:40:25.070Z"
   },
   {
    "duration": 32,
    "start_time": "2022-06-11T03:40:26.402Z"
   },
   {
    "duration": 11,
    "start_time": "2022-06-11T03:40:30.170Z"
   },
   {
    "duration": 3754,
    "start_time": "2022-06-11T03:40:33.039Z"
   },
   {
    "duration": 286,
    "start_time": "2022-06-11T03:40:36.795Z"
   },
   {
    "duration": 7,
    "start_time": "2022-06-11T03:40:43.636Z"
   },
   {
    "duration": 4,
    "start_time": "2022-06-11T03:40:48.746Z"
   },
   {
    "duration": 2001,
    "start_time": "2022-06-11T03:40:50.357Z"
   },
   {
    "duration": 5,
    "start_time": "2022-06-11T03:40:52.548Z"
   },
   {
    "duration": 8,
    "start_time": "2022-06-11T03:40:53.073Z"
   },
   {
    "duration": 6,
    "start_time": "2022-06-11T03:40:53.662Z"
   }
  ],
  "kernelspec": {
   "display_name": "Python 3",
   "language": "python",
   "name": "python3"
  },
  "language_info": {
   "codemirror_mode": {
    "name": "ipython",
    "version": 3
   },
   "file_extension": ".py",
   "mimetype": "text/x-python",
   "name": "python",
   "nbconvert_exporter": "python",
   "pygments_lexer": "ipython3",
   "version": "3.8.8"
  },
  "toc": {
   "base_numbering": 1,
   "nav_menu": {},
   "number_sections": true,
   "sideBar": true,
   "skip_h1_title": true,
   "title_cell": "Table of Contents",
   "title_sidebar": "Contents",
   "toc_cell": false,
   "toc_position": {},
   "toc_section_display": true,
   "toc_window_display": false
  }
 },
 "nbformat": 4,
 "nbformat_minor": 5
}
